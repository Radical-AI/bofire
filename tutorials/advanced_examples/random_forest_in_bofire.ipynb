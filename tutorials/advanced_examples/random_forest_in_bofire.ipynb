{
 "cells": [
  {
   "attachments": {},
   "cell_type": "markdown",
   "id": "0",
   "metadata": {
    "papermill": {
     "duration": 0.001235,
     "end_time": "2024-10-10T16:02:16.527887",
     "exception": false,
     "start_time": "2024-10-10T16:02:16.526652",
     "status": "completed"
    },
    "tags": []
   },
   "source": [
    "# Random Forest in BoFire\n",
    "## Imports"
   ]
  },
  {
   "cell_type": "code",
   "execution_count": null,
   "id": "1",
   "metadata": {
    "papermill": {
     "duration": 2.391972,
     "end_time": "2024-10-10T16:02:18.920751",
     "exception": false,
     "start_time": "2024-10-10T16:02:16.528779",
     "status": "completed"
    },
    "tags": []
   },
   "outputs": [],
   "source": [
    "import bofire.strategies.api as strategies\n",
    "import bofire.surrogates.api as surrogates\n",
    "from bofire.benchmarks.multi import DTLZ2\n",
    "from bofire.data_models.domain.api import Outputs\n",
    "from bofire.data_models.strategies.api import QnehviStrategy\n",
    "from bofire.data_models.surrogates.api import BotorchSurrogates, RandomForestSurrogate"
   ]
  },
  {
   "attachments": {},
   "cell_type": "markdown",
   "id": "2",
   "metadata": {
    "papermill": {
     "duration": 0.000699,
     "end_time": "2024-10-10T16:02:18.922401",
     "exception": false,
     "start_time": "2024-10-10T16:02:18.921702",
     "status": "completed"
    },
    "tags": []
   },
   "source": [
    "## Setup a RF"
   ]
  },
  {
   "cell_type": "code",
   "execution_count": null,
   "id": "3",
   "metadata": {
    "papermill": {
     "duration": 1.299979,
     "end_time": "2024-10-10T16:02:20.222976",
     "exception": false,
     "start_time": "2024-10-10T16:02:18.922997",
     "status": "completed"
    },
    "tags": []
   },
   "outputs": [
    {
     "name": "stderr",
     "output_type": "stream",
     "text": [
      "/Users/radical-rhys/miniconda3/lib/python3.12/site-packages/botorch/models/model.py:233: RuntimeWarning: Could not update `train_inputs` with transformed inputs since _RandomForest does not have a `train_inputs` attribute. Make sure that the `input_transform` is applied to both the train inputs and test inputs.\n",
      "  warnings.warn(\n",
      "/Users/radical-rhys/miniconda3/lib/python3.12/site-packages/botorch/models/model.py:233: RuntimeWarning: Could not update `train_inputs` with transformed inputs since _RandomForest does not have a `train_inputs` attribute. Make sure that the `input_transform` is applied to both the train inputs and test inputs.\n",
      "  warnings.warn(\n",
      "/Users/radical-rhys/miniconda3/lib/python3.12/site-packages/botorch/models/model.py:233: RuntimeWarning: Could not update `train_inputs` with transformed inputs since _RandomForest does not have a `train_inputs` attribute. Make sure that the `input_transform` is applied to both the train inputs and test inputs.\n",
      "  warnings.warn(\n",
      "/Users/radical-rhys/miniconda3/lib/python3.12/site-packages/botorch/models/model.py:233: RuntimeWarning: Could not update `train_inputs` with transformed inputs since _RandomForest does not have a `train_inputs` attribute. Make sure that the `input_transform` is applied to both the train inputs and test inputs.\n",
      "  warnings.warn(\n",
      "/Users/radical-rhys/miniconda3/lib/python3.12/site-packages/botorch/models/model.py:233: RuntimeWarning: Could not update `train_inputs` with transformed inputs since _RandomForest does not have a `train_inputs` attribute. Make sure that the `input_transform` is applied to both the train inputs and test inputs.\n",
      "  warnings.warn(\n",
      "/Users/radical-rhys/miniconda3/lib/python3.12/site-packages/botorch/models/model.py:233: RuntimeWarning: Could not update `train_inputs` with transformed inputs since _RandomForest does not have a `train_inputs` attribute. Make sure that the `input_transform` is applied to both the train inputs and test inputs.\n",
      "  warnings.warn(\n",
      "/Users/radical-rhys/miniconda3/lib/python3.12/site-packages/botorch/models/model.py:233: RuntimeWarning: Could not update `train_inputs` with transformed inputs since _RandomForest does not have a `train_inputs` attribute. Make sure that the `input_transform` is applied to both the train inputs and test inputs.\n",
      "  warnings.warn(\n",
      "/Users/radical-rhys/miniconda3/lib/python3.12/site-packages/botorch/models/model.py:233: RuntimeWarning: Could not update `train_inputs` with transformed inputs since _RandomForest does not have a `train_inputs` attribute. Make sure that the `input_transform` is applied to both the train inputs and test inputs.\n",
      "  warnings.warn(\n",
      "/Users/radical-rhys/miniconda3/lib/python3.12/site-packages/botorch/models/model.py:233: RuntimeWarning: Could not update `train_inputs` with transformed inputs since _RandomForest does not have a `train_inputs` attribute. Make sure that the `input_transform` is applied to both the train inputs and test inputs.\n",
      "  warnings.warn(\n",
      "/Users/radical-rhys/miniconda3/lib/python3.12/site-packages/botorch/models/model.py:233: RuntimeWarning: Could not update `train_inputs` with transformed inputs since _RandomForest does not have a `train_inputs` attribute. Make sure that the `input_transform` is applied to both the train inputs and test inputs.\n",
      "  warnings.warn(\n",
      "/Users/radical-rhys/miniconda3/lib/python3.12/site-packages/botorch/models/model.py:233: RuntimeWarning: Could not update `train_inputs` with transformed inputs since _RandomForest does not have a `train_inputs` attribute. Make sure that the `input_transform` is applied to both the train inputs and test inputs.\n",
      "  warnings.warn(\n",
      "/Users/radical-rhys/miniconda3/lib/python3.12/site-packages/botorch/models/model.py:233: RuntimeWarning: Could not update `train_inputs` with transformed inputs since _RandomForest does not have a `train_inputs` attribute. Make sure that the `input_transform` is applied to both the train inputs and test inputs.\n",
      "  warnings.warn(\n",
      "/Users/radical-rhys/miniconda3/lib/python3.12/site-packages/botorch/models/model.py:233: RuntimeWarning: Could not update `train_inputs` with transformed inputs since _RandomForest does not have a `train_inputs` attribute. Make sure that the `input_transform` is applied to both the train inputs and test inputs.\n",
      "  warnings.warn(\n",
      "/Users/radical-rhys/miniconda3/lib/python3.12/site-packages/botorch/models/model.py:233: RuntimeWarning: Could not update `train_inputs` with transformed inputs since _RandomForest does not have a `train_inputs` attribute. Make sure that the `input_transform` is applied to both the train inputs and test inputs.\n",
      "  warnings.warn(\n",
      "/Users/radical-rhys/miniconda3/lib/python3.12/site-packages/botorch/models/model.py:233: RuntimeWarning: Could not update `train_inputs` with transformed inputs since _RandomForest does not have a `train_inputs` attribute. Make sure that the `input_transform` is applied to both the train inputs and test inputs.\n",
      "  warnings.warn(\n",
      "/Users/radical-rhys/miniconda3/lib/python3.12/site-packages/botorch/models/model.py:233: RuntimeWarning: Could not update `train_inputs` with transformed inputs since _RandomForest does not have a `train_inputs` attribute. Make sure that the `input_transform` is applied to both the train inputs and test inputs.\n",
      "  warnings.warn(\n",
      "/Users/radical-rhys/miniconda3/lib/python3.12/site-packages/botorch/models/model.py:233: RuntimeWarning: Could not update `train_inputs` with transformed inputs since _RandomForest does not have a `train_inputs` attribute. Make sure that the `input_transform` is applied to both the train inputs and test inputs.\n",
      "  warnings.warn(\n",
      "/Users/radical-rhys/miniconda3/lib/python3.12/site-packages/botorch/models/model.py:233: RuntimeWarning: Could not update `train_inputs` with transformed inputs since _RandomForest does not have a `train_inputs` attribute. Make sure that the `input_transform` is applied to both the train inputs and test inputs.\n",
      "  warnings.warn(\n"
     ]
    },
    {
     "name": "stderr",
     "output_type": "stream",
     "text": [
      "/Users/radical-rhys/miniconda3/lib/python3.12/site-packages/botorch/models/model.py:233: RuntimeWarning: Could not update `train_inputs` with transformed inputs since _RandomForest does not have a `train_inputs` attribute. Make sure that the `input_transform` is applied to both the train inputs and test inputs.\n",
      "  warnings.warn(\n",
      "/Users/radical-rhys/miniconda3/lib/python3.12/site-packages/botorch/models/model.py:233: RuntimeWarning: Could not update `train_inputs` with transformed inputs since _RandomForest does not have a `train_inputs` attribute. Make sure that the `input_transform` is applied to both the train inputs and test inputs.\n",
      "  warnings.warn(\n",
      "/Users/radical-rhys/miniconda3/lib/python3.12/site-packages/botorch/models/model.py:233: RuntimeWarning: Could not update `train_inputs` with transformed inputs since _RandomForest does not have a `train_inputs` attribute. Make sure that the `input_transform` is applied to both the train inputs and test inputs.\n",
      "  warnings.warn(\n",
      "/Users/radical-rhys/miniconda3/lib/python3.12/site-packages/botorch/models/model.py:233: RuntimeWarning: Could not update `train_inputs` with transformed inputs since _RandomForest does not have a `train_inputs` attribute. Make sure that the `input_transform` is applied to both the train inputs and test inputs.\n",
      "  warnings.warn(\n",
      "/Users/radical-rhys/miniconda3/lib/python3.12/site-packages/botorch/models/model.py:233: RuntimeWarning: Could not update `train_inputs` with transformed inputs since _RandomForest does not have a `train_inputs` attribute. Make sure that the `input_transform` is applied to both the train inputs and test inputs.\n",
      "  warnings.warn(\n",
      "/Users/radical-rhys/miniconda3/lib/python3.12/site-packages/botorch/models/model.py:233: RuntimeWarning: Could not update `train_inputs` with transformed inputs since _RandomForest does not have a `train_inputs` attribute. Make sure that the `input_transform` is applied to both the train inputs and test inputs.\n",
      "  warnings.warn(\n",
      "/Users/radical-rhys/miniconda3/lib/python3.12/site-packages/botorch/models/model.py:233: RuntimeWarning: Could not update `train_inputs` with transformed inputs since _RandomForest does not have a `train_inputs` attribute. Make sure that the `input_transform` is applied to both the train inputs and test inputs.\n",
      "  warnings.warn(\n",
      "/Users/radical-rhys/miniconda3/lib/python3.12/site-packages/botorch/models/model.py:233: RuntimeWarning: Could not update `train_inputs` with transformed inputs since _RandomForest does not have a `train_inputs` attribute. Make sure that the `input_transform` is applied to both the train inputs and test inputs.\n",
      "  warnings.warn(\n",
      "/Users/radical-rhys/miniconda3/lib/python3.12/site-packages/botorch/models/model.py:233: RuntimeWarning: Could not update `train_inputs` with transformed inputs since _RandomForest does not have a `train_inputs` attribute. Make sure that the `input_transform` is applied to both the train inputs and test inputs.\n",
      "  warnings.warn(\n",
      "/Users/radical-rhys/miniconda3/lib/python3.12/site-packages/botorch/models/model.py:233: RuntimeWarning: Could not update `train_inputs` with transformed inputs since _RandomForest does not have a `train_inputs` attribute. Make sure that the `input_transform` is applied to both the train inputs and test inputs.\n",
      "  warnings.warn(\n",
      "/Users/radical-rhys/miniconda3/lib/python3.12/site-packages/botorch/models/model.py:233: RuntimeWarning: Could not update `train_inputs` with transformed inputs since _RandomForest does not have a `train_inputs` attribute. Make sure that the `input_transform` is applied to both the train inputs and test inputs.\n",
      "  warnings.warn(\n",
      "/Users/radical-rhys/miniconda3/lib/python3.12/site-packages/botorch/models/model.py:233: RuntimeWarning: Could not update `train_inputs` with transformed inputs since _RandomForest does not have a `train_inputs` attribute. Make sure that the `input_transform` is applied to both the train inputs and test inputs.\n",
      "  warnings.warn(\n",
      "/Users/radical-rhys/miniconda3/lib/python3.12/site-packages/botorch/models/model.py:233: RuntimeWarning: Could not update `train_inputs` with transformed inputs since _RandomForest does not have a `train_inputs` attribute. Make sure that the `input_transform` is applied to both the train inputs and test inputs.\n",
      "  warnings.warn(\n",
      "/Users/radical-rhys/miniconda3/lib/python3.12/site-packages/botorch/models/model.py:233: RuntimeWarning: Could not update `train_inputs` with transformed inputs since _RandomForest does not have a `train_inputs` attribute. Make sure that the `input_transform` is applied to both the train inputs and test inputs.\n",
      "  warnings.warn(\n",
      "/Users/radical-rhys/miniconda3/lib/python3.12/site-packages/botorch/models/model.py:233: RuntimeWarning: Could not update `train_inputs` with transformed inputs since _RandomForest does not have a `train_inputs` attribute. Make sure that the `input_transform` is applied to both the train inputs and test inputs.\n",
      "  warnings.warn(\n",
      "/Users/radical-rhys/miniconda3/lib/python3.12/site-packages/botorch/models/model.py:233: RuntimeWarning: Could not update `train_inputs` with transformed inputs since _RandomForest does not have a `train_inputs` attribute. Make sure that the `input_transform` is applied to both the train inputs and test inputs.\n",
      "  warnings.warn(\n",
      "/Users/radical-rhys/miniconda3/lib/python3.12/site-packages/botorch/models/model.py:233: RuntimeWarning: Could not update `train_inputs` with transformed inputs since _RandomForest does not have a `train_inputs` attribute. Make sure that the `input_transform` is applied to both the train inputs and test inputs.\n",
      "  warnings.warn(\n"
     ]
    },
    {
     "name": "stderr",
     "output_type": "stream",
     "text": [
      "/Users/radical-rhys/miniconda3/lib/python3.12/site-packages/botorch/models/model.py:233: RuntimeWarning: Could not update `train_inputs` with transformed inputs since _RandomForest does not have a `train_inputs` attribute. Make sure that the `input_transform` is applied to both the train inputs and test inputs.\n",
      "  warnings.warn(\n",
      "/Users/radical-rhys/miniconda3/lib/python3.12/site-packages/botorch/models/model.py:233: RuntimeWarning: Could not update `train_inputs` with transformed inputs since _RandomForest does not have a `train_inputs` attribute. Make sure that the `input_transform` is applied to both the train inputs and test inputs.\n",
      "  warnings.warn(\n",
      "/Users/radical-rhys/miniconda3/lib/python3.12/site-packages/botorch/models/model.py:233: RuntimeWarning: Could not update `train_inputs` with transformed inputs since _RandomForest does not have a `train_inputs` attribute. Make sure that the `input_transform` is applied to both the train inputs and test inputs.\n",
      "  warnings.warn(\n",
      "/Users/radical-rhys/miniconda3/lib/python3.12/site-packages/botorch/models/model.py:233: RuntimeWarning: Could not update `train_inputs` with transformed inputs since _RandomForest does not have a `train_inputs` attribute. Make sure that the `input_transform` is applied to both the train inputs and test inputs.\n",
      "  warnings.warn(\n",
      "/Users/radical-rhys/miniconda3/lib/python3.12/site-packages/botorch/models/model.py:233: RuntimeWarning: Could not update `train_inputs` with transformed inputs since _RandomForest does not have a `train_inputs` attribute. Make sure that the `input_transform` is applied to both the train inputs and test inputs.\n",
      "  warnings.warn(\n",
      "/Users/radical-rhys/miniconda3/lib/python3.12/site-packages/botorch/models/model.py:233: RuntimeWarning: Could not update `train_inputs` with transformed inputs since _RandomForest does not have a `train_inputs` attribute. Make sure that the `input_transform` is applied to both the train inputs and test inputs.\n",
      "  warnings.warn(\n",
      "/Users/radical-rhys/miniconda3/lib/python3.12/site-packages/botorch/models/model.py:233: RuntimeWarning: Could not update `train_inputs` with transformed inputs since _RandomForest does not have a `train_inputs` attribute. Make sure that the `input_transform` is applied to both the train inputs and test inputs.\n",
      "  warnings.warn(\n",
      "/Users/radical-rhys/miniconda3/lib/python3.12/site-packages/botorch/models/model.py:233: RuntimeWarning: Could not update `train_inputs` with transformed inputs since _RandomForest does not have a `train_inputs` attribute. Make sure that the `input_transform` is applied to both the train inputs and test inputs.\n",
      "  warnings.warn(\n",
      "/Users/radical-rhys/miniconda3/lib/python3.12/site-packages/botorch/models/model.py:233: RuntimeWarning: Could not update `train_inputs` with transformed inputs since _RandomForest does not have a `train_inputs` attribute. Make sure that the `input_transform` is applied to both the train inputs and test inputs.\n",
      "  warnings.warn(\n",
      "/Users/radical-rhys/miniconda3/lib/python3.12/site-packages/botorch/models/model.py:233: RuntimeWarning: Could not update `train_inputs` with transformed inputs since _RandomForest does not have a `train_inputs` attribute. Make sure that the `input_transform` is applied to both the train inputs and test inputs.\n",
      "  warnings.warn(\n",
      "/Users/radical-rhys/miniconda3/lib/python3.12/site-packages/botorch/models/model.py:233: RuntimeWarning: Could not update `train_inputs` with transformed inputs since _RandomForest does not have a `train_inputs` attribute. Make sure that the `input_transform` is applied to both the train inputs and test inputs.\n",
      "  warnings.warn(\n",
      "/Users/radical-rhys/miniconda3/lib/python3.12/site-packages/botorch/models/model.py:233: RuntimeWarning: Could not update `train_inputs` with transformed inputs since _RandomForest does not have a `train_inputs` attribute. Make sure that the `input_transform` is applied to both the train inputs and test inputs.\n",
      "  warnings.warn(\n",
      "/Users/radical-rhys/miniconda3/lib/python3.12/site-packages/botorch/models/model.py:233: RuntimeWarning: Could not update `train_inputs` with transformed inputs since _RandomForest does not have a `train_inputs` attribute. Make sure that the `input_transform` is applied to both the train inputs and test inputs.\n",
      "  warnings.warn(\n"
     ]
    },
    {
     "name": "stderr",
     "output_type": "stream",
     "text": [
      "/Users/radical-rhys/miniconda3/lib/python3.12/site-packages/botorch/models/model.py:233: RuntimeWarning: Could not update `train_inputs` with transformed inputs since _RandomForest does not have a `train_inputs` attribute. Make sure that the `input_transform` is applied to both the train inputs and test inputs.\n",
      "  warnings.warn(\n",
      "/Users/radical-rhys/miniconda3/lib/python3.12/site-packages/botorch/models/model.py:233: RuntimeWarning: Could not update `train_inputs` with transformed inputs since _RandomForest does not have a `train_inputs` attribute. Make sure that the `input_transform` is applied to both the train inputs and test inputs.\n",
      "  warnings.warn(\n",
      "/Users/radical-rhys/miniconda3/lib/python3.12/site-packages/botorch/models/model.py:233: RuntimeWarning: Could not update `train_inputs` with transformed inputs since _RandomForest does not have a `train_inputs` attribute. Make sure that the `input_transform` is applied to both the train inputs and test inputs.\n",
      "  warnings.warn(\n",
      "/Users/radical-rhys/miniconda3/lib/python3.12/site-packages/botorch/models/model.py:233: RuntimeWarning: Could not update `train_inputs` with transformed inputs since _RandomForest does not have a `train_inputs` attribute. Make sure that the `input_transform` is applied to both the train inputs and test inputs.\n",
      "  warnings.warn(\n",
      "/Users/radical-rhys/miniconda3/lib/python3.12/site-packages/botorch/models/model.py:233: RuntimeWarning: Could not update `train_inputs` with transformed inputs since _RandomForest does not have a `train_inputs` attribute. Make sure that the `input_transform` is applied to both the train inputs and test inputs.\n",
      "  warnings.warn(\n",
      "/Users/radical-rhys/miniconda3/lib/python3.12/site-packages/botorch/models/model.py:233: RuntimeWarning: Could not update `train_inputs` with transformed inputs since _RandomForest does not have a `train_inputs` attribute. Make sure that the `input_transform` is applied to both the train inputs and test inputs.\n",
      "  warnings.warn(\n",
      "/Users/radical-rhys/miniconda3/lib/python3.12/site-packages/botorch/models/model.py:233: RuntimeWarning: Could not update `train_inputs` with transformed inputs since _RandomForest does not have a `train_inputs` attribute. Make sure that the `input_transform` is applied to both the train inputs and test inputs.\n",
      "  warnings.warn(\n",
      "/Users/radical-rhys/miniconda3/lib/python3.12/site-packages/botorch/models/model.py:233: RuntimeWarning: Could not update `train_inputs` with transformed inputs since _RandomForest does not have a `train_inputs` attribute. Make sure that the `input_transform` is applied to both the train inputs and test inputs.\n",
      "  warnings.warn(\n",
      "/Users/radical-rhys/miniconda3/lib/python3.12/site-packages/botorch/models/model.py:233: RuntimeWarning: Could not update `train_inputs` with transformed inputs since _RandomForest does not have a `train_inputs` attribute. Make sure that the `input_transform` is applied to both the train inputs and test inputs.\n",
      "  warnings.warn(\n",
      "/Users/radical-rhys/miniconda3/lib/python3.12/site-packages/botorch/models/model.py:233: RuntimeWarning: Could not update `train_inputs` with transformed inputs since _RandomForest does not have a `train_inputs` attribute. Make sure that the `input_transform` is applied to both the train inputs and test inputs.\n",
      "  warnings.warn(\n",
      "/Users/radical-rhys/miniconda3/lib/python3.12/site-packages/botorch/models/model.py:233: RuntimeWarning: Could not update `train_inputs` with transformed inputs since _RandomForest does not have a `train_inputs` attribute. Make sure that the `input_transform` is applied to both the train inputs and test inputs.\n",
      "  warnings.warn(\n",
      "/Users/radical-rhys/miniconda3/lib/python3.12/site-packages/botorch/models/model.py:233: RuntimeWarning: Could not update `train_inputs` with transformed inputs since _RandomForest does not have a `train_inputs` attribute. Make sure that the `input_transform` is applied to both the train inputs and test inputs.\n",
      "  warnings.warn(\n",
      "/Users/radical-rhys/miniconda3/lib/python3.12/site-packages/botorch/models/model.py:233: RuntimeWarning: Could not update `train_inputs` with transformed inputs since _RandomForest does not have a `train_inputs` attribute. Make sure that the `input_transform` is applied to both the train inputs and test inputs.\n",
      "  warnings.warn(\n",
      "/Users/radical-rhys/miniconda3/lib/python3.12/site-packages/botorch/models/model.py:233: RuntimeWarning: Could not update `train_inputs` with transformed inputs since _RandomForest does not have a `train_inputs` attribute. Make sure that the `input_transform` is applied to both the train inputs and test inputs.\n",
      "  warnings.warn(\n",
      "/Users/radical-rhys/miniconda3/lib/python3.12/site-packages/botorch/models/model.py:233: RuntimeWarning: Could not update `train_inputs` with transformed inputs since _RandomForest does not have a `train_inputs` attribute. Make sure that the `input_transform` is applied to both the train inputs and test inputs.\n",
      "  warnings.warn(\n",
      "/Users/radical-rhys/miniconda3/lib/python3.12/site-packages/botorch/models/model.py:233: RuntimeWarning: Could not update `train_inputs` with transformed inputs since _RandomForest does not have a `train_inputs` attribute. Make sure that the `input_transform` is applied to both the train inputs and test inputs.\n",
      "  warnings.warn(\n"
     ]
    },
    {
     "name": "stderr",
     "output_type": "stream",
     "text": [
      "/Users/radical-rhys/miniconda3/lib/python3.12/site-packages/botorch/models/model.py:233: RuntimeWarning: Could not update `train_inputs` with transformed inputs since _RandomForest does not have a `train_inputs` attribute. Make sure that the `input_transform` is applied to both the train inputs and test inputs.\n",
      "  warnings.warn(\n",
      "/Users/radical-rhys/miniconda3/lib/python3.12/site-packages/botorch/models/model.py:233: RuntimeWarning: Could not update `train_inputs` with transformed inputs since _RandomForest does not have a `train_inputs` attribute. Make sure that the `input_transform` is applied to both the train inputs and test inputs.\n",
      "  warnings.warn(\n",
      "/Users/radical-rhys/miniconda3/lib/python3.12/site-packages/botorch/models/model.py:233: RuntimeWarning: Could not update `train_inputs` with transformed inputs since _RandomForest does not have a `train_inputs` attribute. Make sure that the `input_transform` is applied to both the train inputs and test inputs.\n",
      "  warnings.warn(\n",
      "/Users/radical-rhys/miniconda3/lib/python3.12/site-packages/botorch/models/model.py:233: RuntimeWarning: Could not update `train_inputs` with transformed inputs since _RandomForest does not have a `train_inputs` attribute. Make sure that the `input_transform` is applied to both the train inputs and test inputs.\n",
      "  warnings.warn(\n",
      "/Users/radical-rhys/miniconda3/lib/python3.12/site-packages/botorch/models/model.py:233: RuntimeWarning: Could not update `train_inputs` with transformed inputs since _RandomForest does not have a `train_inputs` attribute. Make sure that the `input_transform` is applied to both the train inputs and test inputs.\n",
      "  warnings.warn(\n",
      "/Users/radical-rhys/miniconda3/lib/python3.12/site-packages/botorch/models/model.py:233: RuntimeWarning: Could not update `train_inputs` with transformed inputs since _RandomForest does not have a `train_inputs` attribute. Make sure that the `input_transform` is applied to both the train inputs and test inputs.\n",
      "  warnings.warn(\n",
      "/Users/radical-rhys/miniconda3/lib/python3.12/site-packages/botorch/models/model.py:233: RuntimeWarning: Could not update `train_inputs` with transformed inputs since _RandomForest does not have a `train_inputs` attribute. Make sure that the `input_transform` is applied to both the train inputs and test inputs.\n",
      "  warnings.warn(\n",
      "/Users/radical-rhys/miniconda3/lib/python3.12/site-packages/botorch/models/model.py:233: RuntimeWarning: Could not update `train_inputs` with transformed inputs since _RandomForest does not have a `train_inputs` attribute. Make sure that the `input_transform` is applied to both the train inputs and test inputs.\n",
      "  warnings.warn(\n",
      "/Users/radical-rhys/miniconda3/lib/python3.12/site-packages/botorch/models/model.py:233: RuntimeWarning: Could not update `train_inputs` with transformed inputs since _RandomForest does not have a `train_inputs` attribute. Make sure that the `input_transform` is applied to both the train inputs and test inputs.\n",
      "  warnings.warn(\n",
      "/Users/radical-rhys/miniconda3/lib/python3.12/site-packages/botorch/models/model.py:233: RuntimeWarning: Could not update `train_inputs` with transformed inputs since _RandomForest does not have a `train_inputs` attribute. Make sure that the `input_transform` is applied to both the train inputs and test inputs.\n",
      "  warnings.warn(\n",
      "/Users/radical-rhys/miniconda3/lib/python3.12/site-packages/botorch/models/model.py:233: RuntimeWarning: Could not update `train_inputs` with transformed inputs since _RandomForest does not have a `train_inputs` attribute. Make sure that the `input_transform` is applied to both the train inputs and test inputs.\n",
      "  warnings.warn(\n",
      "/Users/radical-rhys/miniconda3/lib/python3.12/site-packages/botorch/models/model.py:233: RuntimeWarning: Could not update `train_inputs` with transformed inputs since _RandomForest does not have a `train_inputs` attribute. Make sure that the `input_transform` is applied to both the train inputs and test inputs.\n",
      "  warnings.warn(\n",
      "/Users/radical-rhys/miniconda3/lib/python3.12/site-packages/botorch/models/model.py:233: RuntimeWarning: Could not update `train_inputs` with transformed inputs since _RandomForest does not have a `train_inputs` attribute. Make sure that the `input_transform` is applied to both the train inputs and test inputs.\n",
      "  warnings.warn(\n",
      "/Users/radical-rhys/miniconda3/lib/python3.12/site-packages/botorch/models/model.py:233: RuntimeWarning: Could not update `train_inputs` with transformed inputs since _RandomForest does not have a `train_inputs` attribute. Make sure that the `input_transform` is applied to both the train inputs and test inputs.\n",
      "  warnings.warn(\n",
      "/Users/radical-rhys/miniconda3/lib/python3.12/site-packages/botorch/models/model.py:233: RuntimeWarning: Could not update `train_inputs` with transformed inputs since _RandomForest does not have a `train_inputs` attribute. Make sure that the `input_transform` is applied to both the train inputs and test inputs.\n",
      "  warnings.warn(\n",
      "/Users/radical-rhys/miniconda3/lib/python3.12/site-packages/botorch/models/model.py:233: RuntimeWarning: Could not update `train_inputs` with transformed inputs since _RandomForest does not have a `train_inputs` attribute. Make sure that the `input_transform` is applied to both the train inputs and test inputs.\n",
      "  warnings.warn(\n"
     ]
    },
    {
     "data": {
      "text/html": [
       "<div>\n",
       "<style scoped>\n",
       "    .dataframe tbody tr th:only-of-type {\n",
       "        vertical-align: middle;\n",
       "    }\n",
       "\n",
       "    .dataframe tbody tr th {\n",
       "        vertical-align: top;\n",
       "    }\n",
       "\n",
       "    .dataframe thead th {\n",
       "        text-align: right;\n",
       "    }\n",
       "</style>\n",
       "<table border=\"1\" class=\"dataframe\">\n",
       "  <thead>\n",
       "    <tr style=\"text-align: right;\">\n",
       "      <th></th>\n",
       "      <th>MAE</th>\n",
       "      <th>MSD</th>\n",
       "      <th>R2</th>\n",
       "      <th>MAPE</th>\n",
       "      <th>PEARSON</th>\n",
       "      <th>SPEARMAN</th>\n",
       "      <th>FISHER</th>\n",
       "    </tr>\n",
       "  </thead>\n",
       "  <tbody>\n",
       "    <tr>\n",
       "      <th>0</th>\n",
       "      <td>0.180497</td>\n",
       "      <td>0.053977</td>\n",
       "      <td>0.501932</td>\n",
       "      <td>0.257145</td>\n",
       "      <td>0.72309</td>\n",
       "      <td>0.709774</td>\n",
       "      <td>0.011507</td>\n",
       "    </tr>\n",
       "  </tbody>\n",
       "</table>\n",
       "</div>"
      ],
      "text/plain": [
       "        MAE       MSD        R2      MAPE  PEARSON  SPEARMAN    FISHER\n",
       "0  0.180497  0.053977  0.501932  0.257145  0.72309  0.709774  0.011507"
      ]
     },
     "execution_count": null,
     "metadata": {},
     "output_type": "execute_result"
    }
   ],
   "source": [
    "benchmark = DTLZ2(dim=6)\n",
    "\n",
    "experiments = benchmark.f(benchmark.domain.inputs.sample(20), return_complete=True)\n",
    "\n",
    "# you can use the hyperparams from sklearn\n",
    "rf_data_model = RandomForestSurrogate(\n",
    "    inputs=benchmark.domain.inputs,\n",
    "    outputs=Outputs(features=[benchmark.domain.outputs[0]]),\n",
    "    n_estimators=100,\n",
    ")\n",
    "\n",
    "rf = surrogates.map(rf_data_model)\n",
    "\n",
    "cv_train, cv_test, _ = rf.cross_validate(experiments)\n",
    "\n",
    "cv_test.get_metrics()"
   ]
  },
  {
   "cell_type": "markdown",
   "id": "4",
   "metadata": {
    "papermill": {
     "duration": 0.001033,
     "end_time": "2024-10-10T16:02:20.225155",
     "exception": false,
     "start_time": "2024-10-10T16:02:20.224122",
     "status": "completed"
    },
    "tags": []
   },
   "source": [
    "## Setup an optimization"
   ]
  },
  {
   "cell_type": "code",
   "execution_count": null,
   "id": "5",
   "metadata": {
    "papermill": {
     "duration": 0.090704,
     "end_time": "2024-10-10T16:02:20.316735",
     "exception": false,
     "start_time": "2024-10-10T16:02:20.226031",
     "status": "completed"
    },
    "tags": []
   },
   "outputs": [],
   "source": [
    "benchmark = DTLZ2(dim=6)\n",
    "\n",
    "data_model = QnehviStrategy(\n",
    "    domain=benchmark.domain,\n",
    "    ref_point={\"f_0\": 1.1, \"f_1\": 1.1},\n",
    "    surrogate_specs=BotorchSurrogates(\n",
    "        surrogates=[\n",
    "            RandomForestSurrogate(\n",
    "                inputs=benchmark.domain.inputs,\n",
    "                outputs=Outputs(features=[benchmark.domain.outputs[0]]),\n",
    "            ),\n",
    "            RandomForestSurrogate(\n",
    "                inputs=benchmark.domain.inputs,\n",
    "                outputs=Outputs(features=[benchmark.domain.outputs[1]]),\n",
    "            ),\n",
    "        ]\n",
    "    ),\n",
    ")\n",
    "\n",
    "recommender = strategies.map(data_model=data_model)\n",
    "\n",
    "experiments = benchmark.f(benchmark.domain.inputs.sample(10), return_complete=True)\n",
    "recommender.tell(experiments=experiments)\n",
    "\n",
    "\n",
    "# currently not supported\n",
    "# for i in range(10):\n",
    "#     samples = benchmark.domain.inputs.sample(512, method=SamplingMethodEnum.SOBOL)\n",
    "#     candidates = recommender.ask(1, candidate_pool=samples)\n",
    "#     candidates = candidates.reset_index(drop=True)\n",
    "#     new_experiments = benchmark.f(candidates[benchmark.domain.inputs.get_keys().copy()], return_complete=True)\n",
    "#     recommender.tell(experiments=new_experiments)"
   ]
  }
 ],
 "metadata": {
  "kernelspec": {
   "display_name": "Python 3.8.12 ('everest_env')",
   "language": "python",
   "name": "python3"
  },
  "language_info": {
   "codemirror_mode": {
    "name": "ipython",
    "version": 3
   },
   "file_extension": ".py",
   "mimetype": "text/x-python",
   "name": "python",
   "nbconvert_exporter": "python",
   "pygments_lexer": "ipython3",
   "version": "3.12.2"
  },
  "papermill": {
   "default_parameters": {},
   "duration": 5.23617,
   "end_time": "2024-10-10T16:02:20.937579",
   "environment_variables": {},
   "exception": null,
   "input_path": "/Users/radical-rhys/Radical/bofire/tutorials/advanced_examples/random_forest_in_bofire.ipynb",
   "output_path": "/Users/radical-rhys/Radical/bofire/tutorials/advanced_examples/random_forest_in_bofire.ipynb",
   "parameters": {},
   "start_time": "2024-10-10T16:02:15.701409",
   "version": "2.6.0"
  },
  "vscode": {
   "interpreter": {
    "hash": "50077122d83430e029bf2362124cf3928cfea0c9d2b42539f789dcb8b3dbe07c"
   }
  }
 },
 "nbformat": 4,
 "nbformat_minor": 5
}
