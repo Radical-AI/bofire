{
 "cells": [
  {
   "attachments": {},
   "cell_type": "markdown",
   "id": "0",
   "metadata": {
    "papermill": {
     "duration": 0.008396,
     "end_time": "2024-10-10T16:10:21.513125",
     "exception": false,
     "start_time": "2024-10-10T16:10:21.504729",
     "status": "completed"
    },
    "tags": []
   },
   "source": [
    "# Model Building with BoFire\n",
    "\n",
    "This notebooks shows how to setup and analyze models trained with BoFire. It is stil WIP."
   ]
  },
  {
   "attachments": {},
   "cell_type": "markdown",
   "id": "1",
   "metadata": {
    "papermill": {
     "duration": 0.004086,
     "end_time": "2024-10-10T16:10:21.522642",
     "exception": false,
     "start_time": "2024-10-10T16:10:21.518556",
     "status": "completed"
    },
    "tags": []
   },
   "source": [
    "## Imports"
   ]
  },
  {
   "cell_type": "code",
   "execution_count": null,
   "id": "2",
   "metadata": {
    "papermill": {
     "duration": 1.926607,
     "end_time": "2024-10-10T16:10:23.453845",
     "exception": false,
     "start_time": "2024-10-10T16:10:21.527238",
     "status": "completed"
    },
    "tags": []
   },
   "outputs": [],
   "source": [
    "from pydantic import TypeAdapter\n",
    "\n",
    "import bofire.surrogates.api as surrogates\n",
    "from bofire.benchmarks.multi import CrossCoupling\n",
    "from bofire.benchmarks.single import Himmelblau\n",
    "from bofire.data_models.domain.api import Outputs\n",
    "from bofire.data_models.enum import CategoricalEncodingEnum\n",
    "from bofire.data_models.surrogates.api import (\n",
    "    AnySurrogate,\n",
    "    EmpiricalSurrogate,\n",
    "    MixedSingleTaskGPSurrogate,\n",
    "    RandomForestSurrogate,\n",
    "    RegressionMLPEnsemble,\n",
    "    SingleTaskGPSurrogate,\n",
    ")"
   ]
  },
  {
   "attachments": {},
   "cell_type": "markdown",
   "id": "3",
   "metadata": {
    "papermill": {
     "duration": 0.001888,
     "end_time": "2024-10-10T16:10:23.457806",
     "exception": false,
     "start_time": "2024-10-10T16:10:23.455918",
     "status": "completed"
    },
    "tags": []
   },
   "source": [
    "## Problem Setup\n",
    "\n",
    "For didactic purposes, we sample data from a Himmelblau benchmark function and use them to train a SingleTaskGP."
   ]
  },
  {
   "cell_type": "code",
   "execution_count": null,
   "id": "4",
   "metadata": {
    "papermill": {
     "duration": 0.011731,
     "end_time": "2024-10-10T16:10:23.471348",
     "exception": false,
     "start_time": "2024-10-10T16:10:23.459617",
     "status": "completed"
    },
    "tags": []
   },
   "outputs": [
    {
     "data": {
      "text/html": [
       "<div>\n",
       "<style scoped>\n",
       "    .dataframe tbody tr th:only-of-type {\n",
       "        vertical-align: middle;\n",
       "    }\n",
       "\n",
       "    .dataframe tbody tr th {\n",
       "        vertical-align: top;\n",
       "    }\n",
       "\n",
       "    .dataframe thead th {\n",
       "        text-align: right;\n",
       "    }\n",
       "</style>\n",
       "<table border=\"1\" class=\"dataframe\">\n",
       "  <thead>\n",
       "    <tr style=\"text-align: right;\">\n",
       "      <th></th>\n",
       "      <th>x_1</th>\n",
       "      <th>x_2</th>\n",
       "      <th>y</th>\n",
       "      <th>valid_y</th>\n",
       "    </tr>\n",
       "  </thead>\n",
       "  <tbody>\n",
       "    <tr>\n",
       "      <th>0</th>\n",
       "      <td>0.907775</td>\n",
       "      <td>4.500218</td>\n",
       "      <td>232.711906</td>\n",
       "      <td>1</td>\n",
       "    </tr>\n",
       "    <tr>\n",
       "      <th>1</th>\n",
       "      <td>-3.479076</td>\n",
       "      <td>-2.717522</td>\n",
       "      <td>12.177300</td>\n",
       "      <td>1</td>\n",
       "    </tr>\n",
       "    <tr>\n",
       "      <th>2</th>\n",
       "      <td>-2.209221</td>\n",
       "      <td>5.996436</td>\n",
       "      <td>715.471738</td>\n",
       "      <td>1</td>\n",
       "    </tr>\n",
       "    <tr>\n",
       "      <th>3</th>\n",
       "      <td>0.029555</td>\n",
       "      <td>-3.726054</td>\n",
       "      <td>264.620911</td>\n",
       "      <td>1</td>\n",
       "    </tr>\n",
       "    <tr>\n",
       "      <th>4</th>\n",
       "      <td>2.120228</td>\n",
       "      <td>-2.639823</td>\n",
       "      <td>87.984530</td>\n",
       "      <td>1</td>\n",
       "    </tr>\n",
       "    <tr>\n",
       "      <th>5</th>\n",
       "      <td>-2.828019</td>\n",
       "      <td>-0.850650</td>\n",
       "      <td>97.735638</td>\n",
       "      <td>1</td>\n",
       "    </tr>\n",
       "    <tr>\n",
       "      <th>6</th>\n",
       "      <td>0.465701</td>\n",
       "      <td>-0.623530</td>\n",
       "      <td>167.879006</td>\n",
       "      <td>1</td>\n",
       "    </tr>\n",
       "    <tr>\n",
       "      <th>7</th>\n",
       "      <td>3.742203</td>\n",
       "      <td>1.971305</td>\n",
       "      <td>25.149174</td>\n",
       "      <td>1</td>\n",
       "    </tr>\n",
       "    <tr>\n",
       "      <th>8</th>\n",
       "      <td>-2.505171</td>\n",
       "      <td>4.717745</td>\n",
       "      <td>162.612299</td>\n",
       "      <td>1</td>\n",
       "    </tr>\n",
       "    <tr>\n",
       "      <th>9</th>\n",
       "      <td>0.547835</td>\n",
       "      <td>5.098709</td>\n",
       "      <td>413.367009</td>\n",
       "      <td>1</td>\n",
       "    </tr>\n",
       "  </tbody>\n",
       "</table>\n",
       "</div>"
      ],
      "text/plain": [
       "        x_1       x_2           y  valid_y\n",
       "0  0.907775  4.500218  232.711906        1\n",
       "1 -3.479076 -2.717522   12.177300        1\n",
       "2 -2.209221  5.996436  715.471738        1\n",
       "3  0.029555 -3.726054  264.620911        1\n",
       "4  2.120228 -2.639823   87.984530        1\n",
       "5 -2.828019 -0.850650   97.735638        1\n",
       "6  0.465701 -0.623530  167.879006        1\n",
       "7  3.742203  1.971305   25.149174        1\n",
       "8 -2.505171  4.717745  162.612299        1\n",
       "9  0.547835  5.098709  413.367009        1"
      ]
     },
     "execution_count": null,
     "metadata": {},
     "output_type": "execute_result"
    }
   ],
   "source": [
    "benchmark = Himmelblau()\n",
    "samples = benchmark.domain.inputs.sample(n=50)\n",
    "experiments = benchmark.f(samples, return_complete=True)\n",
    "\n",
    "experiments.head(10)"
   ]
  },
  {
   "attachments": {},
   "cell_type": "markdown",
   "id": "5",
   "metadata": {
    "papermill": {
     "duration": 0.001918,
     "end_time": "2024-10-10T16:10:23.475208",
     "exception": false,
     "start_time": "2024-10-10T16:10:23.473290",
     "status": "completed"
    },
    "tags": []
   },
   "source": [
    "## Model Fitting\n"
   ]
  },
  {
   "cell_type": "code",
   "execution_count": null,
   "id": "6",
   "metadata": {
    "papermill": {
     "duration": 0.004725,
     "end_time": "2024-10-10T16:10:23.481817",
     "exception": false,
     "start_time": "2024-10-10T16:10:23.477092",
     "status": "completed"
    },
    "tags": []
   },
   "outputs": [],
   "source": [
    "input_features = benchmark.domain.inputs\n",
    "output_features = benchmark.domain.outputs"
   ]
  },
  {
   "cell_type": "code",
   "execution_count": null,
   "id": "7",
   "metadata": {
    "papermill": {
     "duration": 0.005276,
     "end_time": "2024-10-10T16:10:23.489209",
     "exception": false,
     "start_time": "2024-10-10T16:10:23.483933",
     "status": "completed"
    },
    "tags": []
   },
   "outputs": [
    {
     "data": {
      "text/plain": [
       "'{\"type\":\"Inputs\",\"features\":[{\"type\":\"ContinuousInput\",\"key\":\"x_1\",\"unit\":null,\"bounds\":[-6.0,6.0],\"local_relative_bounds\":null,\"stepsize\":null},{\"type\":\"ContinuousInput\",\"key\":\"x_2\",\"unit\":null,\"bounds\":[-6.0,6.0],\"local_relative_bounds\":null,\"stepsize\":null}]}'"
      ]
     },
     "execution_count": null,
     "metadata": {},
     "output_type": "execute_result"
    }
   ],
   "source": [
    "input_features.model_dump_json()"
   ]
  },
  {
   "cell_type": "code",
   "execution_count": null,
   "id": "8",
   "metadata": {
    "papermill": {
     "duration": 0.019745,
     "end_time": "2024-10-10T16:10:23.511003",
     "exception": false,
     "start_time": "2024-10-10T16:10:23.491258",
     "status": "completed"
    },
    "tags": []
   },
   "outputs": [
    {
     "data": {
      "text/plain": [
       "'{\"type\":\"Outputs\",\"features\":[{\"type\":\"ContinuousOutput\",\"key\":\"y\",\"unit\":null,\"objective\":{\"type\":\"MinimizeObjective\",\"w\":1.0,\"bounds\":[0.0,1.0]}}]}'"
      ]
     },
     "execution_count": null,
     "metadata": {},
     "output_type": "execute_result"
    }
   ],
   "source": [
    "output_features.model_dump_json()"
   ]
  },
  {
   "attachments": {},
   "cell_type": "markdown",
   "id": "9",
   "metadata": {
    "papermill": {
     "duration": 0.002182,
     "end_time": "2024-10-10T16:10:23.515750",
     "exception": false,
     "start_time": "2024-10-10T16:10:23.513568",
     "status": "completed"
    },
    "tags": []
   },
   "source": [
    "### Single Task GP\n",
    "\n",
    "Generate the json spec"
   ]
  },
  {
   "cell_type": "code",
   "execution_count": null,
   "id": "10",
   "metadata": {
    "papermill": {
     "duration": 0.005626,
     "end_time": "2024-10-10T16:10:23.523407",
     "exception": false,
     "start_time": "2024-10-10T16:10:23.517781",
     "status": "completed"
    },
    "tags": []
   },
   "outputs": [
    {
     "data": {
      "text/plain": [
       "'{\"hyperconfig\":{\"type\":\"SingleTaskGPHyperconfig\",\"hyperstrategy\":\"FactorialStrategy\",\"inputs\":{\"type\":\"Inputs\",\"features\":[{\"type\":\"CategoricalInput\",\"key\":\"kernel\",\"categories\":[\"rbf\",\"matern_1.5\",\"matern_2.5\"],\"allowed\":[true,true,true]},{\"type\":\"CategoricalInput\",\"key\":\"prior\",\"categories\":[\"mbo\",\"botorch\"],\"allowed\":[true,true]},{\"type\":\"CategoricalInput\",\"key\":\"ard\",\"categories\":[\"True\",\"False\"],\"allowed\":[true,true]}]},\"n_iterations\":null,\"target_metric\":\"MAE\"},\"aggregations\":null,\"type\":\"SingleTaskGPSurrogate\",\"inputs\":{\"type\":\"Inputs\",\"features\":[{\"type\":\"ContinuousInput\",\"key\":\"x_1\",\"unit\":null,\"bounds\":[-6.0,6.0],\"local_relative_bounds\":null,\"stepsize\":null},{\"type\":\"ContinuousInput\",\"key\":\"x_2\",\"unit\":null,\"bounds\":[-6.0,6.0],\"local_relative_bounds\":null,\"stepsize\":null}]},\"outputs\":{\"type\":\"Outputs\",\"features\":[{\"type\":\"ContinuousOutput\",\"key\":\"y\",\"unit\":null,\"objective\":{\"type\":\"MinimizeObjective\",\"w\":1.0,\"bounds\":[0.0,1.0]}}]},\"input_preprocessing_specs\":{},\"dump\":null,\"scaler\":\"NORMALIZE\",\"output_scaler\":\"STANDARDIZE\",\"kernel\":{\"type\":\"ScaleKernel\",\"base_kernel\":{\"type\":\"MaternKernel\",\"ard\":true,\"nu\":2.5,\"lengthscale_prior\":{\"type\":\"GammaPrior\",\"concentration\":3.0,\"rate\":6.0}},\"outputscale_prior\":{\"type\":\"GammaPrior\",\"concentration\":2.0,\"rate\":0.15}},\"noise_prior\":{\"type\":\"GammaPrior\",\"concentration\":1.1,\"rate\":0.05}}'"
      ]
     },
     "execution_count": null,
     "metadata": {},
     "output_type": "execute_result"
    }
   ],
   "source": [
    "# we setup the data model, here a Single Task GP\n",
    "surrogate_data = SingleTaskGPSurrogate(inputs=input_features, outputs=output_features)\n",
    "\n",
    "# we generate the json spec\n",
    "jspec = surrogate_data.json()\n",
    "\n",
    "jspec"
   ]
  },
  {
   "attachments": {},
   "cell_type": "markdown",
   "id": "11",
   "metadata": {
    "papermill": {
     "duration": 0.002322,
     "end_time": "2024-10-10T16:10:23.528437",
     "exception": false,
     "start_time": "2024-10-10T16:10:23.526115",
     "status": "completed"
    },
    "tags": []
   },
   "source": [
    "Load it from the spec"
   ]
  },
  {
   "cell_type": "code",
   "execution_count": null,
   "id": "12",
   "metadata": {
    "papermill": {
     "duration": 0.023466,
     "end_time": "2024-10-10T16:10:23.554144",
     "exception": false,
     "start_time": "2024-10-10T16:10:23.530678",
     "status": "completed"
    },
    "tags": []
   },
   "outputs": [],
   "source": [
    "surrogate_data = TypeAdapter(AnySurrogate).validate_json(jspec)"
   ]
  },
  {
   "attachments": {},
   "cell_type": "markdown",
   "id": "13",
   "metadata": {
    "papermill": {
     "duration": 0.002139,
     "end_time": "2024-10-10T16:10:23.558868",
     "exception": false,
     "start_time": "2024-10-10T16:10:23.556729",
     "status": "completed"
    },
    "tags": []
   },
   "source": [
    "Map it "
   ]
  },
  {
   "cell_type": "code",
   "execution_count": null,
   "id": "14",
   "metadata": {
    "papermill": {
     "duration": 0.005107,
     "end_time": "2024-10-10T16:10:23.566063",
     "exception": false,
     "start_time": "2024-10-10T16:10:23.560956",
     "status": "completed"
    },
    "tags": []
   },
   "outputs": [],
   "source": [
    "surrogate = surrogates.map(surrogate_data)"
   ]
  },
  {
   "attachments": {},
   "cell_type": "markdown",
   "id": "15",
   "metadata": {
    "papermill": {
     "duration": 0.002236,
     "end_time": "2024-10-10T16:10:23.570821",
     "exception": false,
     "start_time": "2024-10-10T16:10:23.568585",
     "status": "completed"
    },
    "tags": []
   },
   "source": [
    "Fit it. This is not 100% finished. In the future we will call here hyperfit which will return the CV results etc. This has to be finished. So ignore this for now and just call fit."
   ]
  },
  {
   "cell_type": "code",
   "execution_count": null,
   "id": "16",
   "metadata": {
    "papermill": {
     "duration": 0.288444,
     "end_time": "2024-10-10T16:10:23.861309",
     "exception": false,
     "start_time": "2024-10-10T16:10:23.572865",
     "status": "completed"
    },
    "tags": []
   },
   "outputs": [],
   "source": [
    "surrogate.fit(experiments=experiments)"
   ]
  },
  {
   "attachments": {},
   "cell_type": "markdown",
   "id": "17",
   "metadata": {
    "papermill": {
     "duration": 0.00221,
     "end_time": "2024-10-10T16:10:23.865921",
     "exception": false,
     "start_time": "2024-10-10T16:10:23.863711",
     "status": "completed"
    },
    "tags": []
   },
   "source": [
    "Dump it."
   ]
  },
  {
   "cell_type": "code",
   "execution_count": null,
   "id": "18",
   "metadata": {
    "papermill": {
     "duration": 0.006907,
     "end_time": "2024-10-10T16:10:23.875152",
     "exception": false,
     "start_time": "2024-10-10T16:10:23.868245",
     "status": "completed"
    },
    "tags": []
   },
   "outputs": [],
   "source": [
    "# dump it\n",
    "dump = surrogate.dumps()"
   ]
  },
  {
   "attachments": {},
   "cell_type": "markdown",
   "id": "19",
   "metadata": {
    "papermill": {
     "duration": 0.002166,
     "end_time": "2024-10-10T16:10:23.879504",
     "exception": false,
     "start_time": "2024-10-10T16:10:23.877338",
     "status": "completed"
    },
    "tags": []
   },
   "source": [
    "Make predictions."
   ]
  },
  {
   "cell_type": "code",
   "execution_count": null,
   "id": "20",
   "metadata": {
    "papermill": {
     "duration": 0.010113,
     "end_time": "2024-10-10T16:10:23.891708",
     "exception": false,
     "start_time": "2024-10-10T16:10:23.881595",
     "status": "completed"
    },
    "tags": []
   },
   "outputs": [],
   "source": [
    "# predict with it\n",
    "df_predictions = surrogate.predict(experiments)\n",
    "# transform to spec\n",
    "predictions = surrogate.to_predictions(predictions=df_predictions)"
   ]
  },
  {
   "attachments": {},
   "cell_type": "markdown",
   "id": "21",
   "metadata": {
    "papermill": {
     "duration": 0.002247,
     "end_time": "2024-10-10T16:10:23.896325",
     "exception": false,
     "start_time": "2024-10-10T16:10:23.894078",
     "status": "completed"
    },
    "tags": []
   },
   "source": [
    "Load again from spec and dump and make predictions."
   ]
  },
  {
   "cell_type": "code",
   "execution_count": null,
   "id": "22",
   "metadata": {
    "papermill": {
     "duration": 0.030039,
     "end_time": "2024-10-10T16:10:23.928473",
     "exception": false,
     "start_time": "2024-10-10T16:10:23.898434",
     "status": "completed"
    },
    "tags": []
   },
   "outputs": [
    {
     "data": {
      "text/plain": [
       "True"
      ]
     },
     "execution_count": null,
     "metadata": {},
     "output_type": "execute_result"
    }
   ],
   "source": [
    "surrogate_data = TypeAdapter(AnySurrogate).validate_json(jspec)\n",
    "surrogate = surrogates.map(surrogate_data)\n",
    "surrogate.loads(dump)\n",
    "\n",
    "# predict with it\n",
    "df_predictions2 = surrogate.predict(experiments)\n",
    "# transform to spec\n",
    "predictions2 = surrogate.to_predictions(predictions=df_predictions2)\n",
    "\n",
    "# check for equality\n",
    "predictions == predictions2"
   ]
  },
  {
   "attachments": {},
   "cell_type": "markdown",
   "id": "23",
   "metadata": {
    "papermill": {
     "duration": 0.00226,
     "end_time": "2024-10-10T16:10:23.933082",
     "exception": false,
     "start_time": "2024-10-10T16:10:23.930822",
     "status": "completed"
    },
    "tags": []
   },
   "source": [
    "### Random Forest\n",
    "\n",
    "Generate the json spec"
   ]
  },
  {
   "cell_type": "code",
   "execution_count": null,
   "id": "24",
   "metadata": {
    "papermill": {
     "duration": 0.005564,
     "end_time": "2024-10-10T16:10:23.940904",
     "exception": false,
     "start_time": "2024-10-10T16:10:23.935340",
     "status": "completed"
    },
    "tags": []
   },
   "outputs": [
    {
     "data": {
      "text/plain": [
       "'{\"hyperconfig\":null,\"aggregations\":null,\"type\":\"RandomForestSurrogate\",\"inputs\":{\"type\":\"Inputs\",\"features\":[{\"type\":\"ContinuousInput\",\"key\":\"x_1\",\"unit\":null,\"bounds\":[-6.0,6.0],\"local_relative_bounds\":null,\"stepsize\":null},{\"type\":\"ContinuousInput\",\"key\":\"x_2\",\"unit\":null,\"bounds\":[-6.0,6.0],\"local_relative_bounds\":null,\"stepsize\":null}]},\"outputs\":{\"type\":\"Outputs\",\"features\":[{\"type\":\"ContinuousOutput\",\"key\":\"y\",\"unit\":null,\"objective\":{\"type\":\"MinimizeObjective\",\"w\":1.0,\"bounds\":[0.0,1.0]}}]},\"input_preprocessing_specs\":{},\"dump\":null,\"scaler\":\"NORMALIZE\",\"output_scaler\":\"STANDARDIZE\",\"n_estimators\":100,\"criterion\":\"squared_error\",\"max_depth\":null,\"min_samples_split\":2,\"min_samples_leaf\":1,\"min_weight_fraction_leaf\":0.0,\"max_features\":1.0,\"max_leaf_nodes\":null,\"min_impurity_decrease\":0.0,\"bootstrap\":true,\"oob_score\":false,\"random_state\":42,\"ccp_alpha\":0.0,\"max_samples\":null}'"
      ]
     },
     "execution_count": null,
     "metadata": {},
     "output_type": "execute_result"
    }
   ],
   "source": [
    "# we setup the data model, here a Single Task GP\n",
    "surrogate_data = RandomForestSurrogate(\n",
    "    inputs=input_features, outputs=output_features, random_state=42\n",
    ")\n",
    "\n",
    "# we generate the json spec\n",
    "jspec = surrogate_data.json()\n",
    "\n",
    "jspec"
   ]
  },
  {
   "cell_type": "code",
   "execution_count": null,
   "id": "25",
   "metadata": {
    "papermill": {
     "duration": 0.066061,
     "end_time": "2024-10-10T16:10:24.009331",
     "exception": false,
     "start_time": "2024-10-10T16:10:23.943270",
     "status": "completed"
    },
    "tags": []
   },
   "outputs": [
    {
     "name": "stderr",
     "output_type": "stream",
     "text": [
      "/Users/radical-rhys/miniconda3/lib/python3.12/site-packages/botorch/models/model.py:233: RuntimeWarning: Could not update `train_inputs` with transformed inputs since _RandomForest does not have a `train_inputs` attribute. Make sure that the `input_transform` is applied to both the train inputs and test inputs.\n",
      "  warnings.warn(\n",
      "/Users/radical-rhys/miniconda3/lib/python3.12/site-packages/botorch/models/model.py:233: RuntimeWarning: Could not update `train_inputs` with transformed inputs since _RandomForest does not have a `train_inputs` attribute. Make sure that the `input_transform` is applied to both the train inputs and test inputs.\n",
      "  warnings.warn(\n"
     ]
    }
   ],
   "source": [
    "# Load it from the spec\n",
    "surrogate_data = TypeAdapter(AnySurrogate).validate_json(jspec)\n",
    "# Map it\n",
    "surrogate = surrogates.map(surrogate_data)\n",
    "# Fit it\n",
    "surrogate.fit(experiments=experiments)\n",
    "# dump it\n",
    "dump = surrogate.dumps()\n",
    "# predict with it\n",
    "df_predictions = surrogate.predict(experiments)\n",
    "# transform to spec\n",
    "predictions = surrogate.to_predictions(predictions=df_predictions)"
   ]
  },
  {
   "cell_type": "code",
   "execution_count": null,
   "id": "26",
   "metadata": {
    "papermill": {
     "duration": 0.026656,
     "end_time": "2024-10-10T16:10:24.038593",
     "exception": false,
     "start_time": "2024-10-10T16:10:24.011937",
     "status": "completed"
    },
    "tags": []
   },
   "outputs": [
    {
     "name": "stderr",
     "output_type": "stream",
     "text": [
      "/Users/radical-rhys/miniconda3/lib/python3.12/site-packages/botorch/models/model.py:233: RuntimeWarning: Could not update `train_inputs` with transformed inputs since _RandomForest does not have a `train_inputs` attribute. Make sure that the `input_transform` is applied to both the train inputs and test inputs.\n",
      "  warnings.warn(\n",
      "/Users/radical-rhys/miniconda3/lib/python3.12/site-packages/botorch/models/model.py:233: RuntimeWarning: Could not update `train_inputs` with transformed inputs since _RandomForest does not have a `train_inputs` attribute. Make sure that the `input_transform` is applied to both the train inputs and test inputs.\n",
      "  warnings.warn(\n"
     ]
    },
    {
     "data": {
      "text/plain": [
       "True"
      ]
     },
     "execution_count": null,
     "metadata": {},
     "output_type": "execute_result"
    }
   ],
   "source": [
    "surrogate_data = TypeAdapter(AnySurrogate).validate_json(jspec)\n",
    "surrogate = surrogates.map(surrogate_data)\n",
    "surrogate.loads(dump)\n",
    "\n",
    "# predict with it\n",
    "df_predictions2 = surrogate.predict(experiments)\n",
    "# transform to spec\n",
    "predictions2 = surrogate.to_predictions(predictions=df_predictions2)\n",
    "\n",
    "# check for equality\n",
    "predictions == predictions2"
   ]
  },
  {
   "attachments": {},
   "cell_type": "markdown",
   "id": "27",
   "metadata": {
    "papermill": {
     "duration": 0.002421,
     "end_time": "2024-10-10T16:10:24.043526",
     "exception": false,
     "start_time": "2024-10-10T16:10:24.041105",
     "status": "completed"
    },
    "tags": []
   },
   "source": [
    "### MLP Ensemble\n",
    "\n",
    "Generate the json spec"
   ]
  },
  {
   "cell_type": "code",
   "execution_count": null,
   "id": "28",
   "metadata": {
    "papermill": {
     "duration": 0.005828,
     "end_time": "2024-10-10T16:10:24.051851",
     "exception": false,
     "start_time": "2024-10-10T16:10:24.046023",
     "status": "completed"
    },
    "tags": []
   },
   "outputs": [
    {
     "data": {
      "text/plain": [
       "'{\"hyperconfig\":null,\"aggregations\":null,\"type\":\"RegressionMLPEnsemble\",\"inputs\":{\"type\":\"Inputs\",\"features\":[{\"type\":\"ContinuousInput\",\"key\":\"x_1\",\"unit\":null,\"bounds\":[-6.0,6.0],\"local_relative_bounds\":null,\"stepsize\":null},{\"type\":\"ContinuousInput\",\"key\":\"x_2\",\"unit\":null,\"bounds\":[-6.0,6.0],\"local_relative_bounds\":null,\"stepsize\":null}]},\"outputs\":{\"type\":\"Outputs\",\"features\":[{\"type\":\"ContinuousOutput\",\"key\":\"y\",\"unit\":null,\"objective\":{\"type\":\"MinimizeObjective\",\"w\":1.0,\"bounds\":[0.0,1.0]}}]},\"input_preprocessing_specs\":{},\"dump\":null,\"scaler\":\"IDENTITY\",\"output_scaler\":\"IDENTITY\",\"n_estimators\":2,\"hidden_layer_sizes\":[100],\"activation\":\"relu\",\"dropout\":0.0,\"batch_size\":10,\"n_epochs\":200,\"lr\":0.0001,\"weight_decay\":0.0,\"subsample_fraction\":1.0,\"shuffle\":true,\"final_activation\":\"identity\"}'"
      ]
     },
     "execution_count": null,
     "metadata": {},
     "output_type": "execute_result"
    }
   ],
   "source": [
    "# we setup the data model, here a Single Task GP\n",
    "surrogate_data = RegressionMLPEnsemble(\n",
    "    inputs=input_features, outputs=output_features, n_estimators=2\n",
    ")\n",
    "\n",
    "# we generate the json spec\n",
    "jspec = surrogate_data.json()\n",
    "\n",
    "jspec"
   ]
  },
  {
   "cell_type": "code",
   "execution_count": null,
   "id": "29",
   "metadata": {
    "papermill": {
     "duration": 0.473128,
     "end_time": "2024-10-10T16:10:24.527432",
     "exception": false,
     "start_time": "2024-10-10T16:10:24.054304",
     "status": "completed"
    },
    "tags": []
   },
   "outputs": [],
   "source": [
    "# Load it from the spec\n",
    "surrogate_data = TypeAdapter(AnySurrogate).validate_json(jspec)\n",
    "# Map it\n",
    "surrogate = surrogates.map(surrogate_data)\n",
    "# Fit it\n",
    "surrogate.fit(experiments=experiments)\n",
    "# dump it\n",
    "dump = surrogate.dumps()\n",
    "# predict with it\n",
    "df_predictions = surrogate.predict(experiments)\n",
    "# transform to spec\n",
    "predictions = surrogate.to_predictions(predictions=df_predictions)"
   ]
  },
  {
   "cell_type": "code",
   "execution_count": null,
   "id": "30",
   "metadata": {
    "papermill": {
     "duration": 0.016752,
     "end_time": "2024-10-10T16:10:24.546677",
     "exception": false,
     "start_time": "2024-10-10T16:10:24.529925",
     "status": "completed"
    },
    "tags": []
   },
   "outputs": [
    {
     "data": {
      "text/plain": [
       "True"
      ]
     },
     "execution_count": null,
     "metadata": {},
     "output_type": "execute_result"
    }
   ],
   "source": [
    "surrogate_data = TypeAdapter(AnySurrogate).validate_json(jspec)\n",
    "surrogate = surrogates.map(surrogate_data)\n",
    "surrogate.loads(dump)\n",
    "\n",
    "# predict with it\n",
    "df_predictions2 = surrogate.predict(experiments)\n",
    "# transform to spec\n",
    "predictions2 = surrogate.to_predictions(predictions=df_predictions2)\n",
    "\n",
    "# check for equality\n",
    "predictions == predictions2"
   ]
  },
  {
   "attachments": {},
   "cell_type": "markdown",
   "id": "31",
   "metadata": {
    "papermill": {
     "duration": 0.002476,
     "end_time": "2024-10-10T16:10:24.551683",
     "exception": false,
     "start_time": "2024-10-10T16:10:24.549207",
     "status": "completed"
    },
    "tags": []
   },
   "source": [
    "## Empirical Surrogate\n",
    "\n",
    "The empirical model is special as it has per default no fit and you need cloudpickle. There can be empirical models which implement a fit, but for this they also have to inherit from `Trainable`. The current example is the default without any fit functionality."
   ]
  },
  {
   "cell_type": "code",
   "execution_count": null,
   "id": "32",
   "metadata": {
    "papermill": {
     "duration": 0.005295,
     "end_time": "2024-10-10T16:10:24.559317",
     "exception": false,
     "start_time": "2024-10-10T16:10:24.554022",
     "status": "completed"
    },
    "tags": []
   },
   "outputs": [],
   "source": [
    "from botorch.models.deterministic import DeterministicModel\n",
    "from torch import Tensor\n",
    "\n",
    "\n",
    "class HimmelblauModel(DeterministicModel):\n",
    "    def __init__(self):\n",
    "        super().__init__()\n",
    "        self._num_outputs = 1\n",
    "\n",
    "    def forward(self, X: Tensor) -> Tensor:\n",
    "        return (\n",
    "            (X[..., 0] ** 2 + X[..., 1] - 11.0) ** 2\n",
    "            + (X[..., 0] + X[..., 1] ** 2 - 7.0) ** 2\n",
    "        ).unsqueeze(-1)"
   ]
  },
  {
   "cell_type": "code",
   "execution_count": null,
   "id": "33",
   "metadata": {
    "papermill": {
     "duration": 0.005534,
     "end_time": "2024-10-10T16:10:24.567282",
     "exception": false,
     "start_time": "2024-10-10T16:10:24.561748",
     "status": "completed"
    },
    "tags": []
   },
   "outputs": [
    {
     "data": {
      "text/plain": [
       "'{\"type\":\"EmpiricalSurrogate\",\"inputs\":{\"type\":\"Inputs\",\"features\":[{\"type\":\"ContinuousInput\",\"key\":\"x_1\",\"unit\":null,\"bounds\":[-6.0,6.0],\"local_relative_bounds\":null,\"stepsize\":null},{\"type\":\"ContinuousInput\",\"key\":\"x_2\",\"unit\":null,\"bounds\":[-6.0,6.0],\"local_relative_bounds\":null,\"stepsize\":null}]},\"outputs\":{\"type\":\"Outputs\",\"features\":[{\"type\":\"ContinuousOutput\",\"key\":\"y\",\"unit\":null,\"objective\":{\"type\":\"MinimizeObjective\",\"w\":1.0,\"bounds\":[0.0,1.0]}}]},\"input_preprocessing_specs\":{},\"dump\":null}'"
      ]
     },
     "execution_count": null,
     "metadata": {},
     "output_type": "execute_result"
    }
   ],
   "source": [
    "# we setup the data model, here a Single Task GP\n",
    "surrogate_data = EmpiricalSurrogate(\n",
    "    inputs=input_features,\n",
    "    outputs=output_features,\n",
    ")\n",
    "\n",
    "# we generate the json spec\n",
    "jspec = surrogate_data.model_dump_json()\n",
    "\n",
    "jspec"
   ]
  },
  {
   "cell_type": "code",
   "execution_count": null,
   "id": "34",
   "metadata": {
    "papermill": {
     "duration": 0.01615,
     "end_time": "2024-10-10T16:10:24.585800",
     "exception": false,
     "start_time": "2024-10-10T16:10:24.569650",
     "status": "completed"
    },
    "tags": []
   },
   "outputs": [],
   "source": [
    "# Load it from the spec\n",
    "surrogate_data = TypeAdapter(AnySurrogate).validate_json(jspec)\n",
    "# Map it\n",
    "surrogate = surrogates.map(surrogate_data)\n",
    "# attach the actual model to it\n",
    "surrogate.model = HimmelblauModel()\n",
    "# dump it\n",
    "dump = surrogate.dumps()\n",
    "# predict with it\n",
    "df_predictions = surrogate.predict(experiments)\n",
    "# transform to spec\n",
    "predictions = surrogate.to_predictions(predictions=df_predictions)"
   ]
  },
  {
   "cell_type": "code",
   "execution_count": null,
   "id": "35",
   "metadata": {
    "papermill": {
     "duration": 0.01551,
     "end_time": "2024-10-10T16:10:24.603755",
     "exception": false,
     "start_time": "2024-10-10T16:10:24.588245",
     "status": "completed"
    },
    "tags": []
   },
   "outputs": [
    {
     "data": {
      "text/plain": [
       "True"
      ]
     },
     "execution_count": null,
     "metadata": {},
     "output_type": "execute_result"
    }
   ],
   "source": [
    "surrogate_data = TypeAdapter(AnySurrogate).validate_json(jspec)\n",
    "surrogate = surrogates.map(surrogate_data)\n",
    "surrogate.loads(dump)\n",
    "\n",
    "# predict with it\n",
    "df_predictions2 = surrogate.predict(experiments)\n",
    "# transform to spec\n",
    "predictions2 = surrogate.to_predictions(predictions=df_predictions2)\n",
    "\n",
    "# check for equality\n",
    "predictions == predictions2"
   ]
  },
  {
   "attachments": {},
   "cell_type": "markdown",
   "id": "36",
   "metadata": {
    "papermill": {
     "duration": 0.002488,
     "end_time": "2024-10-10T16:10:24.608854",
     "exception": false,
     "start_time": "2024-10-10T16:10:24.606366",
     "status": "completed"
    },
    "tags": []
   },
   "source": [
    "### Mixed GP\n",
    "\n",
    "Generate data for a mixed problem."
   ]
  },
  {
   "cell_type": "code",
   "execution_count": null,
   "id": "37",
   "metadata": {
    "papermill": {
     "duration": 0.088296,
     "end_time": "2024-10-10T16:10:24.699606",
     "exception": false,
     "start_time": "2024-10-10T16:10:24.611310",
     "status": "completed"
    },
    "tags": []
   },
   "outputs": [
    {
     "data": {
      "text/html": [
       "<div>\n",
       "<style scoped>\n",
       "    .dataframe tbody tr th:only-of-type {\n",
       "        vertical-align: middle;\n",
       "    }\n",
       "\n",
       "    .dataframe tbody tr th {\n",
       "        vertical-align: top;\n",
       "    }\n",
       "\n",
       "    .dataframe thead th {\n",
       "        text-align: right;\n",
       "    }\n",
       "</style>\n",
       "<table border=\"1\" class=\"dataframe\">\n",
       "  <thead>\n",
       "    <tr style=\"text-align: right;\">\n",
       "      <th></th>\n",
       "      <th>base_eq</th>\n",
       "      <th>t_res</th>\n",
       "      <th>temperature</th>\n",
       "      <th>base</th>\n",
       "      <th>catalyst</th>\n",
       "      <th>yield</th>\n",
       "      <th>cost</th>\n",
       "      <th>valid_cost</th>\n",
       "      <th>valid_yield</th>\n",
       "    </tr>\n",
       "  </thead>\n",
       "  <tbody>\n",
       "    <tr>\n",
       "      <th>0</th>\n",
       "      <td>2.204129</td>\n",
       "      <td>1248.071244</td>\n",
       "      <td>76.572948</td>\n",
       "      <td>BTMG</td>\n",
       "      <td>AlPhos</td>\n",
       "      <td>0.939027</td>\n",
       "      <td>0.515287</td>\n",
       "      <td>1</td>\n",
       "      <td>1</td>\n",
       "    </tr>\n",
       "    <tr>\n",
       "      <th>1</th>\n",
       "      <td>1.120780</td>\n",
       "      <td>729.973914</td>\n",
       "      <td>34.129157</td>\n",
       "      <td>TEA</td>\n",
       "      <td>AlPhos</td>\n",
       "      <td>0.162075</td>\n",
       "      <td>0.419419</td>\n",
       "      <td>1</td>\n",
       "      <td>1</td>\n",
       "    </tr>\n",
       "    <tr>\n",
       "      <th>2</th>\n",
       "      <td>2.238214</td>\n",
       "      <td>1731.596178</td>\n",
       "      <td>65.617440</td>\n",
       "      <td>DBU</td>\n",
       "      <td>AlPhos</td>\n",
       "      <td>0.990071</td>\n",
       "      <td>0.421455</td>\n",
       "      <td>1</td>\n",
       "      <td>1</td>\n",
       "    </tr>\n",
       "    <tr>\n",
       "      <th>3</th>\n",
       "      <td>1.049025</td>\n",
       "      <td>599.502612</td>\n",
       "      <td>35.604249</td>\n",
       "      <td>TEA</td>\n",
       "      <td>tBuXPhos</td>\n",
       "      <td>0.075896</td>\n",
       "      <td>0.248621</td>\n",
       "      <td>1</td>\n",
       "      <td>1</td>\n",
       "    </tr>\n",
       "    <tr>\n",
       "      <th>4</th>\n",
       "      <td>1.308918</td>\n",
       "      <td>1718.304772</td>\n",
       "      <td>52.102436</td>\n",
       "      <td>DBU</td>\n",
       "      <td>AlPhos</td>\n",
       "      <td>0.961572</td>\n",
       "      <td>0.420440</td>\n",
       "      <td>1</td>\n",
       "      <td>1</td>\n",
       "    </tr>\n",
       "    <tr>\n",
       "      <th>5</th>\n",
       "      <td>1.601440</td>\n",
       "      <td>1098.297039</td>\n",
       "      <td>65.811820</td>\n",
       "      <td>BTMG</td>\n",
       "      <td>tBuXPhos</td>\n",
       "      <td>0.950748</td>\n",
       "      <td>0.318190</td>\n",
       "      <td>1</td>\n",
       "      <td>1</td>\n",
       "    </tr>\n",
       "    <tr>\n",
       "      <th>6</th>\n",
       "      <td>2.202438</td>\n",
       "      <td>612.021458</td>\n",
       "      <td>87.999560</td>\n",
       "      <td>BTMG</td>\n",
       "      <td>tBuBrettPhos</td>\n",
       "      <td>1.027707</td>\n",
       "      <td>0.374473</td>\n",
       "      <td>1</td>\n",
       "      <td>1</td>\n",
       "    </tr>\n",
       "    <tr>\n",
       "      <th>7</th>\n",
       "      <td>2.436637</td>\n",
       "      <td>1785.651637</td>\n",
       "      <td>83.547509</td>\n",
       "      <td>BTMG</td>\n",
       "      <td>tBuBrettPhos</td>\n",
       "      <td>0.989781</td>\n",
       "      <td>0.384703</td>\n",
       "      <td>1</td>\n",
       "      <td>1</td>\n",
       "    </tr>\n",
       "    <tr>\n",
       "      <th>8</th>\n",
       "      <td>2.223998</td>\n",
       "      <td>1107.711212</td>\n",
       "      <td>97.362245</td>\n",
       "      <td>TEA</td>\n",
       "      <td>AlPhos</td>\n",
       "      <td>0.212171</td>\n",
       "      <td>0.419821</td>\n",
       "      <td>1</td>\n",
       "      <td>1</td>\n",
       "    </tr>\n",
       "    <tr>\n",
       "      <th>9</th>\n",
       "      <td>2.473142</td>\n",
       "      <td>1026.123475</td>\n",
       "      <td>95.804626</td>\n",
       "      <td>DBU</td>\n",
       "      <td>tBuBrettPhos</td>\n",
       "      <td>0.998908</td>\n",
       "      <td>0.280971</td>\n",
       "      <td>1</td>\n",
       "      <td>1</td>\n",
       "    </tr>\n",
       "  </tbody>\n",
       "</table>\n",
       "</div>"
      ],
      "text/plain": [
       "    base_eq        t_res  temperature  base      catalyst     yield      cost  \\\n",
       "0  2.204129  1248.071244    76.572948  BTMG        AlPhos  0.939027  0.515287   \n",
       "1  1.120780   729.973914    34.129157   TEA        AlPhos  0.162075  0.419419   \n",
       "2  2.238214  1731.596178    65.617440   DBU        AlPhos  0.990071  0.421455   \n",
       "3  1.049025   599.502612    35.604249   TEA      tBuXPhos  0.075896  0.248621   \n",
       "4  1.308918  1718.304772    52.102436   DBU        AlPhos  0.961572  0.420440   \n",
       "5  1.601440  1098.297039    65.811820  BTMG      tBuXPhos  0.950748  0.318190   \n",
       "6  2.202438   612.021458    87.999560  BTMG  tBuBrettPhos  1.027707  0.374473   \n",
       "7  2.436637  1785.651637    83.547509  BTMG  tBuBrettPhos  0.989781  0.384703   \n",
       "8  2.223998  1107.711212    97.362245   TEA        AlPhos  0.212171  0.419821   \n",
       "9  2.473142  1026.123475    95.804626   DBU  tBuBrettPhos  0.998908  0.280971   \n",
       "\n",
       "   valid_cost  valid_yield  \n",
       "0           1            1  \n",
       "1           1            1  \n",
       "2           1            1  \n",
       "3           1            1  \n",
       "4           1            1  \n",
       "5           1            1  \n",
       "6           1            1  \n",
       "7           1            1  \n",
       "8           1            1  \n",
       "9           1            1  "
      ]
     },
     "execution_count": null,
     "metadata": {},
     "output_type": "execute_result"
    }
   ],
   "source": [
    "benchmark = CrossCoupling()\n",
    "samples = benchmark.domain.inputs.sample(n=50)\n",
    "experiments = benchmark.f(samples, return_complete=True)\n",
    "\n",
    "experiments.head(10)"
   ]
  },
  {
   "cell_type": "code",
   "execution_count": null,
   "id": "38",
   "metadata": {
    "papermill": {
     "duration": 0.00626,
     "end_time": "2024-10-10T16:10:24.708856",
     "exception": false,
     "start_time": "2024-10-10T16:10:24.702596",
     "status": "completed"
    },
    "tags": []
   },
   "outputs": [
    {
     "data": {
      "text/plain": [
       "'{\"hyperconfig\":{\"type\":\"MixedSingleTaskGPHyperconfig\",\"hyperstrategy\":\"FactorialStrategy\",\"inputs\":{\"type\":\"Inputs\",\"features\":[{\"type\":\"CategoricalInput\",\"key\":\"continuous_kernel\",\"categories\":[\"rbf\",\"matern_1.5\",\"matern_2.5\"],\"allowed\":[true,true,true]},{\"type\":\"CategoricalInput\",\"key\":\"prior\",\"categories\":[\"mbo\",\"botorch\"],\"allowed\":[true,true]},{\"type\":\"CategoricalInput\",\"key\":\"ard\",\"categories\":[\"True\",\"False\"],\"allowed\":[true,true]}]},\"n_iterations\":null,\"target_metric\":\"MAE\"},\"aggregations\":null,\"type\":\"MixedSingleTaskGPSurrogate\",\"inputs\":{\"type\":\"Inputs\",\"features\":[{\"type\":\"CategoricalDescriptorInput\",\"key\":\"catalyst\",\"categories\":[\"tBuXPhos\",\"tBuBrettPhos\",\"AlPhos\"],\"allowed\":[true,true,true],\"descriptors\":[\"area_cat\",\"M2_cat\"],\"values\":[[460.7543,67.2057],[518.8408,89.8738],[819.933,129.0808]]},{\"type\":\"CategoricalDescriptorInput\",\"key\":\"base\",\"categories\":[\"TEA\",\"TMG\",\"BTMG\",\"DBU\"],\"allowed\":[true,true,true,true],\"descriptors\":[\"area\",\"M2\"],\"values\":[[162.2992,25.8165],[165.5447,81.4847],[227.3523,30.554],[192.4693,59.8367]]},{\"type\":\"ContinuousInput\",\"key\":\"base_eq\",\"unit\":null,\"bounds\":[1.0,2.5],\"local_relative_bounds\":null,\"stepsize\":null},{\"type\":\"ContinuousInput\",\"key\":\"temperature\",\"unit\":null,\"bounds\":[30.0,100.0],\"local_relative_bounds\":null,\"stepsize\":null},{\"type\":\"ContinuousInput\",\"key\":\"t_res\",\"unit\":null,\"bounds\":[60.0,1800.0],\"local_relative_bounds\":null,\"stepsize\":null}]},\"outputs\":{\"type\":\"Outputs\",\"features\":[{\"type\":\"ContinuousOutput\",\"key\":\"yield\",\"unit\":null,\"objective\":{\"type\":\"MaximizeObjective\",\"w\":1.0,\"bounds\":[0.0,1.0]}}]},\"input_preprocessing_specs\":{\"catalyst\":\"ONE_HOT\",\"base\":\"DESCRIPTOR\"},\"dump\":null,\"scaler\":\"NORMALIZE\",\"output_scaler\":\"STANDARDIZE\",\"continuous_kernel\":{\"type\":\"MaternKernel\",\"ard\":true,\"nu\":2.5,\"lengthscale_prior\":{\"type\":\"GammaPrior\",\"concentration\":3.0,\"rate\":6.0}},\"categorical_kernel\":{\"type\":\"HammingDistanceKernel\",\"ard\":true},\"noise_prior\":{\"type\":\"GammaPrior\",\"concentration\":1.1,\"rate\":0.05}}'"
      ]
     },
     "execution_count": null,
     "metadata": {},
     "output_type": "execute_result"
    }
   ],
   "source": [
    "# we setup the data model, here a Single Task GP\n",
    "surrogate_data = MixedSingleTaskGPSurrogate(\n",
    "    inputs=benchmark.domain.inputs,\n",
    "    outputs=Outputs(features=[benchmark.domain.outputs.features[0]]),\n",
    "    input_preprocessing_specs={\"catalyst\": CategoricalEncodingEnum.ONE_HOT},\n",
    ")\n",
    "\n",
    "# we generate the json spec\n",
    "jspec = surrogate_data.json()\n",
    "\n",
    "jspec"
   ]
  },
  {
   "cell_type": "code",
   "execution_count": null,
   "id": "39",
   "metadata": {
    "papermill": {
     "duration": 0.943725,
     "end_time": "2024-10-10T16:10:25.655409",
     "exception": false,
     "start_time": "2024-10-10T16:10:24.711684",
     "status": "completed"
    },
    "tags": []
   },
   "outputs": [],
   "source": [
    "# Load it from the spec\n",
    "surrogate_data = TypeAdapter(AnySurrogate).validate_json(jspec)\n",
    "# Map it\n",
    "surrogate = surrogates.map(surrogate_data)\n",
    "# Fit it\n",
    "surrogate.fit(experiments=experiments)\n",
    "# dump it\n",
    "dump = surrogate.dumps()\n",
    "# predict with it\n",
    "df_predictions = surrogate.predict(experiments)\n",
    "# transform to spec\n",
    "predictions = surrogate.to_predictions(predictions=df_predictions)"
   ]
  },
  {
   "cell_type": "code",
   "execution_count": null,
   "id": "40",
   "metadata": {
    "papermill": {
     "duration": 0.041306,
     "end_time": "2024-10-10T16:10:25.699726",
     "exception": false,
     "start_time": "2024-10-10T16:10:25.658420",
     "status": "completed"
    },
    "tags": []
   },
   "outputs": [
    {
     "data": {
      "text/plain": [
       "True"
      ]
     },
     "execution_count": null,
     "metadata": {},
     "output_type": "execute_result"
    }
   ],
   "source": [
    "surrogate_data = TypeAdapter(AnySurrogate).validate_json(jspec)\n",
    "surrogate = surrogates.map(surrogate_data)\n",
    "surrogate.loads(dump)\n",
    "\n",
    "# predict with it\n",
    "df_predictions2 = surrogate.predict(experiments)\n",
    "# transform to spec\n",
    "predictions2 = surrogate.to_predictions(predictions=df_predictions2)\n",
    "\n",
    "# check for equality\n",
    "predictions == predictions2"
   ]
  }
 ],
 "metadata": {
  "kernelspec": {
   "display_name": "bofire_devel",
   "language": "python",
   "name": "python3"
  },
  "language_info": {
   "codemirror_mode": {
    "name": "ipython",
    "version": 3
   },
   "file_extension": ".py",
   "mimetype": "text/x-python",
   "name": "python",
   "nbconvert_exporter": "python",
   "pygments_lexer": "ipython3",
   "version": "3.12.2"
  },
  "papermill": {
   "default_parameters": {},
   "duration": 5.42745,
   "end_time": "2024-10-10T16:10:26.322057",
   "environment_variables": {},
   "exception": null,
   "input_path": "/Users/radical-rhys/Radical/bofire/tutorials/serialization/models_serial.ipynb",
   "output_path": "/Users/radical-rhys/Radical/bofire/tutorials/serialization/models_serial.ipynb",
   "parameters": {},
   "start_time": "2024-10-10T16:10:20.894607",
   "version": "2.6.0"
  },
  "vscode": {
   "interpreter": {
    "hash": "b9bdc9e617e457afdaedd2563eddde9c04c87768cb2f63795a1786b83528ca68"
   }
  }
 },
 "nbformat": 4,
 "nbformat_minor": 5
}
