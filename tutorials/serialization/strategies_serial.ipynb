{
 "cells": [
  {
   "cell_type": "markdown",
   "id": "0",
   "metadata": {
    "papermill": {
     "duration": 0.002723,
     "end_time": "2024-10-10T20:36:41.264226",
     "exception": false,
     "start_time": "2024-10-10T20:36:41.261503",
     "status": "completed"
    },
    "tags": []
   },
   "source": [
    "# Strategy Serialization with BoFire"
   ]
  },
  {
   "attachments": {},
   "cell_type": "markdown",
   "id": "1",
   "metadata": {
    "papermill": {
     "duration": 0.002273,
     "end_time": "2024-10-10T20:36:41.269064",
     "exception": false,
     "start_time": "2024-10-10T20:36:41.266791",
     "status": "completed"
    },
    "tags": []
   },
   "source": [
    "## Imports"
   ]
  },
  {
   "cell_type": "code",
   "execution_count": null,
   "id": "2",
   "metadata": {
    "papermill": {
     "duration": 3.7129,
     "end_time": "2024-10-10T20:36:44.983985",
     "exception": false,
     "start_time": "2024-10-10T20:36:41.271085",
     "status": "completed"
    },
    "tags": []
   },
   "outputs": [],
   "source": [
    "from pydantic import TypeAdapter\n",
    "\n",
    "import bofire.strategies.api as stategies\n",
    "from bofire.benchmarks.multi import DTLZ2\n",
    "from bofire.benchmarks.single import Himmelblau\n",
    "from bofire.data_models.acquisition_functions.api import qLogNEI\n",
    "from bofire.data_models.domain.api import Domain, Outputs\n",
    "from bofire.data_models.kernels.api import RBFKernel, ScaleKernel\n",
    "from bofire.data_models.strategies.api import AnyStrategy\n",
    "from bofire.data_models.strategies.api import QnehviStrategy as QnehviStrategyDataModel\n",
    "from bofire.data_models.strategies.api import RandomStrategy as RandomStrategyDataModel\n",
    "from bofire.data_models.strategies.api import SoboStrategy as SoboStrategyDataModel\n",
    "from bofire.data_models.surrogates.api import BotorchSurrogates, SingleTaskGPSurrogate\n",
    "from bofire.surrogates.diagnostics import CvResults2CrossValidationValues\n",
    "from bofire.surrogates.trainable import TrainableSurrogate"
   ]
  },
  {
   "attachments": {},
   "cell_type": "markdown",
   "id": "3",
   "metadata": {
    "papermill": {
     "duration": 0.002167,
     "end_time": "2024-10-10T20:36:44.989072",
     "exception": false,
     "start_time": "2024-10-10T20:36:44.986905",
     "status": "completed"
    },
    "tags": []
   },
   "source": [
    "## Single Objective Problem Setup"
   ]
  },
  {
   "cell_type": "code",
   "execution_count": null,
   "id": "4",
   "metadata": {
    "papermill": {
     "duration": 0.013459,
     "end_time": "2024-10-10T20:36:45.004781",
     "exception": false,
     "start_time": "2024-10-10T20:36:44.991322",
     "status": "completed"
    },
    "tags": []
   },
   "outputs": [],
   "source": [
    "benchmark = Himmelblau()\n",
    "samples = benchmark.domain.inputs.sample(n=10)\n",
    "\n",
    "# this is the training data\n",
    "experiments = benchmark.f(samples, return_complete=True)\n",
    "\n",
    "# this are the pending candidates\n",
    "pending_candidates = benchmark.domain.inputs.sample(2)"
   ]
  },
  {
   "attachments": {},
   "cell_type": "markdown",
   "id": "5",
   "metadata": {
    "papermill": {
     "duration": 0.001778,
     "end_time": "2024-10-10T20:36:45.008669",
     "exception": false,
     "start_time": "2024-10-10T20:36:45.006891",
     "status": "completed"
    },
    "tags": []
   },
   "source": [
    "## Random Strategy\n",
    "\n",
    "The random strategy and other strategies that just inherit from `Strategy` and not `PredictiveStrategy` are special as they do not need defined output features in the domain and they do not need a call to `tell` before the `ask`. Furthermore they online provide input features in the candidates and no predictions for output features."
   ]
  },
  {
   "cell_type": "code",
   "execution_count": null,
   "id": "6",
   "metadata": {
    "papermill": {
     "duration": 0.021248,
     "end_time": "2024-10-10T20:36:45.031772",
     "exception": false,
     "start_time": "2024-10-10T20:36:45.010524",
     "status": "completed"
    },
    "tags": []
   },
   "outputs": [
    {
     "data": {
      "text/plain": [
       "'{\"type\":\"RandomStrategy\",\"domain\":{\"type\":\"Domain\",\"inputs\":{\"type\":\"Inputs\",\"features\":[{\"type\":\"ContinuousInput\",\"key\":\"x_1\",\"unit\":null,\"bounds\":[-6.0,6.0],\"local_relative_bounds\":null,\"stepsize\":null},{\"type\":\"ContinuousInput\",\"key\":\"x_2\",\"unit\":null,\"bounds\":[-6.0,6.0],\"local_relative_bounds\":null,\"stepsize\":null}]},\"outputs\":{\"type\":\"Outputs\",\"features\":[]},\"constraints\":{\"type\":\"Constraints\",\"constraints\":[]}},\"seed\":null,\"fallback_sampling_method\":\"UNIFORM\",\"n_burnin\":1000,\"n_thinning\":32,\"num_base_samples\":null,\"max_iters\":1000}'"
      ]
     },
     "execution_count": null,
     "metadata": {},
     "output_type": "execute_result"
    }
   ],
   "source": [
    "# setup the data model\n",
    "domain = Domain(inputs=benchmark.domain.inputs)\n",
    "strategy_data = RandomStrategyDataModel(domain=domain)\n",
    "\n",
    "# we generate the json spec\n",
    "jspec = strategy_data.model_dump_json()\n",
    "\n",
    "jspec"
   ]
  },
  {
   "cell_type": "code",
   "execution_count": null,
   "id": "7",
   "metadata": {
    "papermill": {
     "duration": 0.036003,
     "end_time": "2024-10-10T20:36:45.070282",
     "exception": false,
     "start_time": "2024-10-10T20:36:45.034279",
     "status": "completed"
    },
    "tags": []
   },
   "outputs": [
    {
     "data": {
      "text/plain": [
       "[Candidate(inputValues={'x_1': InputValue(value='-2.081380869279547'), 'x_2': InputValue(value='-3.4925266804803234')}, outputValues=None),\n",
       " Candidate(inputValues={'x_1': InputValue(value='-0.9753297614125493'), 'x_2': InputValue(value='2.8605625476069516')}, outputValues=None),\n",
       " Candidate(inputValues={'x_1': InputValue(value='0.5673745273160868'), 'x_2': InputValue(value='-2.741953904997784')}, outputValues=None),\n",
       " Candidate(inputValues={'x_1': InputValue(value='-1.0933887850890756'), 'x_2': InputValue(value='-5.904583395012207')}, outputValues=None),\n",
       " Candidate(inputValues={'x_1': InputValue(value='3.7567124306933'), 'x_2': InputValue(value='-4.341022073090965')}, outputValues=None)]"
      ]
     },
     "execution_count": null,
     "metadata": {},
     "output_type": "execute_result"
    }
   ],
   "source": [
    "# load it\n",
    "strategy_data = TypeAdapter(AnyStrategy).validate_json(jspec)\n",
    "\n",
    "# map it\n",
    "strategy = stategies.map(strategy_data)\n",
    "\n",
    "# ask it\n",
    "df_candidates = strategy.ask(candidate_count=5)\n",
    "\n",
    "# transform to spec\n",
    "candidates = strategy.to_candidates(df_candidates)\n",
    "\n",
    "candidates"
   ]
  },
  {
   "attachments": {},
   "cell_type": "markdown",
   "id": "8",
   "metadata": {
    "papermill": {
     "duration": 0.001949,
     "end_time": "2024-10-10T20:36:45.074383",
     "exception": false,
     "start_time": "2024-10-10T20:36:45.072434",
     "status": "completed"
    },
    "tags": []
   },
   "source": [
    "## SOBO Strategy"
   ]
  },
  {
   "attachments": {},
   "cell_type": "markdown",
   "id": "9",
   "metadata": {
    "papermill": {
     "duration": 0.002081,
     "end_time": "2024-10-10T20:36:45.078540",
     "exception": false,
     "start_time": "2024-10-10T20:36:45.076459",
     "status": "completed"
    },
    "tags": []
   },
   "source": [
    "Setup the strategies data model."
   ]
  },
  {
   "cell_type": "code",
   "execution_count": null,
   "id": "10",
   "metadata": {
    "papermill": {
     "duration": 0.009083,
     "end_time": "2024-10-10T20:36:45.089494",
     "exception": false,
     "start_time": "2024-10-10T20:36:45.080411",
     "status": "completed"
    },
    "tags": []
   },
   "outputs": [
    {
     "data": {
      "text/plain": [
       "'{\"type\":\"SoboStrategy\",\"domain\":{\"type\":\"Domain\",\"inputs\":{\"type\":\"Inputs\",\"features\":[{\"type\":\"ContinuousInput\",\"key\":\"x_1\",\"unit\":null,\"bounds\":[-6.0,6.0],\"local_relative_bounds\":null,\"stepsize\":null},{\"type\":\"ContinuousInput\",\"key\":\"x_2\",\"unit\":null,\"bounds\":[-6.0,6.0],\"local_relative_bounds\":null,\"stepsize\":null}]},\"outputs\":{\"type\":\"Outputs\",\"features\":[{\"type\":\"ContinuousOutput\",\"key\":\"y\",\"unit\":null,\"objective\":{\"type\":\"MinimizeObjective\",\"w\":1.0,\"bounds\":[0.0,1.0]}}]},\"constraints\":{\"type\":\"Constraints\",\"constraints\":[]}},\"seed\":null,\"num_restarts\":8,\"num_raw_samples\":1024,\"maxiter\":2000,\"batch_limit\":8,\"descriptor_method\":\"EXHAUSTIVE\",\"categorical_method\":\"EXHAUSTIVE\",\"discrete_method\":\"EXHAUSTIVE\",\"surrogate_specs\":{\"surrogates\":[{\"hyperconfig\":{\"type\":\"SingleTaskGPHyperconfig\",\"hyperstrategy\":\"FactorialStrategy\",\"inputs\":{\"type\":\"Inputs\",\"features\":[{\"type\":\"CategoricalInput\",\"key\":\"kernel\",\"categories\":[\"rbf\",\"matern_1.5\",\"matern_2.5\"],\"allowed\":[true,true,true]},{\"type\":\"CategoricalInput\",\"key\":\"prior\",\"categories\":[\"mbo\",\"botorch\"],\"allowed\":[true,true]},{\"type\":\"CategoricalInput\",\"key\":\"ard\",\"categories\":[\"True\",\"False\"],\"allowed\":[true,true]}]},\"n_iterations\":null,\"target_metric\":\"MAE\"},\"aggregations\":null,\"type\":\"SingleTaskGPSurrogate\",\"inputs\":{\"type\":\"Inputs\",\"features\":[{\"type\":\"ContinuousInput\",\"key\":\"x_1\",\"unit\":null,\"bounds\":[-6.0,6.0],\"local_relative_bounds\":null,\"stepsize\":null},{\"type\":\"ContinuousInput\",\"key\":\"x_2\",\"unit\":null,\"bounds\":[-6.0,6.0],\"local_relative_bounds\":null,\"stepsize\":null}]},\"outputs\":{\"type\":\"Outputs\",\"features\":[{\"type\":\"ContinuousOutput\",\"key\":\"y\",\"unit\":null,\"objective\":{\"type\":\"MinimizeObjective\",\"w\":1.0,\"bounds\":[0.0,1.0]}}]},\"input_preprocessing_specs\":{},\"dump\":null,\"scaler\":\"NORMALIZE\",\"output_scaler\":\"STANDARDIZE\",\"kernel\":{\"type\":\"ScaleKernel\",\"base_kernel\":{\"type\":\"MaternKernel\",\"ard\":true,\"nu\":2.5,\"lengthscale_prior\":{\"type\":\"GammaPrior\",\"concentration\":3.0,\"rate\":6.0}},\"outputscale_prior\":{\"type\":\"GammaPrior\",\"concentration\":2.0,\"rate\":0.15}},\"noise_prior\":{\"type\":\"GammaPrior\",\"concentration\":1.1,\"rate\":0.05}}]},\"outlier_detection_specs\":null,\"min_experiments_before_outlier_check\":1,\"frequency_check\":1,\"frequency_hyperopt\":0,\"folds\":5,\"local_search_config\":null,\"acquisition_function\":{\"type\":\"qLogNEI\",\"prune_baseline\":true,\"n_mc_samples\":512}}'"
      ]
     },
     "execution_count": null,
     "metadata": {},
     "output_type": "execute_result"
    }
   ],
   "source": [
    "# setup the data model\n",
    "strategy_data = SoboStrategyDataModel(\n",
    "    domain=benchmark.domain, acquisition_function=qLogNEI()\n",
    ")\n",
    "\n",
    "# we generate the json spec\n",
    "jspec = strategy_data.model_dump_json()\n",
    "\n",
    "jspec"
   ]
  },
  {
   "attachments": {},
   "cell_type": "markdown",
   "id": "11",
   "metadata": {
    "papermill": {
     "duration": 0.001935,
     "end_time": "2024-10-10T20:36:45.093746",
     "exception": false,
     "start_time": "2024-10-10T20:36:45.091811",
     "status": "completed"
    },
    "tags": []
   },
   "source": [
    "As SOBO is a predictive strategy, training data has to be provided before candidated can be requested. "
   ]
  },
  {
   "cell_type": "code",
   "execution_count": null,
   "id": "12",
   "metadata": {
    "papermill": {
     "duration": 1.607265,
     "end_time": "2024-10-10T20:36:46.703175",
     "exception": true,
     "start_time": "2024-10-10T20:36:45.095910",
     "status": "failed"
    },
    "tags": []
   },
   "outputs": [
    {
     "data": {
      "text/plain": [
       "[Candidate(inputValues={'x_1': InputValue(value='2.09984061271394'), 'x_2': InputValue(value='-0.26379286778242955')}, outputValues={'y': OutputValue(predictedValue='67.46964918807359', standardDeviation=106.18730170073752, objective=-67.46964918807359)}),\n",
       " Candidate(inputValues={'x_1': InputValue(value='-6.0'), 'x_2': InputValue(value='1.0692194677683151')}, outputValues={'y': OutputValue(predictedValue='144.17329044678652', standardDeviation=143.42723730176186, objective=-144.17329044678652)})]"
      ]
     },
     "execution_count": null,
     "metadata": {},
     "output_type": "execute_result"
    }
   ],
   "source": [
    "# load it\n",
    "strategy_data = TypeAdapter(AnyStrategy).validate_json(jspec)\n",
    "\n",
    "# map it\n",
    "strategy = stategies.map(strategy_data)\n",
    "\n",
    "# tell it the pending candidates if present\n",
    "if pending_candidates is not None:\n",
    "    strategy.add_candidates(pending_candidates)\n",
    "\n",
    "# tell it\n",
    "strategy.tell(experiments=experiments)\n",
    "\n",
    "# ask it\n",
    "df_candidates = strategy.ask(candidate_count=2)\n",
    "\n",
    "# transform to spec\n",
    "candidates = strategy.to_candidates(df_candidates)\n",
    "\n",
    "candidates"
   ]
  },
  {
   "attachments": {},
   "cell_type": "markdown",
   "id": "13",
   "metadata": {
    "papermill": {
     "duration": null,
     "end_time": null,
     "exception": null,
     "start_time": null,
     "status": "pending"
    },
    "tags": []
   },
   "source": [
    "We can also save the trained models of the strategy, for more info look at the `model_serial.ipynb` notebook. It could be that the `dumps` command fails here. But this is already fixed in the main branch of the `linear_operator` package, and if not yet, it should be available in main soon."
   ]
  },
  {
   "cell_type": "code",
   "execution_count": null,
   "id": "14",
   "metadata": {
    "papermill": {
     "duration": null,
     "end_time": null,
     "exception": null,
     "start_time": null,
     "status": "pending"
    },
    "tags": []
   },
   "outputs": [],
   "source": [
    "jsurrogate_spec = strategy_data.surrogate_specs.surrogates[0].json()\n",
    "dump = strategy.surrogates.surrogates[0].dumps()"
   ]
  },
  {
   "attachments": {},
   "cell_type": "markdown",
   "id": "15",
   "metadata": {
    "papermill": {
     "duration": null,
     "end_time": null,
     "exception": null,
     "start_time": null,
     "status": "pending"
    },
    "tags": []
   },
   "source": [
    "## MOBO Strategy\n",
    "\n",
    "As example for a multiobjective strategy we are using here the Qnehvi stratey. Related strategies would be Qparego, MultiplicativeSobo etc. To use it, we have to first generate a multiobjective domain."
   ]
  },
  {
   "cell_type": "code",
   "execution_count": null,
   "id": "16",
   "metadata": {
    "papermill": {
     "duration": null,
     "end_time": null,
     "exception": null,
     "start_time": null,
     "status": "pending"
    },
    "tags": []
   },
   "outputs": [],
   "source": [
    "benchmark = DTLZ2(dim=6)\n",
    "samples = benchmark.domain.inputs.sample(n=20)\n",
    "experiments = benchmark.f(samples, return_complete=True)\n",
    "pending_candidates = benchmark.domain.inputs.sample(2)"
   ]
  },
  {
   "attachments": {},
   "cell_type": "markdown",
   "id": "17",
   "metadata": {
    "papermill": {
     "duration": null,
     "end_time": null,
     "exception": null,
     "start_time": null,
     "status": "pending"
    },
    "tags": []
   },
   "source": [
    "Now the strategy spec is setup. Note that we can define there exactly which model to use."
   ]
  },
  {
   "cell_type": "code",
   "execution_count": null,
   "id": "18",
   "metadata": {
    "papermill": {
     "duration": null,
     "end_time": null,
     "exception": null,
     "start_time": null,
     "status": "pending"
    },
    "tags": []
   },
   "outputs": [
    {
     "data": {
      "text/plain": [
       "'{\"type\":\"QnehviStrategy\",\"domain\":{\"type\":\"Domain\",\"inputs\":{\"type\":\"Inputs\",\"features\":[{\"type\":\"ContinuousInput\",\"key\":\"x_0\",\"unit\":null,\"bounds\":[0.0,1.0],\"local_relative_bounds\":null,\"stepsize\":null},{\"type\":\"ContinuousInput\",\"key\":\"x_1\",\"unit\":null,\"bounds\":[0.0,1.0],\"local_relative_bounds\":null,\"stepsize\":null},{\"type\":\"ContinuousInput\",\"key\":\"x_2\",\"unit\":null,\"bounds\":[0.0,1.0],\"local_relative_bounds\":null,\"stepsize\":null},{\"type\":\"ContinuousInput\",\"key\":\"x_3\",\"unit\":null,\"bounds\":[0.0,1.0],\"local_relative_bounds\":null,\"stepsize\":null},{\"type\":\"ContinuousInput\",\"key\":\"x_4\",\"unit\":null,\"bounds\":[0.0,1.0],\"local_relative_bounds\":null,\"stepsize\":null},{\"type\":\"ContinuousInput\",\"key\":\"x_5\",\"unit\":null,\"bounds\":[0.0,1.0],\"local_relative_bounds\":null,\"stepsize\":null}]},\"outputs\":{\"type\":\"Outputs\",\"features\":[{\"type\":\"ContinuousOutput\",\"key\":\"f_0\",\"unit\":null,\"objective\":{\"type\":\"MinimizeObjective\",\"w\":1.0,\"bounds\":[0.0,1.0]}},{\"type\":\"ContinuousOutput\",\"key\":\"f_1\",\"unit\":null,\"objective\":{\"type\":\"MinimizeObjective\",\"w\":1.0,\"bounds\":[0.0,1.0]}}]},\"constraints\":{\"type\":\"Constraints\",\"constraints\":[]}},\"seed\":null,\"num_restarts\":8,\"num_raw_samples\":1024,\"maxiter\":2000,\"batch_limit\":8,\"descriptor_method\":\"EXHAUSTIVE\",\"categorical_method\":\"EXHAUSTIVE\",\"discrete_method\":\"EXHAUSTIVE\",\"surrogate_specs\":{\"surrogates\":[{\"hyperconfig\":{\"type\":\"SingleTaskGPHyperconfig\",\"hyperstrategy\":\"FactorialStrategy\",\"inputs\":{\"type\":\"Inputs\",\"features\":[{\"type\":\"CategoricalInput\",\"key\":\"kernel\",\"categories\":[\"rbf\",\"matern_1.5\",\"matern_2.5\"],\"allowed\":[true,true,true]},{\"type\":\"CategoricalInput\",\"key\":\"prior\",\"categories\":[\"mbo\",\"botorch\"],\"allowed\":[true,true]},{\"type\":\"CategoricalInput\",\"key\":\"ard\",\"categories\":[\"True\",\"False\"],\"allowed\":[true,true]}]},\"n_iterations\":null,\"target_metric\":\"MAE\"},\"aggregations\":null,\"type\":\"SingleTaskGPSurrogate\",\"inputs\":{\"type\":\"Inputs\",\"features\":[{\"type\":\"ContinuousInput\",\"key\":\"x_0\",\"unit\":null,\"bounds\":[0.0,1.0],\"local_relative_bounds\":null,\"stepsize\":null},{\"type\":\"ContinuousInput\",\"key\":\"x_1\",\"unit\":null,\"bounds\":[0.0,1.0],\"local_relative_bounds\":null,\"stepsize\":null},{\"type\":\"ContinuousInput\",\"key\":\"x_2\",\"unit\":null,\"bounds\":[0.0,1.0],\"local_relative_bounds\":null,\"stepsize\":null},{\"type\":\"ContinuousInput\",\"key\":\"x_3\",\"unit\":null,\"bounds\":[0.0,1.0],\"local_relative_bounds\":null,\"stepsize\":null},{\"type\":\"ContinuousInput\",\"key\":\"x_4\",\"unit\":null,\"bounds\":[0.0,1.0],\"local_relative_bounds\":null,\"stepsize\":null},{\"type\":\"ContinuousInput\",\"key\":\"x_5\",\"unit\":null,\"bounds\":[0.0,1.0],\"local_relative_bounds\":null,\"stepsize\":null}]},\"outputs\":{\"type\":\"Outputs\",\"features\":[{\"type\":\"ContinuousOutput\",\"key\":\"f_0\",\"unit\":null,\"objective\":{\"type\":\"MinimizeObjective\",\"w\":1.0,\"bounds\":[0.0,1.0]}}]},\"input_preprocessing_specs\":{},\"dump\":null,\"scaler\":\"NORMALIZE\",\"output_scaler\":\"STANDARDIZE\",\"kernel\":{\"type\":\"ScaleKernel\",\"base_kernel\":{\"type\":\"RBFKernel\",\"ard\":false,\"lengthscale_prior\":null},\"outputscale_prior\":null},\"noise_prior\":{\"type\":\"GammaPrior\",\"concentration\":1.1,\"rate\":0.05}},{\"hyperconfig\":{\"type\":\"SingleTaskGPHyperconfig\",\"hyperstrategy\":\"FactorialStrategy\",\"inputs\":{\"type\":\"Inputs\",\"features\":[{\"type\":\"CategoricalInput\",\"key\":\"kernel\",\"categories\":[\"rbf\",\"matern_1.5\",\"matern_2.5\"],\"allowed\":[true,true,true]},{\"type\":\"CategoricalInput\",\"key\":\"prior\",\"categories\":[\"mbo\",\"botorch\"],\"allowed\":[true,true]},{\"type\":\"CategoricalInput\",\"key\":\"ard\",\"categories\":[\"True\",\"False\"],\"allowed\":[true,true]}]},\"n_iterations\":null,\"target_metric\":\"MAE\"},\"aggregations\":null,\"type\":\"SingleTaskGPSurrogate\",\"inputs\":{\"type\":\"Inputs\",\"features\":[{\"type\":\"ContinuousInput\",\"key\":\"x_0\",\"unit\":null,\"bounds\":[0.0,1.0],\"local_relative_bounds\":null,\"stepsize\":null},{\"type\":\"ContinuousInput\",\"key\":\"x_1\",\"unit\":null,\"bounds\":[0.0,1.0],\"local_relative_bounds\":null,\"stepsize\":null},{\"type\":\"ContinuousInput\",\"key\":\"x_2\",\"unit\":null,\"bounds\":[0.0,1.0],\"local_relative_bounds\":null,\"stepsize\":null},{\"type\":\"ContinuousInput\",\"key\":\"x_3\",\"unit\":null,\"bounds\":[0.0,1.0],\"local_relative_bounds\":null,\"stepsize\":null},{\"type\":\"ContinuousInput\",\"key\":\"x_4\",\"unit\":null,\"bounds\":[0.0,1.0],\"local_relative_bounds\":null,\"stepsize\":null},{\"type\":\"ContinuousInput\",\"key\":\"x_5\",\"unit\":null,\"bounds\":[0.0,1.0],\"local_relative_bounds\":null,\"stepsize\":null}]},\"outputs\":{\"type\":\"Outputs\",\"features\":[{\"type\":\"ContinuousOutput\",\"key\":\"f_1\",\"unit\":null,\"objective\":{\"type\":\"MinimizeObjective\",\"w\":1.0,\"bounds\":[0.0,1.0]}}]},\"input_preprocessing_specs\":{},\"dump\":null,\"scaler\":\"NORMALIZE\",\"output_scaler\":\"STANDARDIZE\",\"kernel\":{\"type\":\"ScaleKernel\",\"base_kernel\":{\"type\":\"MaternKernel\",\"ard\":true,\"nu\":2.5,\"lengthscale_prior\":{\"type\":\"GammaPrior\",\"concentration\":3.0,\"rate\":6.0}},\"outputscale_prior\":{\"type\":\"GammaPrior\",\"concentration\":2.0,\"rate\":0.15}},\"noise_prior\":{\"type\":\"GammaPrior\",\"concentration\":1.1,\"rate\":0.05}}]},\"outlier_detection_specs\":null,\"min_experiments_before_outlier_check\":1,\"frequency_check\":1,\"frequency_hyperopt\":0,\"folds\":5,\"local_search_config\":null,\"num_sobol_samples\":512,\"ref_point\":null,\"alpha\":0.0}'"
      ]
     },
     "execution_count": null,
     "metadata": {},
     "output_type": "execute_result"
    }
   ],
   "source": [
    "# setup the data model\n",
    "strategy_data = QnehviStrategyDataModel(\n",
    "    domain=benchmark.domain,\n",
    "    surrogate_specs=BotorchSurrogates(\n",
    "        surrogates=[\n",
    "            SingleTaskGPSurrogate(\n",
    "                inputs=benchmark.domain.inputs,\n",
    "                outputs=Outputs(features=[benchmark.domain.outputs[0]]),\n",
    "                kernel=ScaleKernel(base_kernel=RBFKernel(ard=False)),\n",
    "            )\n",
    "        ]\n",
    "    ),\n",
    ")\n",
    "\n",
    "# we generate the json spec\n",
    "jspec = strategy_data.model_dump_json()\n",
    "\n",
    "jspec"
   ]
  },
  {
   "attachments": {},
   "cell_type": "markdown",
   "id": "19",
   "metadata": {
    "papermill": {
     "duration": null,
     "end_time": null,
     "exception": null,
     "start_time": null,
     "status": "pending"
    },
    "tags": []
   },
   "source": [
    "Generate the candidates."
   ]
  },
  {
   "cell_type": "code",
   "execution_count": null,
   "id": "20",
   "metadata": {
    "papermill": {
     "duration": null,
     "end_time": null,
     "exception": null,
     "start_time": null,
     "status": "pending"
    },
    "tags": []
   },
   "outputs": [
    {
     "name": "stderr",
     "output_type": "stream",
     "text": [
      "/Users/radical-rhys/miniconda/lib/python3.12/site-packages/botorch/acquisition/multi_objective/monte_carlo.py:321: NumericsWarning: qNoisyExpectedHypervolumeImprovement has known numerical issues that lead to suboptimal optimization performance. It is strongly recommended to simply replace\n",
      "\n",
      "\t qNoisyExpectedHypervolumeImprovement \t --> \t qLogNoisyExpectedHypervolumeImprovement \n",
      "\n",
      "instead, which fixes the issues and has the same API. See https://arxiv.org/abs/2310.20708 for details.\n",
      "  legacy_ei_numerics_warning(legacy_name=type(self).__name__)\n"
     ]
    },
    {
     "data": {
      "text/plain": [
       "[Candidate(inputValues={'x_0': InputValue(value='0.007946289641626523'), 'x_1': InputValue(value='0.0'), 'x_2': InputValue(value='1.0'), 'x_3': InputValue(value='0.04043525745077388'), 'x_4': InputValue(value='0.40632043549036534'), 'x_5': InputValue(value='0.49832520994282303')}, outputValues={'f_0': OutputValue(predictedValue='0.7372714053103276', standardDeviation=0.23158425112625597, objective=-0.7372714053103276), 'f_1': OutputValue(predictedValue='0.5197504060265992', standardDeviation=0.30183832347670936, objective=-0.5197504060265992)})]"
      ]
     },
     "execution_count": null,
     "metadata": {},
     "output_type": "execute_result"
    }
   ],
   "source": [
    "# load it\n",
    "strategy_data = TypeAdapter(AnyStrategy).validate_json(jspec)\n",
    "\n",
    "# map it\n",
    "strategy = stategies.map(strategy_data)\n",
    "\n",
    "# tell it the pending candidates if available\n",
    "if pending_candidates is not None:\n",
    "    strategy.add_candidates(pending_candidates)\n",
    "\n",
    "# tell it\n",
    "strategy.tell(experiments=experiments)\n",
    "\n",
    "# ask it\n",
    "df_candidates = strategy.ask(candidate_count=1)\n",
    "\n",
    "# transform to spec\n",
    "candidates = strategy.to_candidates(df_candidates)\n",
    "\n",
    "candidates"
   ]
  },
  {
   "attachments": {},
   "cell_type": "markdown",
   "id": "21",
   "metadata": {
    "papermill": {
     "duration": null,
     "end_time": null,
     "exception": null,
     "start_time": null,
     "status": "pending"
    },
    "tags": []
   },
   "source": [
    "To fill the model info section accordingly, the following snippet has to be executed for every surrogate, incldung saving the actual models."
   ]
  },
  {
   "cell_type": "code",
   "execution_count": null,
   "id": "22",
   "metadata": {
    "papermill": {
     "duration": null,
     "end_time": null,
     "exception": null,
     "start_time": null,
     "status": "pending"
    },
    "tags": []
   },
   "outputs": [],
   "source": [
    "from typing import Literal\n",
    "\n",
    "from pydantic import BaseModel\n",
    "\n",
    "\n",
    "class TestMethod(BaseModel):\n",
    "    type: str\n",
    "\n",
    "\n",
    "class CrossValidation(TestMethod):\n",
    "    type: Literal[\"CrossValidation\"] = \"CrossValidation\"\n",
    "    foldCount: int\n",
    "\n",
    "\n",
    "for i in range(len(strategy_data.surrogate_specs.surrogates)):\n",
    "    surrogate_data = strategy.surrogate_specs.surrogates[i]\n",
    "    surrogate = strategy.surrogates.surrogates[i]\n",
    "    # get the spec\n",
    "    jsurrogate_spec = surrogate_data.json()\n",
    "    # get the dump\n",
    "    dump = surrogate.dumps()\n",
    "    # do the cross validation, only if we have a trainable model under the hood\n",
    "    if isinstance(surrogate, TrainableSurrogate):\n",
    "        cv_train, cv_test, _ = surrogate.cross_validate(strategy.experiments, folds=5)\n",
    "        # transform the bofire objects to the backend objects\n",
    "        testMethod = CrossValidation(foldCount=5)\n",
    "        cvResultsTrain = CvResults2CrossValidationValues(cv_train)\n",
    "        cvResultsTest = CvResults2CrossValidationValues(cv_test)\n",
    "        metricsTrain = {\n",
    "            surrogate.outputs[0].key: cv_train.get_metrics(combine_folds=False)\n",
    "            .describe()\n",
    "            .loc[\"mean\"]\n",
    "            .to_dict()\n",
    "        }\n",
    "        metricsTest = {\n",
    "            surrogate.outputs[0].key: cv_test.get_metrics(combine_folds=True)\n",
    "            .describe()\n",
    "            .loc[\"mean\"]\n",
    "            .to_dict()\n",
    "        }\n",
    "        # save to backend\n",
    "        # - jsurrogate_spec\n",
    "        # - dump\n",
    "        # - testMethod\n",
    "        # - cvResultsTrain\n",
    "        # - cvResultsTest\n",
    "        # - metricsTrain\n",
    "        # - metricsTest"
   ]
  }
 ],
 "metadata": {
  "kernelspec": {
   "display_name": "base",
   "language": "python",
   "name": "python3"
  },
  "language_info": {
   "codemirror_mode": {
    "name": "ipython",
    "version": 3
   },
   "file_extension": ".py",
   "mimetype": "text/x-python",
   "name": "python",
   "nbconvert_exporter": "python",
   "pygments_lexer": "ipython3",
   "version": "3.12.7"
  },
  "papermill": {
   "default_parameters": {},
   "duration": 7.412872,
   "end_time": "2024-10-10T20:36:47.750483",
   "environment_variables": {},
   "exception": true,
   "input_path": "/Users/radical-rhys/Radical/bofire/tutorials/serialization/strategies_serial.ipynb",
   "output_path": "/Users/radical-rhys/Radical/bofire/tutorials/serialization/strategies_serial.ipynb",
   "parameters": {},
   "start_time": "2024-10-10T20:36:40.337611",
   "version": "2.6.0"
  }
 },
 "nbformat": 4,
 "nbformat_minor": 5
}
