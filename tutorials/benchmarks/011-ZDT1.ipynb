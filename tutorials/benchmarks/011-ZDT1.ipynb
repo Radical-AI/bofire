{
 "cells": [
  {
   "attachments": {},
   "cell_type": "markdown",
   "id": "0",
   "metadata": {
    "papermill": {
     "duration": 0.001578,
     "end_time": "2024-10-10T16:08:24.352034",
     "exception": false,
     "start_time": "2024-10-10T16:08:24.350456",
     "status": "completed"
    },
    "tags": []
   },
   "source": [
    "# ZDT1\n",
    "\n",
    "## Imports"
   ]
  },
  {
   "cell_type": "code",
   "execution_count": null,
   "id": "1",
   "metadata": {
    "papermill": {
     "duration": 2.430847,
     "end_time": "2024-10-10T16:08:26.784027",
     "exception": false,
     "start_time": "2024-10-10T16:08:24.353180",
     "status": "completed"
    },
    "tags": []
   },
   "outputs": [],
   "source": [
    "import os\n",
    "\n",
    "import matplotlib.pyplot as plt\n",
    "import pandas as pd\n",
    "\n",
    "import bofire.strategies.api as strategies\n",
    "from bofire.benchmarks.api import ZDT1\n",
    "from bofire.data_models.domain.api import Domain\n",
    "from bofire.data_models.kernels.api import RBFKernel\n",
    "from bofire.data_models.priors.api import (\n",
    "    HVARFNER_NOISE_PRIOR,\n",
    "    DimensionalityScaledLogNormalPrior,\n",
    ")\n",
    "from bofire.data_models.strategies.api import MoboStrategy, RandomStrategy\n",
    "from bofire.data_models.surrogates.api import (\n",
    "    BotorchSurrogates,\n",
    "    SaasSingleTaskGPSurrogate,\n",
    "    SingleTaskGPSurrogate,\n",
    ")\n",
    "from bofire.runners.api import run\n",
    "from bofire.utils.multiobjective import compute_hypervolume, get_pareto_front\n",
    "\n",
    "\n",
    "SMOKE_TEST = os.environ.get(\"SMOKE_TEST\")\n",
    "\n",
    "N_ITERATIONS = 50 if not SMOKE_TEST else 1\n",
    "BATCH_SIZE = 5 if not SMOKE_TEST else 1\n",
    "WARMUP_STEPS = 256 if not SMOKE_TEST else 32\n",
    "NUM_SAMPLES = 128 if not SMOKE_TEST else 16\n",
    "THINNING = 16"
   ]
  },
  {
   "attachments": {},
   "cell_type": "markdown",
   "id": "2",
   "metadata": {
    "papermill": {
     "duration": 0.000934,
     "end_time": "2024-10-10T16:08:26.786234",
     "exception": false,
     "start_time": "2024-10-10T16:08:26.785300",
     "status": "completed"
    },
    "tags": []
   },
   "source": [
    "## Random Optimization"
   ]
  },
  {
   "cell_type": "code",
   "execution_count": null,
   "id": "3",
   "metadata": {
    "papermill": {
     "duration": 0.066199,
     "end_time": "2024-10-10T16:08:26.853510",
     "exception": false,
     "start_time": "2024-10-10T16:08:26.787311",
     "status": "completed"
    },
    "tags": []
   },
   "outputs": [
    {
     "name": "stderr",
     "output_type": "stream",
     "text": [
      "\r",
      "  0%|          | 0/1 [00:00<?, ?it/s]"
     ]
    },
    {
     "name": "stderr",
     "output_type": "stream",
     "text": [
      "\r",
      "run 0 with current best 1.113:   0%|          | 0/1 [00:00<?, ?it/s]"
     ]
    },
    {
     "name": "stderr",
     "output_type": "stream",
     "text": [
      "\r",
      "run 0 with current best 1.113: 100%|██████████| 1/1 [00:00<00:00, 39.23it/s]"
     ]
    },
    {
     "name": "stderr",
     "output_type": "stream",
     "text": [
      "\n"
     ]
    }
   ],
   "source": [
    "def sample(domain):\n",
    "    datamodel = RandomStrategy(domain=domain)\n",
    "    sampler = strategies.map(data_model=datamodel)\n",
    "    sampled = sampler.ask(10)\n",
    "    return sampled\n",
    "\n",
    "\n",
    "def hypervolume(domain: Domain, experiments: pd.DataFrame) -> float:\n",
    "    return compute_hypervolume(domain, experiments, ref_point={\"y1\": 1.0, \"y2\": 5.0})\n",
    "\n",
    "\n",
    "random_results = run(\n",
    "    ZDT1(n_inputs=30),\n",
    "    strategy_factory=lambda domain: strategies.map(RandomStrategy(domain=domain)),\n",
    "    n_iterations=N_ITERATIONS,\n",
    "    metric=hypervolume,\n",
    "    initial_sampler=sample,\n",
    "    n_runs=1,\n",
    "    n_procs=1,\n",
    ")"
   ]
  },
  {
   "cell_type": "markdown",
   "id": "4",
   "metadata": {
    "papermill": {
     "duration": 0.001037,
     "end_time": "2024-10-10T16:08:26.855857",
     "exception": false,
     "start_time": "2024-10-10T16:08:26.854820",
     "status": "completed"
    },
    "tags": []
   },
   "source": [
    "## Optimization with Hvarfner priors"
   ]
  },
  {
   "cell_type": "code",
   "execution_count": null,
   "id": "5",
   "metadata": {
    "papermill": {
     "duration": 3.243363,
     "end_time": "2024-10-10T16:08:30.100199",
     "exception": false,
     "start_time": "2024-10-10T16:08:26.856836",
     "status": "completed"
    },
    "tags": []
   },
   "outputs": [
    {
     "name": "stderr",
     "output_type": "stream",
     "text": [
      "\r",
      "  0%|          | 0/1 [00:00<?, ?it/s]"
     ]
    },
    {
     "name": "stderr",
     "output_type": "stream",
     "text": [
      "\r",
      "run 0 with current best 1.025:   0%|          | 0/1 [00:02<?, ?it/s]"
     ]
    },
    {
     "name": "stderr",
     "output_type": "stream",
     "text": [
      "\r",
      "run 0 with current best 1.025: 100%|██████████| 1/1 [00:02<00:00,  2.43s/it]"
     ]
    },
    {
     "name": "stderr",
     "output_type": "stream",
     "text": [
      "\r",
      "run 0 with current best 1.025: 100%|██████████| 1/1 [00:02<00:00,  2.43s/it]"
     ]
    },
    {
     "name": "stderr",
     "output_type": "stream",
     "text": [
      "\n"
     ]
    }
   ],
   "source": [
    "benchmark = ZDT1(n_inputs=30)\n",
    "\n",
    "\n",
    "def strategy_factory(domain: Domain):\n",
    "    data_model = MoboStrategy(\n",
    "        domain=domain,\n",
    "        ref_point={\"y1\": 1.0, \"y2\": 5.0},\n",
    "        surrogate_specs=BotorchSurrogates(\n",
    "            surrogates=[\n",
    "                SingleTaskGPSurrogate(\n",
    "                    inputs=benchmark.domain.inputs,\n",
    "                    outputs=benchmark.domain.outputs.get_by_keys([\"y1\"]),\n",
    "                    # the following hyperparams do not need to be provided\n",
    "                    kernel=RBFKernel(\n",
    "                        ard=True, lengthscale_prior=DimensionalityScaledLogNormalPrior()\n",
    "                    ),\n",
    "                    noise_prior=HVARFNER_NOISE_PRIOR(),\n",
    "                ),\n",
    "                SingleTaskGPSurrogate(\n",
    "                    inputs=benchmark.domain.inputs,\n",
    "                    outputs=benchmark.domain.outputs.get_by_keys([\"y2\"]),\n",
    "                    # the following hyperparams do not need to be provided\n",
    "                    kernel=RBFKernel(\n",
    "                        ard=True, lengthscale_prior=DimensionalityScaledLogNormalPrior()\n",
    "                    ),\n",
    "                    noise_prior=HVARFNER_NOISE_PRIOR(),\n",
    "                ),\n",
    "            ]\n",
    "        ),\n",
    "    )\n",
    "    return strategies.map(data_model)\n",
    "\n",
    "\n",
    "results = run(\n",
    "    ZDT1(n_inputs=30),\n",
    "    strategy_factory=strategy_factory,\n",
    "    n_iterations=N_ITERATIONS,\n",
    "    metric=hypervolume,\n",
    "    initial_sampler=sample,\n",
    "    n_runs=1,\n",
    "    n_procs=1,\n",
    ")"
   ]
  },
  {
   "cell_type": "markdown",
   "id": "6",
   "metadata": {
    "papermill": {
     "duration": 0.001192,
     "end_time": "2024-10-10T16:08:30.102803",
     "exception": false,
     "start_time": "2024-10-10T16:08:30.101611",
     "status": "completed"
    },
    "tags": []
   },
   "source": [
    "## Optimization with default priors"
   ]
  },
  {
   "cell_type": "code",
   "execution_count": null,
   "id": "7",
   "metadata": {
    "papermill": {
     "duration": 4.526626,
     "end_time": "2024-10-10T16:08:34.630646",
     "exception": false,
     "start_time": "2024-10-10T16:08:30.104020",
     "status": "completed"
    },
    "tags": []
   },
   "outputs": [
    {
     "name": "stderr",
     "output_type": "stream",
     "text": [
      "\r",
      "  0%|          | 0/1 [00:00<?, ?it/s]"
     ]
    },
    {
     "name": "stderr",
     "output_type": "stream",
     "text": [
      "\r",
      "run 0 with current best 1.090:   0%|          | 0/1 [00:04<?, ?it/s]"
     ]
    },
    {
     "name": "stderr",
     "output_type": "stream",
     "text": [
      "\r",
      "run 0 with current best 1.090: 100%|██████████| 1/1 [00:04<00:00,  4.37s/it]"
     ]
    },
    {
     "name": "stderr",
     "output_type": "stream",
     "text": [
      "\r",
      "run 0 with current best 1.090: 100%|██████████| 1/1 [00:04<00:00,  4.37s/it]"
     ]
    },
    {
     "name": "stderr",
     "output_type": "stream",
     "text": [
      "\n"
     ]
    }
   ],
   "source": [
    "benchmark = ZDT1(n_inputs=30)\n",
    "\n",
    "\n",
    "def strategy_factory(domain: Domain):\n",
    "    data_model = MoboStrategy(\n",
    "        domain=domain,\n",
    "        ref_point={\"y1\": 1.0, \"y2\": 5.0},\n",
    "    )\n",
    "    return strategies.map(data_model)\n",
    "\n",
    "\n",
    "results = run(\n",
    "    ZDT1(n_inputs=30),\n",
    "    strategy_factory=strategy_factory,\n",
    "    n_iterations=N_ITERATIONS,\n",
    "    metric=hypervolume,\n",
    "    initial_sampler=sample,\n",
    "    n_runs=1,\n",
    "    n_procs=1,\n",
    ")"
   ]
  },
  {
   "cell_type": "markdown",
   "id": "8",
   "metadata": {
    "papermill": {
     "duration": 0.001208,
     "end_time": "2024-10-10T16:08:34.633399",
     "exception": false,
     "start_time": "2024-10-10T16:08:34.632191",
     "status": "completed"
    },
    "tags": []
   },
   "source": [
    "## SAASBO Optimization"
   ]
  },
  {
   "cell_type": "code",
   "execution_count": null,
   "id": "9",
   "metadata": {
    "papermill": {
     "duration": 8.780933,
     "end_time": "2024-10-10T16:08:43.415643",
     "exception": false,
     "start_time": "2024-10-10T16:08:34.634710",
     "status": "completed"
    },
    "tags": []
   },
   "outputs": [
    {
     "name": "stderr",
     "output_type": "stream",
     "text": [
      "\r",
      "  0%|          | 0/1 [00:00<?, ?it/s]"
     ]
    },
    {
     "name": "stderr",
     "output_type": "stream",
     "text": [
      "\r",
      "run 0 with current best 1.417:   0%|          | 0/1 [00:04<?, ?it/s]"
     ]
    },
    {
     "name": "stderr",
     "output_type": "stream",
     "text": [
      "\r",
      "run 0 with current best 1.417: 100%|██████████| 1/1 [00:04<00:00,  4.92s/it]"
     ]
    },
    {
     "name": "stderr",
     "output_type": "stream",
     "text": [
      "\r",
      "run 0 with current best 1.417: 100%|██████████| 1/1 [00:04<00:00,  4.92s/it]"
     ]
    },
    {
     "name": "stderr",
     "output_type": "stream",
     "text": [
      "\n"
     ]
    }
   ],
   "source": [
    "benchmark = ZDT1(n_inputs=30)\n",
    "\n",
    "\n",
    "def strategy_factory(domain: Domain):\n",
    "    data_model = MoboStrategy(\n",
    "        domain=domain,\n",
    "        ref_point={\"y1\": 1.0, \"y2\": 5.0},\n",
    "        surrogate_specs=BotorchSurrogates(\n",
    "            surrogates=[\n",
    "                SaasSingleTaskGPSurrogate(\n",
    "                    inputs=benchmark.domain.inputs,\n",
    "                    outputs=benchmark.domain.outputs.get_by_keys([\"y1\"]),\n",
    "                    # the following hyperparams do not need to be provided\n",
    "                    warmup_steps=WARMUP_STEPS,\n",
    "                    num_samples=NUM_SAMPLES,\n",
    "                    thinning=THINNING,\n",
    "                ),\n",
    "                SaasSingleTaskGPSurrogate(\n",
    "                    inputs=benchmark.domain.inputs,\n",
    "                    outputs=benchmark.domain.outputs.get_by_keys([\"y2\"]),\n",
    "                    # the following hyperparams do not need to be provided\n",
    "                    warmup_steps=WARMUP_STEPS,\n",
    "                    num_samples=NUM_SAMPLES,\n",
    "                    thinning=THINNING,\n",
    "                ),\n",
    "            ]\n",
    "        ),\n",
    "    )\n",
    "    return strategies.map(data_model)\n",
    "\n",
    "\n",
    "results = run(\n",
    "    ZDT1(n_inputs=30),\n",
    "    strategy_factory=strategy_factory,\n",
    "    n_iterations=N_ITERATIONS,\n",
    "    metric=hypervolume,\n",
    "    initial_sampler=sample,\n",
    "    n_runs=1,\n",
    "    n_procs=1,\n",
    ")"
   ]
  },
  {
   "cell_type": "markdown",
   "id": "10",
   "metadata": {
    "papermill": {
     "duration": 0.00131,
     "end_time": "2024-10-10T16:08:43.418554",
     "exception": false,
     "start_time": "2024-10-10T16:08:43.417244",
     "status": "completed"
    },
    "tags": []
   },
   "source": [
    "Plot the pareto front."
   ]
  },
  {
   "cell_type": "code",
   "execution_count": null,
   "id": "11",
   "metadata": {
    "papermill": {
     "duration": 0.076915,
     "end_time": "2024-10-10T16:08:43.496732",
     "exception": false,
     "start_time": "2024-10-10T16:08:43.419817",
     "status": "completed"
    },
    "tags": []
   },
   "outputs": [
    {
     "data": {
      "image/png": "[encoded data removed]",
      "text/plain": [
       "<Figure size 640x480 with 1 Axes>"
      ]
     },
     "metadata": {},
     "output_type": "display_data"
    }
   ],
   "source": [
    "theoretical_front = benchmark.get_optima()\n",
    "front = get_pareto_front(domain=benchmark.domain, experiments=results[0][0])\n",
    "\n",
    "fig, ax = plt.subplots()\n",
    "ax.plot(theoretical_front.y1, theoretical_front.y2, label=\"theoretical Pareto front\")\n",
    "\n",
    "ax.scatter(front.y1, front.y2, label=\"Mobo\")\n",
    "ax.set_xlabel(\"f1\")\n",
    "ax.set_ylabel(\"f2\")\n",
    "\n",
    "\n",
    "ax.legend()\n",
    "\n",
    "plt.show()"
   ]
  },
  {
   "cell_type": "markdown",
   "id": "12",
   "metadata": {
    "papermill": {
     "duration": 0.001717,
     "end_time": "2024-10-10T16:08:43.502260",
     "exception": false,
     "start_time": "2024-10-10T16:08:43.500543",
     "status": "completed"
    },
    "tags": []
   },
   "source": [
    "Show the performance of the optimizer."
   ]
  },
  {
   "cell_type": "code",
   "execution_count": null,
   "id": "13",
   "metadata": {
    "papermill": {
     "duration": 0.108061,
     "end_time": "2024-10-10T16:08:43.613798",
     "exception": false,
     "start_time": "2024-10-10T16:08:43.505737",
     "status": "completed"
    },
    "tags": []
   },
   "outputs": [
    {
     "data": {
      "text/plain": [
       "<matplotlib.legend.Legend at 0x35ae8ba10>"
      ]
     },
     "execution_count": null,
     "metadata": {},
     "output_type": "execute_result"
    },
    {
     "data": {
      "image/png": "[encoded data removed]",
      "text/plain": [
       "<Figure size 640x480 with 1 Axes>"
      ]
     },
     "metadata": {},
     "output_type": "display_data"
    }
   ],
   "source": [
    "fig, ax = plt.subplots()\n",
    "\n",
    "ax.plot(results[0][1], label=\"Mobo, refpoint=(1, 5)\")\n",
    "\n",
    "ax.set_ylabel(\"Hypervolume\")\n",
    "ax.set_xlabel(\"Iteration\")\n",
    "\n",
    "ax.legend()"
   ]
  }
 ],
 "metadata": {
  "kernelspec": {
   "display_name": "base",
   "language": "python",
   "name": "python3"
  },
  "language_info": {
   "codemirror_mode": {
    "name": "ipython",
    "version": 3
   },
   "file_extension": ".py",
   "mimetype": "text/x-python",
   "name": "python",
   "nbconvert_exporter": "python",
   "pygments_lexer": "ipython3",
   "version": "3.12.2"
  },
  "papermill": {
   "default_parameters": {},
   "duration": 22.696518,
   "end_time": "2024-10-10T16:08:46.236484",
   "environment_variables": {},
   "exception": null,
   "input_path": "/Users/radical-rhys/Radical/bofire/tutorials/benchmarks/011-ZDT1.ipynb",
   "output_path": "/Users/radical-rhys/Radical/bofire/tutorials/benchmarks/011-ZDT1.ipynb",
   "parameters": {},
   "start_time": "2024-10-10T16:08:23.539966",
   "version": "2.6.0"
  }
 },
 "nbformat": 4,
 "nbformat_minor": 5
}
