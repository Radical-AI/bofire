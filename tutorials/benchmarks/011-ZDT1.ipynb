{
 "cells": [
  {
   "attachments": {},
   "cell_type": "markdown",
   "id": "0",
   "metadata": {
    "papermill": {
     "duration": 0.005215,
     "end_time": "2024-10-10T20:35:34.138342",
     "exception": false,
     "start_time": "2024-10-10T20:35:34.133127",
     "status": "completed"
    },
    "tags": []
   },
   "source": [
    "# ZDT1\n",
    "\n",
    "## Imports"
   ]
  },
  {
   "cell_type": "code",
   "execution_count": null,
   "id": "1",
   "metadata": {
    "papermill": {
     "duration": 3.323246,
     "end_time": "2024-10-10T20:35:37.465135",
     "exception": false,
     "start_time": "2024-10-10T20:35:34.141889",
     "status": "completed"
    },
    "tags": []
   },
   "outputs": [],
   "source": [
    "import os\n",
    "\n",
    "import matplotlib.pyplot as plt\n",
    "import pandas as pd\n",
    "\n",
    "import bofire.strategies.api as strategies\n",
    "from bofire.benchmarks.api import ZDT1\n",
    "from bofire.data_models.domain.api import Domain\n",
    "from bofire.data_models.kernels.api import RBFKernel\n",
    "from bofire.data_models.priors.api import (\n",
    "    HVARFNER_NOISE_PRIOR,\n",
    "    DimensionalityScaledLogNormalPrior,\n",
    ")\n",
    "from bofire.data_models.strategies.api import MoboStrategy, RandomStrategy\n",
    "from bofire.data_models.surrogates.api import (\n",
    "    BotorchSurrogates,\n",
    "    SaasSingleTaskGPSurrogate,\n",
    "    SingleTaskGPSurrogate,\n",
    ")\n",
    "from bofire.runners.api import run\n",
    "from bofire.utils.multiobjective import compute_hypervolume, get_pareto_front\n",
    "\n",
    "\n",
    "SMOKE_TEST = os.environ.get(\"SMOKE_TEST\")\n",
    "\n",
    "N_ITERATIONS = 50 if not SMOKE_TEST else 1\n",
    "BATCH_SIZE = 5 if not SMOKE_TEST else 1\n",
    "WARMUP_STEPS = 256 if not SMOKE_TEST else 32\n",
    "NUM_SAMPLES = 128 if not SMOKE_TEST else 16\n",
    "THINNING = 16"
   ]
  },
  {
   "attachments": {},
   "cell_type": "markdown",
   "id": "2",
   "metadata": {
    "papermill": {
     "duration": 0.001315,
     "end_time": "2024-10-10T20:35:37.468031",
     "exception": false,
     "start_time": "2024-10-10T20:35:37.466716",
     "status": "completed"
    },
    "tags": []
   },
   "source": [
    "## Random Optimization"
   ]
  },
  {
   "cell_type": "code",
   "execution_count": null,
   "id": "3",
   "metadata": {
    "papermill": {
     "duration": 0.18909,
     "end_time": "2024-10-10T20:35:37.658331",
     "exception": true,
     "start_time": "2024-10-10T20:35:37.469241",
     "status": "failed"
    },
    "tags": []
   },
   "outputs": [
    {
     "name": "stderr",
     "output_type": "stream",
     "text": [
      "Run 0: 100%|██████████| 50/50 [00:01<00:00, 35.90it/s, Current Best:=1.501]\n"
     ]
    }
   ],
   "source": [
    "def sample(domain):\n",
    "    datamodel = RandomStrategy(domain=domain)\n",
    "    sampler = strategies.map(data_model=datamodel)\n",
    "    sampled = sampler.ask(10)\n",
    "    return sampled\n",
    "\n",
    "\n",
    "def hypervolume(domain: Domain, experiments: pd.DataFrame) -> float:\n",
    "    return compute_hypervolume(domain, experiments, ref_point={\"y1\": 1.0, \"y2\": 5.0})\n",
    "\n",
    "\n",
    "random_results = run(\n",
    "    ZDT1(n_inputs=30),\n",
    "    strategy_factory=lambda domain: strategies.map(RandomStrategy(domain=domain)),\n",
    "    n_iterations=N_ITERATIONS,\n",
    "    metric=hypervolume,\n",
    "    initial_sampler=sample,\n",
    "    n_runs=1,\n",
    "    n_procs=1,\n",
    ")"
   ]
  },
  {
   "cell_type": "markdown",
   "id": "4",
   "metadata": {
    "papermill": {
     "duration": null,
     "end_time": null,
     "exception": null,
     "start_time": null,
     "status": "pending"
    },
    "tags": []
   },
   "source": [
    "## Optimization with Hvarfner priors"
   ]
  },
  {
   "cell_type": "code",
   "execution_count": null,
   "id": "5",
   "metadata": {
    "papermill": {
     "duration": null,
     "end_time": null,
     "exception": null,
     "start_time": null,
     "status": "pending"
    },
    "tags": []
   },
   "outputs": [
    {
     "name": "stderr",
     "output_type": "stream",
     "text": [
      "Run 0:  52%|█████▏    | 26/50 [03:17<04:05, 10.23s/it, Current Best:=3.046]/Users/radical-rhys/miniconda/lib/python3.12/site-packages/linear_operator/utils/cholesky.py:40: NumericalWarning: A not p.d., added jitter of 1.0e-08 to the diagonal\n",
      "  warnings.warn(\n",
      "/Users/radical-rhys/miniconda/lib/python3.12/site-packages/linear_operator/utils/cholesky.py:40: NumericalWarning: A not p.d., added jitter of 1.0e-07 to the diagonal\n",
      "  warnings.warn(\n",
      "/Users/radical-rhys/miniconda/lib/python3.12/site-packages/linear_operator/utils/cholesky.py:40: NumericalWarning: A not p.d., added jitter of 1.0e-06 to the diagonal\n",
      "  warnings.warn(\n",
      "/Users/radical-rhys/miniconda/lib/python3.12/site-packages/linear_operator/utils/cholesky.py:40: NumericalWarning: A not p.d., added jitter of 1.0e-05 to the diagonal\n",
      "  warnings.warn(\n",
      "/Users/radical-rhys/miniconda/lib/python3.12/site-packages/linear_operator/utils/cholesky.py:40: NumericalWarning: A not p.d., added jitter of 1.0e-04 to the diagonal\n",
      "  warnings.warn(\n",
      "/Users/radical-rhys/miniconda/lib/python3.12/site-packages/linear_operator/utils/cholesky.py:40: NumericalWarning: A not p.d., added jitter of 1.0e-03 to the diagonal\n",
      "  warnings.warn(\n",
      "Run 0: 100%|██████████| 50/50 [08:18<00:00,  9.96s/it, Current Best:=4.138]\n"
     ]
    }
   ],
   "source": [
    "benchmark = ZDT1(n_inputs=30)\n",
    "\n",
    "\n",
    "def strategy_factory(domain: Domain):\n",
    "    data_model = MoboStrategy(\n",
    "        domain=domain,\n",
    "        ref_point={\"y1\": 1.0, \"y2\": 5.0},\n",
    "        surrogate_specs=BotorchSurrogates(\n",
    "            surrogates=[\n",
    "                SingleTaskGPSurrogate(\n",
    "                    inputs=benchmark.domain.inputs,\n",
    "                    outputs=benchmark.domain.outputs.get_by_keys([\"y1\"]),\n",
    "                    # the following hyperparams do not need to be provided\n",
    "                    kernel=RBFKernel(\n",
    "                        ard=True, lengthscale_prior=DimensionalityScaledLogNormalPrior()\n",
    "                    ),\n",
    "                    noise_prior=HVARFNER_NOISE_PRIOR(),\n",
    "                ),\n",
    "                SingleTaskGPSurrogate(\n",
    "                    inputs=benchmark.domain.inputs,\n",
    "                    outputs=benchmark.domain.outputs.get_by_keys([\"y2\"]),\n",
    "                    # the following hyperparams do not need to be provided\n",
    "                    kernel=RBFKernel(\n",
    "                        ard=True, lengthscale_prior=DimensionalityScaledLogNormalPrior()\n",
    "                    ),\n",
    "                    noise_prior=HVARFNER_NOISE_PRIOR(),\n",
    "                ),\n",
    "            ]\n",
    "        ),\n",
    "    )\n",
    "    return strategies.map(data_model)\n",
    "\n",
    "\n",
    "results = run(\n",
    "    ZDT1(n_inputs=30),\n",
    "    strategy_factory=strategy_factory,\n",
    "    n_iterations=N_ITERATIONS,\n",
    "    metric=hypervolume,\n",
    "    initial_sampler=sample,\n",
    "    n_runs=1,\n",
    "    n_procs=1,\n",
    ")"
   ]
  },
  {
   "cell_type": "markdown",
   "id": "6",
   "metadata": {
    "papermill": {
     "duration": null,
     "end_time": null,
     "exception": null,
     "start_time": null,
     "status": "pending"
    },
    "tags": []
   },
   "source": [
    "## Optimization with default priors"
   ]
  },
  {
   "cell_type": "code",
   "execution_count": null,
   "id": "7",
   "metadata": {
    "papermill": {
     "duration": null,
     "end_time": null,
     "exception": null,
     "start_time": null,
     "status": "pending"
    },
    "tags": []
   },
   "outputs": [
    {
     "name": "stderr",
     "output_type": "stream",
     "text": [
      "Run 0: 100%|██████████| 50/50 [05:56<00:00,  7.14s/it, Current Best:=2.134]\n"
     ]
    }
   ],
   "source": [
    "benchmark = ZDT1(n_inputs=30)\n",
    "\n",
    "\n",
    "def strategy_factory(domain: Domain):\n",
    "    data_model = MoboStrategy(\n",
    "        domain=domain,\n",
    "        ref_point={\"y1\": 1.0, \"y2\": 5.0},\n",
    "    )\n",
    "    return strategies.map(data_model)\n",
    "\n",
    "\n",
    "results = run(\n",
    "    ZDT1(n_inputs=30),\n",
    "    strategy_factory=strategy_factory,\n",
    "    n_iterations=N_ITERATIONS,\n",
    "    metric=hypervolume,\n",
    "    initial_sampler=sample,\n",
    "    n_runs=1,\n",
    "    n_procs=1,\n",
    ")"
   ]
  },
  {
   "cell_type": "markdown",
   "id": "8",
   "metadata": {
    "papermill": {
     "duration": null,
     "end_time": null,
     "exception": null,
     "start_time": null,
     "status": "pending"
    },
    "tags": []
   },
   "source": [
    "## SAASBO Optimization"
   ]
  },
  {
   "cell_type": "code",
   "execution_count": null,
   "id": "9",
   "metadata": {
    "papermill": {
     "duration": null,
     "end_time": null,
     "exception": null,
     "start_time": null,
     "status": "pending"
    },
    "tags": []
   },
   "outputs": [
    {
     "name": "stderr",
     "output_type": "stream",
     "text": [
      "Run 0: 100%|██████████| 50/50 [1:38:00<00:00, 117.61s/it, Current Best:=4.589]\n"
     ]
    }
   ],
   "source": [
    "benchmark = ZDT1(n_inputs=30)\n",
    "\n",
    "\n",
    "def strategy_factory(domain: Domain):\n",
    "    data_model = MoboStrategy(\n",
    "        domain=domain,\n",
    "        ref_point={\"y1\": 1.0, \"y2\": 5.0},\n",
    "        surrogate_specs=BotorchSurrogates(\n",
    "            surrogates=[\n",
    "                SaasSingleTaskGPSurrogate(\n",
    "                    inputs=benchmark.domain.inputs,\n",
    "                    outputs=benchmark.domain.outputs.get_by_keys([\"y1\"]),\n",
    "                    # the following hyperparams do not need to be provided\n",
    "                    warmup_steps=WARMUP_STEPS,\n",
    "                    num_samples=NUM_SAMPLES,\n",
    "                    thinning=THINNING,\n",
    "                ),\n",
    "                SaasSingleTaskGPSurrogate(\n",
    "                    inputs=benchmark.domain.inputs,\n",
    "                    outputs=benchmark.domain.outputs.get_by_keys([\"y2\"]),\n",
    "                    # the following hyperparams do not need to be provided\n",
    "                    warmup_steps=WARMUP_STEPS,\n",
    "                    num_samples=NUM_SAMPLES,\n",
    "                    thinning=THINNING,\n",
    "                ),\n",
    "            ]\n",
    "        ),\n",
    "    )\n",
    "    return strategies.map(data_model)\n",
    "\n",
    "\n",
    "results = run(\n",
    "    ZDT1(n_inputs=30),\n",
    "    strategy_factory=strategy_factory,\n",
    "    n_iterations=N_ITERATIONS,\n",
    "    metric=hypervolume,\n",
    "    initial_sampler=sample,\n",
    "    n_runs=1,\n",
    "    n_procs=1,\n",
    ")"
   ]
  },
  {
   "cell_type": "markdown",
   "id": "10",
   "metadata": {
    "papermill": {
     "duration": null,
     "end_time": null,
     "exception": null,
     "start_time": null,
     "status": "pending"
    },
    "tags": []
   },
   "source": [
    "Plot the pareto front."
   ]
  },
  {
   "cell_type": "code",
   "execution_count": null,
   "id": "11",
   "metadata": {
    "papermill": {
     "duration": null,
     "end_time": null,
     "exception": null,
     "start_time": null,
     "status": "pending"
    },
    "tags": []
   },
   "outputs": [
    {
     "data": {
      "image/png": "[encoded data removed]",
      "text/plain": [
       "<Figure size 640x480 with 1 Axes>"
      ]
     },
     "metadata": {},
     "output_type": "display_data"
    }
   ],
   "source": [
    "theoretical_front = benchmark.get_optima()\n",
    "front = get_pareto_front(domain=benchmark.domain, experiments=results[0][0])\n",
    "\n",
    "fig, ax = plt.subplots()\n",
    "ax.plot(theoretical_front.y1, theoretical_front.y2, label=\"theoretical Pareto front\")\n",
    "\n",
    "ax.scatter(front.y1, front.y2, label=\"Mobo\")\n",
    "ax.set_xlabel(\"f1\")\n",
    "ax.set_ylabel(\"f2\")\n",
    "\n",
    "\n",
    "ax.legend()\n",
    "\n",
    "plt.show()"
   ]
  },
  {
   "cell_type": "markdown",
   "id": "12",
   "metadata": {
    "papermill": {
     "duration": null,
     "end_time": null,
     "exception": null,
     "start_time": null,
     "status": "pending"
    },
    "tags": []
   },
   "source": [
    "Show the performance of the optimizer."
   ]
  },
  {
   "cell_type": "code",
   "execution_count": null,
   "id": "13",
   "metadata": {
    "papermill": {
     "duration": null,
     "end_time": null,
     "exception": null,
     "start_time": null,
     "status": "pending"
    },
    "tags": []
   },
   "outputs": [
    {
     "data": {
      "text/plain": [
       "<matplotlib.legend.Legend at 0x165032f30>"
      ]
     },
     "execution_count": null,
     "metadata": {},
     "output_type": "execute_result"
    },
    {
     "data": {
      "image/png": "[encoded data removed]",
      "text/plain": [
       "<Figure size 640x480 with 1 Axes>"
      ]
     },
     "metadata": {},
     "output_type": "display_data"
    }
   ],
   "source": [
    "fig, ax = plt.subplots()\n",
    "\n",
    "ax.plot(results[0][1], label=\"Mobo, refpoint=(1, 5)\")\n",
    "\n",
    "ax.set_ylabel(\"Hypervolume\")\n",
    "ax.set_xlabel(\"Iteration\")\n",
    "\n",
    "ax.legend()"
   ]
  }
 ],
 "metadata": {
  "kernelspec": {
   "display_name": "base",
   "language": "python",
   "name": "python3"
  },
  "language_info": {
   "codemirror_mode": {
    "name": "ipython",
    "version": 3
   },
   "file_extension": ".py",
   "mimetype": "text/x-python",
   "name": "python",
   "nbconvert_exporter": "python",
   "pygments_lexer": "ipython3",
   "version": "3.12.7"
  },
  "papermill": {
   "default_parameters": {},
   "duration": 5.249527,
   "end_time": "2024-10-10T20:35:38.481859",
   "environment_variables": {},
   "exception": true,
   "input_path": "/Users/radical-rhys/Radical/bofire/tutorials/benchmarks/011-ZDT1.ipynb",
   "output_path": "/Users/radical-rhys/Radical/bofire/tutorials/benchmarks/011-ZDT1.ipynb",
   "parameters": {},
   "start_time": "2024-10-10T20:35:33.232332",
   "version": "2.6.0"
  }
 },
 "nbformat": 4,
 "nbformat_minor": 5
}
