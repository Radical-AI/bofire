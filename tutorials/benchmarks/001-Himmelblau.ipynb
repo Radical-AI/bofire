{
 "cells": [
  {
   "cell_type": "markdown",
   "id": "0",
   "metadata": {
    "papermill": {
     "duration": 0.001257,
     "end_time": "2024-10-10T16:03:34.650403",
     "exception": false,
     "start_time": "2024-10-10T16:03:34.649146",
     "status": "completed"
    },
    "tags": []
   },
   "source": [
    "# Himmelblau Benchmark\n",
    "## Imports"
   ]
  },
  {
   "cell_type": "code",
   "execution_count": null,
   "id": "1",
   "metadata": {
    "papermill": {
     "duration": 2.38662,
     "end_time": "2024-10-10T16:03:37.037939",
     "exception": false,
     "start_time": "2024-10-10T16:03:34.651319",
     "status": "completed"
    },
    "tags": []
   },
   "outputs": [],
   "source": [
    "import os\n",
    "\n",
    "import pandas as pd\n",
    "\n",
    "import bofire.strategies.api as strategies\n",
    "from bofire.benchmarks.single import Himmelblau\n",
    "from bofire.data_models.acquisition_functions.api import qLogEI\n",
    "from bofire.data_models.api import Domain\n",
    "from bofire.data_models.strategies.api import RandomStrategy, SoboStrategy\n",
    "from bofire.runners.api import run\n",
    "\n",
    "\n",
    "SMOKE_TEST = os.environ.get(\"SMOKE_TEST\")"
   ]
  },
  {
   "cell_type": "markdown",
   "id": "2",
   "metadata": {
    "papermill": {
     "duration": 0.000678,
     "end_time": "2024-10-10T16:03:37.039507",
     "exception": false,
     "start_time": "2024-10-10T16:03:37.038829",
     "status": "completed"
    },
    "tags": []
   },
   "source": [
    "## Random Optimization"
   ]
  },
  {
   "cell_type": "code",
   "execution_count": null,
   "id": "3",
   "metadata": {
    "papermill": {
     "duration": 0.033849,
     "end_time": "2024-10-10T16:03:37.074038",
     "exception": false,
     "start_time": "2024-10-10T16:03:37.040189",
     "status": "completed"
    },
    "tags": []
   },
   "outputs": [
    {
     "name": "stderr",
     "output_type": "stream",
     "text": [
      "\r",
      "  0%|          | 0/1 [00:00<?, ?it/s]"
     ]
    },
    {
     "name": "stderr",
     "output_type": "stream",
     "text": [
      "\r",
      "run 0 with current best 7.790:   0%|          | 0/1 [00:00<?, ?it/s]"
     ]
    },
    {
     "name": "stderr",
     "output_type": "stream",
     "text": [
      "\r",
      "run 0 with current best 7.790: 100%|██████████| 1/1 [00:00<00:00, 119.74it/s]"
     ]
    },
    {
     "name": "stderr",
     "output_type": "stream",
     "text": [
      "\n"
     ]
    }
   ],
   "source": [
    "def sample(domain):\n",
    "    datamodel = RandomStrategy(domain=domain)\n",
    "    sampler = strategies.map(data_model=datamodel)\n",
    "    sampled = sampler.ask(10)\n",
    "    return sampled\n",
    "\n",
    "\n",
    "def best(domain: Domain, experiments: pd.DataFrame) -> float:\n",
    "    return experiments.y.min()\n",
    "\n",
    "\n",
    "random_results = run(\n",
    "    Himmelblau(),\n",
    "    strategy_factory=lambda domain: strategies.map(RandomStrategy(domain=domain)),\n",
    "    n_iterations=50 if not SMOKE_TEST else 1,\n",
    "    metric=best,\n",
    "    initial_sampler=sample,\n",
    "    n_runs=1,\n",
    "    n_procs=1,\n",
    ")"
   ]
  },
  {
   "cell_type": "markdown",
   "id": "4",
   "metadata": {
    "papermill": {
     "duration": 0.000724,
     "end_time": "2024-10-10T16:03:37.075596",
     "exception": false,
     "start_time": "2024-10-10T16:03:37.074872",
     "status": "completed"
    },
    "tags": []
   },
   "source": [
    "## SOBO (GPEI) Optimization"
   ]
  },
  {
   "cell_type": "code",
   "execution_count": null,
   "id": "5",
   "metadata": {
    "papermill": {
     "duration": 0.530084,
     "end_time": "2024-10-10T16:03:37.606437",
     "exception": false,
     "start_time": "2024-10-10T16:03:37.076353",
     "status": "completed"
    },
    "tags": []
   },
   "outputs": [
    {
     "name": "stderr",
     "output_type": "stream",
     "text": [
      "\r",
      "  0%|          | 0/1 [00:00<?, ?it/s]"
     ]
    },
    {
     "name": "stderr",
     "output_type": "stream",
     "text": [
      "\r",
      "run 0 with current best 37.511:   0%|          | 0/1 [00:00<?, ?it/s]"
     ]
    },
    {
     "name": "stderr",
     "output_type": "stream",
     "text": [
      "\r",
      "run 0 with current best 37.511: 100%|██████████| 1/1 [00:00<00:00,  3.33it/s]"
     ]
    },
    {
     "name": "stderr",
     "output_type": "stream",
     "text": [
      "\r",
      "run 0 with current best 37.511: 100%|██████████| 1/1 [00:00<00:00,  3.33it/s]"
     ]
    },
    {
     "name": "stderr",
     "output_type": "stream",
     "text": [
      "\n"
     ]
    }
   ],
   "source": [
    "def strategy_factory(domain: Domain):\n",
    "    data_model = SoboStrategy(domain=domain, acquisition_function=qLogEI())\n",
    "    return strategies.map(data_model)\n",
    "\n",
    "\n",
    "bo_results = run(\n",
    "    Himmelblau(),\n",
    "    strategy_factory=strategy_factory,\n",
    "    n_iterations=50 if not SMOKE_TEST else 1,\n",
    "    metric=best,\n",
    "    initial_sampler=sample,\n",
    "    n_runs=1,\n",
    "    n_procs=1,\n",
    ")"
   ]
  }
 ],
 "metadata": {
  "kernelspec": {
   "display_name": "base",
   "language": "python",
   "name": "python3"
  },
  "language_info": {
   "codemirror_mode": {
    "name": "ipython",
    "version": 3
   },
   "file_extension": ".py",
   "mimetype": "text/x-python",
   "name": "python",
   "nbconvert_exporter": "python",
   "pygments_lexer": "ipython3",
   "version": "3.12.2"
  },
  "papermill": {
   "default_parameters": {},
   "duration": 6.383164,
   "end_time": "2024-10-10T16:03:40.224193",
   "environment_variables": {},
   "exception": null,
   "input_path": "/Users/radical-rhys/Radical/bofire/tutorials/benchmarks/001-Himmelblau.ipynb",
   "output_path": "/Users/radical-rhys/Radical/bofire/tutorials/benchmarks/001-Himmelblau.ipynb",
   "parameters": {},
   "start_time": "2024-10-10T16:03:33.841029",
   "version": "2.6.0"
  }
 },
 "nbformat": 4,
 "nbformat_minor": 5
}
