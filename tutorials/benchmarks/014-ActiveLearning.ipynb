{
 "cells": [
  {
   "cell_type": "markdown",
   "id": "0",
   "metadata": {
    "papermill": {
     "duration": 0.005701,
     "end_time": "2024-10-10T20:35:54.265955",
     "exception": false,
     "start_time": "2024-10-10T20:35:54.260254",
     "status": "completed"
    },
    "tags": []
   },
   "source": [
    "# Active Learning"
   ]
  },
  {
   "cell_type": "markdown",
   "id": "1",
   "metadata": {
    "papermill": {
     "duration": 0.002595,
     "end_time": "2024-10-10T20:35:54.273132",
     "exception": false,
     "start_time": "2024-10-10T20:35:54.270537",
     "status": "completed"
    },
    "tags": []
   },
   "source": [
    "Showcase of active learning in bofire. Active learning per definition focusses on fitting the model to the experimental observations best possible in an iterative manner reducing some kind of uncertainty. The ActiveLearningStrategy proposes a set of evaluation points that will gain the most information about the problem each iteration. Thus, an unknown black-box-function can be approximated without optimization. It represents an exploration-only strategy. "
   ]
  },
  {
   "cell_type": "code",
   "execution_count": null,
   "id": "2",
   "metadata": {
    "papermill": {
     "duration": 3.229388,
     "end_time": "2024-10-10T20:35:57.504196",
     "exception": false,
     "start_time": "2024-10-10T20:35:54.274808",
     "status": "completed"
    },
    "tags": []
   },
   "outputs": [],
   "source": [
    "import os\n",
    "\n",
    "import matplotlib.pyplot as plt\n",
    "import numpy as np\n",
    "import pandas as pd\n",
    "from matplotlib import cm\n",
    "\n",
    "import bofire.strategies.api as strategies\n",
    "from bofire.benchmarks.api import GenericBenchmark\n",
    "from bofire.benchmarks.single import Himmelblau\n",
    "from bofire.data_models.api import Domain, Inputs, Outputs\n",
    "from bofire.data_models.features.api import ContinuousInput, ContinuousOutput\n",
    "from bofire.data_models.objectives.api import MinimizeObjective\n",
    "from bofire.data_models.strategies.api import RandomStrategy\n",
    "from bofire.runners.api import run\n",
    "\n",
    "\n",
    "SMOKE_TEST = os.environ.get(\"SMOKE_TEST\")"
   ]
  },
  {
   "cell_type": "markdown",
   "id": "3",
   "metadata": {
    "papermill": {
     "duration": 0.001621,
     "end_time": "2024-10-10T20:35:57.508002",
     "exception": false,
     "start_time": "2024-10-10T20:35:57.506381",
     "status": "completed"
    },
    "tags": []
   },
   "source": [
    "### 1-D Objective Function"
   ]
  },
  {
   "cell_type": "markdown",
   "id": "4",
   "metadata": {
    "papermill": {
     "duration": 0.001794,
     "end_time": "2024-10-10T20:35:57.511378",
     "exception": false,
     "start_time": "2024-10-10T20:35:57.509584",
     "status": "completed"
    },
    "tags": []
   },
   "source": [
    "For a 1-D objective function. The Himmelblau benchmark is used.\n",
    "\\begin{equation}\n",
    "    f: \\mathbb{R}^2 \\rightarrow \\mathbb{R} \\quad | \\quad f(x_1, x_2) = (x_1^2 + x_2 - 11)^2 + (x_1 + x_2^2) ^2\n",
    "\\end{equation}\n",
    "To start the active learning strategy we need to supply some initial data points to set up the Gaussian Regression Model in the background."
   ]
  },
  {
   "cell_type": "code",
   "execution_count": null,
   "id": "5",
   "metadata": {
    "papermill": {
     "duration": 0.017059,
     "end_time": "2024-10-10T20:35:57.530124",
     "exception": false,
     "start_time": "2024-10-10T20:35:57.513065",
     "status": "completed"
    },
    "tags": []
   },
   "outputs": [
    {
     "data": {
      "text/html": [
       "<div>\n",
       "<style scoped>\n",
       "    .dataframe tbody tr th:only-of-type {\n",
       "        vertical-align: middle;\n",
       "    }\n",
       "\n",
       "    .dataframe tbody tr th {\n",
       "        vertical-align: top;\n",
       "    }\n",
       "\n",
       "    .dataframe thead th {\n",
       "        text-align: right;\n",
       "    }\n",
       "</style>\n",
       "<table border=\"1\" class=\"dataframe\">\n",
       "  <thead>\n",
       "    <tr style=\"text-align: right;\">\n",
       "      <th></th>\n",
       "      <th>x_1</th>\n",
       "      <th>x_2</th>\n",
       "      <th>y</th>\n",
       "      <th>valid_y</th>\n",
       "    </tr>\n",
       "  </thead>\n",
       "  <tbody>\n",
       "    <tr>\n",
       "      <th>0</th>\n",
       "      <td>5.701598</td>\n",
       "      <td>-2.852762</td>\n",
       "      <td>394.809586</td>\n",
       "      <td>1</td>\n",
       "    </tr>\n",
       "    <tr>\n",
       "      <th>1</th>\n",
       "      <td>-3.054462</td>\n",
       "      <td>-5.339762</td>\n",
       "      <td>389.860262</td>\n",
       "      <td>1</td>\n",
       "    </tr>\n",
       "    <tr>\n",
       "      <th>2</th>\n",
       "      <td>-2.994456</td>\n",
       "      <td>-4.082744</td>\n",
       "      <td>81.952022</td>\n",
       "      <td>1</td>\n",
       "    </tr>\n",
       "    <tr>\n",
       "      <th>3</th>\n",
       "      <td>0.969874</td>\n",
       "      <td>-1.754319</td>\n",
       "      <td>148.279824</td>\n",
       "      <td>1</td>\n",
       "    </tr>\n",
       "    <tr>\n",
       "      <th>4</th>\n",
       "      <td>-0.499829</td>\n",
       "      <td>3.863965</td>\n",
       "      <td>102.630642</td>\n",
       "      <td>1</td>\n",
       "    </tr>\n",
       "    <tr>\n",
       "      <th>5</th>\n",
       "      <td>5.754884</td>\n",
       "      <td>1.874899</td>\n",
       "      <td>580.845660</td>\n",
       "      <td>1</td>\n",
       "    </tr>\n",
       "    <tr>\n",
       "      <th>6</th>\n",
       "      <td>-5.576081</td>\n",
       "      <td>0.211261</td>\n",
       "      <td>569.287052</td>\n",
       "      <td>1</td>\n",
       "    </tr>\n",
       "    <tr>\n",
       "      <th>7</th>\n",
       "      <td>-2.161545</td>\n",
       "      <td>-3.351163</td>\n",
       "      <td>97.960555</td>\n",
       "      <td>1</td>\n",
       "    </tr>\n",
       "    <tr>\n",
       "      <th>8</th>\n",
       "      <td>-5.652087</td>\n",
       "      <td>1.588387</td>\n",
       "      <td>610.401736</td>\n",
       "      <td>1</td>\n",
       "    </tr>\n",
       "    <tr>\n",
       "      <th>9</th>\n",
       "      <td>-2.542839</td>\n",
       "      <td>-0.624801</td>\n",
       "      <td>110.380483</td>\n",
       "      <td>1</td>\n",
       "    </tr>\n",
       "  </tbody>\n",
       "</table>\n",
       "</div>"
      ],
      "text/plain": [
       "        x_1       x_2           y  valid_y\n",
       "0  5.701598 -2.852762  394.809586        1\n",
       "1 -3.054462 -5.339762  389.860262        1\n",
       "2 -2.994456 -4.082744   81.952022        1\n",
       "3  0.969874 -1.754319  148.279824        1\n",
       "4 -0.499829  3.863965  102.630642        1\n",
       "5  5.754884  1.874899  580.845660        1\n",
       "6 -5.576081  0.211261  569.287052        1\n",
       "7 -2.161545 -3.351163   97.960555        1\n",
       "8 -5.652087  1.588387  610.401736        1\n",
       "9 -2.542839 -0.624801  110.380483        1"
      ]
     },
     "metadata": {},
     "output_type": "display_data"
    }
   ],
   "source": [
    "himmelblau = Himmelblau()\n",
    "\n",
    "\n",
    "def sample(domain: Domain):\n",
    "    datamodel = RandomStrategy(domain=domain)\n",
    "    sampler = strategies.map(data_model=datamodel)\n",
    "    sampled = sampler.ask(10)\n",
    "    return sampled\n",
    "\n",
    "\n",
    "initial_points = sample(domain=himmelblau.domain)\n",
    "initial_experiments = pd.concat([initial_points, himmelblau.f(initial_points)], axis=1)\n",
    "display(initial_experiments)"
   ]
  },
  {
   "cell_type": "markdown",
   "id": "6",
   "metadata": {
    "papermill": {
     "duration": 0.001809,
     "end_time": "2024-10-10T20:35:57.534043",
     "exception": false,
     "start_time": "2024-10-10T20:35:57.532234",
     "status": "completed"
    },
    "tags": []
   },
   "source": [
    "#### ActiveLearningStrategy"
   ]
  },
  {
   "cell_type": "markdown",
   "id": "7",
   "metadata": {
    "papermill": {
     "duration": 0.001855,
     "end_time": "2024-10-10T20:35:57.537853",
     "exception": false,
     "start_time": "2024-10-10T20:35:57.535998",
     "status": "completed"
    },
    "tags": []
   },
   "source": [
    "The `ActiveLearningstrategy` can be set up just as other BO strategies implemented in bofire. Just take a look into the other tutorials. Basic calls are `ask()` to retrieve new evaluation candidates from the acquisition function and `tell()` to train the model with a new observation.\n",
    "\n",
    "Currently, the default active learning acqusition function implemented is `qNegIntegratedPosteriorVariance`. It focuses on minimzing the overall posterior variance by choosing a new candidate.\n",
    "\n",
    "The `ActiveLearningStrategy` uses Monte-Carlo-integration to evaluate the acquisition function. The number of integration nodes significantly influences the speed of the integration. These can be adjusted by changing the paramater `data_model.num_sobol_samples`. Note that a sample size representing a power of $2$ increases performance."
   ]
  },
  {
   "cell_type": "code",
   "execution_count": null,
   "id": "8",
   "metadata": {
    "papermill": {
     "duration": 0.19008,
     "end_time": "2024-10-10T20:35:57.729662",
     "exception": true,
     "start_time": "2024-10-10T20:35:57.539582",
     "status": "failed"
    },
    "tags": []
   },
   "outputs": [
    {
     "data": {
      "text/html": [
       "<div>\n",
       "<style scoped>\n",
       "    .dataframe tbody tr th:only-of-type {\n",
       "        vertical-align: middle;\n",
       "    }\n",
       "\n",
       "    .dataframe tbody tr th {\n",
       "        vertical-align: top;\n",
       "    }\n",
       "\n",
       "    .dataframe thead th {\n",
       "        text-align: right;\n",
       "    }\n",
       "</style>\n",
       "<table border=\"1\" class=\"dataframe\">\n",
       "  <thead>\n",
       "    <tr style=\"text-align: right;\">\n",
       "      <th></th>\n",
       "      <th>x_1</th>\n",
       "      <th>x_2</th>\n",
       "      <th>y_pred</th>\n",
       "      <th>y_sd</th>\n",
       "      <th>y_des</th>\n",
       "    </tr>\n",
       "  </thead>\n",
       "  <tbody>\n",
       "    <tr>\n",
       "      <th>0</th>\n",
       "      <td>3.829978</td>\n",
       "      <td>5.172031</td>\n",
       "      <td>370.272788</td>\n",
       "      <td>250.309577</td>\n",
       "      <td>-370.272788</td>\n",
       "    </tr>\n",
       "  </tbody>\n",
       "</table>\n",
       "</div>"
      ],
      "text/plain": [
       "        x_1       x_2      y_pred        y_sd       y_des\n",
       "0  3.829978  5.172031  370.272788  250.309577 -370.272788"
      ]
     },
     "metadata": {},
     "output_type": "display_data"
    }
   ],
   "source": [
    "# Manual set up of ActiveLearning\n",
    "from bofire.data_models.acquisition_functions.api import qNegIntPosVar\n",
    "from bofire.data_models.strategies.api import ActiveLearningStrategy\n",
    "from bofire.data_models.surrogates.api import BotorchSurrogates, SingleTaskGPSurrogate\n",
    "\n",
    "\n",
    "af = qNegIntPosVar(\n",
    "    n_mc_samples=64  # lower the number of monte carlo samples to improve speed\n",
    ")\n",
    "\n",
    "data_model = ActiveLearningStrategy(domain=himmelblau.domain, acquisition_function=af)\n",
    "recommender = strategies.map(data_model=data_model)\n",
    "recommender.tell(experiments=initial_experiments)\n",
    "candidates = recommender.ask(candidate_count=1)\n",
    "display(candidates)"
   ]
  },
  {
   "cell_type": "code",
   "execution_count": null,
   "id": "9",
   "metadata": {
    "papermill": {
     "duration": null,
     "end_time": null,
     "exception": null,
     "start_time": null,
     "status": "pending"
    },
    "tags": []
   },
   "outputs": [],
   "source": [
    "# Running the active learning strategy\n",
    "max_iter = 20\n",
    "results = initial_experiments\n",
    "\n",
    "for _ in range(max_iter):\n",
    "    # run active learning strategy\n",
    "    X = recommender.ask(candidate_count=1)[himmelblau.domain.inputs.get_keys()]\n",
    "    Y = himmelblau.f(X)\n",
    "    XY = pd.concat([X, Y], axis=1)\n",
    "    recommender.tell(experiments=XY)  # pass new experimental data\n",
    "    results = pd.concat([results, XY], axis=0, ignore_index=True)"
   ]
  },
  {
   "cell_type": "code",
   "execution_count": null,
   "id": "10",
   "metadata": {
    "papermill": {
     "duration": null,
     "end_time": null,
     "exception": null,
     "start_time": null,
     "status": "pending"
    },
    "tags": []
   },
   "outputs": [
    {
     "name": "stderr",
     "output_type": "stream",
     "text": [
      "Run 0: 100%|██████████| 20/20 [00:00<00:00, 101.13it/s, Current Best:=1.000]\n"
     ]
    }
   ],
   "source": [
    "# Running a random strategy for comparison\n",
    "def strategy_factory(domain: Domain):\n",
    "    data_model = RandomStrategy(domain=domain)\n",
    "    return strategies.map(data_model)\n",
    "\n",
    "\n",
    "random_results = run(\n",
    "    himmelblau,\n",
    "    strategy_factory=strategy_factory,\n",
    "    n_iterations=max_iter if not SMOKE_TEST else 1,\n",
    "    metric=lambda domain, experiments: 1.0,\n",
    "    initial_sampler=sample,\n",
    "    n_runs=1,\n",
    "    n_procs=1,\n",
    ")"
   ]
  },
  {
   "cell_type": "markdown",
   "id": "11",
   "metadata": {
    "papermill": {
     "duration": null,
     "end_time": null,
     "exception": null,
     "start_time": null,
     "status": "pending"
    },
    "tags": []
   },
   "source": [
    "#### Plotting"
   ]
  },
  {
   "cell_type": "code",
   "execution_count": null,
   "id": "12",
   "metadata": {
    "papermill": {
     "duration": null,
     "end_time": null,
     "exception": null,
     "start_time": null,
     "status": "pending"
    },
    "tags": []
   },
   "outputs": [
    {
     "name": "stderr",
     "output_type": "stream",
     "text": [
      "/var/folders/nl/sh8rg5qn11b4f5g6lgn35m380000gn/T/ipykernel_14474/648778193.py:29: UserWarning: FigureCanvasAgg is non-interactive, and thus cannot be shown\n",
      "  fig.show()\n"
     ]
    },
    {
     "data": {
      "image/png": "[encoded data removed]",
      "text/plain": [
       "<Figure size 1000x400 with 2 Axes>"
      ]
     },
     "metadata": {},
     "output_type": "display_data"
    }
   ],
   "source": [
    "plt.rcParams[\"figure.figsize\"] = (10, 4)\n",
    "\n",
    "fig, ax = plt.subplots(1, 2)\n",
    "\n",
    "\n",
    "# contour plot of himmelblau\n",
    "def f(grid):\n",
    "    return (grid[0] ** 2 + grid[1] - 11) ** 2 + (grid[0] + grid[1] ** 2) ** 2\n",
    "\n",
    "\n",
    "X_grid = np.arange(-7, 7, 0.01)\n",
    "Y_grid = np.arange(-7, 7, 0.01)\n",
    "mesh = np.meshgrid(X_grid, Y_grid)\n",
    "Z = f(grid=mesh)\n",
    "levels = np.linspace(Z.min(), Z.max(), 6)\n",
    "\n",
    "\n",
    "ax[0].contourf(X_grid, Y_grid, Z, cmap=cm.viridis)\n",
    "ax[0].scatter(random_results[0][0].x_1, random_results[0][0].x_2, c=\"white\")\n",
    "ax[1].contourf(X_grid, Y_grid, Z, cmap=cm.viridis)\n",
    "ax[1].scatter(results.x_1, results.x_2, c=\"white\")\n",
    "\n",
    "ax[0].axis([-7, 7, -7, 7])\n",
    "ax[0].set_xlabel(\"$x_1$\")\n",
    "ax[1].set_xlabel(\"$x_1$\")\n",
    "ax[0].set_ylabel(\"$x_2$\")\n",
    "ax[0].set_title(\"random strategy\")\n",
    "ax[1].set_title(\"active learning strategy\")\n",
    "fig.show()"
   ]
  },
  {
   "cell_type": "markdown",
   "id": "13",
   "metadata": {
    "papermill": {
     "duration": null,
     "end_time": null,
     "exception": null,
     "start_time": null,
     "status": "pending"
    },
    "tags": []
   },
   "source": [
    "The plot shows the exploratory behavior of the `ActiveLearningStrategy`."
   ]
  },
  {
   "cell_type": "markdown",
   "id": "14",
   "metadata": {
    "papermill": {
     "duration": null,
     "end_time": null,
     "exception": null,
     "start_time": null,
     "status": "pending"
    },
    "tags": []
   },
   "source": [
    "### 2-D (n-D) Objective Function"
   ]
  },
  {
   "cell_type": "markdown",
   "id": "15",
   "metadata": {
    "papermill": {
     "duration": null,
     "end_time": null,
     "exception": null,
     "start_time": null,
     "status": "pending"
    },
    "tags": []
   },
   "source": [
    "Now, we want to actively learn an objective function with a multi-dimensional output space. This is shown by an example function with $2$ output variables. For this, we again utilize the Himmelblau benchmark function and the Ackley function.\n",
    "\n",
    "\\begin{equation}\n",
    "    \\bm{f}: \\mathbb{R}^2 \\rightarrow \\mathbb{R}^2   \\quad | \\quad \n",
    "    \\bm{f}(x_1, x_2) = \n",
    "        \\begin{pmatrix}\n",
    "            (x_1^2 + x_2 - 11)^2 + (x_1 + x_2^2) ^2 \\\\\n",
    "            -20\\exp \\left[-0.2{\\sqrt {0.5\\left(x_1^{2}+x_2^{2}\\right)}}\\right]\n",
    "            -\\exp \\left[0.5\\left(\\cos 2\\pi x_1+\\cos 2\\pi x_2\\right)\\right]+e+20\n",
    "\n",
    "        \\end{pmatrix}\n",
    "\\end{equation}"
   ]
  },
  {
   "cell_type": "code",
   "execution_count": null,
   "id": "16",
   "metadata": {
    "papermill": {
     "duration": null,
     "end_time": null,
     "exception": null,
     "start_time": null,
     "status": "pending"
    },
    "tags": []
   },
   "outputs": [],
   "source": [
    "inputs = Inputs(\n",
    "    features=[\n",
    "        ContinuousInput(key=\"x_1\", bounds=(-6, 6)),\n",
    "        ContinuousInput(key=\"x_2\", bounds=(-6, 6)),\n",
    "    ]\n",
    ")\n",
    "outputs = Outputs(\n",
    "    features=[\n",
    "        ContinuousOutput(key=\"f_0\", objective=MinimizeObjective()),\n",
    "        ContinuousOutput(key=\"f_1\", objective=MinimizeObjective()),\n",
    "    ]\n",
    ")\n",
    "domain = Domain(inputs=inputs, outputs=outputs)\n",
    "\n",
    "\n",
    "def benchmark_function(candidates):\n",
    "    f0 = (candidates[\"x_1\"] ** 2 + candidates[\"x_2\"] - 11) ** 2 + (\n",
    "        candidates[\"x_1\"] + candidates[\"x_2\"] ** 2\n",
    "    ) ** 2\n",
    "    f1 = -20 * np.exp(\n",
    "        -0.2 * np.sqrt(0.5 * (candidates[\"x_1\"] ** 2 + candidates[\"x_2\"] ** 2))\n",
    "    ) + (\n",
    "        -np.exp(\n",
    "            0.5\n",
    "            * (\n",
    "                np.cos(2 * np.pi * candidates[\"x_1\"])\n",
    "                + np.cos(2 * np.pi * candidates[\"x_2\"])\n",
    "            )\n",
    "        )\n",
    "        + np.exp(1)\n",
    "        + 20\n",
    "    )\n",
    "    return pd.DataFrame({\"f_0\": f0, \"f_1\": f1})\n",
    "\n",
    "\n",
    "function = GenericBenchmark(domain=domain, func=benchmark_function)\n",
    "initial_experiments = pd.concat(\n",
    "    [initial_points, function.f(candidates=initial_points)], axis=1\n",
    ")"
   ]
  },
  {
   "cell_type": "markdown",
   "id": "17",
   "metadata": {
    "papermill": {
     "duration": null,
     "end_time": null,
     "exception": null,
     "start_time": null,
     "status": "pending"
    },
    "tags": []
   },
   "source": [
    "For the multi-objective function we need to pass two models to the strategy as each individual output is represented by a separate model.\n",
    "By default, the `ActiveLearningStrategy` focusses on minimizing the negative integrated posterior variance of each model equally. To minimize the variances in a more specific way certain weights can be provided for each output feature. This can be done by passing a `dictionary` containing the individual weights for each output feature with its corresponding key to the parameter `weights`."
   ]
  },
  {
   "cell_type": "code",
   "execution_count": null,
   "id": "18",
   "metadata": {
    "papermill": {
     "duration": null,
     "end_time": null,
     "exception": null,
     "start_time": null,
     "status": "pending"
    },
    "tags": []
   },
   "outputs": [
    {
     "data": {
      "text/html": [
       "<div>\n",
       "<style scoped>\n",
       "    .dataframe tbody tr th:only-of-type {\n",
       "        vertical-align: middle;\n",
       "    }\n",
       "\n",
       "    .dataframe tbody tr th {\n",
       "        vertical-align: top;\n",
       "    }\n",
       "\n",
       "    .dataframe thead th {\n",
       "        text-align: right;\n",
       "    }\n",
       "</style>\n",
       "<table border=\"1\" class=\"dataframe\">\n",
       "  <thead>\n",
       "    <tr style=\"text-align: right;\">\n",
       "      <th></th>\n",
       "      <th>x_1</th>\n",
       "      <th>x_2</th>\n",
       "      <th>f_0_pred</th>\n",
       "      <th>f_1_pred</th>\n",
       "      <th>f_0_sd</th>\n",
       "      <th>f_1_sd</th>\n",
       "      <th>f_0_des</th>\n",
       "      <th>f_1_des</th>\n",
       "    </tr>\n",
       "  </thead>\n",
       "  <tbody>\n",
       "    <tr>\n",
       "      <th>0</th>\n",
       "      <td>0.015805</td>\n",
       "      <td>2.90068</td>\n",
       "      <td>310.556615</td>\n",
       "      <td>9.613656</td>\n",
       "      <td>171.768523</td>\n",
       "      <td>1.359341</td>\n",
       "      <td>-310.556615</td>\n",
       "      <td>-9.613656</td>\n",
       "    </tr>\n",
       "  </tbody>\n",
       "</table>\n",
       "</div>"
      ],
      "text/plain": [
       "        x_1      x_2    f_0_pred  f_1_pred      f_0_sd    f_1_sd     f_0_des  \\\n",
       "0  0.015805  2.90068  310.556615  9.613656  171.768523  1.359341 -310.556615   \n",
       "\n",
       "    f_1_des  \n",
       "0 -9.613656  "
      ]
     },
     "metadata": {},
     "output_type": "display_data"
    }
   ],
   "source": [
    "# Manual set up of ActiveLearning\n",
    "weights = {\n",
    "    \"f_0\": 0.4,\n",
    "    \"f_1\": 0.6,\n",
    "}\n",
    "# create an instance of the aquisition function with distinct weights\n",
    "af = qNegIntPosVar(weights=weights, n_mc_samples=16)\n",
    "\n",
    "data_model = ActiveLearningStrategy(\n",
    "    domain=domain,\n",
    "    surrogate_specs=BotorchSurrogates(\n",
    "        surrogates=[\n",
    "            SingleTaskGPSurrogate(\n",
    "                inputs=domain.inputs,\n",
    "                outputs=Outputs(features=[domain.outputs[0]]),\n",
    "            ),\n",
    "            SingleTaskGPSurrogate(\n",
    "                inputs=domain.inputs,\n",
    "                outputs=Outputs(features=[domain.outputs[1]]),\n",
    "            ),\n",
    "        ]\n",
    "    ),\n",
    "    acquisition_function=af,\n",
    ")\n",
    "recommender = strategies.map(data_model=data_model)\n",
    "recommender.tell(experiments=initial_experiments)\n",
    "candidates = recommender.ask(candidate_count=1)\n",
    "display(candidates)"
   ]
  },
  {
   "cell_type": "code",
   "execution_count": null,
   "id": "19",
   "metadata": {
    "papermill": {
     "duration": null,
     "end_time": null,
     "exception": null,
     "start_time": null,
     "status": "pending"
    },
    "tags": []
   },
   "outputs": [],
   "source": [
    "# Running the active learning strategy\n",
    "max_iter = 20\n",
    "results = initial_experiments\n",
    "\n",
    "for _ in range(max_iter):\n",
    "    # run active learning strategy\n",
    "    X = recommender.ask(candidate_count=1)[domain.inputs.get_keys()]\n",
    "    Y = function.f(candidates=X)\n",
    "    XY = pd.concat([X, Y], axis=1)\n",
    "    recommender.tell(experiments=XY)  # pass new experimental data\n",
    "    results = pd.concat([results, XY], axis=0, ignore_index=True)"
   ]
  },
  {
   "cell_type": "code",
   "execution_count": null,
   "id": "20",
   "metadata": {
    "papermill": {
     "duration": null,
     "end_time": null,
     "exception": null,
     "start_time": null,
     "status": "pending"
    },
    "tags": []
   },
   "outputs": [
    {
     "name": "stderr",
     "output_type": "stream",
     "text": [
      "Run 0: 100%|██████████| 20/20 [00:00<00:00, 104.59it/s, Current Best:=1.000]\n"
     ]
    }
   ],
   "source": [
    "random_results = run(\n",
    "    function,\n",
    "    strategy_factory=strategy_factory,\n",
    "    n_iterations=max_iter if not SMOKE_TEST else 1,\n",
    "    metric=lambda domain, experiments: 1.0,\n",
    "    initial_sampler=sample,\n",
    "    n_runs=1,\n",
    "    n_procs=1,\n",
    ")"
   ]
  },
  {
   "cell_type": "markdown",
   "id": "21",
   "metadata": {
    "papermill": {
     "duration": null,
     "end_time": null,
     "exception": null,
     "start_time": null,
     "status": "pending"
    },
    "tags": []
   },
   "source": [
    "#### Plotting"
   ]
  },
  {
   "cell_type": "code",
   "execution_count": null,
   "id": "22",
   "metadata": {
    "papermill": {
     "duration": null,
     "end_time": null,
     "exception": null,
     "start_time": null,
     "status": "pending"
    },
    "tags": []
   },
   "outputs": [
    {
     "name": "stderr",
     "output_type": "stream",
     "text": [
      "/var/folders/nl/sh8rg5qn11b4f5g6lgn35m380000gn/T/ipykernel_14474/2708921481.py:44: UserWarning: FigureCanvasAgg is non-interactive, and thus cannot be shown\n",
      "  fig.show()\n"
     ]
    },
    {
     "data": {
      "image/png": "[encoded data removed]",
      "text/plain": [
       "<Figure size 1000x800 with 4 Axes>"
      ]
     },
     "metadata": {},
     "output_type": "display_data"
    }
   ],
   "source": [
    "plt.rcParams[\"figure.figsize\"] = (10, 8)\n",
    "fig, ax = plt.subplots(2, 2)\n",
    "\n",
    "\n",
    "def f1(grid):\n",
    "    return (\n",
    "        -20 * np.exp(-0.2 * np.sqrt(0.5 * (grid[0] ** 2 + grid[1] ** 2)))\n",
    "        - np.exp(0.5 * (np.cos(2 * np.pi * grid[0]) + np.cos(2 * np.pi * grid[1])))\n",
    "        + np.exp(1)\n",
    "        + 20\n",
    "    )\n",
    "\n",
    "\n",
    "Z1 = f1(mesh)\n",
    "levels = np.linspace(Z1.min(), Z1.max(), 10)\n",
    "ax[0, 0].contourf(\n",
    "    X_grid,\n",
    "    Y_grid,\n",
    "    Z,\n",
    "    cmap=cm.viridis,\n",
    ")\n",
    "ax[0, 0].scatter(random_results[0][0].x_1, random_results[0][0].x_2, c=\"white\")\n",
    "ax[0, 1].contourf(\n",
    "    X_grid,\n",
    "    Y_grid,\n",
    "    Z,\n",
    "    cmap=cm.viridis,\n",
    ")\n",
    "ax[0, 1].scatter(results.x_1, results.x_2, c=\"white\")\n",
    "ax[1, 0].contourf(X_grid, Y_grid, Z1, cmap=cm.viridis, levels=levels)\n",
    "ax[1, 0].scatter(\n",
    "    random_results[0][0].x_1, random_results[0][0].x_2, c=\"white\", edgecolors=\"black\"\n",
    ")\n",
    "ax[1, 1].contourf(X_grid, Y_grid, Z1, cmap=cm.viridis, levels=levels)\n",
    "ax[1, 1].scatter(results.x_1, results.x_2, c=\"white\", edgecolors=\"black\")\n",
    "\n",
    "ax[0, 0].axis([-7, 7, -7, 7])\n",
    "ax[1, 0].set_xlabel(\"$x_1$\")\n",
    "ax[1, 1].set_xlabel(\"$x_1$\")\n",
    "ax[0, 0].set_ylabel(\"$x_2$\")\n",
    "ax[1, 0].set_ylabel(\"$x_2$\")\n",
    "ax[0, 0].set_title(\"random strategy\")\n",
    "ax[0, 1].set_title(\"active learning strategy\")\n",
    "fig.show()"
   ]
  }
 ],
 "metadata": {
  "kernelspec": {
   "display_name": "base",
   "language": "python",
   "name": "python3"
  },
  "language_info": {
   "codemirror_mode": {
    "name": "ipython",
    "version": 3
   },
   "file_extension": ".py",
   "mimetype": "text/x-python",
   "name": "python",
   "nbconvert_exporter": "python",
   "pygments_lexer": "ipython3",
   "version": "3.12.7"
  },
  "papermill": {
   "default_parameters": {},
   "duration": 5.075886,
   "end_time": "2024-10-10T20:35:58.452743",
   "environment_variables": {},
   "exception": true,
   "input_path": "/Users/radical-rhys/Radical/bofire/tutorials/benchmarks/014-ActiveLearning.ipynb",
   "output_path": "/Users/radical-rhys/Radical/bofire/tutorials/benchmarks/014-ActiveLearning.ipynb",
   "parameters": {},
   "start_time": "2024-10-10T20:35:53.376857",
   "version": "2.6.0"
  }
 },
 "nbformat": 4,
 "nbformat_minor": 5
}
