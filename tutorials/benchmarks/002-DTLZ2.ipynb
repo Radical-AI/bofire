{
 "cells": [
  {
   "cell_type": "markdown",
   "id": "0",
   "metadata": {
    "papermill": {
     "duration": 0.001858,
     "end_time": "2024-10-10T16:03:41.447369",
     "exception": false,
     "start_time": "2024-10-10T16:03:41.445511",
     "status": "completed"
    },
    "tags": []
   },
   "source": [
    "# DTLZ2 Benchmark\n",
    "## Imports"
   ]
  },
  {
   "cell_type": "code",
   "execution_count": null,
   "id": "1",
   "metadata": {
    "papermill": {
     "duration": 2.409127,
     "end_time": "2024-10-10T16:03:43.858116",
     "exception": false,
     "start_time": "2024-10-10T16:03:41.448989",
     "status": "completed"
    },
    "tags": []
   },
   "outputs": [],
   "source": [
    "import os\n",
    "\n",
    "import pandas as pd\n",
    "\n",
    "import bofire.strategies.api as strategies\n",
    "from bofire.benchmarks.multi import DTLZ2\n",
    "from bofire.data_models.api import Domain, Inputs, Outputs\n",
    "from bofire.data_models.features.api import ContinuousInput, ContinuousOutput\n",
    "from bofire.data_models.objectives.api import MinimizeObjective\n",
    "from bofire.data_models.strategies.api import (\n",
    "    MoboStrategy,\n",
    "    QparegoStrategy,\n",
    "    RandomStrategy,\n",
    ")\n",
    "from bofire.runners.api import run\n",
    "from bofire.utils.multiobjective import compute_hypervolume\n",
    "\n",
    "\n",
    "SMOKE_TEST = os.environ.get(\"SMOKE_TEST\")"
   ]
  },
  {
   "attachments": {},
   "cell_type": "markdown",
   "id": "2",
   "metadata": {
    "papermill": {
     "duration": 0.001103,
     "end_time": "2024-10-10T16:03:43.860576",
     "exception": false,
     "start_time": "2024-10-10T16:03:43.859473",
     "status": "completed"
    },
    "tags": []
   },
   "source": [
    "## Manual setup of the optimization domain\n",
    "\n",
    "The following cell shows how to manually setup the optimization problem in BoFire for didactic purposes. In the following the implemented benchmark module is then used."
   ]
  },
  {
   "cell_type": "code",
   "execution_count": null,
   "id": "3",
   "metadata": {
    "papermill": {
     "duration": 0.005885,
     "end_time": "2024-10-10T16:03:43.867617",
     "exception": false,
     "start_time": "2024-10-10T16:03:43.861732",
     "status": "completed"
    },
    "tags": []
   },
   "outputs": [],
   "source": [
    "input_features = Inputs(\n",
    "    features=[ContinuousInput(key=f\"x_{i}\", bounds=(0, 1)) for i in range(6)]\n",
    ")\n",
    "# here the minimize objective is used, if you want to maximize you have to use the maximize objective.\n",
    "output_features = Outputs(\n",
    "    features=[\n",
    "        ContinuousOutput(key=f\"f_{i}\", objective=MinimizeObjective(w=1.0))\n",
    "        for i in range(2)\n",
    "    ]\n",
    ")\n",
    "# no constraints are present so we can create the domain\n",
    "domain = Domain(inputs=input_features, outputs=output_features)"
   ]
  },
  {
   "attachments": {},
   "cell_type": "markdown",
   "id": "4",
   "metadata": {
    "papermill": {
     "duration": 0.00108,
     "end_time": "2024-10-10T16:03:43.869928",
     "exception": false,
     "start_time": "2024-10-10T16:03:43.868848",
     "status": "completed"
    },
    "tags": []
   },
   "source": [
    "## Random Strategy"
   ]
  },
  {
   "cell_type": "code",
   "execution_count": null,
   "id": "5",
   "metadata": {
    "papermill": {
     "duration": 0.039625,
     "end_time": "2024-10-10T16:03:43.910619",
     "exception": false,
     "start_time": "2024-10-10T16:03:43.870994",
     "status": "completed"
    },
    "tags": []
   },
   "outputs": [
    {
     "name": "stderr",
     "output_type": "stream",
     "text": [
      "\r\n",
      "  0%|          | 0/1 [00:00<?, ?it/s]"
     ]
    },
    {
     "name": "stderr",
     "output_type": "stream",
     "text": [
      "\r\n",
      "run 0 with current best 0.072:   0%|          | 0/1 [00:00<?, ?it/s]"
     ]
    },
    {
     "name": "stderr",
     "output_type": "stream",
     "text": [
      "\r\n",
      "run 0 with current best 0.072: 100%|██████████| 1/1 [00:00<00:00, 81.90it/s]"
     ]
    },
    {
     "name": "stderr",
     "output_type": "stream",
     "text": [
      "\n"
     ]
    }
   ],
   "source": [
    "def sample(domain):\n",
    "    datamodel = RandomStrategy(domain=domain)\n",
    "    sampler = strategies.map(data_model=datamodel)\n",
    "    sampled = sampler.ask(10)\n",
    "    return sampled\n",
    "\n",
    "\n",
    "def hypervolume(domain: Domain, experiments: pd.DataFrame) -> float:\n",
    "    return compute_hypervolume(domain, experiments, ref_point={\"f_0\": 1.1, \"f_1\": 1.1})\n",
    "\n",
    "\n",
    "random_results = run(\n",
    "    DTLZ2(dim=6),\n",
    "    strategy_factory=lambda domain: strategies.map(RandomStrategy(domain=domain)),\n",
    "    n_iterations=50 if not SMOKE_TEST else 1,\n",
    "    metric=hypervolume,\n",
    "    initial_sampler=sample,\n",
    "    n_runs=1,\n",
    "    n_procs=1,\n",
    ")"
   ]
  },
  {
   "attachments": {},
   "cell_type": "markdown",
   "id": "6",
   "metadata": {
    "papermill": {
     "duration": 0.001204,
     "end_time": "2024-10-10T16:03:43.913184",
     "exception": false,
     "start_time": "2024-10-10T16:03:43.911980",
     "status": "completed"
    },
    "tags": []
   },
   "source": [
    "## MOBO Strategy\n",
    "### Automatic run"
   ]
  },
  {
   "cell_type": "code",
   "execution_count": null,
   "id": "7",
   "metadata": {
    "papermill": {
     "duration": 4.022305,
     "end_time": "2024-10-10T16:03:47.936731",
     "exception": false,
     "start_time": "2024-10-10T16:03:43.914426",
     "status": "completed"
    },
    "tags": []
   },
   "outputs": [
    {
     "name": "stderr",
     "output_type": "stream",
     "text": [
      "\r\n",
      "  0%|          | 0/1 [00:00<?, ?it/s]"
     ]
    },
    {
     "name": "stderr",
     "output_type": "stream",
     "text": [
      "\r\n",
      "run 0 with current best 0.164:   0%|          | 0/1 [00:03<?, ?it/s]"
     ]
    },
    {
     "name": "stderr",
     "output_type": "stream",
     "text": [
      "\r\n",
      "run 0 with current best 0.164: 100%|██████████| 1/1 [00:03<00:00,  3.68s/it]"
     ]
    },
    {
     "name": "stderr",
     "output_type": "stream",
     "text": [
      "\r\n",
      "run 0 with current best 0.164: 100%|██████████| 1/1 [00:03<00:00,  3.68s/it]"
     ]
    },
    {
     "name": "stderr",
     "output_type": "stream",
     "text": [
      "\n"
     ]
    }
   ],
   "source": [
    "def strategy_factory(domain: Domain):\n",
    "    data_model = MoboStrategy(domain=domain, ref_point={\"f_0\": 1.1, \"f_1\": 1.1})\n",
    "    return strategies.map(data_model)\n",
    "\n",
    "\n",
    "results = run(\n",
    "    DTLZ2(dim=6),\n",
    "    strategy_factory=strategy_factory,\n",
    "    n_iterations=50 if not SMOKE_TEST else 1,\n",
    "    metric=hypervolume,\n",
    "    initial_sampler=sample,\n",
    "    n_runs=1,\n",
    "    n_procs=1,\n",
    ")"
   ]
  },
  {
   "attachments": {},
   "cell_type": "markdown",
   "id": "8",
   "metadata": {
    "papermill": {
     "duration": 0.001233,
     "end_time": "2024-10-10T16:03:47.939522",
     "exception": false,
     "start_time": "2024-10-10T16:03:47.938289",
     "status": "completed"
    },
    "tags": []
   },
   "source": [
    "### Manual setup\n",
    "\n",
    "#### Using the default Models"
   ]
  },
  {
   "cell_type": "code",
   "execution_count": null,
   "id": "9",
   "metadata": {
    "papermill": {
     "duration": 2.250576,
     "end_time": "2024-10-10T16:03:50.191430",
     "exception": false,
     "start_time": "2024-10-10T16:03:47.940854",
     "status": "completed"
    },
    "tags": []
   },
   "outputs": [
    {
     "data": {
      "text/html": [
       "<div>\n",
       "<style scoped>\n",
       "    .dataframe tbody tr th:only-of-type {\n",
       "        vertical-align: middle;\n",
       "    }\n",
       "\n",
       "    .dataframe tbody tr th {\n",
       "        vertical-align: top;\n",
       "    }\n",
       "\n",
       "    .dataframe thead th {\n",
       "        text-align: right;\n",
       "    }\n",
       "</style>\n",
       "<table border=\"1\" class=\"dataframe\">\n",
       "  <thead>\n",
       "    <tr style=\"text-align: right;\">\n",
       "      <th></th>\n",
       "      <th>x_0</th>\n",
       "      <th>x_1</th>\n",
       "      <th>x_2</th>\n",
       "      <th>x_3</th>\n",
       "      <th>x_4</th>\n",
       "      <th>x_5</th>\n",
       "      <th>f_0_pred</th>\n",
       "      <th>f_1_pred</th>\n",
       "      <th>f_0_sd</th>\n",
       "      <th>f_1_sd</th>\n",
       "      <th>f_0_des</th>\n",
       "      <th>f_1_des</th>\n",
       "    </tr>\n",
       "  </thead>\n",
       "  <tbody>\n",
       "    <tr>\n",
       "      <th>0</th>\n",
       "      <td>0.640905</td>\n",
       "      <td>0.473734</td>\n",
       "      <td>0.51653</td>\n",
       "      <td>0.400702</td>\n",
       "      <td>0.565772</td>\n",
       "      <td>0.488539</td>\n",
       "      <td>0.598539</td>\n",
       "      <td>0.887271</td>\n",
       "      <td>0.170412</td>\n",
       "      <td>0.210777</td>\n",
       "      <td>-0.598539</td>\n",
       "      <td>-0.887271</td>\n",
       "    </tr>\n",
       "  </tbody>\n",
       "</table>\n",
       "</div>"
      ],
      "text/plain": [
       "        x_0       x_1      x_2       x_3       x_4       x_5  f_0_pred  \\\n",
       "0  0.640905  0.473734  0.51653  0.400702  0.565772  0.488539  0.598539   \n",
       "\n",
       "   f_1_pred    f_0_sd    f_1_sd   f_0_des   f_1_des  \n",
       "0  0.887271  0.170412  0.210777 -0.598539 -0.887271  "
      ]
     },
     "metadata": {},
     "output_type": "display_data"
    }
   ],
   "source": [
    "# we get the domain from the benchmark module, in real use case we have to build it on our own\n",
    "# make sure that the objective is set correctly\n",
    "domain = DTLZ2(dim=6).domain\n",
    "# we generate training data\n",
    "experiments = DTLZ2(dim=6).f(domain.inputs.sample(10), return_complete=True)\n",
    "# we setup the strategy\n",
    "# providing of a reference point is not mandatory but can help\n",
    "# the reference point has to be wrt to the assigned objective always worse than the points on the paretofront.\n",
    "data_model = MoboStrategy(domain=domain, ref_point={\"f_0\": 1.1, \"f_1\": 1.1})\n",
    "recommender = strategies.map(data_model=data_model)\n",
    "# we tell the strategy our historical data\n",
    "recommender.tell(experiments=experiments)\n",
    "# we ask for a new point to evaluate\n",
    "candidates = recommender.ask(candidate_count=1)\n",
    "# we show the candidate\n",
    "display(candidates)\n",
    "# this candidate has to be then provided to the benchmark function and evaluated and then told back to the optimizer to get the next candidate"
   ]
  },
  {
   "attachments": {},
   "cell_type": "markdown",
   "id": "10",
   "metadata": {
    "papermill": {
     "duration": 0.001272,
     "end_time": "2024-10-10T16:03:50.194319",
     "exception": false,
     "start_time": "2024-10-10T16:03:50.193047",
     "status": "completed"
    },
    "tags": []
   },
   "source": [
    "#### Setup specific models"
   ]
  },
  {
   "cell_type": "code",
   "execution_count": null,
   "id": "11",
   "metadata": {
    "papermill": {
     "duration": 1.771781,
     "end_time": "2024-10-10T16:03:51.967353",
     "exception": false,
     "start_time": "2024-10-10T16:03:50.195572",
     "status": "completed"
    },
    "tags": []
   },
   "outputs": [
    {
     "data": {
      "text/html": [
       "<div>\n",
       "<style scoped>\n",
       "    .dataframe tbody tr th:only-of-type {\n",
       "        vertical-align: middle;\n",
       "    }\n",
       "\n",
       "    .dataframe tbody tr th {\n",
       "        vertical-align: top;\n",
       "    }\n",
       "\n",
       "    .dataframe thead th {\n",
       "        text-align: right;\n",
       "    }\n",
       "</style>\n",
       "<table border=\"1\" class=\"dataframe\">\n",
       "  <thead>\n",
       "    <tr style=\"text-align: right;\">\n",
       "      <th></th>\n",
       "      <th>x_0</th>\n",
       "      <th>x_1</th>\n",
       "      <th>x_2</th>\n",
       "      <th>x_3</th>\n",
       "      <th>x_4</th>\n",
       "      <th>x_5</th>\n",
       "      <th>f_0_pred</th>\n",
       "      <th>f_1_pred</th>\n",
       "      <th>f_0_sd</th>\n",
       "      <th>f_1_sd</th>\n",
       "      <th>f_0_des</th>\n",
       "      <th>f_1_des</th>\n",
       "    </tr>\n",
       "  </thead>\n",
       "  <tbody>\n",
       "    <tr>\n",
       "      <th>0</th>\n",
       "      <td>0.0</td>\n",
       "      <td>0.413451</td>\n",
       "      <td>0.583265</td>\n",
       "      <td>0.587922</td>\n",
       "      <td>0.503807</td>\n",
       "      <td>0.341027</td>\n",
       "      <td>0.787196</td>\n",
       "      <td>0.696035</td>\n",
       "      <td>0.248392</td>\n",
       "      <td>0.233558</td>\n",
       "      <td>-0.787196</td>\n",
       "      <td>-0.696035</td>\n",
       "    </tr>\n",
       "  </tbody>\n",
       "</table>\n",
       "</div>"
      ],
      "text/plain": [
       "   x_0       x_1       x_2       x_3       x_4       x_5  f_0_pred  f_1_pred  \\\n",
       "0  0.0  0.413451  0.583265  0.587922  0.503807  0.341027  0.787196  0.696035   \n",
       "\n",
       "     f_0_sd    f_1_sd   f_0_des   f_1_des  \n",
       "0  0.248392  0.233558 -0.787196 -0.696035  "
      ]
     },
     "metadata": {},
     "output_type": "display_data"
    }
   ],
   "source": [
    "from bofire.data_models.kernels.api import RBFKernel, ScaleKernel\n",
    "from bofire.data_models.surrogates.api import BotorchSurrogates, SingleTaskGPSurrogate\n",
    "\n",
    "\n",
    "# in this case you would use non default kernels for the different outputs\n",
    "# it is also possible to build the models for a subset of the complete features\n",
    "data_model = MoboStrategy(\n",
    "    domain=domain,\n",
    "    ref_point={\"f_0\": 1.1, \"f_1\": 1.1},\n",
    "    surrogate_specs=BotorchSurrogates(\n",
    "        surrogates=[\n",
    "            SingleTaskGPSurrogate(\n",
    "                inputs=domain.inputs,\n",
    "                outputs=Outputs(features=[domain.outputs[0]]),\n",
    "                kernel=ScaleKernel(base_kernel=RBFKernel(ard=True)),\n",
    "            ),\n",
    "            SingleTaskGPSurrogate(\n",
    "                inputs=domain.inputs,\n",
    "                outputs=Outputs(features=[domain.outputs[1]]),\n",
    "                kernel=ScaleKernel(base_kernel=RBFKernel(ard=False)),\n",
    "            ),\n",
    "        ]\n",
    "    ),\n",
    ")\n",
    "recommender = strategies.map(data_model=data_model)\n",
    "# we tell the strategy our historical data\n",
    "recommender.tell(experiments=experiments)\n",
    "# we ask for a new point to evaluate\n",
    "candidates = recommender.ask(candidate_count=1)\n",
    "# we show the candidate\n",
    "display(candidates)"
   ]
  },
  {
   "attachments": {},
   "cell_type": "markdown",
   "id": "12",
   "metadata": {
    "papermill": {
     "duration": 0.001364,
     "end_time": "2024-10-10T16:03:51.970434",
     "exception": false,
     "start_time": "2024-10-10T16:03:51.969070",
     "status": "completed"
    },
    "tags": []
   },
   "source": [
    "## QPAREGO Strategy"
   ]
  },
  {
   "cell_type": "code",
   "execution_count": null,
   "id": "13",
   "metadata": {
    "papermill": {
     "duration": 1.195605,
     "end_time": "2024-10-10T16:03:53.167760",
     "exception": false,
     "start_time": "2024-10-10T16:03:51.972155",
     "status": "completed"
    },
    "tags": []
   },
   "outputs": [
    {
     "name": "stderr",
     "output_type": "stream",
     "text": [
      "\r\n",
      "  0%|          | 0/1 [00:00<?, ?it/s]"
     ]
    },
    {
     "name": "stderr",
     "output_type": "stream",
     "text": [
      "/Users/radical-rhys/miniconda3/lib/python3.12/site-packages/botorch/acquisition/monte_carlo.py:495: NumericsWarning: qNoisyExpectedImprovement has known numerical issues that lead to suboptimal optimization performance. It is strongly recommended to simply replace\n",
      "\n",
      "\t qNoisyExpectedImprovement \t --> \t qLogNoisyExpectedImprovement \n",
      "\n",
      "instead, which fixes the issues and has the same API. See https://arxiv.org/abs/2310.20708 for details.\n",
      "  legacy_ei_numerics_warning(legacy_name=type(self).__name__)\n"
     ]
    },
    {
     "name": "stderr",
     "output_type": "stream",
     "text": [
      "\r\n",
      "run 0 with current best 0.010:   0%|          | 0/1 [00:00<?, ?it/s]"
     ]
    },
    {
     "name": "stderr",
     "output_type": "stream",
     "text": [
      "\r\n",
      "run 0 with current best 0.010: 100%|██████████| 1/1 [00:00<00:00,  1.11it/s]"
     ]
    },
    {
     "name": "stderr",
     "output_type": "stream",
     "text": [
      "\r\n",
      "run 0 with current best 0.010: 100%|██████████| 1/1 [00:00<00:00,  1.11it/s]"
     ]
    },
    {
     "name": "stderr",
     "output_type": "stream",
     "text": [
      "\n"
     ]
    }
   ],
   "source": [
    "results_qparego = run(\n",
    "    DTLZ2(dim=6),\n",
    "    strategy_factory=lambda domain: strategies.map(QparegoStrategy(domain=domain)),\n",
    "    n_iterations=50 if not SMOKE_TEST else 1,\n",
    "    metric=hypervolume,\n",
    "    initial_sampler=sample,\n",
    "    n_runs=1,\n",
    "    n_procs=1,\n",
    ")"
   ]
  },
  {
   "attachments": {},
   "cell_type": "markdown",
   "id": "14",
   "metadata": {
    "papermill": {
     "duration": 0.001528,
     "end_time": "2024-10-10T16:03:53.171111",
     "exception": false,
     "start_time": "2024-10-10T16:03:53.169583",
     "status": "completed"
    },
    "tags": []
   },
   "source": [
    "## Performance Plot"
   ]
  },
  {
   "cell_type": "code",
   "execution_count": null,
   "id": "15",
   "metadata": {
    "papermill": {
     "duration": 0.30893,
     "end_time": "2024-10-10T16:03:53.481608",
     "exception": false,
     "start_time": "2024-10-10T16:03:53.172678",
     "status": "completed"
    },
    "tags": []
   },
   "outputs": [
    {
     "data": {
      "text/plain": [
       "Text(0, 0.5, 'f_1')"
      ]
     },
     "execution_count": null,
     "metadata": {},
     "output_type": "execute_result"
    },
    {
     "data": {
      "image/png": "[encoded data removed]",
      "text/plain": [
       "<Figure size 640x480 with 1 Axes>"
      ]
     },
     "metadata": {},
     "output_type": "display_data"
    }
   ],
   "source": [
    "import matplotlib.pyplot as plt\n",
    "\n",
    "\n",
    "fig, ax = plt.subplots()\n",
    "\n",
    "ax.scatter(results[0][0].f_0, results[0][0].f_1, label=\"qehvi\")\n",
    "ax.scatter(results_qparego[0][0].f_0, results_qparego[0][0].f_1, label=\"qparego\")\n",
    "ax.scatter(random_results[0][0].f_0, random_results[0][0].f_1, label=\"random\")\n",
    "\n",
    "ax.legend()\n",
    "\n",
    "ax.set_xlabel(\"f_0\")\n",
    "ax.set_ylabel(\"f_1\")\n",
    "\n",
    "fig.show()"
   ]
  }
 ],
 "metadata": {
  "kernelspec": {
   "display_name": "base",
   "language": "python",
   "name": "python3"
  },
  "language_info": {
   "codemirror_mode": {
    "name": "ipython",
    "version": 3
   },
   "file_extension": ".py",
   "mimetype": "text/x-python",
   "name": "python",
   "nbconvert_exporter": "python",
   "pygments_lexer": "ipython3",
   "version": "3.12.2"
  },
  "papermill": {
   "default_parameters": {},
   "duration": 15.54048,
   "end_time": "2024-10-10T16:03:56.153946",
   "environment_variables": {},
   "exception": null,
   "input_path": "/Users/radical-rhys/Radical/bofire/tutorials/benchmarks/002-DTLZ2.ipynb",
   "output_path": "/Users/radical-rhys/Radical/bofire/tutorials/benchmarks/002-DTLZ2.ipynb",
   "parameters": {},
   "start_time": "2024-10-10T16:03:40.613466",
   "version": "2.6.0"
  }
 },
 "nbformat": 4,
 "nbformat_minor": 5
}
