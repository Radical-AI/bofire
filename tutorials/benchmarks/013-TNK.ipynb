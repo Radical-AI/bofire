{
 "cells": [
  {
   "cell_type": "markdown",
   "id": "0",
   "metadata": {
    "papermill": {
     "duration": 0.004555,
     "end_time": "2024-10-10T20:35:46.993865",
     "exception": false,
     "start_time": "2024-10-10T20:35:46.989310",
     "status": "completed"
    },
    "tags": []
   },
   "source": [
    "# TNK Benchmark\n",
    "## Imports"
   ]
  },
  {
   "cell_type": "code",
   "execution_count": null,
   "id": "1",
   "metadata": {
    "papermill": {
     "duration": 3.151705,
     "end_time": "2024-10-10T20:35:50.148179",
     "exception": false,
     "start_time": "2024-10-10T20:35:46.996474",
     "status": "completed"
    },
    "tags": []
   },
   "outputs": [],
   "source": [
    "import os\n",
    "import warnings\n",
    "\n",
    "import matplotlib.pyplot as plt\n",
    "import pandas as pd\n",
    "\n",
    "import bofire.strategies.api as strategies\n",
    "from bofire.benchmarks.api import TNK\n",
    "from bofire.data_models.api import Domain\n",
    "from bofire.data_models.strategies.api import MoboStrategy, RandomStrategy\n",
    "from bofire.runners.api import run\n",
    "from bofire.utils.multiobjective import compute_hypervolume\n",
    "\n",
    "\n",
    "warnings.simplefilter(\"once\")\n",
    "SMOKE_TEST = os.environ.get(\"SMOKE_TEST\")"
   ]
  },
  {
   "attachments": {},
   "cell_type": "markdown",
   "id": "2",
   "metadata": {
    "papermill": {
     "duration": 0.000852,
     "end_time": "2024-10-10T20:35:50.150223",
     "exception": false,
     "start_time": "2024-10-10T20:35:50.149371",
     "status": "completed"
    },
    "tags": []
   },
   "source": [
    "## Random Strategy"
   ]
  },
  {
   "cell_type": "code",
   "execution_count": null,
   "id": "3",
   "metadata": {
    "papermill": {
     "duration": 0.225999,
     "end_time": "2024-10-10T20:35:50.376983",
     "exception": true,
     "start_time": "2024-10-10T20:35:50.150984",
     "status": "failed"
    },
    "tags": []
   },
   "outputs": [
    {
     "name": "stderr",
     "output_type": "stream",
     "text": [
      "Run 0: 100%|██████████| 100/100 [00:01<00:00, 78.38it/s, Current Best:=11.826]\n"
     ]
    }
   ],
   "source": [
    "def sample(domain):\n",
    "    datamodel = RandomStrategy(domain=domain)\n",
    "    sampler = strategies.map(data_model=datamodel)\n",
    "    sampled = sampler.ask(10)\n",
    "    return sampled\n",
    "\n",
    "\n",
    "def hypervolume(domain: Domain, experiments: pd.DataFrame) -> float:\n",
    "    return compute_hypervolume(\n",
    "        domain,\n",
    "        experiments.loc[(experiments.c1 >= 0) & (experiments.c2 <= 0.5)],\n",
    "        ref_point={\"f1\": 4, \"f2\": 4},\n",
    "    )\n",
    "\n",
    "\n",
    "random_results = run(\n",
    "    TNK(),\n",
    "    strategy_factory=lambda domain: strategies.map(RandomStrategy(domain=domain)),\n",
    "    n_iterations=100 if not SMOKE_TEST else 1,\n",
    "    metric=hypervolume,\n",
    "    initial_sampler=sample,\n",
    "    n_runs=1,\n",
    "    n_procs=1,\n",
    ")"
   ]
  },
  {
   "attachments": {},
   "cell_type": "markdown",
   "id": "4",
   "metadata": {
    "papermill": {
     "duration": null,
     "end_time": null,
     "exception": null,
     "start_time": null,
     "status": "pending"
    },
    "tags": []
   },
   "source": [
    "## MOBO Strategy\n"
   ]
  },
  {
   "cell_type": "code",
   "execution_count": null,
   "id": "5",
   "metadata": {
    "papermill": {
     "duration": null,
     "end_time": null,
     "exception": null,
     "start_time": null,
     "status": "pending"
    },
    "tags": []
   },
   "outputs": [
    {
     "name": "stderr",
     "output_type": "stream",
     "text": [
      "Run 0:  48%|████▊     | 48/100 [06:43<10:23, 11.99s/it, Current Best:=14.853]/Users/radical-rhys/miniconda/lib/python3.12/site-packages/botorch/optim/optimize.py:568: RuntimeWarning: Optimization failed in `gen_candidates_scipy` with the following warning(s):\n",
      "[OptimizationWarning('Optimization failed within `scipy.optimize.minimize` with status 2 and message ABNORMAL_TERMINATION_IN_LNSRCH.')]\n",
      "Trying again with a new set of initial conditions.\n",
      "  return _optimize_acqf_batch(opt_inputs=opt_inputs)\n",
      "Run 0:  50%|█████     | 50/100 [07:23<13:06, 15.72s/it, Current Best:=14.853]/Users/radical-rhys/miniconda/lib/python3.12/site-packages/botorch/optim/optimize.py:568: RuntimeWarning: Optimization failed in `gen_candidates_scipy` with the following warning(s):\n",
      "[NumericalWarning('A not p.d., added jitter of 1.0e-08 to the diagonal'), OptimizationWarning('Optimization failed within `scipy.optimize.minimize` with status 2 and message ABNORMAL_TERMINATION_IN_LNSRCH.')]\n",
      "Trying again with a new set of initial conditions.\n",
      "  return _optimize_acqf_batch(opt_inputs=opt_inputs)\n",
      "Run 0:  51%|█████     | 51/100 [07:45<14:17, 17.51s/it, Current Best:=14.860]/Users/radical-rhys/miniconda/lib/python3.12/site-packages/botorch/optim/optimize.py:568: RuntimeWarning: Optimization failed in `gen_candidates_scipy` with the following warning(s):\n",
      "[OptimizationWarning('Optimization failed within `scipy.optimize.minimize` with status 2 and message ABNORMAL_TERMINATION_IN_LNSRCH.')]\n",
      "Trying again with a new set of initial conditions.\n",
      "  return _optimize_acqf_batch(opt_inputs=opt_inputs)\n",
      "Run 0:  52%|█████▏    | 52/100 [08:11<15:57, 19.94s/it, Current Best:=14.864]/Users/radical-rhys/miniconda/lib/python3.12/site-packages/botorch/optim/optimize.py:568: RuntimeWarning: Optimization failed in `gen_candidates_scipy` with the following warning(s):\n",
      "[NumericalWarning('A not p.d., added jitter of 1.0e-08 to the diagonal'), OptimizationWarning('Optimization failed within `scipy.optimize.minimize` with status 2 and message ABNORMAL_TERMINATION_IN_LNSRCH.')]\n",
      "Trying again with a new set of initial conditions.\n",
      "  return _optimize_acqf_batch(opt_inputs=opt_inputs)\n",
      "/Users/radical-rhys/miniconda/lib/python3.12/site-packages/botorch/optim/optimize.py:568: RuntimeWarning: Optimization failed on the second try, after generating a new set of initial conditions.\n",
      "  return _optimize_acqf_batch(opt_inputs=opt_inputs)\n",
      "Run 0:  53%|█████▎    | 53/100 [08:41<18:02, 23.03s/it, Current Best:=14.864]/Users/radical-rhys/miniconda/lib/python3.12/site-packages/botorch/optim/optimize.py:568: RuntimeWarning: Optimization failed in `gen_candidates_scipy` with the following warning(s):\n",
      "[NumericalWarning('A not p.d., added jitter of 1.0e-08 to the diagonal'), OptimizationWarning('Optimization failed within `scipy.optimize.minimize` with status 2 and message ABNORMAL_TERMINATION_IN_LNSRCH.')]\n",
      "Trying again with a new set of initial conditions.\n",
      "  return _optimize_acqf_batch(opt_inputs=opt_inputs)\n",
      "Run 0:  55%|█████▌    | 55/100 [09:24<15:34, 20.78s/it, Current Best:=14.866]/Users/radical-rhys/miniconda/lib/python3.12/site-packages/botorch/optim/optimize.py:568: RuntimeWarning: Optimization failed in `gen_candidates_scipy` with the following warning(s):\n",
      "[NumericalWarning('A not p.d., added jitter of 1.0e-08 to the diagonal'), OptimizationWarning('Optimization failed within `scipy.optimize.minimize` with status 2 and message ABNORMAL_TERMINATION_IN_LNSRCH.')]\n",
      "Trying again with a new set of initial conditions.\n",
      "  return _optimize_acqf_batch(opt_inputs=opt_inputs)\n",
      "/Users/radical-rhys/miniconda/lib/python3.12/site-packages/botorch/optim/optimize.py:568: RuntimeWarning: Optimization failed on the second try, after generating a new set of initial conditions.\n",
      "  return _optimize_acqf_batch(opt_inputs=opt_inputs)\n",
      "Run 0:  58%|█████▊    | 58/100 [10:18<11:57, 17.09s/it, Current Best:=14.867]/Users/radical-rhys/miniconda/lib/python3.12/site-packages/botorch/optim/optimize.py:568: RuntimeWarning: Optimization failed in `gen_candidates_scipy` with the following warning(s):\n",
      "[NumericalWarning('A not p.d., added jitter of 1.0e-08 to the diagonal'), OptimizationWarning('Optimization failed within `scipy.optimize.minimize` with status 2 and message ABNORMAL_TERMINATION_IN_LNSRCH.')]\n",
      "Trying again with a new set of initial conditions.\n",
      "  return _optimize_acqf_batch(opt_inputs=opt_inputs)\n",
      "/Users/radical-rhys/miniconda/lib/python3.12/site-packages/botorch/optim/optimize.py:568: RuntimeWarning: Optimization failed on the second try, after generating a new set of initial conditions.\n",
      "  return _optimize_acqf_batch(opt_inputs=opt_inputs)\n",
      "Run 0:  59%|█████▉    | 59/100 [10:47<14:08, 20.69s/it, Current Best:=14.867]/Users/radical-rhys/miniconda/lib/python3.12/site-packages/botorch/optim/optimize.py:568: RuntimeWarning: Optimization failed in `gen_candidates_scipy` with the following warning(s):\n",
      "[NumericalWarning('A not p.d., added jitter of 1.0e-08 to the diagonal'), OptimizationWarning('Optimization failed within `scipy.optimize.minimize` with status 2 and message ABNORMAL_TERMINATION_IN_LNSRCH.')]\n",
      "Trying again with a new set of initial conditions.\n",
      "  return _optimize_acqf_batch(opt_inputs=opt_inputs)\n",
      "/Users/radical-rhys/miniconda/lib/python3.12/site-packages/botorch/optim/optimize.py:568: RuntimeWarning: Optimization failed on the second try, after generating a new set of initial conditions.\n",
      "  return _optimize_acqf_batch(opt_inputs=opt_inputs)\n",
      "Run 0:  63%|██████▎   | 63/100 [11:34<07:26, 12.06s/it, Current Best:=14.872]/Users/radical-rhys/miniconda/lib/python3.12/site-packages/botorch/optim/optimize.py:568: RuntimeWarning: Optimization failed in `gen_candidates_scipy` with the following warning(s):\n",
      "[NumericalWarning('A not p.d., added jitter of 1.0e-08 to the diagonal'), OptimizationWarning('Optimization failed within `scipy.optimize.minimize` with status 2 and message ABNORMAL_TERMINATION_IN_LNSRCH.')]\n",
      "Trying again with a new set of initial conditions.\n",
      "  return _optimize_acqf_batch(opt_inputs=opt_inputs)\n",
      "Run 0:  65%|██████▌   | 65/100 [12:16<09:26, 16.19s/it, Current Best:=14.872]/Users/radical-rhys/miniconda/lib/python3.12/site-packages/botorch/optim/optimize.py:568: RuntimeWarning: Optimization failed in `gen_candidates_scipy` with the following warning(s):\n",
      "[OptimizationWarning('Optimization failed within `scipy.optimize.minimize` with status 2 and message ABNORMAL_TERMINATION_IN_LNSRCH.')]\n",
      "Trying again with a new set of initial conditions.\n",
      "  return _optimize_acqf_batch(opt_inputs=opt_inputs)\n",
      "Run 0:  68%|██████▊   | 68/100 [12:56<07:27, 13.98s/it, Current Best:=14.902]/Users/radical-rhys/miniconda/lib/python3.12/site-packages/botorch/optim/optimize.py:568: RuntimeWarning: Optimization failed in `gen_candidates_scipy` with the following warning(s):\n",
      "[NumericalWarning('A not p.d., added jitter of 1.0e-08 to the diagonal'), OptimizationWarning('Optimization failed within `scipy.optimize.minimize` with status 2 and message ABNORMAL_TERMINATION_IN_LNSRCH.')]\n",
      "Trying again with a new set of initial conditions.\n",
      "  return _optimize_acqf_batch(opt_inputs=opt_inputs)\n",
      "/Users/radical-rhys/miniconda/lib/python3.12/site-packages/botorch/optim/optimize.py:568: RuntimeWarning: Optimization failed on the second try, after generating a new set of initial conditions.\n",
      "  return _optimize_acqf_batch(opt_inputs=opt_inputs)\n",
      "Run 0:  70%|███████   | 70/100 [13:30<07:28, 14.95s/it, Current Best:=14.905]/Users/radical-rhys/miniconda/lib/python3.12/site-packages/botorch/optim/optimize.py:568: RuntimeWarning: Optimization failed in `gen_candidates_scipy` with the following warning(s):\n",
      "[NumericalWarning('A not p.d., added jitter of 1.0e-08 to the diagonal'), OptimizationWarning('Optimization failed within `scipy.optimize.minimize` with status 2 and message ABNORMAL_TERMINATION_IN_LNSRCH.'), NumericalWarning('A not p.d., added jitter of 1.0e-08 to the diagonal')]\n",
      "Trying again with a new set of initial conditions.\n",
      "  return _optimize_acqf_batch(opt_inputs=opt_inputs)\n",
      "/Users/radical-rhys/miniconda/lib/python3.12/site-packages/botorch/optim/optimize.py:568: RuntimeWarning: Optimization failed on the second try, after generating a new set of initial conditions.\n",
      "  return _optimize_acqf_batch(opt_inputs=opt_inputs)\n",
      "Run 0:  74%|███████▍  | 74/100 [14:27<05:46, 13.31s/it, Current Best:=14.917]/Users/radical-rhys/miniconda/lib/python3.12/site-packages/linear_operator/utils/cholesky.py:40: NumericalWarning: A not p.d., added jitter of 1.0e-08 to the diagonal\n",
      "  warnings.warn(\n",
      "Run 0:  75%|███████▌  | 75/100 [14:37<05:04, 12.17s/it, Current Best:=14.918]/Users/radical-rhys/miniconda/lib/python3.12/site-packages/botorch/optim/optimize.py:568: RuntimeWarning: Optimization failed in `gen_candidates_scipy` with the following warning(s):\n",
      "[NumericalWarning('A not p.d., added jitter of 1.0e-08 to the diagonal'), OptimizationWarning('Optimization failed within `scipy.optimize.minimize` with status 2 and message ABNORMAL_TERMINATION_IN_LNSRCH.'), NumericalWarning('A not p.d., added jitter of 1.0e-08 to the diagonal')]\n",
      "Trying again with a new set of initial conditions.\n",
      "  return _optimize_acqf_batch(opt_inputs=opt_inputs)\n",
      "/Users/radical-rhys/miniconda/lib/python3.12/site-packages/botorch/optim/optimize.py:568: RuntimeWarning: Optimization failed on the second try, after generating a new set of initial conditions.\n",
      "  return _optimize_acqf_batch(opt_inputs=opt_inputs)\n",
      "Run 0:  76%|███████▌  | 76/100 [14:58<05:58, 14.92s/it, Current Best:=14.921]/Users/radical-rhys/miniconda/lib/python3.12/site-packages/botorch/optim/optimize.py:568: RuntimeWarning: Optimization failed in `gen_candidates_scipy` with the following warning(s):\n",
      "[NumericalWarning('A not p.d., added jitter of 1.0e-08 to the diagonal'), OptimizationWarning('Optimization failed within `scipy.optimize.minimize` with status 2 and message ABNORMAL_TERMINATION_IN_LNSRCH.'), NumericalWarning('A not p.d., added jitter of 1.0e-08 to the diagonal')]\n",
      "Trying again with a new set of initial conditions.\n",
      "  return _optimize_acqf_batch(opt_inputs=opt_inputs)\n",
      "/Users/radical-rhys/miniconda/lib/python3.12/site-packages/botorch/optim/optimize.py:568: RuntimeWarning: Optimization failed on the second try, after generating a new set of initial conditions.\n",
      "  return _optimize_acqf_batch(opt_inputs=opt_inputs)\n",
      "Run 0:  77%|███████▋  | 77/100 [15:30<07:41, 20.08s/it, Current Best:=14.921]/Users/radical-rhys/miniconda/lib/python3.12/site-packages/linear_operator/utils/cholesky.py:40: NumericalWarning: A not p.d., added jitter of 1.0e-08 to the diagonal\n",
      "  warnings.warn(\n",
      "/Users/radical-rhys/miniconda/lib/python3.12/site-packages/botorch/optim/optimize.py:568: RuntimeWarning: Optimization failed in `gen_candidates_scipy` with the following warning(s):\n",
      "[NumericalWarning('A not p.d., added jitter of 1.0e-08 to the diagonal'), OptimizationWarning('Optimization failed within `scipy.optimize.minimize` with status 2 and message ABNORMAL_TERMINATION_IN_LNSRCH.'), NumericalWarning('A not p.d., added jitter of 1.0e-08 to the diagonal')]\n",
      "Trying again with a new set of initial conditions.\n",
      "  return _optimize_acqf_batch(opt_inputs=opt_inputs)\n",
      "/Users/radical-rhys/miniconda/lib/python3.12/site-packages/botorch/optim/optimize.py:568: RuntimeWarning: Optimization failed on the second try, after generating a new set of initial conditions.\n",
      "  return _optimize_acqf_batch(opt_inputs=opt_inputs)\n",
      "Run 0:  78%|███████▊  | 78/100 [15:49<07:15, 19.81s/it, Current Best:=14.923]/Users/radical-rhys/miniconda/lib/python3.12/site-packages/botorch/optim/optimize.py:568: RuntimeWarning: Optimization failed in `gen_candidates_scipy` with the following warning(s):\n",
      "[NumericalWarning('A not p.d., added jitter of 1.0e-08 to the diagonal'), OptimizationWarning('Optimization failed within `scipy.optimize.minimize` with status 2 and message ABNORMAL_TERMINATION_IN_LNSRCH.'), NumericalWarning('A not p.d., added jitter of 1.0e-08 to the diagonal')]\n",
      "Trying again with a new set of initial conditions.\n",
      "  return _optimize_acqf_batch(opt_inputs=opt_inputs)\n",
      "Run 0:  81%|████████  | 81/100 [16:28<04:34, 14.47s/it, Current Best:=14.929]/Users/radical-rhys/miniconda/lib/python3.12/site-packages/linear_operator/utils/cholesky.py:40: NumericalWarning: A not p.d., added jitter of 1.0e-08 to the diagonal\n",
      "  warnings.warn(\n",
      "/Users/radical-rhys/miniconda/lib/python3.12/site-packages/botorch/optim/optimize.py:568: RuntimeWarning: Optimization failed in `gen_candidates_scipy` with the following warning(s):\n",
      "[NumericalWarning('A not p.d., added jitter of 1.0e-08 to the diagonal'), OptimizationWarning('Optimization failed within `scipy.optimize.minimize` with status 2 and message ABNORMAL_TERMINATION_IN_LNSRCH.'), NumericalWarning('A not p.d., added jitter of 1.0e-08 to the diagonal')]\n",
      "Trying again with a new set of initial conditions.\n",
      "  return _optimize_acqf_batch(opt_inputs=opt_inputs)\n",
      "Run 0:  82%|████████▏ | 82/100 [16:40<04:11, 13.96s/it, Current Best:=14.931]/Users/radical-rhys/miniconda/lib/python3.12/site-packages/linear_operator/utils/cholesky.py:40: NumericalWarning: A not p.d., added jitter of 1.0e-08 to the diagonal\n",
      "  warnings.warn(\n",
      "Run 0:  85%|████████▌ | 85/100 [17:13<03:04, 12.27s/it, Current Best:=14.936]/Users/radical-rhys/miniconda/lib/python3.12/site-packages/botorch/optim/optimize.py:568: RuntimeWarning: Optimization failed in `gen_candidates_scipy` with the following warning(s):\n",
      "[NumericalWarning('A not p.d., added jitter of 1.0e-08 to the diagonal'), OptimizationWarning('Optimization failed within `scipy.optimize.minimize` with status 2 and message ABNORMAL_TERMINATION_IN_LNSRCH.'), NumericalWarning('A not p.d., added jitter of 1.0e-08 to the diagonal')]\n",
      "Trying again with a new set of initial conditions.\n",
      "  return _optimize_acqf_batch(opt_inputs=opt_inputs)\n",
      "/Users/radical-rhys/miniconda/lib/python3.12/site-packages/botorch/optim/optimize.py:568: RuntimeWarning: Optimization failed on the second try, after generating a new set of initial conditions.\n",
      "  return _optimize_acqf_batch(opt_inputs=opt_inputs)\n",
      "Run 0:  86%|████████▌ | 86/100 [17:40<03:50, 16.48s/it, Current Best:=14.936]/Users/radical-rhys/miniconda/lib/python3.12/site-packages/linear_operator/utils/cholesky.py:40: NumericalWarning: A not p.d., added jitter of 1.0e-08 to the diagonal\n",
      "  warnings.warn(\n",
      "Run 0:  87%|████████▋ | 87/100 [17:51<03:12, 14.83s/it, Current Best:=14.936]/Users/radical-rhys/miniconda/lib/python3.12/site-packages/linear_operator/utils/cholesky.py:40: NumericalWarning: A not p.d., added jitter of 1.0e-08 to the diagonal\n",
      "  warnings.warn(\n",
      "Run 0:  88%|████████▊ | 88/100 [17:56<02:24, 12.04s/it, Current Best:=14.936]/Users/radical-rhys/miniconda/lib/python3.12/site-packages/linear_operator/utils/cholesky.py:40: NumericalWarning: A not p.d., added jitter of 1.0e-08 to the diagonal\n",
      "  warnings.warn(\n",
      "Run 0:  89%|████████▉ | 89/100 [18:02<01:52, 10.25s/it, Current Best:=14.936]/Users/radical-rhys/miniconda/lib/python3.12/site-packages/linear_operator/utils/cholesky.py:40: NumericalWarning: A not p.d., added jitter of 1.0e-08 to the diagonal\n",
      "  warnings.warn(\n",
      "/Users/radical-rhys/miniconda/lib/python3.12/site-packages/botorch/optim/optimize.py:568: RuntimeWarning: Optimization failed in `gen_candidates_scipy` with the following warning(s):\n",
      "[OptimizationWarning('Optimization failed within `scipy.optimize.minimize` with status 2 and message ABNORMAL_TERMINATION_IN_LNSRCH.')]\n",
      "Trying again with a new set of initial conditions.\n",
      "  return _optimize_acqf_batch(opt_inputs=opt_inputs)\n",
      "Run 0:  90%|█████████ | 90/100 [18:37<02:56, 17.62s/it, Current Best:=14.938]/Users/radical-rhys/miniconda/lib/python3.12/site-packages/linear_operator/utils/cholesky.py:40: NumericalWarning: A not p.d., added jitter of 1.0e-08 to the diagonal\n",
      "  warnings.warn(\n",
      "Run 0:  91%|█████████ | 91/100 [18:50<02:24, 16.09s/it, Current Best:=14.938]/Users/radical-rhys/miniconda/lib/python3.12/site-packages/linear_operator/utils/cholesky.py:40: NumericalWarning: A not p.d., added jitter of 1.0e-08 to the diagonal\n",
      "  warnings.warn(\n",
      "Run 0:  92%|█████████▏| 92/100 [19:04<02:05, 15.66s/it, Current Best:=14.938]/Users/radical-rhys/miniconda/lib/python3.12/site-packages/linear_operator/utils/cholesky.py:40: NumericalWarning: A not p.d., added jitter of 1.0e-08 to the diagonal\n",
      "  warnings.warn(\n",
      "/Users/radical-rhys/miniconda/lib/python3.12/site-packages/botorch/optim/optimize.py:568: RuntimeWarning: Optimization failed in `gen_candidates_scipy` with the following warning(s):\n",
      "[OptimizationWarning('Optimization failed within `scipy.optimize.minimize` with status 2 and message ABNORMAL_TERMINATION_IN_LNSRCH.')]\n",
      "Trying again with a new set of initial conditions.\n",
      "  return _optimize_acqf_batch(opt_inputs=opt_inputs)\n",
      "Run 0:  93%|█████████▎| 93/100 [19:36<02:23, 20.45s/it, Current Best:=14.938]/Users/radical-rhys/miniconda/lib/python3.12/site-packages/linear_operator/utils/cholesky.py:40: NumericalWarning: A not p.d., added jitter of 1.0e-08 to the diagonal\n",
      "  warnings.warn(\n",
      "Run 0:  94%|█████████▍| 94/100 [19:55<02:01, 20.19s/it, Current Best:=14.938]/Users/radical-rhys/miniconda/lib/python3.12/site-packages/linear_operator/utils/cholesky.py:40: NumericalWarning: A not p.d., added jitter of 1.0e-08 to the diagonal\n",
      "  warnings.warn(\n",
      "/Users/radical-rhys/miniconda/lib/python3.12/site-packages/botorch/optim/optimize.py:568: RuntimeWarning: Optimization failed in `gen_candidates_scipy` with the following warning(s):\n",
      "[OptimizationWarning('Optimization failed within `scipy.optimize.minimize` with status 2 and message ABNORMAL_TERMINATION_IN_LNSRCH.')]\n",
      "Trying again with a new set of initial conditions.\n",
      "  return _optimize_acqf_batch(opt_inputs=opt_inputs)\n",
      "Run 0:  95%|█████████▌| 95/100 [22:32<05:06, 61.23s/it, Current Best:=14.938]/Users/radical-rhys/miniconda/lib/python3.12/site-packages/linear_operator/utils/cholesky.py:40: NumericalWarning: A not p.d., added jitter of 1.0e-08 to the diagonal\n",
      "  warnings.warn(\n",
      "Run 0:  96%|█████████▌| 96/100 [22:50<03:12, 48.21s/it, Current Best:=14.939]/Users/radical-rhys/miniconda/lib/python3.12/site-packages/linear_operator/utils/cholesky.py:40: NumericalWarning: A not p.d., added jitter of 1.0e-08 to the diagonal\n",
      "  warnings.warn(\n",
      "Run 0:  97%|█████████▋| 97/100 [23:06<01:55, 38.41s/it, Current Best:=14.944]/Users/radical-rhys/miniconda/lib/python3.12/site-packages/linear_operator/utils/cholesky.py:40: NumericalWarning: A not p.d., added jitter of 1.0e-08 to the diagonal\n",
      "  warnings.warn(\n",
      "Run 0:  98%|█████████▊| 98/100 [23:19<01:01, 30.76s/it, Current Best:=14.944]/Users/radical-rhys/miniconda/lib/python3.12/site-packages/linear_operator/utils/cholesky.py:40: NumericalWarning: A not p.d., added jitter of 1.0e-08 to the diagonal\n",
      "  warnings.warn(\n",
      "Run 0:  99%|█████████▉| 99/100 [23:35<00:26, 26.35s/it, Current Best:=14.944]/Users/radical-rhys/miniconda/lib/python3.12/site-packages/linear_operator/utils/cholesky.py:40: NumericalWarning: A not p.d., added jitter of 1.0e-08 to the diagonal\n",
      "  warnings.warn(\n",
      "Run 0: 100%|██████████| 100/100 [25:50<00:00, 15.51s/it, Current Best:=14.945]\n"
     ]
    }
   ],
   "source": [
    "def strategy_factory(domain: Domain):\n",
    "    data_model = MoboStrategy(domain=domain, ref_point={\"f1\": 4.0, \"f2\": 4.0})\n",
    "    return strategies.map(data_model)\n",
    "\n",
    "\n",
    "results = run(\n",
    "    TNK(),\n",
    "    strategy_factory=strategy_factory,\n",
    "    n_iterations=100 if not SMOKE_TEST else 1,\n",
    "    metric=hypervolume,\n",
    "    initial_sampler=sample,\n",
    "    n_runs=1,\n",
    "    n_procs=1,\n",
    ")"
   ]
  },
  {
   "cell_type": "code",
   "execution_count": null,
   "id": "6",
   "metadata": {
    "papermill": {
     "duration": null,
     "end_time": null,
     "exception": null,
     "start_time": null,
     "status": "pending"
    },
    "tags": []
   },
   "outputs": [
    {
     "data": {
      "image/png": "[encoded data removed]",
      "text/plain": [
       "<Figure size 640x480 with 1 Axes>"
      ]
     },
     "metadata": {},
     "output_type": "display_data"
    }
   ],
   "source": [
    "if not SMOKE_TEST:\n",
    "    fig, ax = plt.subplots()\n",
    "    ax.plot(random_results[0][1], label=\"random\")\n",
    "    ax.plot(results[0][1], label=\"MOBO\")\n",
    "    ax.set_xlabel(\"iteration\")\n",
    "    ax.set_ylabel(\"hypervolume\")\n",
    "    ax.legend()\n",
    "    plt.show()"
   ]
  }
 ],
 "metadata": {
  "kernelspec": {
   "display_name": "base",
   "language": "python",
   "name": "python3"
  },
  "language_info": {
   "codemirror_mode": {
    "name": "ipython",
    "version": 3
   },
   "file_extension": ".py",
   "mimetype": "text/x-python",
   "name": "python",
   "nbconvert_exporter": "python",
   "pygments_lexer": "ipython3",
   "version": "3.12.7"
  },
  "papermill": {
   "default_parameters": {},
   "duration": 6.882826,
   "end_time": "2024-10-10T20:35:52.997008",
   "environment_variables": {},
   "exception": true,
   "input_path": "/Users/radical-rhys/Radical/bofire/tutorials/benchmarks/013-TNK.ipynb",
   "output_path": "/Users/radical-rhys/Radical/bofire/tutorials/benchmarks/013-TNK.ipynb",
   "parameters": {},
   "start_time": "2024-10-10T20:35:46.114182",
   "version": "2.6.0"
  }
 },
 "nbformat": 4,
 "nbformat_minor": 5
}
