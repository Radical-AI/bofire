{
 "cells": [
  {
   "cell_type": "markdown",
   "id": "0",
   "metadata": {
    "papermill": {
     "duration": 0.006163,
     "end_time": "2024-10-10T16:08:47.191163",
     "exception": false,
     "start_time": "2024-10-10T16:08:47.185000",
     "status": "completed"
    },
    "tags": []
   },
   "source": [
    "# BNH Benchmark\n",
    "## Imports"
   ]
  },
  {
   "cell_type": "code",
   "execution_count": null,
   "id": "1",
   "metadata": {
    "papermill": {
     "duration": 2.294529,
     "end_time": "2024-10-10T16:08:49.488860",
     "exception": false,
     "start_time": "2024-10-10T16:08:47.194331",
     "status": "completed"
    },
    "tags": []
   },
   "outputs": [],
   "source": [
    "import os\n",
    "import warnings\n",
    "\n",
    "import matplotlib.pyplot as plt\n",
    "import pandas as pd\n",
    "\n",
    "import bofire.strategies.api as strategies\n",
    "from bofire.benchmarks.api import BNH\n",
    "from bofire.data_models.api import Domain, Inputs, Outputs\n",
    "from bofire.data_models.features.api import ContinuousInput, ContinuousOutput\n",
    "from bofire.data_models.objectives.api import (\n",
    "    MaximizeSigmoidObjective,\n",
    "    MinimizeObjective,\n",
    "    MinimizeSigmoidObjective,\n",
    ")\n",
    "from bofire.data_models.strategies.api import MoboStrategy, RandomStrategy\n",
    "from bofire.plot.api import plot_objective_plotly\n",
    "from bofire.runners.api import run\n",
    "from bofire.utils.multiobjective import compute_hypervolume\n",
    "\n",
    "\n",
    "warnings.simplefilter(\"once\")\n",
    "SMOKE_TEST = os.environ.get(\"SMOKE_TEST\")"
   ]
  },
  {
   "attachments": {},
   "cell_type": "markdown",
   "id": "2",
   "metadata": {
    "papermill": {
     "duration": 0.000958,
     "end_time": "2024-10-10T16:08:49.491114",
     "exception": false,
     "start_time": "2024-10-10T16:08:49.490156",
     "status": "completed"
    },
    "tags": []
   },
   "source": [
    "## Random Strategy"
   ]
  },
  {
   "cell_type": "code",
   "execution_count": null,
   "id": "3",
   "metadata": {
    "papermill": {
     "duration": 0.036854,
     "end_time": "2024-10-10T16:08:49.528881",
     "exception": false,
     "start_time": "2024-10-10T16:08:49.492027",
     "status": "completed"
    },
    "tags": []
   },
   "outputs": [
    {
     "name": "stderr",
     "output_type": "stream",
     "text": [
      "\r",
      "  0%|          | 0/1 [00:00<?, ?it/s]"
     ]
    },
    {
     "name": "stderr",
     "output_type": "stream",
     "text": [
      "\r",
      "run 0 with current best 4543.114:   0%|          | 0/1 [00:00<?, ?it/s]"
     ]
    },
    {
     "name": "stderr",
     "output_type": "stream",
     "text": [
      "\r",
      "run 0 with current best 4543.114: 100%|██████████| 1/1 [00:00<00:00, 80.98it/s]"
     ]
    },
    {
     "name": "stderr",
     "output_type": "stream",
     "text": [
      "\n"
     ]
    }
   ],
   "source": [
    "def sample(domain):\n",
    "    datamodel = RandomStrategy(domain=domain)\n",
    "    sampler = strategies.map(data_model=datamodel)\n",
    "    sampled = sampler.ask(10)\n",
    "    return sampled\n",
    "\n",
    "\n",
    "def hypervolume(domain: Domain, experiments: pd.DataFrame) -> float:\n",
    "    if \"c1\" in experiments.columns:\n",
    "        return compute_hypervolume(\n",
    "            domain,\n",
    "            experiments.loc[(experiments.c1 <= 25) & (experiments.c2 >= 7.7)],\n",
    "            ref_point={\"f1\": 140, \"f2\": 50},\n",
    "        )\n",
    "    else:\n",
    "        return compute_hypervolume(domain, experiments, ref_point={\"f1\": 140, \"f2\": 50})\n",
    "\n",
    "\n",
    "random_results = run(\n",
    "    BNH(constraints=True),\n",
    "    strategy_factory=lambda domain: strategies.map(RandomStrategy(domain=domain)),\n",
    "    n_iterations=50 if not SMOKE_TEST else 1,\n",
    "    metric=hypervolume,\n",
    "    initial_sampler=sample,\n",
    "    n_runs=1,\n",
    "    n_procs=1,\n",
    ")"
   ]
  },
  {
   "attachments": {},
   "cell_type": "markdown",
   "id": "4",
   "metadata": {
    "papermill": {
     "duration": 0.000983,
     "end_time": "2024-10-10T16:08:49.531100",
     "exception": false,
     "start_time": "2024-10-10T16:08:49.530117",
     "status": "completed"
    },
    "tags": []
   },
   "source": [
    "## MOBO Strategy\n",
    "### Without Constraints"
   ]
  },
  {
   "cell_type": "code",
   "execution_count": null,
   "id": "5",
   "metadata": {
    "papermill": {
     "duration": 1.30177,
     "end_time": "2024-10-10T16:08:50.833818",
     "exception": false,
     "start_time": "2024-10-10T16:08:49.532048",
     "status": "completed"
    },
    "tags": []
   },
   "outputs": [
    {
     "name": "stderr",
     "output_type": "stream",
     "text": [
      "\r",
      "  0%|          | 0/1 [00:00<?, ?it/s]"
     ]
    },
    {
     "name": "stderr",
     "output_type": "stream",
     "text": [
      "\r",
      "run 0 with current best 4661.969:   0%|          | 0/1 [00:01<?, ?it/s]"
     ]
    },
    {
     "name": "stderr",
     "output_type": "stream",
     "text": [
      "\r",
      "run 0 with current best 4661.969: 100%|██████████| 1/1 [00:01<00:00,  1.04s/it]"
     ]
    },
    {
     "name": "stderr",
     "output_type": "stream",
     "text": [
      "\r",
      "run 0 with current best 4661.969: 100%|██████████| 1/1 [00:01<00:00,  1.04s/it]"
     ]
    },
    {
     "name": "stderr",
     "output_type": "stream",
     "text": [
      "\n"
     ]
    }
   ],
   "source": [
    "def strategy_factory(domain: Domain):\n",
    "    data_model = MoboStrategy(domain=domain, ref_point={\"f1\": 140, \"f2\": 50})\n",
    "    return strategies.map(data_model)\n",
    "\n",
    "\n",
    "results = run(\n",
    "    BNH(constraints=False),\n",
    "    strategy_factory=strategy_factory,\n",
    "    n_iterations=50 if not SMOKE_TEST else 1,\n",
    "    metric=hypervolume,\n",
    "    initial_sampler=sample,\n",
    "    n_runs=1,\n",
    "    n_procs=1,\n",
    ")"
   ]
  },
  {
   "cell_type": "markdown",
   "id": "6",
   "metadata": {
    "papermill": {
     "duration": 0.001193,
     "end_time": "2024-10-10T16:08:50.836465",
     "exception": false,
     "start_time": "2024-10-10T16:08:50.835272",
     "status": "completed"
    },
    "tags": []
   },
   "source": [
    "### With Constraints\n",
    "\n",
    "#### Manual Setup of the Domain"
   ]
  },
  {
   "cell_type": "code",
   "execution_count": null,
   "id": "7",
   "metadata": {
    "papermill": {
     "duration": 0.00543,
     "end_time": "2024-10-10T16:08:50.843088",
     "exception": false,
     "start_time": "2024-10-10T16:08:50.837658",
     "status": "completed"
    },
    "tags": []
   },
   "outputs": [],
   "source": [
    "domain = Domain(\n",
    "    inputs=Inputs(\n",
    "        features=[\n",
    "            ContinuousInput(key=\"x1\", bounds=(0, 5)),\n",
    "            ContinuousInput(key=\"x2\", bounds=(0, 3)),\n",
    "        ]\n",
    "    ),\n",
    "    outputs=Outputs(\n",
    "        features=[\n",
    "            ContinuousOutput(key=\"f1\", objective=MinimizeObjective()),\n",
    "            ContinuousOutput(key=\"f2\", objective=MinimizeObjective()),\n",
    "            # these are the output constraints, choose MinimizeSigmoidObjective for lower bound constraints\n",
    "            # and MaximizeSigmoidObjective for upper bound constraints\n",
    "            # tp is the threshold point, steepness is the steepness of the sigmoid that is applied to the constraint\n",
    "            # usually a steepness of 1000 is fine.\n",
    "            ContinuousOutput(\n",
    "                key=\"c1\",\n",
    "                objective=MinimizeSigmoidObjective(tp=25, steepness=1000),\n",
    "            ),\n",
    "            ContinuousOutput(\n",
    "                key=\"c2\",\n",
    "                objective=MaximizeSigmoidObjective(tp=7.7, steepness=1000),\n",
    "            ),\n",
    "        ]\n",
    "    ),\n",
    ")"
   ]
  },
  {
   "cell_type": "markdown",
   "id": "8",
   "metadata": {
    "papermill": {
     "duration": 0.001082,
     "end_time": "2024-10-10T16:08:50.845328",
     "exception": false,
     "start_time": "2024-10-10T16:08:50.844246",
     "status": "completed"
    },
    "tags": []
   },
   "source": [
    "One can visualize the objectives in the following way:"
   ]
  },
  {
   "cell_type": "code",
   "execution_count": null,
   "id": "9",
   "metadata": {
    "papermill": {
     "duration": 0.003911,
     "end_time": "2024-10-10T16:08:50.850366",
     "exception": false,
     "start_time": "2024-10-10T16:08:50.846455",
     "status": "completed"
    },
    "tags": []
   },
   "outputs": [],
   "source": [
    "feat = domain.outputs.get_by_key(\"c1\")\n",
    "\n",
    "if not SMOKE_TEST:\n",
    "    plot_objective_plotly(feat, lower=20, upper=30)  # type: ignore"
   ]
  },
  {
   "cell_type": "code",
   "execution_count": null,
   "id": "10",
   "metadata": {
    "papermill": {
     "duration": 0.0039,
     "end_time": "2024-10-10T16:08:50.855465",
     "exception": false,
     "start_time": "2024-10-10T16:08:50.851565",
     "status": "completed"
    },
    "tags": []
   },
   "outputs": [],
   "source": [
    "feat = domain.outputs.get_by_key(\"c2\")\n",
    "\n",
    "if not SMOKE_TEST:\n",
    "    plot_objective_plotly(feat, lower=5, upper=10)  # type: ignore"
   ]
  },
  {
   "cell_type": "markdown",
   "id": "11",
   "metadata": {
    "papermill": {
     "duration": 0.001139,
     "end_time": "2024-10-10T16:08:50.857788",
     "exception": false,
     "start_time": "2024-10-10T16:08:50.856649",
     "status": "completed"
    },
    "tags": []
   },
   "source": [
    "#### Run tbe optimization\n",
    "The warnings can be ignored. They are stemming just from an internal postprocessing step and will be removed soon."
   ]
  },
  {
   "cell_type": "code",
   "execution_count": null,
   "id": "12",
   "metadata": {
    "papermill": {
     "duration": 2.193862,
     "end_time": "2024-10-10T16:08:53.052749",
     "exception": false,
     "start_time": "2024-10-10T16:08:50.858887",
     "status": "completed"
    },
    "tags": []
   },
   "outputs": [
    {
     "name": "stderr",
     "output_type": "stream",
     "text": [
      "\r",
      "  0%|          | 0/1 [00:00<?, ?it/s]"
     ]
    },
    {
     "name": "stderr",
     "output_type": "stream",
     "text": [
      "/Users/radical-rhys/miniconda3/lib/python3.12/site-packages/pandas/core/arraylike.py:399: RuntimeWarning: overflow encountered in exp\n",
      "  result = getattr(ufunc, method)(*inputs, **kwargs)\n"
     ]
    },
    {
     "name": "stderr",
     "output_type": "stream",
     "text": [
      "\r",
      "run 0 with current best 4818.890:   0%|          | 0/1 [00:01<?, ?it/s]"
     ]
    },
    {
     "name": "stderr",
     "output_type": "stream",
     "text": [
      "\r",
      "run 0 with current best 4818.890: 100%|██████████| 1/1 [00:01<00:00,  1.99s/it]"
     ]
    },
    {
     "name": "stderr",
     "output_type": "stream",
     "text": [
      "\r",
      "run 0 with current best 4818.890: 100%|██████████| 1/1 [00:01<00:00,  1.99s/it]"
     ]
    },
    {
     "name": "stderr",
     "output_type": "stream",
     "text": [
      "\n"
     ]
    }
   ],
   "source": [
    "c_results = run(\n",
    "    BNH(constraints=True),\n",
    "    strategy_factory=strategy_factory,\n",
    "    n_iterations=50 if not SMOKE_TEST else 1,\n",
    "    metric=hypervolume,\n",
    "    initial_sampler=sample,\n",
    "    n_runs=1,\n",
    "    n_procs=1,\n",
    ")"
   ]
  },
  {
   "cell_type": "code",
   "execution_count": null,
   "id": "13",
   "metadata": {
    "papermill": {
     "duration": 0.004443,
     "end_time": "2024-10-10T16:08:53.058766",
     "exception": false,
     "start_time": "2024-10-10T16:08:53.054323",
     "status": "completed"
    },
    "tags": []
   },
   "outputs": [],
   "source": [
    "if not SMOKE_TEST:\n",
    "    fig, ax = plt.subplots()\n",
    "    ax.plot(results[0][1], label=\"without constraints\")\n",
    "    ax.plot(c_results[0][1], label=\"with constraints\")\n",
    "    ax.set_xlabel(\"iteration\")\n",
    "    ax.set_ylabel(\"hypervolume\")\n",
    "    ax.legend()\n",
    "    plt.show()"
   ]
  }
 ],
 "metadata": {
  "kernelspec": {
   "display_name": "base",
   "language": "python",
   "name": "python3"
  },
  "language_info": {
   "codemirror_mode": {
    "name": "ipython",
    "version": 3
   },
   "file_extension": ".py",
   "mimetype": "text/x-python",
   "name": "python",
   "nbconvert_exporter": "python",
   "pygments_lexer": "ipython3",
   "version": "3.12.2"
  },
  "papermill": {
   "default_parameters": {},
   "duration": 9.081332,
   "end_time": "2024-10-10T16:08:55.676812",
   "environment_variables": {},
   "exception": null,
   "input_path": "/Users/radical-rhys/Radical/bofire/tutorials/benchmarks/012-BNH.ipynb",
   "output_path": "/Users/radical-rhys/Radical/bofire/tutorials/benchmarks/012-BNH.ipynb",
   "parameters": {},
   "start_time": "2024-10-10T16:08:46.595480",
   "version": "2.6.0"
  }
 },
 "nbformat": 4,
 "nbformat_minor": 5
}
