{
 "cells": [
  {
   "cell_type": "markdown",
   "id": "0",
   "metadata": {
    "papermill": {
     "duration": 0.005152,
     "end_time": "2024-10-10T20:35:39.638026",
     "exception": false,
     "start_time": "2024-10-10T20:35:39.632874",
     "status": "completed"
    },
    "tags": []
   },
   "source": [
    "# BNH Benchmark\n",
    "## Imports"
   ]
  },
  {
   "cell_type": "code",
   "execution_count": null,
   "id": "1",
   "metadata": {
    "tags": []
   },
   "outputs": [],
   "source": [
    "import os\n",
    "import warnings\n",
    "\n",
    "import matplotlib.pyplot as plt\n",
    "import pandas as pd\n",
    "\n",
    "import bofire.strategies.api as strategies\n",
    "from bofire.benchmarks.api import BNH\n",
    "from bofire.data_models.api import Domain, Inputs, Outputs\n",
    "from bofire.data_models.features.api import ContinuousInput, ContinuousOutput\n",
    "from bofire.data_models.objectives.api import (\n",
    "    MaximizeSigmoidObjective,\n",
    "    MinimizeObjective,\n",
    "    MinimizeSigmoidObjective,\n",
    ")\n",
    "from bofire.data_models.strategies.api import MoboStrategy, RandomStrategy\n",
    "from bofire.plot.api import plot_objective_plotly\n",
    "from bofire.runners.api import run\n",
    "from bofire.utils.multiobjective import compute_hypervolume\n",
    "\n",
    "\n",
    "warnings.simplefilter(\"once\")\n",
    "SMOKE_TEST = os.environ.get(\"SMOKE_TEST\")"
   ]
  },
  {
   "attachments": {},
   "cell_type": "markdown",
   "id": "2",
   "metadata": {
    "papermill": {
     "duration": 0.001211,
     "end_time": "2024-10-10T20:35:42.882664",
     "exception": false,
     "start_time": "2024-10-10T20:35:42.881453",
     "status": "completed"
    },
    "tags": []
   },
   "source": [
    "## Random Strategy"
   ]
  },
  {
   "cell_type": "code",
   "execution_count": null,
   "id": "3",
   "metadata": {
    "tags": []
   },
   "outputs": [
    {
     "name": "stderr",
     "output_type": "stream",
     "text": [
      "Run 0: 100%|██████████| 50/50 [00:01<00:00, 45.90it/s, Current Best:=5069.054]\n"
     ]
    }
   ],
   "source": [
    "def sample(domain):\n",
    "    datamodel = RandomStrategy(domain=domain)\n",
    "    sampler = strategies.map(data_model=datamodel)\n",
    "    sampled = sampler.ask(10)\n",
    "    return sampled\n",
    "\n",
    "\n",
    "def hypervolume(domain: Domain, experiments: pd.DataFrame) -> float:\n",
    "    if \"c1\" in experiments.columns:\n",
    "        return compute_hypervolume(\n",
    "            domain,\n",
    "            experiments.loc[(experiments.c1 <= 25) & (experiments.c2 >= 7.7)],\n",
    "            ref_point={\"f1\": 140, \"f2\": 50},\n",
    "        )\n",
    "    else:\n",
    "        return compute_hypervolume(domain, experiments, ref_point={\"f1\": 140, \"f2\": 50})\n",
    "\n",
    "\n",
    "random_results = run(\n",
    "    BNH(constraints=True),\n",
    "    strategy_factory=lambda domain: strategies.map(RandomStrategy(domain=domain)),\n",
    "    n_iterations=50 if not SMOKE_TEST else 1,\n",
    "    metric=hypervolume,\n",
    "    initial_sampler=sample,\n",
    "    n_runs=1,\n",
    "    n_procs=1,\n",
    ")"
   ]
  },
  {
   "attachments": {},
   "cell_type": "markdown",
   "id": "4",
   "metadata": {
    "papermill": {
     "duration": null,
     "end_time": null,
     "exception": null,
     "start_time": null,
     "status": "pending"
    },
    "tags": []
   },
   "source": [
    "## MOBO Strategy\n",
    "### Without Constraints"
   ]
  },
  {
   "cell_type": "code",
   "execution_count": null,
   "id": "5",
   "metadata": {
    "tags": []
   },
   "outputs": [
    {
     "name": "stderr",
     "output_type": "stream",
     "text": [
      "Run 0: 100%|██████████| 50/50 [16:46<00:00, 20.12s/it, Current Best:=5240.688]\n"
     ]
    }
   ],
   "source": [
    "def strategy_factory(domain: Domain):\n",
    "    data_model = MoboStrategy(domain=domain, ref_point={\"f1\": 140, \"f2\": 50})\n",
    "    return strategies.map(data_model)\n",
    "\n",
    "\n",
    "results = run(\n",
    "    BNH(constraints=False),\n",
    "    strategy_factory=strategy_factory,\n",
    "    n_iterations=50 if not SMOKE_TEST else 1,\n",
    "    metric=hypervolume,\n",
    "    initial_sampler=sample,\n",
    "    n_runs=1,\n",
    "    n_procs=1,\n",
    ")"
   ]
  },
  {
   "cell_type": "markdown",
   "id": "6",
   "metadata": {
    "papermill": {
     "duration": null,
     "end_time": null,
     "exception": null,
     "start_time": null,
     "status": "pending"
    },
    "tags": []
   },
   "source": [
    "### With Constraints\n",
    "\n",
    "#### Manual Setup of the Domain"
   ]
  },
  {
   "cell_type": "code",
   "execution_count": null,
   "id": "7",
   "metadata": {
    "tags": []
   },
   "outputs": [],
   "source": [
    "domain = Domain(\n",
    "    inputs=Inputs(\n",
    "        features=[\n",
    "            ContinuousInput(key=\"x1\", bounds=(0, 5)),\n",
    "            ContinuousInput(key=\"x2\", bounds=(0, 3)),\n",
    "        ]\n",
    "    ),\n",
    "    outputs=Outputs(\n",
    "        features=[\n",
    "            ContinuousOutput(key=\"f1\", objective=MinimizeObjective()),\n",
    "            ContinuousOutput(key=\"f2\", objective=MinimizeObjective()),\n",
    "            # these are the output constraints, choose MinimizeSigmoidObjective for lower bound constraints\n",
    "            # and MaximizeSigmoidObjective for upper bound constraints\n",
    "            # tp is the threshold point, steepness is the steepness of the sigmoid that is applied to the constraint\n",
    "            # usually a steepness of 1000 is fine.\n",
    "            ContinuousOutput(\n",
    "                key=\"c1\",\n",
    "                objective=MinimizeSigmoidObjective(tp=25, steepness=1000),\n",
    "            ),\n",
    "            ContinuousOutput(\n",
    "                key=\"c2\",\n",
    "                objective=MaximizeSigmoidObjective(tp=7.7, steepness=1000),\n",
    "            ),\n",
    "        ]\n",
    "    ),\n",
    ")"
   ]
  },
  {
   "cell_type": "markdown",
   "id": "8",
   "metadata": {
    "papermill": {
     "duration": null,
     "end_time": null,
     "exception": null,
     "start_time": null,
     "status": "pending"
    },
    "tags": []
   },
   "source": [
    "One can visualize the objectives in the following way:"
   ]
  },
  {
   "cell_type": "code",
   "execution_count": null,
   "id": "9",
   "metadata": {
    "tags": []
   },
   "outputs": [
    {
     "name": "stderr",
     "output_type": "stream",
     "text": [
      "/Users/radical-rhys/miniconda/lib/python3.12/site-packages/pandas/core/arraylike.py:399: RuntimeWarning: overflow encountered in exp\n",
      "  result = getattr(ufunc, method)(*inputs, **kwargs)\n"
     ]
    }
   ],
   "source": [
    "feat = domain.outputs.get_by_key(\"c1\")\n",
    "\n",
    "if not SMOKE_TEST:\n",
    "    plot_objective_plotly(feat, lower=20, upper=30)  # type: ignore"
   ]
  },
  {
   "cell_type": "code",
   "execution_count": null,
   "id": "10",
   "metadata": {
    "tags": []
   },
   "outputs": [
    {
     "name": "stderr",
     "output_type": "stream",
     "text": [
      "/Users/radical-rhys/miniconda/lib/python3.12/site-packages/pandas/core/arraylike.py:399: RuntimeWarning:\n",
      "\n",
      "overflow encountered in exp\n",
      "\n"
     ]
    }
   ],
   "source": [
    "feat = domain.outputs.get_by_key(\"c2\")\n",
    "\n",
    "if not SMOKE_TEST:\n",
    "    plot_objective_plotly(feat, lower=5, upper=10)  # type: ignore"
   ]
  },
  {
   "cell_type": "markdown",
   "id": "11",
   "metadata": {
    "papermill": {
     "duration": null,
     "end_time": null,
     "exception": null,
     "start_time": null,
     "status": "pending"
    },
    "tags": []
   },
   "source": [
    "#### Run tbe optimization\n",
    "The warnings can be ignored. They are stemming just from an internal postprocessing step and will be removed soon."
   ]
  },
  {
   "cell_type": "code",
   "execution_count": null,
   "id": "12",
   "metadata": {
    "tags": []
   },
   "outputs": [
    {
     "name": "stderr",
     "output_type": "stream",
     "text": [
      "  0%|          | 0/50 [00:00<?, ?it/s]/Users/radical-rhys/miniconda/lib/python3.12/site-packages/pandas/core/arraylike.py:399: RuntimeWarning:\n",
      "\n",
      "overflow encountered in exp\n",
      "\n",
      "Run 0:   2%|▏         | 1/50 [00:11<09:47, 12.00s/it, Current Best:=4809.159]/Users/radical-rhys/miniconda/lib/python3.12/site-packages/pandas/core/arraylike.py:399: RuntimeWarning:\n",
      "\n",
      "overflow encountered in exp\n",
      "\n",
      "Run 0:   4%|▍         | 2/50 [00:23<09:09, 11.45s/it, Current Best:=4888.335]/Users/radical-rhys/miniconda/lib/python3.12/site-packages/pandas/core/arraylike.py:399: RuntimeWarning:\n",
      "\n",
      "overflow encountered in exp\n",
      "\n",
      "Run 0:   6%|▌         | 3/50 [00:35<09:12, 11.75s/it, Current Best:=4934.845]/Users/radical-rhys/miniconda/lib/python3.12/site-packages/pandas/core/arraylike.py:399: RuntimeWarning:\n",
      "\n",
      "overflow encountered in exp\n",
      "\n",
      "Run 0:   8%|▊         | 4/50 [00:47<09:11, 11.99s/it, Current Best:=4983.264]/Users/radical-rhys/miniconda/lib/python3.12/site-packages/pandas/core/arraylike.py:399: RuntimeWarning:\n",
      "\n",
      "overflow encountered in exp\n",
      "\n",
      "Run 0:  10%|█         | 5/50 [01:10<12:04, 16.09s/it, Current Best:=5023.660]/Users/radical-rhys/miniconda/lib/python3.12/site-packages/pandas/core/arraylike.py:399: RuntimeWarning:\n",
      "\n",
      "overflow encountered in exp\n",
      "\n",
      "Run 0:  12%|█▏        | 6/50 [01:22<10:45, 14.68s/it, Current Best:=5042.937]/Users/radical-rhys/miniconda/lib/python3.12/site-packages/pandas/core/arraylike.py:399: RuntimeWarning:\n",
      "\n",
      "overflow encountered in exp\n",
      "\n",
      "Run 0:  14%|█▍        | 7/50 [01:35<10:02, 14.02s/it, Current Best:=5061.968]/Users/radical-rhys/miniconda/lib/python3.12/site-packages/pandas/core/arraylike.py:399: RuntimeWarning:\n",
      "\n",
      "overflow encountered in exp\n",
      "\n",
      "Run 0:  16%|█▌        | 8/50 [01:49<09:48, 14.01s/it, Current Best:=5079.118]/Users/radical-rhys/miniconda/lib/python3.12/site-packages/pandas/core/arraylike.py:399: RuntimeWarning:\n",
      "\n",
      "overflow encountered in exp\n",
      "\n",
      "Run 0:  18%|█▊        | 9/50 [02:04<09:42, 14.22s/it, Current Best:=5093.874]/Users/radical-rhys/miniconda/lib/python3.12/site-packages/pandas/core/arraylike.py:399: RuntimeWarning:\n",
      "\n",
      "overflow encountered in exp\n",
      "\n",
      "Run 0:  20%|██        | 10/50 [02:17<09:18, 13.95s/it, Current Best:=5111.484]/Users/radical-rhys/miniconda/lib/python3.12/site-packages/pandas/core/arraylike.py:399: RuntimeWarning:\n",
      "\n",
      "overflow encountered in exp\n",
      "\n",
      "Run 0:  22%|██▏       | 11/50 [02:33<09:26, 14.52s/it, Current Best:=5127.730]/Users/radical-rhys/miniconda/lib/python3.12/site-packages/pandas/core/arraylike.py:399: RuntimeWarning:\n",
      "\n",
      "overflow encountered in exp\n",
      "\n",
      "Run 0:  24%|██▍       | 12/50 [02:52<10:07, 15.99s/it, Current Best:=5138.872]/Users/radical-rhys/miniconda/lib/python3.12/site-packages/pandas/core/arraylike.py:399: RuntimeWarning:\n",
      "\n",
      "overflow encountered in exp\n",
      "\n",
      "Run 0:  26%|██▌       | 13/50 [03:07<09:41, 15.72s/it, Current Best:=5149.151]/Users/radical-rhys/miniconda/lib/python3.12/site-packages/pandas/core/arraylike.py:399: RuntimeWarning:\n",
      "\n",
      "overflow encountered in exp\n",
      "\n",
      "Run 0:  28%|██▊       | 14/50 [03:23<09:26, 15.73s/it, Current Best:=5155.355]/Users/radical-rhys/miniconda/lib/python3.12/site-packages/pandas/core/arraylike.py:399: RuntimeWarning:\n",
      "\n",
      "overflow encountered in exp\n",
      "\n",
      "Run 0:  30%|███       | 15/50 [03:37<08:53, 15.24s/it, Current Best:=5161.445]/Users/radical-rhys/miniconda/lib/python3.12/site-packages/pandas/core/arraylike.py:399: RuntimeWarning:\n",
      "\n",
      "overflow encountered in exp\n",
      "\n",
      "Run 0:  32%|███▏      | 16/50 [04:10<11:35, 20.46s/it, Current Best:=5166.265]/Users/radical-rhys/miniconda/lib/python3.12/site-packages/pandas/core/arraylike.py:399: RuntimeWarning:\n",
      "\n",
      "overflow encountered in exp\n",
      "\n",
      "Run 0:  34%|███▍      | 17/50 [04:34<11:53, 21.62s/it, Current Best:=5170.992]/Users/radical-rhys/miniconda/lib/python3.12/site-packages/pandas/core/arraylike.py:399: RuntimeWarning:\n",
      "\n",
      "overflow encountered in exp\n",
      "\n",
      "Run 0:  36%|███▌      | 18/50 [04:50<10:39, 19.98s/it, Current Best:=5175.575]/Users/radical-rhys/miniconda/lib/python3.12/site-packages/pandas/core/arraylike.py:399: RuntimeWarning:\n",
      "\n",
      "overflow encountered in exp\n",
      "\n",
      "Run 0:  38%|███▊      | 19/50 [05:06<09:43, 18.83s/it, Current Best:=5180.225]/Users/radical-rhys/miniconda/lib/python3.12/site-packages/pandas/core/arraylike.py:399: RuntimeWarning:\n",
      "\n",
      "overflow encountered in exp\n",
      "\n",
      "Run 0:  40%|████      | 20/50 [05:24<09:14, 18.47s/it, Current Best:=5184.622]/Users/radical-rhys/miniconda/lib/python3.12/site-packages/pandas/core/arraylike.py:399: RuntimeWarning:\n",
      "\n",
      "overflow encountered in exp\n",
      "\n",
      "Run 0:  42%|████▏     | 21/50 [05:40<08:34, 17.76s/it, Current Best:=5188.674]/Users/radical-rhys/miniconda/lib/python3.12/site-packages/pandas/core/arraylike.py:399: RuntimeWarning:\n",
      "\n",
      "overflow encountered in exp\n",
      "\n",
      "Run 0:  44%|████▍     | 22/50 [05:56<07:58, 17.09s/it, Current Best:=5192.601]/Users/radical-rhys/miniconda/lib/python3.12/site-packages/pandas/core/arraylike.py:399: RuntimeWarning:\n",
      "\n",
      "overflow encountered in exp\n",
      "\n",
      "Run 0:  46%|████▌     | 23/50 [06:12<07:35, 16.89s/it, Current Best:=5196.606]/Users/radical-rhys/miniconda/lib/python3.12/site-packages/pandas/core/arraylike.py:399: RuntimeWarning:\n",
      "\n",
      "overflow encountered in exp\n",
      "\n",
      "Run 0:  48%|████▊     | 24/50 [06:29<07:17, 16.81s/it, Current Best:=5200.270]/Users/radical-rhys/miniconda/lib/python3.12/site-packages/pandas/core/arraylike.py:399: RuntimeWarning:\n",
      "\n",
      "overflow encountered in exp\n",
      "\n",
      "Run 0:  50%|█████     | 25/50 [06:46<07:01, 16.87s/it, Current Best:=5203.370]/Users/radical-rhys/miniconda/lib/python3.12/site-packages/pandas/core/arraylike.py:399: RuntimeWarning:\n",
      "\n",
      "overflow encountered in exp\n",
      "\n",
      "Run 0:  52%|█████▏    | 26/50 [07:03<06:47, 16.97s/it, Current Best:=5204.866]/Users/radical-rhys/miniconda/lib/python3.12/site-packages/pandas/core/arraylike.py:399: RuntimeWarning:\n",
      "\n",
      "overflow encountered in exp\n",
      "\n",
      "Run 0:  54%|█████▍    | 27/50 [07:20<06:28, 16.87s/it, Current Best:=5207.554]/Users/radical-rhys/miniconda/lib/python3.12/site-packages/pandas/core/arraylike.py:399: RuntimeWarning:\n",
      "\n",
      "overflow encountered in exp\n",
      "\n",
      "Run 0:  56%|█████▌    | 28/50 [07:49<07:35, 20.71s/it, Current Best:=5210.628]/Users/radical-rhys/miniconda/lib/python3.12/site-packages/pandas/core/arraylike.py:399: RuntimeWarning:\n",
      "\n",
      "overflow encountered in exp\n",
      "\n",
      "Run 0:  58%|█████▊    | 29/50 [08:08<07:00, 20.01s/it, Current Best:=5213.302]/Users/radical-rhys/miniconda/lib/python3.12/site-packages/pandas/core/arraylike.py:399: RuntimeWarning:\n",
      "\n",
      "overflow encountered in exp\n",
      "\n",
      "Run 0:  60%|██████    | 30/50 [08:24<06:20, 19.02s/it, Current Best:=5214.438]/Users/radical-rhys/miniconda/lib/python3.12/site-packages/pandas/core/arraylike.py:399: RuntimeWarning:\n",
      "\n",
      "overflow encountered in exp\n",
      "\n",
      "Run 0:  62%|██████▏   | 31/50 [08:45<06:10, 19.49s/it, Current Best:=5217.807]/Users/radical-rhys/miniconda/lib/python3.12/site-packages/pandas/core/arraylike.py:399: RuntimeWarning:\n",
      "\n",
      "overflow encountered in exp\n",
      "\n",
      "Run 0:  64%|██████▍   | 32/50 [09:07<06:05, 20.32s/it, Current Best:=5220.329]/Users/radical-rhys/miniconda/lib/python3.12/site-packages/pandas/core/arraylike.py:399: RuntimeWarning:\n",
      "\n",
      "overflow encountered in exp\n",
      "\n",
      "Run 0:  66%|██████▌   | 33/50 [09:27<05:43, 20.22s/it, Current Best:=5222.780]/Users/radical-rhys/miniconda/lib/python3.12/site-packages/pandas/core/arraylike.py:399: RuntimeWarning:\n",
      "\n",
      "overflow encountered in exp\n",
      "\n",
      "Run 0:  68%|██████▊   | 34/50 [09:43<05:02, 18.90s/it, Current Best:=5223.920]/Users/radical-rhys/miniconda/lib/python3.12/site-packages/pandas/core/arraylike.py:399: RuntimeWarning:\n",
      "\n",
      "overflow encountered in exp\n",
      "\n",
      "Run 0:  70%|███████   | 35/50 [10:05<04:56, 19.79s/it, Current Best:=5225.074]/Users/radical-rhys/miniconda/lib/python3.12/site-packages/pandas/core/arraylike.py:399: RuntimeWarning:\n",
      "\n",
      "overflow encountered in exp\n",
      "\n",
      "Run 0:  72%|███████▏  | 36/50 [10:29<04:53, 20.98s/it, Current Best:=5226.536]/Users/radical-rhys/miniconda/lib/python3.12/site-packages/pandas/core/arraylike.py:399: RuntimeWarning:\n",
      "\n",
      "overflow encountered in exp\n",
      "\n",
      "Run 0:  74%|███████▍  | 37/50 [10:48<04:26, 20.53s/it, Current Best:=5227.990]/Users/radical-rhys/miniconda/lib/python3.12/site-packages/pandas/core/arraylike.py:399: RuntimeWarning:\n",
      "\n",
      "overflow encountered in exp\n",
      "\n",
      "Run 0:  76%|███████▌  | 38/50 [11:07<04:00, 20.05s/it, Current Best:=5229.493]/Users/radical-rhys/miniconda/lib/python3.12/site-packages/pandas/core/arraylike.py:399: RuntimeWarning:\n",
      "\n",
      "overflow encountered in exp\n",
      "\n",
      "Run 0:  78%|███████▊  | 39/50 [11:32<03:58, 21.65s/it, Current Best:=5230.628]/Users/radical-rhys/miniconda/lib/python3.12/site-packages/pandas/core/arraylike.py:399: RuntimeWarning:\n",
      "\n",
      "overflow encountered in exp\n",
      "\n",
      "Run 0:  80%|████████  | 40/50 [11:56<03:44, 22.41s/it, Current Best:=5231.733]/Users/radical-rhys/miniconda/lib/python3.12/site-packages/pandas/core/arraylike.py:399: RuntimeWarning:\n",
      "\n",
      "overflow encountered in exp\n",
      "\n",
      "Run 0:  82%|████████▏ | 41/50 [12:21<03:26, 22.96s/it, Current Best:=5232.910]/Users/radical-rhys/miniconda/lib/python3.12/site-packages/pandas/core/arraylike.py:399: RuntimeWarning:\n",
      "\n",
      "overflow encountered in exp\n",
      "\n",
      "Run 0:  84%|████████▍ | 42/50 [12:48<03:12, 24.12s/it, Current Best:=5233.984]/Users/radical-rhys/miniconda/lib/python3.12/site-packages/pandas/core/arraylike.py:399: RuntimeWarning:\n",
      "\n",
      "overflow encountered in exp\n",
      "\n",
      "Run 0:  86%|████████▌ | 43/50 [13:09<02:42, 23.19s/it, Current Best:=5234.904]/Users/radical-rhys/miniconda/lib/python3.12/site-packages/pandas/core/arraylike.py:399: RuntimeWarning:\n",
      "\n",
      "overflow encountered in exp\n",
      "\n",
      "Run 0:  88%|████████▊ | 44/50 [13:30<02:16, 22.69s/it, Current Best:=5235.813]/Users/radical-rhys/miniconda/lib/python3.12/site-packages/pandas/core/arraylike.py:399: RuntimeWarning:\n",
      "\n",
      "overflow encountered in exp\n",
      "\n",
      "Run 0:  90%|█████████ | 45/50 [13:58<02:01, 24.34s/it, Current Best:=5236.952]/Users/radical-rhys/miniconda/lib/python3.12/site-packages/pandas/core/arraylike.py:399: RuntimeWarning:\n",
      "\n",
      "overflow encountered in exp\n",
      "\n",
      "Run 0:  92%|█████████▏| 46/50 [14:31<01:47, 26.97s/it, Current Best:=5238.031]/Users/radical-rhys/miniconda/lib/python3.12/site-packages/pandas/core/arraylike.py:399: RuntimeWarning:\n",
      "\n",
      "overflow encountered in exp\n",
      "\n",
      "Run 0:  94%|█████████▍| 47/50 [18:27<04:28, 89.48s/it, Current Best:=5238.905]/Users/radical-rhys/miniconda/lib/python3.12/site-packages/pandas/core/arraylike.py:399: RuntimeWarning:\n",
      "\n",
      "overflow encountered in exp\n",
      "\n",
      "Run 0:  96%|█████████▌| 48/50 [18:53<02:20, 70.44s/it, Current Best:=5239.894]/Users/radical-rhys/miniconda/lib/python3.12/site-packages/pandas/core/arraylike.py:399: RuntimeWarning:\n",
      "\n",
      "overflow encountered in exp\n",
      "\n",
      "Run 0:  98%|█████████▊| 49/50 [19:39<01:03, 63.11s/it, Current Best:=5240.870]/Users/radical-rhys/miniconda/lib/python3.12/site-packages/pandas/core/arraylike.py:399: RuntimeWarning:\n",
      "\n",
      "overflow encountered in exp\n",
      "\n",
      "Run 0: 100%|██████████| 50/50 [20:08<00:00, 24.16s/it, Current Best:=5241.827]\n"
     ]
    }
   ],
   "source": [
    "c_results = run(\n",
    "    BNH(constraints=True),\n",
    "    strategy_factory=strategy_factory,\n",
    "    n_iterations=50 if not SMOKE_TEST else 1,\n",
    "    metric=hypervolume,\n",
    "    initial_sampler=sample,\n",
    "    n_runs=1,\n",
    "    n_procs=1,\n",
    ")"
   ]
  },
  {
   "cell_type": "code",
   "execution_count": null,
   "id": "13",
   "metadata": {
    "tags": []
   },
   "outputs": [
    {
     "data": {
      "image/png": "[encoded data removed]",
      "text/plain": [
       "<Figure size 640x480 with 1 Axes>"
      ]
     },
     "metadata": {},
     "output_type": "display_data"
    }
   ],
   "source": [
    "if not SMOKE_TEST:\n",
    "    fig, ax = plt.subplots()\n",
    "    ax.plot(results[0][1], label=\"without constraints\")\n",
    "    ax.plot(c_results[0][1], label=\"with constraints\")\n",
    "    ax.set_xlabel(\"iteration\")\n",
    "    ax.set_ylabel(\"hypervolume\")\n",
    "    ax.legend()\n",
    "    plt.show()"
   ]
  }
 ],
 "metadata": {
  "kernelspec": {
   "display_name": "base",
   "language": "python",
   "name": "python3"
  },
  "language_info": {
   "codemirror_mode": {
    "name": "ipython",
    "version": 3
   },
   "file_extension": ".py",
   "mimetype": "text/x-python",
   "name": "python",
   "nbconvert_exporter": "python",
   "pygments_lexer": "ipython3",
   "version": "3.12.7"
  },
  "papermill": {
   "default_parameters": {},
   "duration": 6.81692,
   "end_time": "2024-10-10T20:35:45.726251",
   "environment_variables": {},
   "exception": true,
   "input_path": "/Users/radical-rhys/Radical/bofire/tutorials/benchmarks/012-BNH.ipynb",
   "output_path": "/Users/radical-rhys/Radical/bofire/tutorials/benchmarks/012-BNH.ipynb",
   "parameters": {},
   "start_time": "2024-10-10T20:35:38.909331",
   "version": "2.6.0"
  }
 },
 "nbformat": 4,
 "nbformat_minor": 5
}
