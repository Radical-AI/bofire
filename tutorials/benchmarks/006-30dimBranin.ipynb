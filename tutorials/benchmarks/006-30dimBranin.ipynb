{
 "cells": [
  {
   "attachments": {},
   "cell_type": "markdown",
   "id": "0",
   "metadata": {
    "papermill": {
     "duration": 0.001373,
     "end_time": "2024-10-10T16:04:11.741527",
     "exception": false,
     "start_time": "2024-10-10T16:04:11.740154",
     "status": "completed"
    },
    "tags": []
   },
   "source": [
    "# 30dim Branin Benchmark with SAASBO\n",
    "This is a port from https://github.com/pytorch/botorch/blob/main/tutorials/saasbo.ipynb\n",
    "## Imports"
   ]
  },
  {
   "cell_type": "code",
   "execution_count": null,
   "id": "1",
   "metadata": {
    "papermill": {
     "duration": 2.433052,
     "end_time": "2024-10-10T16:04:14.175555",
     "exception": false,
     "start_time": "2024-10-10T16:04:11.742503",
     "status": "completed"
    },
    "tags": []
   },
   "outputs": [],
   "source": [
    "import os\n",
    "\n",
    "import pandas as pd\n",
    "\n",
    "import bofire.strategies.api as strategies\n",
    "from bofire.benchmarks.single import Branin30\n",
    "from bofire.data_models.acquisition_functions.api import qLogEI\n",
    "from bofire.data_models.api import Domain\n",
    "from bofire.data_models.strategies.api import RandomStrategy, SoboStrategy\n",
    "from bofire.data_models.surrogates.api import (\n",
    "    BotorchSurrogates,\n",
    "    SaasSingleTaskGPSurrogate,\n",
    ")\n",
    "from bofire.runners.api import run\n",
    "\n",
    "\n",
    "SMOKE_TEST = os.environ.get(\"SMOKE_TEST\")\n",
    "\n",
    "N_ITERATIONS = 10 if not SMOKE_TEST else 1\n",
    "BATCH_SIZE = 5 if not SMOKE_TEST else 1\n",
    "WARMUP_STEPS = 256 if not SMOKE_TEST else 32\n",
    "NUM_SAMPLES = 128 if not SMOKE_TEST else 16\n",
    "THINNING = 16"
   ]
  },
  {
   "attachments": {},
   "cell_type": "markdown",
   "id": "2",
   "metadata": {
    "papermill": {
     "duration": 0.000705,
     "end_time": "2024-10-10T16:04:14.177196",
     "exception": false,
     "start_time": "2024-10-10T16:04:14.176491",
     "status": "completed"
    },
    "tags": []
   },
   "source": [
    "## Random Optimization"
   ]
  },
  {
   "cell_type": "code",
   "execution_count": null,
   "id": "3",
   "metadata": {
    "papermill": {
     "duration": 0.064161,
     "end_time": "2024-10-10T16:04:14.241969",
     "exception": false,
     "start_time": "2024-10-10T16:04:14.177808",
     "status": "completed"
    },
    "tags": []
   },
   "outputs": [
    {
     "name": "stderr",
     "output_type": "stream",
     "text": [
      "\r\n",
      "  0%|          | 0/1 [00:00<?, ?it/s]"
     ]
    },
    {
     "name": "stderr",
     "output_type": "stream",
     "text": [
      "\r\n",
      "run 0 with current best 0.749:   0%|          | 0/1 [00:00<?, ?it/s]"
     ]
    },
    {
     "name": "stderr",
     "output_type": "stream",
     "text": [
      "\r\n",
      "run 0 with current best 0.749: 100%|██████████| 1/1 [00:00<00:00, 40.54it/s]"
     ]
    },
    {
     "name": "stderr",
     "output_type": "stream",
     "text": [
      "\n"
     ]
    }
   ],
   "source": [
    "def sample(domain):\n",
    "    datamodel = RandomStrategy(domain=domain)\n",
    "    sampler = strategies.map(data_model=datamodel)\n",
    "    sampled = sampler.ask(10)\n",
    "    return sampled\n",
    "\n",
    "\n",
    "def best(domain: Domain, experiments: pd.DataFrame) -> float:\n",
    "    return experiments.y.min()\n",
    "\n",
    "\n",
    "random_results = run(\n",
    "    Branin30(),\n",
    "    strategy_factory=lambda domain: strategies.map(RandomStrategy(domain=domain)),\n",
    "    n_iterations=N_ITERATIONS,\n",
    "    metric=best,\n",
    "    initial_sampler=sample,\n",
    "    n_candidates_per_proposal=5,\n",
    "    n_runs=1,\n",
    "    n_procs=1,\n",
    ")"
   ]
  },
  {
   "attachments": {},
   "cell_type": "markdown",
   "id": "4",
   "metadata": {
    "papermill": {
     "duration": 0.000761,
     "end_time": "2024-10-10T16:04:14.243683",
     "exception": false,
     "start_time": "2024-10-10T16:04:14.242922",
     "status": "completed"
    },
    "tags": []
   },
   "source": [
    "## SAASBO Optimization"
   ]
  },
  {
   "cell_type": "code",
   "execution_count": null,
   "id": "5",
   "metadata": {
    "papermill": {
     "duration": 5.974178,
     "end_time": "2024-10-10T16:04:20.218651",
     "exception": false,
     "start_time": "2024-10-10T16:04:14.244473",
     "status": "completed"
    },
    "tags": []
   },
   "outputs": [
    {
     "name": "stderr",
     "output_type": "stream",
     "text": [
      "\r\n",
      "  0%|          | 0/1 [00:00<?, ?it/s]"
     ]
    },
    {
     "name": "stderr",
     "output_type": "stream",
     "text": [
      "\r\n",
      "run 0 with current best 2.360:   0%|          | 0/1 [00:03<?, ?it/s]"
     ]
    },
    {
     "name": "stderr",
     "output_type": "stream",
     "text": [
      "\r\n",
      "run 0 with current best 2.360: 100%|██████████| 1/1 [00:03<00:00,  3.20s/it]"
     ]
    },
    {
     "name": "stderr",
     "output_type": "stream",
     "text": [
      "\r\n",
      "run 0 with current best 2.360: 100%|██████████| 1/1 [00:03<00:00,  3.20s/it]"
     ]
    },
    {
     "name": "stderr",
     "output_type": "stream",
     "text": [
      "\n"
     ]
    }
   ],
   "source": [
    "benchmark = Branin30()\n",
    "\n",
    "\n",
    "def strategy_factory(domain: Domain):\n",
    "    data_model = SoboStrategy(\n",
    "        domain=domain,\n",
    "        acquisition_function=qLogEI(),\n",
    "        surrogate_specs=BotorchSurrogates(\n",
    "            surrogates=[\n",
    "                SaasSingleTaskGPSurrogate(\n",
    "                    inputs=benchmark.domain.inputs,\n",
    "                    outputs=benchmark.domain.outputs,\n",
    "                    # the following hyperparams do not need to be provided\n",
    "                    warmup_steps=WARMUP_STEPS,\n",
    "                    num_samples=NUM_SAMPLES,\n",
    "                    thinning=THINNING,\n",
    "                )\n",
    "            ]\n",
    "        ),\n",
    "    )\n",
    "    return strategies.map(data_model)\n",
    "\n",
    "\n",
    "random_results = run(\n",
    "    Branin30(),\n",
    "    strategy_factory=strategy_factory,\n",
    "    n_iterations=N_ITERATIONS,\n",
    "    metric=best,\n",
    "    initial_sampler=sample,\n",
    "    n_candidates_per_proposal=5,\n",
    "    n_runs=1,\n",
    "    n_procs=1,\n",
    ")"
   ]
  }
 ],
 "metadata": {
  "kernelspec": {
   "display_name": "base",
   "language": "python",
   "name": "python3"
  },
  "language_info": {
   "codemirror_mode": {
    "name": "ipython",
    "version": 3
   },
   "file_extension": ".py",
   "mimetype": "text/x-python",
   "name": "python",
   "nbconvert_exporter": "python",
   "pygments_lexer": "ipython3",
   "version": "3.12.2"
  },
  "papermill": {
   "default_parameters": {},
   "duration": 11.928052,
   "end_time": "2024-10-10T16:04:22.835365",
   "environment_variables": {},
   "exception": null,
   "input_path": "/Users/radical-rhys/Radical/bofire/tutorials/benchmarks/006-30dimBranin.ipynb",
   "output_path": "/Users/radical-rhys/Radical/bofire/tutorials/benchmarks/006-30dimBranin.ipynb",
   "parameters": {},
   "start_time": "2024-10-10T16:04:10.907313",
   "version": "2.6.0"
  }
 },
 "nbformat": 4,
 "nbformat_minor": 5
}
