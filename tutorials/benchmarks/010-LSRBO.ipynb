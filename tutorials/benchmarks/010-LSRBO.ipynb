{
 "cells": [
  {
   "cell_type": "markdown",
   "id": "0",
   "metadata": {
    "papermill": {
     "duration": 0.005369,
     "end_time": "2024-10-10T20:35:28.916701",
     "exception": false,
     "start_time": "2024-10-10T20:35:28.911332",
     "status": "completed"
    },
    "tags": []
   },
   "source": [
    "# Local Search Region Bayesian Optimization\n",
    "\n",
    "In this notebook the Branin benchmark from paper about local search region BO (https://www.merl.com/publications/docs/TR2023-057.pdf) is reproduced."
   ]
  },
  {
   "cell_type": "markdown",
   "id": "1",
   "metadata": {
    "papermill": {
     "duration": 0.002544,
     "end_time": "2024-10-10T20:35:28.923095",
     "exception": false,
     "start_time": "2024-10-10T20:35:28.920551",
     "status": "completed"
    },
    "tags": []
   },
   "source": [
    "## Imports and helper methods"
   ]
  },
  {
   "cell_type": "code",
   "execution_count": null,
   "id": "2",
   "metadata": {
    "papermill": {
     "duration": 2.95335,
     "end_time": "2024-10-10T20:35:31.877904",
     "exception": false,
     "start_time": "2024-10-10T20:35:28.924554",
     "status": "completed"
    },
    "tags": []
   },
   "outputs": [],
   "source": [
    "import warnings\n",
    "\n",
    "import pandas as pd\n",
    "\n",
    "import bofire.strategies.api as strategies\n",
    "from bofire.benchmarks.api import Branin\n",
    "from bofire.data_models.acquisition_functions.api import qLogEI\n",
    "from bofire.data_models.domain.api import Domain\n",
    "from bofire.data_models.strategies.api import LSRBO, RandomStrategy, SoboStrategy\n",
    "from bofire.runners.api import run\n",
    "\n",
    "\n",
    "warnings.filterwarnings(\"ignore\")\n",
    "\n",
    "bench = Branin(locality_factor=0.5)\n",
    "\n",
    "\n",
    "def sample(domain):\n",
    "    sampled = domain.inputs.sample(10)\n",
    "    return sampled\n",
    "    # sampled = bench.f(sampled, return_complete = True)\n",
    "    # sampled = sampled.sort_values(by=\"y\", ascending=False, ignore_index=True)\n",
    "    # return sampled[bench.domain.inputs.get_keys()].copy()\n",
    "\n",
    "\n",
    "def best(domain: Domain, experiments: pd.DataFrame) -> float:\n",
    "    return experiments.y.min()"
   ]
  },
  {
   "cell_type": "markdown",
   "id": "3",
   "metadata": {
    "papermill": {
     "duration": 0.001327,
     "end_time": "2024-10-10T20:35:31.881013",
     "exception": false,
     "start_time": "2024-10-10T20:35:31.879686",
     "status": "completed"
    },
    "tags": []
   },
   "source": [
    "## Random Optimization\n",
    "Here random sampling is performed without any local search region constraints applied."
   ]
  },
  {
   "cell_type": "code",
   "execution_count": null,
   "id": "4",
   "metadata": {
    "papermill": {
     "duration": 0.252447,
     "end_time": "2024-10-10T20:35:32.134765",
     "exception": true,
     "start_time": "2024-10-10T20:35:31.882318",
     "status": "failed"
    },
    "tags": []
   },
   "outputs": [
    {
     "name": "stderr",
     "output_type": "stream",
     "text": [
      "Run 0: 100%|██████████| 80/80 [00:00<00:00, 111.88it/s, Current Best:=0.710]\n",
      "Run 0: 100%|██████████| 80/80 [00:00<00:00, 113.17it/s, Current Best:=0.480]\n",
      "Run 0: 100%|██████████| 80/80 [00:00<00:00, 120.56it/s, Current Best:=0.868] \n",
      "Run 0: 100%|██████████| 80/80 [00:00<00:00, 121.38it/s, Current Best:=2.135]\n",
      "Run 0: 100%|██████████| 80/80 [00:00<00:00, 118.45it/s, Current Best:=0.504]\n"
     ]
    }
   ],
   "source": [
    "random_results = [\n",
    "    run(\n",
    "        Branin(locality_factor=0.5),\n",
    "        strategy_factory=lambda domain: strategies.map(RandomStrategy(domain=domain)),\n",
    "        n_iterations=80,\n",
    "        metric=best,\n",
    "        initial_sampler=sample,\n",
    "        n_runs=1,\n",
    "        n_procs=1,\n",
    "    )\n",
    "    for _ in range(5)\n",
    "]"
   ]
  },
  {
   "cell_type": "markdown",
   "id": "5",
   "metadata": {
    "papermill": {
     "duration": null,
     "end_time": null,
     "exception": null,
     "start_time": null,
     "status": "pending"
    },
    "tags": []
   },
   "source": [
    "## SOBO Optimization\n",
    "Here standard bayesian optimization is performed without any local search region constraints applied using the qEI acquistion function."
   ]
  },
  {
   "cell_type": "code",
   "execution_count": null,
   "id": "6",
   "metadata": {
    "papermill": {
     "duration": null,
     "end_time": null,
     "exception": null,
     "start_time": null,
     "status": "pending"
    },
    "tags": []
   },
   "outputs": [
    {
     "name": "stderr",
     "output_type": "stream",
     "text": [
      "Run 0: 100%|██████████| 80/80 [01:42<00:00,  1.28s/it, Current Best:=0.398]\n",
      "Run 0: 100%|██████████| 80/80 [01:41<00:00,  1.27s/it, Current Best:=0.399]\n",
      "Run 0: 100%|██████████| 80/80 [01:46<00:00,  1.33s/it, Current Best:=0.398]\n",
      "Run 0: 100%|██████████| 80/80 [01:44<00:00,  1.31s/it, Current Best:=0.398]\n",
      "Run 0: 100%|██████████| 80/80 [01:37<00:00,  1.21s/it, Current Best:=0.398]\n"
     ]
    }
   ],
   "source": [
    "sobo_results = [\n",
    "    run(\n",
    "        Branin(locality_factor=0.5),\n",
    "        strategy_factory=lambda domain: strategies.map(\n",
    "            SoboStrategy(domain=domain, acquisition_function=qLogEI())\n",
    "        ),\n",
    "        n_iterations=80,\n",
    "        metric=best,\n",
    "        initial_sampler=sample,\n",
    "        n_runs=1,\n",
    "        n_procs=1,\n",
    "    )\n",
    "    for _ in range(5)\n",
    "]"
   ]
  },
  {
   "cell_type": "markdown",
   "id": "7",
   "metadata": {
    "papermill": {
     "duration": null,
     "end_time": null,
     "exception": null,
     "start_time": null,
     "status": "pending"
    },
    "tags": []
   },
   "source": [
    "## Local SOBO Optimization\n",
    "Here bayesian optimization is performed with setting `gamma` parameter of the LSR-BO method to 0 which results in a pure local optimization with respect to the last random sample."
   ]
  },
  {
   "cell_type": "code",
   "execution_count": null,
   "id": "8",
   "metadata": {
    "papermill": {
     "duration": null,
     "end_time": null,
     "exception": null,
     "start_time": null,
     "status": "pending"
    },
    "tags": []
   },
   "outputs": [
    {
     "name": "stderr",
     "output_type": "stream",
     "text": [
      "Run 0: 100%|██████████| 80/80 [01:51<00:00,  1.39s/it, Current Best:=0.740]\n",
      "Run 0: 100%|██████████| 80/80 [02:06<00:00,  1.58s/it, Current Best:=0.429]\n",
      "Run 0: 100%|██████████| 80/80 [02:07<00:00,  1.60s/it, Current Best:=0.420]\n",
      "Run 0: 100%|██████████| 80/80 [02:12<00:00,  1.65s/it, Current Best:=0.471]\n",
      "Run 0: 100%|██████████| 80/80 [01:47<00:00,  1.34s/it, Current Best:=0.463]\n"
     ]
    }
   ],
   "source": [
    "local_results = [\n",
    "    run(\n",
    "        Branin(locality_factor=0.5),\n",
    "        strategy_factory=lambda domain: strategies.map(\n",
    "            SoboStrategy(\n",
    "                domain=domain,\n",
    "                acquisition_function=qLogEI(),\n",
    "                local_search_config=LSRBO(gamma=0),\n",
    "            )\n",
    "        ),\n",
    "        n_iterations=80,\n",
    "        metric=best,\n",
    "        initial_sampler=sample,\n",
    "        n_runs=1,\n",
    "        n_procs=1,\n",
    "    )\n",
    "    for _ in range(5)\n",
    "]"
   ]
  },
  {
   "cell_type": "markdown",
   "id": "9",
   "metadata": {
    "papermill": {
     "duration": null,
     "end_time": null,
     "exception": null,
     "start_time": null,
     "status": "pending"
    },
    "tags": []
   },
   "source": [
    "## Global SOBO Optimization (Projection)\n",
    "Here bayesian optimization is performed with setting `gamma` parameter of the LSR-BO method to 500 which results in taking always the biggest step in the direction of the global candidate. In the original paper, this is called \"Projection\"."
   ]
  },
  {
   "cell_type": "code",
   "execution_count": null,
   "id": "10",
   "metadata": {
    "papermill": {
     "duration": null,
     "end_time": null,
     "exception": null,
     "start_time": null,
     "status": "pending"
    },
    "tags": []
   },
   "outputs": [
    {
     "name": "stderr",
     "output_type": "stream",
     "text": [
      "Run 0: 100%|██████████| 80/80 [01:43<00:00,  1.30s/it, Current Best:=0.525]\n",
      "Run 0: 100%|██████████| 80/80 [01:46<00:00,  1.33s/it, Current Best:=1.310]\n",
      "Run 0: 100%|██████████| 80/80 [01:48<00:00,  1.36s/it, Current Best:=0.521] \n",
      "Run 0: 100%|██████████| 80/80 [01:49<00:00,  1.37s/it, Current Best:=0.642]\n",
      "Run 0: 100%|██████████| 80/80 [01:49<00:00,  1.37s/it, Current Best:=2.280] \n"
     ]
    }
   ],
   "source": [
    "global_results = [\n",
    "    run(\n",
    "        Branin(locality_factor=0.5),\n",
    "        strategy_factory=lambda domain: strategies.map(\n",
    "            SoboStrategy(\n",
    "                domain=domain,\n",
    "                acquisition_function=qLogEI(),\n",
    "                local_search_config=LSRBO(gamma=500),\n",
    "            )\n",
    "        ),\n",
    "        n_iterations=80,\n",
    "        metric=best,\n",
    "        initial_sampler=sample,\n",
    "        n_runs=1,\n",
    "        n_procs=1,\n",
    "    )\n",
    "    for _ in range(5)\n",
    "]"
   ]
  },
  {
   "cell_type": "markdown",
   "id": "11",
   "metadata": {
    "papermill": {
     "duration": null,
     "end_time": null,
     "exception": null,
     "start_time": null,
     "status": "pending"
    },
    "tags": []
   },
   "source": [
    "## LSR-BO\n",
    "Here the actual method from the paper is performed with setting `gamma` to 0.1."
   ]
  },
  {
   "cell_type": "code",
   "execution_count": null,
   "id": "12",
   "metadata": {
    "papermill": {
     "duration": null,
     "end_time": null,
     "exception": null,
     "start_time": null,
     "status": "pending"
    },
    "tags": []
   },
   "outputs": [
    {
     "name": "stderr",
     "output_type": "stream",
     "text": [
      "Run 0: 100%|██████████| 80/80 [03:06<00:00,  2.33s/it, Current Best:=0.813]\n",
      "Run 0: 100%|██████████| 80/80 [02:17<00:00,  1.72s/it, Current Best:=1.160] \n",
      "Run 0: 100%|██████████| 80/80 [02:07<00:00,  1.60s/it, Current Best:=1.935]\n",
      "Run 0: 100%|██████████| 80/80 [02:02<00:00,  1.53s/it, Current Best:=1.228]\n",
      "Run 0: 100%|██████████| 80/80 [02:06<00:00,  1.58s/it, Current Best:=0.457]\n"
     ]
    }
   ],
   "source": [
    "lsr_results = [\n",
    "    run(\n",
    "        Branin(locality_factor=0.5),\n",
    "        strategy_factory=lambda domain: strategies.map(\n",
    "            SoboStrategy(\n",
    "                domain=domain,\n",
    "                acquisition_function=qLogEI(),\n",
    "                local_search_config=LSRBO(gamma=0.1),\n",
    "            )\n",
    "        ),\n",
    "        n_iterations=80,\n",
    "        metric=best,\n",
    "        initial_sampler=sample,\n",
    "        n_runs=1,\n",
    "        n_procs=1,\n",
    "    )\n",
    "    for _ in range(5)\n",
    "]"
   ]
  },
  {
   "cell_type": "markdown",
   "id": "13",
   "metadata": {
    "papermill": {
     "duration": null,
     "end_time": null,
     "exception": null,
     "start_time": null,
     "status": "pending"
    },
    "tags": []
   },
   "source": [
    "## Plot the results"
   ]
  },
  {
   "cell_type": "code",
   "execution_count": null,
   "id": "14",
   "metadata": {
    "papermill": {
     "duration": null,
     "end_time": null,
     "exception": null,
     "start_time": null,
     "status": "pending"
    },
    "tags": []
   },
   "outputs": [
    {
     "data": {
      "image/png": "[encoded data removed]",
      "text/plain": [
       "<Figure size 640x480 with 1 Axes>"
      ]
     },
     "metadata": {},
     "output_type": "display_data"
    }
   ],
   "source": [
    "import matplotlib.pyplot as plt\n",
    "import numpy as np\n",
    "\n",
    "\n",
    "fig, ax = plt.subplots()\n",
    "\n",
    "best_random = np.array([random_results[i][0][1] for i in range(len(random_results))])\n",
    "ax.plot(range(0, 80), best_random.mean(axis=0), color=\"gray\", label=\"Random\")\n",
    "ax.fill_between(\n",
    "    range(0, 80),\n",
    "    (best_random.mean(0) - best_random.std(0)),\n",
    "    (best_random.mean(0) + best_random.std(0)),\n",
    "    alpha=0.3,\n",
    "    color=\"gray\",\n",
    ")\n",
    "\n",
    "best_global = np.log10(\n",
    "    np.array([global_results[i][0][1] for i in range(len(global_results))]) - 0.397887\n",
    ")\n",
    "ax.plot(range(0, 80), best_global.mean(axis=0), color=\"orange\", label=\"Projection\")\n",
    "ax.fill_between(\n",
    "    range(0, 80),\n",
    "    (best_global.mean(0) - best_global.std(0)),\n",
    "    (best_global.mean(0) + best_global.std(0)),\n",
    "    alpha=0.3,\n",
    "    color=\"orange\",\n",
    ")\n",
    "\n",
    "best_local = np.log10(\n",
    "    np.array([local_results[i][0][1] for i in range(len(global_results))]) - 0.397887\n",
    ")\n",
    "ax.plot(range(0, 80), best_local.mean(axis=0), color=\"green\", label=\"Local\")\n",
    "ax.fill_between(\n",
    "    range(0, 80),\n",
    "    (best_local.mean(0) - best_local.std(0)),\n",
    "    (best_local.mean(0) + best_local.std(0)),\n",
    "    alpha=0.3,\n",
    "    color=\"green\",\n",
    ")\n",
    "\n",
    "best_lsr = np.log10(\n",
    "    np.array([lsr_results[i][0][1] for i in range(len(lsr_results))]) - 0.397887\n",
    ")\n",
    "ax.plot(range(0, 80), best_lsr.mean(axis=0), color=\"blue\", label=\"LSR\")\n",
    "ax.fill_between(\n",
    "    range(0, 80),\n",
    "    (best_lsr.mean(0) - best_lsr.std(0)),\n",
    "    (best_lsr.mean(0) + best_lsr.std(0)),\n",
    "    alpha=0.3,\n",
    "    color=\"blue\",\n",
    ")\n",
    "\n",
    "best_unconstrained = np.log10(\n",
    "    np.array([sobo_results[i][0][1] for i in range(len(sobo_results))]) - 0.397887\n",
    ")\n",
    "ax.plot(\n",
    "    range(0, 80), best_unconstrained.mean(axis=0), color=\"red\", label=\"Unconstrained\"\n",
    ")\n",
    "ax.fill_between(\n",
    "    range(0, 80),\n",
    "    (best_unconstrained.mean(0) - best_unconstrained.std(0)),\n",
    "    (best_unconstrained.mean(0) + best_unconstrained.std(0)),\n",
    "    alpha=0.3,\n",
    "    color=\"red\",\n",
    ")\n",
    "\n",
    "\n",
    "ax.set_xlabel(\"Iteration\")\n",
    "ax.set_ylabel(\"Log10(SimpleRegret)\")\n",
    "ax.legend()\n",
    "\n",
    "plt.show()"
   ]
  }
 ],
 "metadata": {
  "kernelspec": {
   "display_name": "base",
   "language": "python",
   "name": "python3"
  },
  "language_info": {
   "codemirror_mode": {
    "name": "ipython",
    "version": 3
   },
   "file_extension": ".py",
   "mimetype": "text/x-python",
   "name": "python",
   "nbconvert_exporter": "python",
   "pygments_lexer": "ipython3",
   "version": "3.12.7"
  },
  "papermill": {
   "default_parameters": {},
   "duration": 4.807572,
   "end_time": "2024-10-10T20:35:32.858632",
   "environment_variables": {},
   "exception": true,
   "input_path": "/Users/radical-rhys/Radical/bofire/tutorials/benchmarks/010-LSRBO.ipynb",
   "output_path": "/Users/radical-rhys/Radical/bofire/tutorials/benchmarks/010-LSRBO.ipynb",
   "parameters": {},
   "start_time": "2024-10-10T20:35:28.051060",
   "version": "2.6.0"
  }
 },
 "nbformat": 4,
 "nbformat_minor": 5
}
