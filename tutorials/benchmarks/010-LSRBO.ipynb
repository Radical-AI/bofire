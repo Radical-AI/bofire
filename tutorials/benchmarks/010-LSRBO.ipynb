{
 "cells": [
  {
   "cell_type": "markdown",
   "id": "0",
   "metadata": {
    "papermill": {
     "duration": 0.001665,
     "end_time": "2024-10-10T16:06:24.381940",
     "exception": false,
     "start_time": "2024-10-10T16:06:24.380275",
     "status": "completed"
    },
    "tags": []
   },
   "source": [
    "# Local Search Region Bayesian Optimization\n",
    "\n",
    "In this notebook the Branin benchmark from paper about local search region BO (https://www.merl.com/publications/docs/TR2023-057.pdf) is reproduced."
   ]
  },
  {
   "cell_type": "markdown",
   "id": "1",
   "metadata": {
    "papermill": {
     "duration": 0.000999,
     "end_time": "2024-10-10T16:06:24.384137",
     "exception": false,
     "start_time": "2024-10-10T16:06:24.383138",
     "status": "completed"
    },
    "tags": []
   },
   "source": [
    "## Imports and helper methods"
   ]
  },
  {
   "cell_type": "code",
   "execution_count": null,
   "id": "2",
   "metadata": {
    "papermill": {
     "duration": 2.220185,
     "end_time": "2024-10-10T16:06:26.605395",
     "exception": false,
     "start_time": "2024-10-10T16:06:24.385210",
     "status": "completed"
    },
    "tags": []
   },
   "outputs": [],
   "source": [
    "import warnings\n",
    "\n",
    "import pandas as pd\n",
    "\n",
    "import bofire.strategies.api as strategies\n",
    "from bofire.benchmarks.api import Branin\n",
    "from bofire.data_models.acquisition_functions.api import qLogEI\n",
    "from bofire.data_models.domain.api import Domain\n",
    "from bofire.data_models.strategies.api import LSRBO, RandomStrategy, SoboStrategy\n",
    "from bofire.runners.api import run\n",
    "\n",
    "\n",
    "warnings.filterwarnings(\"ignore\")\n",
    "\n",
    "bench = Branin(locality_factor=0.5)\n",
    "\n",
    "\n",
    "def sample(domain):\n",
    "    sampled = domain.inputs.sample(10)\n",
    "    return sampled\n",
    "    # sampled = bench.f(sampled, return_complete = True)\n",
    "    # sampled = sampled.sort_values(by=\"y\", ascending=False, ignore_index=True)\n",
    "    # return sampled[bench.domain.inputs.get_keys()].copy()\n",
    "\n",
    "\n",
    "def best(domain: Domain, experiments: pd.DataFrame) -> float:\n",
    "    return experiments.y.min()"
   ]
  },
  {
   "cell_type": "markdown",
   "id": "3",
   "metadata": {
    "papermill": {
     "duration": 0.000985,
     "end_time": "2024-10-10T16:06:26.607697",
     "exception": false,
     "start_time": "2024-10-10T16:06:26.606712",
     "status": "completed"
    },
    "tags": []
   },
   "source": [
    "## Random Optimization\n",
    "Here random sampling is performed without any local search region constraints applied."
   ]
  },
  {
   "cell_type": "code",
   "execution_count": null,
   "id": "4",
   "metadata": {
    "papermill": {
     "duration": 1.364816,
     "end_time": "2024-10-10T16:06:27.973422",
     "exception": false,
     "start_time": "2024-10-10T16:06:26.608606",
     "status": "completed"
    },
    "tags": []
   },
   "outputs": [
    {
     "name": "stderr",
     "output_type": "stream",
     "text": [
      "\r",
      "  0%|          | 0/80 [00:00<?, ?it/s]"
     ]
    },
    {
     "name": "stderr",
     "output_type": "stream",
     "text": [
      "\r",
      "run 0 with current best 0.770:   0%|          | 0/80 [00:00<?, ?it/s]"
     ]
    },
    {
     "name": "stderr",
     "output_type": "stream",
     "text": [
      "\r",
      "run 0 with current best 0.770:   0%|          | 0/80 [00:00<?, ?it/s]"
     ]
    },
    {
     "name": "stderr",
     "output_type": "stream",
     "text": [
      "\r",
      "run 0 with current best 0.770:   0%|          | 0/80 [00:00<?, ?it/s]"
     ]
    },
    {
     "name": "stderr",
     "output_type": "stream",
     "text": [
      "\r",
      "run 0 with current best 0.770:   0%|          | 0/80 [00:00<?, ?it/s]"
     ]
    },
    {
     "name": "stderr",
     "output_type": "stream",
     "text": [
      "\r",
      "run 0 with current best 0.770:   0%|          | 0/80 [00:00<?, ?it/s]"
     ]
    },
    {
     "name": "stderr",
     "output_type": "stream",
     "text": [
      "\r",
      "run 0 with current best 0.770:   0%|          | 0/80 [00:00<?, ?it/s]"
     ]
    },
    {
     "name": "stderr",
     "output_type": "stream",
     "text": [
      "\r",
      "run 0 with current best 0.770:   0%|          | 0/80 [00:00<?, ?it/s]"
     ]
    },
    {
     "name": "stderr",
     "output_type": "stream",
     "text": [
      "\r",
      "run 0 with current best 0.770:   0%|          | 0/80 [00:00<?, ?it/s]"
     ]
    },
    {
     "name": "stderr",
     "output_type": "stream",
     "text": [
      "\r",
      "run 0 with current best 0.770:   0%|          | 0/80 [00:00<?, ?it/s]"
     ]
    },
    {
     "name": "stderr",
     "output_type": "stream",
     "text": [
      "\r",
      "run 0 with current best 0.770:   0%|          | 0/80 [00:00<?, ?it/s]"
     ]
    },
    {
     "name": "stderr",
     "output_type": "stream",
     "text": [
      "\r",
      "run 0 with current best 0.770:   0%|          | 0/80 [00:00<?, ?it/s]"
     ]
    },
    {
     "name": "stderr",
     "output_type": "stream",
     "text": [
      "\r",
      "run 0 with current best 0.770:   0%|          | 0/80 [00:00<?, ?it/s]"
     ]
    },
    {
     "name": "stderr",
     "output_type": "stream",
     "text": [
      "\r",
      "run 0 with current best 0.770:   0%|          | 0/80 [00:00<?, ?it/s]"
     ]
    },
    {
     "name": "stderr",
     "output_type": "stream",
     "text": [
      "\r",
      "run 0 with current best 0.770:   0%|          | 0/80 [00:00<?, ?it/s]"
     ]
    },
    {
     "name": "stderr",
     "output_type": "stream",
     "text": [
      "\r",
      "run 0 with current best 0.770:   0%|          | 0/80 [00:00<?, ?it/s]"
     ]
    },
    {
     "name": "stderr",
     "output_type": "stream",
     "text": [
      "\r",
      "run 0 with current best 0.770:   0%|          | 0/80 [00:00<?, ?it/s]"
     ]
    },
    {
     "name": "stderr",
     "output_type": "stream",
     "text": [
      "\r",
      "run 0 with current best 0.770:   0%|          | 0/80 [00:00<?, ?it/s]"
     ]
    },
    {
     "name": "stderr",
     "output_type": "stream",
     "text": [
      "\r",
      "run 0 with current best 0.770:   0%|          | 0/80 [00:00<?, ?it/s]"
     ]
    },
    {
     "name": "stderr",
     "output_type": "stream",
     "text": [
      "\r",
      "run 0 with current best 0.770:   0%|          | 0/80 [00:00<?, ?it/s]"
     ]
    },
    {
     "name": "stderr",
     "output_type": "stream",
     "text": [
      "\r",
      "run 0 with current best 0.770:   0%|          | 0/80 [00:00<?, ?it/s]"
     ]
    },
    {
     "name": "stderr",
     "output_type": "stream",
     "text": [
      "\r",
      "run 0 with current best 0.770:   0%|          | 0/80 [00:00<?, ?it/s]"
     ]
    },
    {
     "name": "stderr",
     "output_type": "stream",
     "text": [
      "\r",
      "run 0 with current best 0.770:   0%|          | 0/80 [00:00<?, ?it/s]"
     ]
    },
    {
     "name": "stderr",
     "output_type": "stream",
     "text": [
      "\r",
      "run 0 with current best 0.770:   0%|          | 0/80 [00:00<?, ?it/s]"
     ]
    },
    {
     "name": "stderr",
     "output_type": "stream",
     "text": [
      "\r",
      "run 0 with current best 0.770:   0%|          | 0/80 [00:00<?, ?it/s]"
     ]
    },
    {
     "name": "stderr",
     "output_type": "stream",
     "text": [
      "\r",
      "run 0 with current best 0.770:   0%|          | 0/80 [00:00<?, ?it/s]"
     ]
    },
    {
     "name": "stderr",
     "output_type": "stream",
     "text": [
      "\r",
      "run 0 with current best 0.770:   0%|          | 0/80 [00:00<?, ?it/s]"
     ]
    },
    {
     "name": "stderr",
     "output_type": "stream",
     "text": [
      "\r",
      "run 0 with current best 0.770:   0%|          | 0/80 [00:00<?, ?it/s]"
     ]
    },
    {
     "name": "stderr",
     "output_type": "stream",
     "text": [
      "\r",
      "run 0 with current best 0.770:   0%|          | 0/80 [00:00<?, ?it/s]"
     ]
    },
    {
     "name": "stderr",
     "output_type": "stream",
     "text": [
      "\r",
      "run 0 with current best 0.770:  35%|███▌      | 28/80 [00:00<00:00, 271.19it/s]"
     ]
    },
    {
     "name": "stderr",
     "output_type": "stream",
     "text": [
      "\r",
      "run 0 with current best 0.770:  35%|███▌      | 28/80 [00:00<00:00, 271.19it/s]"
     ]
    },
    {
     "name": "stderr",
     "output_type": "stream",
     "text": [
      "\r",
      "run 0 with current best 0.770:  35%|███▌      | 28/80 [00:00<00:00, 271.19it/s]"
     ]
    },
    {
     "name": "stderr",
     "output_type": "stream",
     "text": [
      "\r",
      "run 0 with current best 0.770:  35%|███▌      | 28/80 [00:00<00:00, 271.19it/s]"
     ]
    },
    {
     "name": "stderr",
     "output_type": "stream",
     "text": [
      "\r",
      "run 0 with current best 0.770:  35%|███▌      | 28/80 [00:00<00:00, 271.19it/s]"
     ]
    },
    {
     "name": "stderr",
     "output_type": "stream",
     "text": [
      "\r",
      "run 0 with current best 0.770:  35%|███▌      | 28/80 [00:00<00:00, 271.19it/s]"
     ]
    },
    {
     "name": "stderr",
     "output_type": "stream",
     "text": [
      "\r",
      "run 0 with current best 0.770:  35%|███▌      | 28/80 [00:00<00:00, 271.19it/s]"
     ]
    },
    {
     "name": "stderr",
     "output_type": "stream",
     "text": [
      "\r",
      "run 0 with current best 0.770:  35%|███▌      | 28/80 [00:00<00:00, 271.19it/s]"
     ]
    },
    {
     "name": "stderr",
     "output_type": "stream",
     "text": [
      "\r",
      "run 0 with current best 0.770:  35%|███▌      | 28/80 [00:00<00:00, 271.19it/s]"
     ]
    },
    {
     "name": "stderr",
     "output_type": "stream",
     "text": [
      "\r",
      "run 0 with current best 0.770:  35%|███▌      | 28/80 [00:00<00:00, 271.19it/s]"
     ]
    },
    {
     "name": "stderr",
     "output_type": "stream",
     "text": [
      "\r",
      "run 0 with current best 0.770:  35%|███▌      | 28/80 [00:00<00:00, 271.19it/s]"
     ]
    },
    {
     "name": "stderr",
     "output_type": "stream",
     "text": [
      "\r",
      "run 0 with current best 0.770:  35%|███▌      | 28/80 [00:00<00:00, 271.19it/s]"
     ]
    },
    {
     "name": "stderr",
     "output_type": "stream",
     "text": [
      "\r",
      "run 0 with current best 0.770:  35%|███▌      | 28/80 [00:00<00:00, 271.19it/s]"
     ]
    },
    {
     "name": "stderr",
     "output_type": "stream",
     "text": [
      "\r",
      "run 0 with current best 0.770:  35%|███▌      | 28/80 [00:00<00:00, 271.19it/s]"
     ]
    },
    {
     "name": "stderr",
     "output_type": "stream",
     "text": [
      "\r",
      "run 0 with current best 0.770:  35%|███▌      | 28/80 [00:00<00:00, 271.19it/s]"
     ]
    },
    {
     "name": "stderr",
     "output_type": "stream",
     "text": [
      "\r",
      "run 0 with current best 0.770:  35%|███▌      | 28/80 [00:00<00:00, 271.19it/s]"
     ]
    },
    {
     "name": "stderr",
     "output_type": "stream",
     "text": [
      "\r",
      "run 0 with current best 0.770:  35%|███▌      | 28/80 [00:00<00:00, 271.19it/s]"
     ]
    },
    {
     "name": "stderr",
     "output_type": "stream",
     "text": [
      "\r",
      "run 0 with current best 0.770:  35%|███▌      | 28/80 [00:00<00:00, 271.19it/s]"
     ]
    },
    {
     "name": "stderr",
     "output_type": "stream",
     "text": [
      "\r",
      "run 0 with current best 0.770:  35%|███▌      | 28/80 [00:00<00:00, 271.19it/s]"
     ]
    },
    {
     "name": "stderr",
     "output_type": "stream",
     "text": [
      "\r",
      "run 0 with current best 0.770:  35%|███▌      | 28/80 [00:00<00:00, 271.19it/s]"
     ]
    },
    {
     "name": "stderr",
     "output_type": "stream",
     "text": [
      "\r",
      "run 0 with current best 0.770:  35%|███▌      | 28/80 [00:00<00:00, 271.19it/s]"
     ]
    },
    {
     "name": "stderr",
     "output_type": "stream",
     "text": [
      "\r",
      "run 0 with current best 0.770:  35%|███▌      | 28/80 [00:00<00:00, 271.19it/s]"
     ]
    },
    {
     "name": "stderr",
     "output_type": "stream",
     "text": [
      "\r",
      "run 0 with current best 0.770:  35%|███▌      | 28/80 [00:00<00:00, 271.19it/s]"
     ]
    },
    {
     "name": "stderr",
     "output_type": "stream",
     "text": [
      "\r",
      "run 0 with current best 0.770:  35%|███▌      | 28/80 [00:00<00:00, 271.19it/s]"
     ]
    },
    {
     "name": "stderr",
     "output_type": "stream",
     "text": [
      "\r",
      "run 0 with current best 0.770:  35%|███▌      | 28/80 [00:00<00:00, 271.19it/s]"
     ]
    },
    {
     "name": "stderr",
     "output_type": "stream",
     "text": [
      "\r",
      "run 0 with current best 0.770:  35%|███▌      | 28/80 [00:00<00:00, 271.19it/s]"
     ]
    },
    {
     "name": "stderr",
     "output_type": "stream",
     "text": [
      "\r",
      "run 0 with current best 0.770:  35%|███▌      | 28/80 [00:00<00:00, 271.19it/s]"
     ]
    },
    {
     "name": "stderr",
     "output_type": "stream",
     "text": [
      "\r",
      "run 0 with current best 0.770:  35%|███▌      | 28/80 [00:00<00:00, 271.19it/s]"
     ]
    },
    {
     "name": "stderr",
     "output_type": "stream",
     "text": [
      "\r",
      "run 0 with current best 0.770:  35%|███▌      | 28/80 [00:00<00:00, 271.19it/s]"
     ]
    },
    {
     "name": "stderr",
     "output_type": "stream",
     "text": [
      "\r",
      "run 0 with current best 0.770:  35%|███▌      | 28/80 [00:00<00:00, 271.19it/s]"
     ]
    },
    {
     "name": "stderr",
     "output_type": "stream",
     "text": [
      "\r",
      "run 0 with current best 0.770:  35%|███▌      | 28/80 [00:00<00:00, 271.19it/s]"
     ]
    },
    {
     "name": "stderr",
     "output_type": "stream",
     "text": [
      "\r",
      "run 0 with current best 0.770:  35%|███▌      | 28/80 [00:00<00:00, 271.19it/s]"
     ]
    },
    {
     "name": "stderr",
     "output_type": "stream",
     "text": [
      "\r",
      "run 0 with current best 0.770:  74%|███████▍  | 59/80 [00:00<00:00, 292.54it/s]"
     ]
    },
    {
     "name": "stderr",
     "output_type": "stream",
     "text": [
      "\r",
      "run 0 with current best 0.770:  74%|███████▍  | 59/80 [00:00<00:00, 292.54it/s]"
     ]
    },
    {
     "name": "stderr",
     "output_type": "stream",
     "text": [
      "\r",
      "run 0 with current best 0.770:  74%|███████▍  | 59/80 [00:00<00:00, 292.54it/s]"
     ]
    },
    {
     "name": "stderr",
     "output_type": "stream",
     "text": [
      "\r",
      "run 0 with current best 0.770:  74%|███████▍  | 59/80 [00:00<00:00, 292.54it/s]"
     ]
    },
    {
     "name": "stderr",
     "output_type": "stream",
     "text": [
      "\r",
      "run 0 with current best 0.770:  74%|███████▍  | 59/80 [00:00<00:00, 292.54it/s]"
     ]
    },
    {
     "name": "stderr",
     "output_type": "stream",
     "text": [
      "\r",
      "run 0 with current best 0.770:  74%|███████▍  | 59/80 [00:00<00:00, 292.54it/s]"
     ]
    },
    {
     "name": "stderr",
     "output_type": "stream",
     "text": [
      "\r",
      "run 0 with current best 0.770:  74%|███████▍  | 59/80 [00:00<00:00, 292.54it/s]"
     ]
    },
    {
     "name": "stderr",
     "output_type": "stream",
     "text": [
      "\r",
      "run 0 with current best 0.770:  74%|███████▍  | 59/80 [00:00<00:00, 292.54it/s]"
     ]
    },
    {
     "name": "stderr",
     "output_type": "stream",
     "text": [
      "\r",
      "run 0 with current best 0.770:  74%|███████▍  | 59/80 [00:00<00:00, 292.54it/s]"
     ]
    },
    {
     "name": "stderr",
     "output_type": "stream",
     "text": [
      "\r",
      "run 0 with current best 0.770:  74%|███████▍  | 59/80 [00:00<00:00, 292.54it/s]"
     ]
    },
    {
     "name": "stderr",
     "output_type": "stream",
     "text": [
      "\r",
      "run 0 with current best 0.770:  74%|███████▍  | 59/80 [00:00<00:00, 292.54it/s]"
     ]
    },
    {
     "name": "stderr",
     "output_type": "stream",
     "text": [
      "\r",
      "run 0 with current best 0.770:  74%|███████▍  | 59/80 [00:00<00:00, 292.54it/s]"
     ]
    },
    {
     "name": "stderr",
     "output_type": "stream",
     "text": [
      "\r",
      "run 0 with current best 0.770:  74%|███████▍  | 59/80 [00:00<00:00, 292.54it/s]"
     ]
    },
    {
     "name": "stderr",
     "output_type": "stream",
     "text": [
      "\r",
      "run 0 with current best 0.770:  74%|███████▍  | 59/80 [00:00<00:00, 292.54it/s]"
     ]
    },
    {
     "name": "stderr",
     "output_type": "stream",
     "text": [
      "\r",
      "run 0 with current best 0.770:  74%|███████▍  | 59/80 [00:00<00:00, 292.54it/s]"
     ]
    },
    {
     "name": "stderr",
     "output_type": "stream",
     "text": [
      "\r",
      "run 0 with current best 0.770:  74%|███████▍  | 59/80 [00:00<00:00, 292.54it/s]"
     ]
    },
    {
     "name": "stderr",
     "output_type": "stream",
     "text": [
      "\r",
      "run 0 with current best 0.770:  74%|███████▍  | 59/80 [00:00<00:00, 292.54it/s]"
     ]
    },
    {
     "name": "stderr",
     "output_type": "stream",
     "text": [
      "\r",
      "run 0 with current best 0.770:  74%|███████▍  | 59/80 [00:00<00:00, 292.54it/s]"
     ]
    },
    {
     "name": "stderr",
     "output_type": "stream",
     "text": [
      "\r",
      "run 0 with current best 0.770:  74%|███████▍  | 59/80 [00:00<00:00, 292.54it/s]"
     ]
    },
    {
     "name": "stderr",
     "output_type": "stream",
     "text": [
      "\r",
      "run 0 with current best 0.770:  74%|███████▍  | 59/80 [00:00<00:00, 292.54it/s]"
     ]
    },
    {
     "name": "stderr",
     "output_type": "stream",
     "text": [
      "\r",
      "run 0 with current best 0.770:  74%|███████▍  | 59/80 [00:00<00:00, 292.54it/s]"
     ]
    },
    {
     "name": "stderr",
     "output_type": "stream",
     "text": [
      "\r",
      "run 0 with current best 0.770:  74%|███████▍  | 59/80 [00:00<00:00, 292.54it/s]"
     ]
    },
    {
     "name": "stderr",
     "output_type": "stream",
     "text": [
      "\r",
      "run 0 with current best 0.770: 100%|██████████| 80/80 [00:00<00:00, 293.58it/s]"
     ]
    },
    {
     "name": "stderr",
     "output_type": "stream",
     "text": [
      "\n"
     ]
    },
    {
     "name": "stderr",
     "output_type": "stream",
     "text": [
      "\r",
      "  0%|          | 0/80 [00:00<?, ?it/s]"
     ]
    },
    {
     "name": "stderr",
     "output_type": "stream",
     "text": [
      "\r",
      "run 0 with current best 3.827:   0%|          | 0/80 [00:00<?, ?it/s]"
     ]
    },
    {
     "name": "stderr",
     "output_type": "stream",
     "text": [
      "\r",
      "run 0 with current best 3.827:   0%|          | 0/80 [00:00<?, ?it/s]"
     ]
    },
    {
     "name": "stderr",
     "output_type": "stream",
     "text": [
      "\r",
      "run 0 with current best 3.827:   0%|          | 0/80 [00:00<?, ?it/s]"
     ]
    },
    {
     "name": "stderr",
     "output_type": "stream",
     "text": [
      "\r",
      "run 0 with current best 3.827:   0%|          | 0/80 [00:00<?, ?it/s]"
     ]
    },
    {
     "name": "stderr",
     "output_type": "stream",
     "text": [
      "\r",
      "run 0 with current best 3.827:   0%|          | 0/80 [00:00<?, ?it/s]"
     ]
    },
    {
     "name": "stderr",
     "output_type": "stream",
     "text": [
      "\r",
      "run 0 with current best 3.827:   0%|          | 0/80 [00:00<?, ?it/s]"
     ]
    },
    {
     "name": "stderr",
     "output_type": "stream",
     "text": [
      "\r",
      "run 0 with current best 3.827:   0%|          | 0/80 [00:00<?, ?it/s]"
     ]
    },
    {
     "name": "stderr",
     "output_type": "stream",
     "text": [
      "\r",
      "run 0 with current best 3.827:   0%|          | 0/80 [00:00<?, ?it/s]"
     ]
    },
    {
     "name": "stderr",
     "output_type": "stream",
     "text": [
      "\r",
      "run 0 with current best 3.827:   0%|          | 0/80 [00:00<?, ?it/s]"
     ]
    },
    {
     "name": "stderr",
     "output_type": "stream",
     "text": [
      "\r",
      "run 0 with current best 3.827:   0%|          | 0/80 [00:00<?, ?it/s]"
     ]
    },
    {
     "name": "stderr",
     "output_type": "stream",
     "text": [
      "\r",
      "run 0 with current best 3.827:   0%|          | 0/80 [00:00<?, ?it/s]"
     ]
    },
    {
     "name": "stderr",
     "output_type": "stream",
     "text": [
      "\r",
      "run 0 with current best 3.827:   0%|          | 0/80 [00:00<?, ?it/s]"
     ]
    },
    {
     "name": "stderr",
     "output_type": "stream",
     "text": [
      "\r",
      "run 0 with current best 3.827:   0%|          | 0/80 [00:00<?, ?it/s]"
     ]
    },
    {
     "name": "stderr",
     "output_type": "stream",
     "text": [
      "\r",
      "run 0 with current best 3.827:   0%|          | 0/80 [00:00<?, ?it/s]"
     ]
    },
    {
     "name": "stderr",
     "output_type": "stream",
     "text": [
      "\r",
      "run 0 with current best 3.827:   0%|          | 0/80 [00:00<?, ?it/s]"
     ]
    },
    {
     "name": "stderr",
     "output_type": "stream",
     "text": [
      "\r",
      "run 0 with current best 3.827:   0%|          | 0/80 [00:00<?, ?it/s]"
     ]
    },
    {
     "name": "stderr",
     "output_type": "stream",
     "text": [
      "\r",
      "run 0 with current best 3.827:   0%|          | 0/80 [00:00<?, ?it/s]"
     ]
    },
    {
     "name": "stderr",
     "output_type": "stream",
     "text": [
      "\r",
      "run 0 with current best 3.827:   0%|          | 0/80 [00:00<?, ?it/s]"
     ]
    },
    {
     "name": "stderr",
     "output_type": "stream",
     "text": [
      "\r",
      "run 0 with current best 3.827:   0%|          | 0/80 [00:00<?, ?it/s]"
     ]
    },
    {
     "name": "stderr",
     "output_type": "stream",
     "text": [
      "\r",
      "run 0 with current best 3.827:   0%|          | 0/80 [00:00<?, ?it/s]"
     ]
    },
    {
     "name": "stderr",
     "output_type": "stream",
     "text": [
      "\r",
      "run 0 with current best 3.827:   0%|          | 0/80 [00:00<?, ?it/s]"
     ]
    },
    {
     "name": "stderr",
     "output_type": "stream",
     "text": [
      "\r",
      "run 0 with current best 3.827:   0%|          | 0/80 [00:00<?, ?it/s]"
     ]
    },
    {
     "name": "stderr",
     "output_type": "stream",
     "text": [
      "\r",
      "run 0 with current best 3.827:   0%|          | 0/80 [00:00<?, ?it/s]"
     ]
    },
    {
     "name": "stderr",
     "output_type": "stream",
     "text": [
      "\r",
      "run 0 with current best 3.827:   0%|          | 0/80 [00:00<?, ?it/s]"
     ]
    },
    {
     "name": "stderr",
     "output_type": "stream",
     "text": [
      "\r",
      "run 0 with current best 3.827:   0%|          | 0/80 [00:00<?, ?it/s]"
     ]
    },
    {
     "name": "stderr",
     "output_type": "stream",
     "text": [
      "\r",
      "run 0 with current best 3.827:   0%|          | 0/80 [00:00<?, ?it/s]"
     ]
    },
    {
     "name": "stderr",
     "output_type": "stream",
     "text": [
      "\r",
      "run 0 with current best 3.827:   0%|          | 0/80 [00:00<?, ?it/s]"
     ]
    },
    {
     "name": "stderr",
     "output_type": "stream",
     "text": [
      "\r",
      "run 0 with current best 3.827:   0%|          | 0/80 [00:00<?, ?it/s]"
     ]
    },
    {
     "name": "stderr",
     "output_type": "stream",
     "text": [
      "\r",
      "run 0 with current best 3.827:   0%|          | 0/80 [00:00<?, ?it/s]"
     ]
    },
    {
     "name": "stderr",
     "output_type": "stream",
     "text": [
      "\r",
      "run 0 with current best 3.827:   0%|          | 0/80 [00:00<?, ?it/s]"
     ]
    },
    {
     "name": "stderr",
     "output_type": "stream",
     "text": [
      "\r",
      "run 0 with current best 3.827:   0%|          | 0/80 [00:00<?, ?it/s]"
     ]
    },
    {
     "name": "stderr",
     "output_type": "stream",
     "text": [
      "\r",
      "run 0 with current best 3.827:  39%|███▉      | 31/80 [00:00<00:00, 300.98it/s]"
     ]
    },
    {
     "name": "stderr",
     "output_type": "stream",
     "text": [
      "\r",
      "run 0 with current best 3.827:  39%|███▉      | 31/80 [00:00<00:00, 300.98it/s]"
     ]
    },
    {
     "name": "stderr",
     "output_type": "stream",
     "text": [
      "\r",
      "run 0 with current best 3.827:  39%|███▉      | 31/80 [00:00<00:00, 300.98it/s]"
     ]
    },
    {
     "name": "stderr",
     "output_type": "stream",
     "text": [
      "\r",
      "run 0 with current best 3.827:  39%|███▉      | 31/80 [00:00<00:00, 300.98it/s]"
     ]
    },
    {
     "name": "stderr",
     "output_type": "stream",
     "text": [
      "\r",
      "run 0 with current best 3.827:  39%|███▉      | 31/80 [00:00<00:00, 300.98it/s]"
     ]
    },
    {
     "name": "stderr",
     "output_type": "stream",
     "text": [
      "\r",
      "run 0 with current best 3.827:  39%|███▉      | 31/80 [00:00<00:00, 300.98it/s]"
     ]
    },
    {
     "name": "stderr",
     "output_type": "stream",
     "text": [
      "\r",
      "run 0 with current best 3.827:  39%|███▉      | 31/80 [00:00<00:00, 300.98it/s]"
     ]
    },
    {
     "name": "stderr",
     "output_type": "stream",
     "text": [
      "\r",
      "run 0 with current best 3.827:  39%|███▉      | 31/80 [00:00<00:00, 300.98it/s]"
     ]
    },
    {
     "name": "stderr",
     "output_type": "stream",
     "text": [
      "\r",
      "run 0 with current best 3.827:  39%|███▉      | 31/80 [00:00<00:00, 300.98it/s]"
     ]
    },
    {
     "name": "stderr",
     "output_type": "stream",
     "text": [
      "\r",
      "run 0 with current best 3.827:  39%|███▉      | 31/80 [00:00<00:00, 300.98it/s]"
     ]
    },
    {
     "name": "stderr",
     "output_type": "stream",
     "text": [
      "\r",
      "run 0 with current best 3.827:  39%|███▉      | 31/80 [00:00<00:00, 300.98it/s]"
     ]
    },
    {
     "name": "stderr",
     "output_type": "stream",
     "text": [
      "\r",
      "run 0 with current best 3.827:  39%|███▉      | 31/80 [00:00<00:00, 300.98it/s]"
     ]
    },
    {
     "name": "stderr",
     "output_type": "stream",
     "text": [
      "\r",
      "run 0 with current best 3.827:  39%|███▉      | 31/80 [00:00<00:00, 300.98it/s]"
     ]
    },
    {
     "name": "stderr",
     "output_type": "stream",
     "text": [
      "\r",
      "run 0 with current best 3.002:  39%|███▉      | 31/80 [00:00<00:00, 300.98it/s]"
     ]
    },
    {
     "name": "stderr",
     "output_type": "stream",
     "text": [
      "\r",
      "run 0 with current best 3.002:  39%|███▉      | 31/80 [00:00<00:00, 300.98it/s]"
     ]
    },
    {
     "name": "stderr",
     "output_type": "stream",
     "text": [
      "\r",
      "run 0 with current best 3.002:  39%|███▉      | 31/80 [00:00<00:00, 300.98it/s]"
     ]
    },
    {
     "name": "stderr",
     "output_type": "stream",
     "text": [
      "\r",
      "run 0 with current best 3.002:  39%|███▉      | 31/80 [00:00<00:00, 300.98it/s]"
     ]
    },
    {
     "name": "stderr",
     "output_type": "stream",
     "text": [
      "\r",
      "run 0 with current best 3.002:  39%|███▉      | 31/80 [00:00<00:00, 300.98it/s]"
     ]
    },
    {
     "name": "stderr",
     "output_type": "stream",
     "text": [
      "\r",
      "run 0 with current best 3.002:  39%|███▉      | 31/80 [00:00<00:00, 300.98it/s]"
     ]
    },
    {
     "name": "stderr",
     "output_type": "stream",
     "text": [
      "\r",
      "run 0 with current best 3.002:  39%|███▉      | 31/80 [00:00<00:00, 300.98it/s]"
     ]
    },
    {
     "name": "stderr",
     "output_type": "stream",
     "text": [
      "\r",
      "run 0 with current best 3.002:  39%|███▉      | 31/80 [00:00<00:00, 300.98it/s]"
     ]
    },
    {
     "name": "stderr",
     "output_type": "stream",
     "text": [
      "\r",
      "run 0 with current best 3.002:  39%|███▉      | 31/80 [00:00<00:00, 300.98it/s]"
     ]
    },
    {
     "name": "stderr",
     "output_type": "stream",
     "text": [
      "\r",
      "run 0 with current best 3.002:  39%|███▉      | 31/80 [00:00<00:00, 300.98it/s]"
     ]
    },
    {
     "name": "stderr",
     "output_type": "stream",
     "text": [
      "\r",
      "run 0 with current best 3.002:  39%|███▉      | 31/80 [00:00<00:00, 300.98it/s]"
     ]
    },
    {
     "name": "stderr",
     "output_type": "stream",
     "text": [
      "\r",
      "run 0 with current best 3.002:  39%|███▉      | 31/80 [00:00<00:00, 300.98it/s]"
     ]
    },
    {
     "name": "stderr",
     "output_type": "stream",
     "text": [
      "\r",
      "run 0 with current best 3.002:  39%|███▉      | 31/80 [00:00<00:00, 300.98it/s]"
     ]
    },
    {
     "name": "stderr",
     "output_type": "stream",
     "text": [
      "\r",
      "run 0 with current best 3.002:  39%|███▉      | 31/80 [00:00<00:00, 300.98it/s]"
     ]
    },
    {
     "name": "stderr",
     "output_type": "stream",
     "text": [
      "\r",
      "run 0 with current best 3.002:  39%|███▉      | 31/80 [00:00<00:00, 300.98it/s]"
     ]
    },
    {
     "name": "stderr",
     "output_type": "stream",
     "text": [
      "\r",
      "run 0 with current best 3.002:  39%|███▉      | 31/80 [00:00<00:00, 300.98it/s]"
     ]
    },
    {
     "name": "stderr",
     "output_type": "stream",
     "text": [
      "\r",
      "run 0 with current best 3.002:  39%|███▉      | 31/80 [00:00<00:00, 300.98it/s]"
     ]
    },
    {
     "name": "stderr",
     "output_type": "stream",
     "text": [
      "\r",
      "run 0 with current best 3.002:  39%|███▉      | 31/80 [00:00<00:00, 300.98it/s]"
     ]
    },
    {
     "name": "stderr",
     "output_type": "stream",
     "text": [
      "\r",
      "run 0 with current best 3.002:  39%|███▉      | 31/80 [00:00<00:00, 300.98it/s]"
     ]
    },
    {
     "name": "stderr",
     "output_type": "stream",
     "text": [
      "\r",
      "run 0 with current best 3.002:  78%|███████▊  | 62/80 [00:00<00:00, 292.85it/s]"
     ]
    },
    {
     "name": "stderr",
     "output_type": "stream",
     "text": [
      "\r",
      "run 0 with current best 3.002:  78%|███████▊  | 62/80 [00:00<00:00, 292.85it/s]"
     ]
    },
    {
     "name": "stderr",
     "output_type": "stream",
     "text": [
      "\r",
      "run 0 with current best 3.002:  78%|███████▊  | 62/80 [00:00<00:00, 292.85it/s]"
     ]
    },
    {
     "name": "stderr",
     "output_type": "stream",
     "text": [
      "\r",
      "run 0 with current best 3.002:  78%|███████▊  | 62/80 [00:00<00:00, 292.85it/s]"
     ]
    },
    {
     "name": "stderr",
     "output_type": "stream",
     "text": [
      "\r",
      "run 0 with current best 3.002:  78%|███████▊  | 62/80 [00:00<00:00, 292.85it/s]"
     ]
    },
    {
     "name": "stderr",
     "output_type": "stream",
     "text": [
      "\r",
      "run 0 with current best 3.002:  78%|███████▊  | 62/80 [00:00<00:00, 292.85it/s]"
     ]
    },
    {
     "name": "stderr",
     "output_type": "stream",
     "text": [
      "\r",
      "run 0 with current best 3.002:  78%|███████▊  | 62/80 [00:00<00:00, 292.85it/s]"
     ]
    },
    {
     "name": "stderr",
     "output_type": "stream",
     "text": [
      "\r",
      "run 0 with current best 3.002:  78%|███████▊  | 62/80 [00:00<00:00, 292.85it/s]"
     ]
    },
    {
     "name": "stderr",
     "output_type": "stream",
     "text": [
      "\r",
      "run 0 with current best 3.002:  78%|███████▊  | 62/80 [00:00<00:00, 292.85it/s]"
     ]
    },
    {
     "name": "stderr",
     "output_type": "stream",
     "text": [
      "\r",
      "run 0 with current best 3.002:  78%|███████▊  | 62/80 [00:00<00:00, 292.85it/s]"
     ]
    },
    {
     "name": "stderr",
     "output_type": "stream",
     "text": [
      "\r",
      "run 0 with current best 3.002:  78%|███████▊  | 62/80 [00:00<00:00, 292.85it/s]"
     ]
    },
    {
     "name": "stderr",
     "output_type": "stream",
     "text": [
      "\r",
      "run 0 with current best 3.002:  78%|███████▊  | 62/80 [00:00<00:00, 292.85it/s]"
     ]
    },
    {
     "name": "stderr",
     "output_type": "stream",
     "text": [
      "\r",
      "run 0 with current best 3.002:  78%|███████▊  | 62/80 [00:00<00:00, 292.85it/s]"
     ]
    },
    {
     "name": "stderr",
     "output_type": "stream",
     "text": [
      "\r",
      "run 0 with current best 3.002:  78%|███████▊  | 62/80 [00:00<00:00, 292.85it/s]"
     ]
    },
    {
     "name": "stderr",
     "output_type": "stream",
     "text": [
      "\r",
      "run 0 with current best 3.002:  78%|███████▊  | 62/80 [00:00<00:00, 292.85it/s]"
     ]
    },
    {
     "name": "stderr",
     "output_type": "stream",
     "text": [
      "\r",
      "run 0 with current best 3.002:  78%|███████▊  | 62/80 [00:00<00:00, 292.85it/s]"
     ]
    },
    {
     "name": "stderr",
     "output_type": "stream",
     "text": [
      "\r",
      "run 0 with current best 3.002:  78%|███████▊  | 62/80 [00:00<00:00, 292.85it/s]"
     ]
    },
    {
     "name": "stderr",
     "output_type": "stream",
     "text": [
      "\r",
      "run 0 with current best 3.002:  78%|███████▊  | 62/80 [00:00<00:00, 292.85it/s]"
     ]
    },
    {
     "name": "stderr",
     "output_type": "stream",
     "text": [
      "\r",
      "run 0 with current best 3.002:  78%|███████▊  | 62/80 [00:00<00:00, 292.85it/s]"
     ]
    },
    {
     "name": "stderr",
     "output_type": "stream",
     "text": [
      "\r",
      "run 0 with current best 3.002: 100%|██████████| 80/80 [00:00<00:00, 297.57it/s]"
     ]
    },
    {
     "name": "stderr",
     "output_type": "stream",
     "text": [
      "\n"
     ]
    },
    {
     "name": "stderr",
     "output_type": "stream",
     "text": [
      "\r",
      "  0%|          | 0/80 [00:00<?, ?it/s]"
     ]
    },
    {
     "name": "stderr",
     "output_type": "stream",
     "text": [
      "\r",
      "run 0 with current best 9.145:   0%|          | 0/80 [00:00<?, ?it/s]"
     ]
    },
    {
     "name": "stderr",
     "output_type": "stream",
     "text": [
      "\r",
      "run 0 with current best 9.145:   0%|          | 0/80 [00:00<?, ?it/s]"
     ]
    },
    {
     "name": "stderr",
     "output_type": "stream",
     "text": [
      "\r",
      "run 0 with current best 7.502:   0%|          | 0/80 [00:00<?, ?it/s]"
     ]
    },
    {
     "name": "stderr",
     "output_type": "stream",
     "text": [
      "\r",
      "run 0 with current best 6.405:   0%|          | 0/80 [00:00<?, ?it/s]"
     ]
    },
    {
     "name": "stderr",
     "output_type": "stream",
     "text": [
      "\r",
      "run 0 with current best 6.405:   0%|          | 0/80 [00:00<?, ?it/s]"
     ]
    },
    {
     "name": "stderr",
     "output_type": "stream",
     "text": [
      "\r",
      "run 0 with current best 1.494:   0%|          | 0/80 [00:00<?, ?it/s]"
     ]
    },
    {
     "name": "stderr",
     "output_type": "stream",
     "text": [
      "\r",
      "run 0 with current best 1.494:   0%|          | 0/80 [00:00<?, ?it/s]"
     ]
    },
    {
     "name": "stderr",
     "output_type": "stream",
     "text": [
      "\r",
      "run 0 with current best 1.494:   0%|          | 0/80 [00:00<?, ?it/s]"
     ]
    },
    {
     "name": "stderr",
     "output_type": "stream",
     "text": [
      "\r",
      "run 0 with current best 1.494:   0%|          | 0/80 [00:00<?, ?it/s]"
     ]
    },
    {
     "name": "stderr",
     "output_type": "stream",
     "text": [
      "\r",
      "run 0 with current best 1.494:   0%|          | 0/80 [00:00<?, ?it/s]"
     ]
    },
    {
     "name": "stderr",
     "output_type": "stream",
     "text": [
      "\r",
      "run 0 with current best 1.494:   0%|          | 0/80 [00:00<?, ?it/s]"
     ]
    },
    {
     "name": "stderr",
     "output_type": "stream",
     "text": [
      "\r",
      "run 0 with current best 1.494:   0%|          | 0/80 [00:00<?, ?it/s]"
     ]
    },
    {
     "name": "stderr",
     "output_type": "stream",
     "text": [
      "\r",
      "run 0 with current best 1.494:   0%|          | 0/80 [00:00<?, ?it/s]"
     ]
    },
    {
     "name": "stderr",
     "output_type": "stream",
     "text": [
      "\r",
      "run 0 with current best 1.494:   0%|          | 0/80 [00:00<?, ?it/s]"
     ]
    },
    {
     "name": "stderr",
     "output_type": "stream",
     "text": [
      "\r",
      "run 0 with current best 1.494:   0%|          | 0/80 [00:00<?, ?it/s]"
     ]
    },
    {
     "name": "stderr",
     "output_type": "stream",
     "text": [
      "\r",
      "run 0 with current best 1.494:   0%|          | 0/80 [00:00<?, ?it/s]"
     ]
    },
    {
     "name": "stderr",
     "output_type": "stream",
     "text": [
      "\r",
      "run 0 with current best 1.494:   0%|          | 0/80 [00:00<?, ?it/s]"
     ]
    },
    {
     "name": "stderr",
     "output_type": "stream",
     "text": [
      "\r",
      "run 0 with current best 1.494:   0%|          | 0/80 [00:00<?, ?it/s]"
     ]
    },
    {
     "name": "stderr",
     "output_type": "stream",
     "text": [
      "\r",
      "run 0 with current best 1.494:   0%|          | 0/80 [00:00<?, ?it/s]"
     ]
    },
    {
     "name": "stderr",
     "output_type": "stream",
     "text": [
      "\r",
      "run 0 with current best 1.494:   0%|          | 0/80 [00:00<?, ?it/s]"
     ]
    },
    {
     "name": "stderr",
     "output_type": "stream",
     "text": [
      "\r",
      "run 0 with current best 1.494:   0%|          | 0/80 [00:00<?, ?it/s]"
     ]
    },
    {
     "name": "stderr",
     "output_type": "stream",
     "text": [
      "\r",
      "run 0 with current best 1.494:   0%|          | 0/80 [00:00<?, ?it/s]"
     ]
    },
    {
     "name": "stderr",
     "output_type": "stream",
     "text": [
      "\r",
      "run 0 with current best 1.494:   0%|          | 0/80 [00:00<?, ?it/s]"
     ]
    },
    {
     "name": "stderr",
     "output_type": "stream",
     "text": [
      "\r",
      "run 0 with current best 1.494:   0%|          | 0/80 [00:00<?, ?it/s]"
     ]
    },
    {
     "name": "stderr",
     "output_type": "stream",
     "text": [
      "\r",
      "run 0 with current best 1.494:   0%|          | 0/80 [00:00<?, ?it/s]"
     ]
    },
    {
     "name": "stderr",
     "output_type": "stream",
     "text": [
      "\r",
      "run 0 with current best 1.494:   0%|          | 0/80 [00:00<?, ?it/s]"
     ]
    },
    {
     "name": "stderr",
     "output_type": "stream",
     "text": [
      "\r",
      "run 0 with current best 1.494:   0%|          | 0/80 [00:00<?, ?it/s]"
     ]
    },
    {
     "name": "stderr",
     "output_type": "stream",
     "text": [
      "\r",
      "run 0 with current best 1.494:   0%|          | 0/80 [00:00<?, ?it/s]"
     ]
    },
    {
     "name": "stderr",
     "output_type": "stream",
     "text": [
      "\r",
      "run 0 with current best 1.494:   0%|          | 0/80 [00:00<?, ?it/s]"
     ]
    },
    {
     "name": "stderr",
     "output_type": "stream",
     "text": [
      "\r",
      "run 0 with current best 1.494:   0%|          | 0/80 [00:00<?, ?it/s]"
     ]
    },
    {
     "name": "stderr",
     "output_type": "stream",
     "text": [
      "\r",
      "run 0 with current best 1.494:   0%|          | 0/80 [00:00<?, ?it/s]"
     ]
    },
    {
     "name": "stderr",
     "output_type": "stream",
     "text": [
      "\r",
      "run 0 with current best 1.494:   0%|          | 0/80 [00:00<?, ?it/s]"
     ]
    },
    {
     "name": "stderr",
     "output_type": "stream",
     "text": [
      "\r",
      "run 0 with current best 1.494:  40%|████      | 32/80 [00:00<00:00, 318.39it/s]"
     ]
    },
    {
     "name": "stderr",
     "output_type": "stream",
     "text": [
      "\r",
      "run 0 with current best 1.494:  40%|████      | 32/80 [00:00<00:00, 318.39it/s]"
     ]
    },
    {
     "name": "stderr",
     "output_type": "stream",
     "text": [
      "\r",
      "run 0 with current best 1.494:  40%|████      | 32/80 [00:00<00:00, 318.39it/s]"
     ]
    },
    {
     "name": "stderr",
     "output_type": "stream",
     "text": [
      "\r",
      "run 0 with current best 1.494:  40%|████      | 32/80 [00:00<00:00, 318.39it/s]"
     ]
    },
    {
     "name": "stderr",
     "output_type": "stream",
     "text": [
      "\r",
      "run 0 with current best 1.494:  40%|████      | 32/80 [00:00<00:00, 318.39it/s]"
     ]
    },
    {
     "name": "stderr",
     "output_type": "stream",
     "text": [
      "\r",
      "run 0 with current best 1.494:  40%|████      | 32/80 [00:00<00:00, 318.39it/s]"
     ]
    },
    {
     "name": "stderr",
     "output_type": "stream",
     "text": [
      "\r",
      "run 0 with current best 1.494:  40%|████      | 32/80 [00:00<00:00, 318.39it/s]"
     ]
    },
    {
     "name": "stderr",
     "output_type": "stream",
     "text": [
      "\r",
      "run 0 with current best 1.494:  40%|████      | 32/80 [00:00<00:00, 318.39it/s]"
     ]
    },
    {
     "name": "stderr",
     "output_type": "stream",
     "text": [
      "\r",
      "run 0 with current best 1.494:  40%|████      | 32/80 [00:00<00:00, 318.39it/s]"
     ]
    },
    {
     "name": "stderr",
     "output_type": "stream",
     "text": [
      "\r",
      "run 0 with current best 1.494:  40%|████      | 32/80 [00:00<00:00, 318.39it/s]"
     ]
    },
    {
     "name": "stderr",
     "output_type": "stream",
     "text": [
      "\r",
      "run 0 with current best 1.494:  40%|████      | 32/80 [00:00<00:00, 318.39it/s]"
     ]
    },
    {
     "name": "stderr",
     "output_type": "stream",
     "text": [
      "\r",
      "run 0 with current best 1.494:  40%|████      | 32/80 [00:00<00:00, 318.39it/s]"
     ]
    },
    {
     "name": "stderr",
     "output_type": "stream",
     "text": [
      "\r",
      "run 0 with current best 1.494:  40%|████      | 32/80 [00:00<00:00, 318.39it/s]"
     ]
    },
    {
     "name": "stderr",
     "output_type": "stream",
     "text": [
      "\r",
      "run 0 with current best 1.494:  40%|████      | 32/80 [00:00<00:00, 318.39it/s]"
     ]
    },
    {
     "name": "stderr",
     "output_type": "stream",
     "text": [
      "\r",
      "run 0 with current best 1.494:  40%|████      | 32/80 [00:00<00:00, 318.39it/s]"
     ]
    },
    {
     "name": "stderr",
     "output_type": "stream",
     "text": [
      "\r",
      "run 0 with current best 1.494:  40%|████      | 32/80 [00:00<00:00, 318.39it/s]"
     ]
    },
    {
     "name": "stderr",
     "output_type": "stream",
     "text": [
      "\r",
      "run 0 with current best 1.494:  40%|████      | 32/80 [00:00<00:00, 318.39it/s]"
     ]
    },
    {
     "name": "stderr",
     "output_type": "stream",
     "text": [
      "\r",
      "run 0 with current best 1.494:  40%|████      | 32/80 [00:00<00:00, 318.39it/s]"
     ]
    },
    {
     "name": "stderr",
     "output_type": "stream",
     "text": [
      "\r",
      "run 0 with current best 1.494:  40%|████      | 32/80 [00:00<00:00, 318.39it/s]"
     ]
    },
    {
     "name": "stderr",
     "output_type": "stream",
     "text": [
      "\r",
      "run 0 with current best 1.494:  40%|████      | 32/80 [00:00<00:00, 318.39it/s]"
     ]
    },
    {
     "name": "stderr",
     "output_type": "stream",
     "text": [
      "\r",
      "run 0 with current best 1.494:  40%|████      | 32/80 [00:00<00:00, 318.39it/s]"
     ]
    },
    {
     "name": "stderr",
     "output_type": "stream",
     "text": [
      "\r",
      "run 0 with current best 1.494:  40%|████      | 32/80 [00:00<00:00, 318.39it/s]"
     ]
    },
    {
     "name": "stderr",
     "output_type": "stream",
     "text": [
      "\r",
      "run 0 with current best 1.494:  40%|████      | 32/80 [00:00<00:00, 318.39it/s]"
     ]
    },
    {
     "name": "stderr",
     "output_type": "stream",
     "text": [
      "\r",
      "run 0 with current best 1.494:  40%|████      | 32/80 [00:00<00:00, 318.39it/s]"
     ]
    },
    {
     "name": "stderr",
     "output_type": "stream",
     "text": [
      "\r",
      "run 0 with current best 1.494:  40%|████      | 32/80 [00:00<00:00, 318.39it/s]"
     ]
    },
    {
     "name": "stderr",
     "output_type": "stream",
     "text": [
      "\r",
      "run 0 with current best 1.494:  40%|████      | 32/80 [00:00<00:00, 318.39it/s]"
     ]
    },
    {
     "name": "stderr",
     "output_type": "stream",
     "text": [
      "\r",
      "run 0 with current best 1.249:  40%|████      | 32/80 [00:00<00:00, 318.39it/s]"
     ]
    },
    {
     "name": "stderr",
     "output_type": "stream",
     "text": [
      "\r",
      "run 0 with current best 1.249:  40%|████      | 32/80 [00:00<00:00, 318.39it/s]"
     ]
    },
    {
     "name": "stderr",
     "output_type": "stream",
     "text": [
      "\r",
      "run 0 with current best 1.249:  40%|████      | 32/80 [00:00<00:00, 318.39it/s]"
     ]
    },
    {
     "name": "stderr",
     "output_type": "stream",
     "text": [
      "\r",
      "run 0 with current best 1.249:  40%|████      | 32/80 [00:00<00:00, 318.39it/s]"
     ]
    },
    {
     "name": "stderr",
     "output_type": "stream",
     "text": [
      "\r",
      "run 0 with current best 1.249:  40%|████      | 32/80 [00:00<00:00, 318.39it/s]"
     ]
    },
    {
     "name": "stderr",
     "output_type": "stream",
     "text": [
      "\r",
      "run 0 with current best 1.249:  40%|████      | 32/80 [00:00<00:00, 318.39it/s]"
     ]
    },
    {
     "name": "stderr",
     "output_type": "stream",
     "text": [
      "\r",
      "run 0 with current best 1.249:  40%|████      | 32/80 [00:00<00:00, 318.39it/s]"
     ]
    },
    {
     "name": "stderr",
     "output_type": "stream",
     "text": [
      "\r",
      "run 0 with current best 1.249:  80%|████████  | 64/80 [00:00<00:00, 315.84it/s]"
     ]
    },
    {
     "name": "stderr",
     "output_type": "stream",
     "text": [
      "\r",
      "run 0 with current best 1.249:  80%|████████  | 64/80 [00:00<00:00, 315.84it/s]"
     ]
    },
    {
     "name": "stderr",
     "output_type": "stream",
     "text": [
      "\r",
      "run 0 with current best 1.249:  80%|████████  | 64/80 [00:00<00:00, 315.84it/s]"
     ]
    },
    {
     "name": "stderr",
     "output_type": "stream",
     "text": [
      "\r",
      "run 0 with current best 1.249:  80%|████████  | 64/80 [00:00<00:00, 315.84it/s]"
     ]
    },
    {
     "name": "stderr",
     "output_type": "stream",
     "text": [
      "\r",
      "run 0 with current best 1.249:  80%|████████  | 64/80 [00:00<00:00, 315.84it/s]"
     ]
    },
    {
     "name": "stderr",
     "output_type": "stream",
     "text": [
      "\r",
      "run 0 with current best 1.249:  80%|████████  | 64/80 [00:00<00:00, 315.84it/s]"
     ]
    },
    {
     "name": "stderr",
     "output_type": "stream",
     "text": [
      "\r",
      "run 0 with current best 1.249:  80%|████████  | 64/80 [00:00<00:00, 315.84it/s]"
     ]
    },
    {
     "name": "stderr",
     "output_type": "stream",
     "text": [
      "\r",
      "run 0 with current best 1.249:  80%|████████  | 64/80 [00:00<00:00, 315.84it/s]"
     ]
    },
    {
     "name": "stderr",
     "output_type": "stream",
     "text": [
      "\r",
      "run 0 with current best 1.249:  80%|████████  | 64/80 [00:00<00:00, 315.84it/s]"
     ]
    },
    {
     "name": "stderr",
     "output_type": "stream",
     "text": [
      "\r",
      "run 0 with current best 1.249:  80%|████████  | 64/80 [00:00<00:00, 315.84it/s]"
     ]
    },
    {
     "name": "stderr",
     "output_type": "stream",
     "text": [
      "\r",
      "run 0 with current best 1.249:  80%|████████  | 64/80 [00:00<00:00, 315.84it/s]"
     ]
    },
    {
     "name": "stderr",
     "output_type": "stream",
     "text": [
      "\r",
      "run 0 with current best 1.249:  80%|████████  | 64/80 [00:00<00:00, 315.84it/s]"
     ]
    },
    {
     "name": "stderr",
     "output_type": "stream",
     "text": [
      "\r",
      "run 0 with current best 1.249:  80%|████████  | 64/80 [00:00<00:00, 315.84it/s]"
     ]
    },
    {
     "name": "stderr",
     "output_type": "stream",
     "text": [
      "\r",
      "run 0 with current best 1.249:  80%|████████  | 64/80 [00:00<00:00, 315.84it/s]"
     ]
    },
    {
     "name": "stderr",
     "output_type": "stream",
     "text": [
      "\r",
      "run 0 with current best 1.249:  80%|████████  | 64/80 [00:00<00:00, 315.84it/s]"
     ]
    },
    {
     "name": "stderr",
     "output_type": "stream",
     "text": [
      "\r",
      "run 0 with current best 1.249:  80%|████████  | 64/80 [00:00<00:00, 315.84it/s]"
     ]
    },
    {
     "name": "stderr",
     "output_type": "stream",
     "text": [
      "\r",
      "run 0 with current best 1.249:  80%|████████  | 64/80 [00:00<00:00, 315.84it/s]"
     ]
    },
    {
     "name": "stderr",
     "output_type": "stream",
     "text": [
      "\r",
      "run 0 with current best 1.249: 100%|██████████| 80/80 [00:00<00:00, 315.94it/s]"
     ]
    },
    {
     "name": "stderr",
     "output_type": "stream",
     "text": [
      "\n"
     ]
    },
    {
     "name": "stderr",
     "output_type": "stream",
     "text": [
      "\r",
      "  0%|          | 0/80 [00:00<?, ?it/s]"
     ]
    },
    {
     "name": "stderr",
     "output_type": "stream",
     "text": [
      "\r",
      "run 0 with current best 1.334:   0%|          | 0/80 [00:00<?, ?it/s]"
     ]
    },
    {
     "name": "stderr",
     "output_type": "stream",
     "text": [
      "\r",
      "run 0 with current best 1.334:   0%|          | 0/80 [00:00<?, ?it/s]"
     ]
    },
    {
     "name": "stderr",
     "output_type": "stream",
     "text": [
      "\r",
      "run 0 with current best 1.334:   0%|          | 0/80 [00:00<?, ?it/s]"
     ]
    },
    {
     "name": "stderr",
     "output_type": "stream",
     "text": [
      "\r",
      "run 0 with current best 1.334:   0%|          | 0/80 [00:00<?, ?it/s]"
     ]
    },
    {
     "name": "stderr",
     "output_type": "stream",
     "text": [
      "\r",
      "run 0 with current best 1.334:   0%|          | 0/80 [00:00<?, ?it/s]"
     ]
    },
    {
     "name": "stderr",
     "output_type": "stream",
     "text": [
      "\r",
      "run 0 with current best 1.334:   0%|          | 0/80 [00:00<?, ?it/s]"
     ]
    },
    {
     "name": "stderr",
     "output_type": "stream",
     "text": [
      "\r",
      "run 0 with current best 1.334:   0%|          | 0/80 [00:00<?, ?it/s]"
     ]
    },
    {
     "name": "stderr",
     "output_type": "stream",
     "text": [
      "\r",
      "run 0 with current best 1.334:   0%|          | 0/80 [00:00<?, ?it/s]"
     ]
    },
    {
     "name": "stderr",
     "output_type": "stream",
     "text": [
      "\r",
      "run 0 with current best 1.334:   0%|          | 0/80 [00:00<?, ?it/s]"
     ]
    },
    {
     "name": "stderr",
     "output_type": "stream",
     "text": [
      "\r",
      "run 0 with current best 1.334:   0%|          | 0/80 [00:00<?, ?it/s]"
     ]
    },
    {
     "name": "stderr",
     "output_type": "stream",
     "text": [
      "\r",
      "run 0 with current best 1.334:   0%|          | 0/80 [00:00<?, ?it/s]"
     ]
    },
    {
     "name": "stderr",
     "output_type": "stream",
     "text": [
      "\r",
      "run 0 with current best 1.334:   0%|          | 0/80 [00:00<?, ?it/s]"
     ]
    },
    {
     "name": "stderr",
     "output_type": "stream",
     "text": [
      "\r",
      "run 0 with current best 1.334:   0%|          | 0/80 [00:00<?, ?it/s]"
     ]
    },
    {
     "name": "stderr",
     "output_type": "stream",
     "text": [
      "\r",
      "run 0 with current best 1.334:   0%|          | 0/80 [00:00<?, ?it/s]"
     ]
    },
    {
     "name": "stderr",
     "output_type": "stream",
     "text": [
      "\r",
      "run 0 with current best 0.630:   0%|          | 0/80 [00:00<?, ?it/s]"
     ]
    },
    {
     "name": "stderr",
     "output_type": "stream",
     "text": [
      "\r",
      "run 0 with current best 0.630:   0%|          | 0/80 [00:00<?, ?it/s]"
     ]
    },
    {
     "name": "stderr",
     "output_type": "stream",
     "text": [
      "\r",
      "run 0 with current best 0.630:   0%|          | 0/80 [00:00<?, ?it/s]"
     ]
    },
    {
     "name": "stderr",
     "output_type": "stream",
     "text": [
      "\r",
      "run 0 with current best 0.630:   0%|          | 0/80 [00:00<?, ?it/s]"
     ]
    },
    {
     "name": "stderr",
     "output_type": "stream",
     "text": [
      "\r",
      "run 0 with current best 0.630:   0%|          | 0/80 [00:00<?, ?it/s]"
     ]
    },
    {
     "name": "stderr",
     "output_type": "stream",
     "text": [
      "\r",
      "run 0 with current best 0.630:   0%|          | 0/80 [00:00<?, ?it/s]"
     ]
    },
    {
     "name": "stderr",
     "output_type": "stream",
     "text": [
      "\r",
      "run 0 with current best 0.630:   0%|          | 0/80 [00:00<?, ?it/s]"
     ]
    },
    {
     "name": "stderr",
     "output_type": "stream",
     "text": [
      "\r",
      "run 0 with current best 0.630:   0%|          | 0/80 [00:00<?, ?it/s]"
     ]
    },
    {
     "name": "stderr",
     "output_type": "stream",
     "text": [
      "\r",
      "run 0 with current best 0.630:   0%|          | 0/80 [00:00<?, ?it/s]"
     ]
    },
    {
     "name": "stderr",
     "output_type": "stream",
     "text": [
      "\r",
      "run 0 with current best 0.494:   0%|          | 0/80 [00:00<?, ?it/s]"
     ]
    },
    {
     "name": "stderr",
     "output_type": "stream",
     "text": [
      "\r",
      "run 0 with current best 0.494:   0%|          | 0/80 [00:00<?, ?it/s]"
     ]
    },
    {
     "name": "stderr",
     "output_type": "stream",
     "text": [
      "\r",
      "run 0 with current best 0.494:   0%|          | 0/80 [00:00<?, ?it/s]"
     ]
    },
    {
     "name": "stderr",
     "output_type": "stream",
     "text": [
      "\r",
      "run 0 with current best 0.494:   0%|          | 0/80 [00:00<?, ?it/s]"
     ]
    },
    {
     "name": "stderr",
     "output_type": "stream",
     "text": [
      "\r",
      "run 0 with current best 0.494:   0%|          | 0/80 [00:00<?, ?it/s]"
     ]
    },
    {
     "name": "stderr",
     "output_type": "stream",
     "text": [
      "\r",
      "run 0 with current best 0.494:   0%|          | 0/80 [00:00<?, ?it/s]"
     ]
    },
    {
     "name": "stderr",
     "output_type": "stream",
     "text": [
      "\r",
      "run 0 with current best 0.494:   0%|          | 0/80 [00:00<?, ?it/s]"
     ]
    },
    {
     "name": "stderr",
     "output_type": "stream",
     "text": [
      "\r",
      "run 0 with current best 0.494:   0%|          | 0/80 [00:00<?, ?it/s]"
     ]
    },
    {
     "name": "stderr",
     "output_type": "stream",
     "text": [
      "\r",
      "run 0 with current best 0.494:   0%|          | 0/80 [00:00<?, ?it/s]"
     ]
    },
    {
     "name": "stderr",
     "output_type": "stream",
     "text": [
      "\r",
      "run 0 with current best 0.494:  40%|████      | 32/80 [00:00<00:00, 318.53it/s]"
     ]
    },
    {
     "name": "stderr",
     "output_type": "stream",
     "text": [
      "\r",
      "run 0 with current best 0.494:  40%|████      | 32/80 [00:00<00:00, 318.53it/s]"
     ]
    },
    {
     "name": "stderr",
     "output_type": "stream",
     "text": [
      "\r",
      "run 0 with current best 0.494:  40%|████      | 32/80 [00:00<00:00, 318.53it/s]"
     ]
    },
    {
     "name": "stderr",
     "output_type": "stream",
     "text": [
      "\r",
      "run 0 with current best 0.494:  40%|████      | 32/80 [00:00<00:00, 318.53it/s]"
     ]
    },
    {
     "name": "stderr",
     "output_type": "stream",
     "text": [
      "\r",
      "run 0 with current best 0.494:  40%|████      | 32/80 [00:00<00:00, 318.53it/s]"
     ]
    },
    {
     "name": "stderr",
     "output_type": "stream",
     "text": [
      "\r",
      "run 0 with current best 0.494:  40%|████      | 32/80 [00:00<00:00, 318.53it/s]"
     ]
    },
    {
     "name": "stderr",
     "output_type": "stream",
     "text": [
      "\r",
      "run 0 with current best 0.494:  40%|████      | 32/80 [00:00<00:00, 318.53it/s]"
     ]
    },
    {
     "name": "stderr",
     "output_type": "stream",
     "text": [
      "\r",
      "run 0 with current best 0.494:  40%|████      | 32/80 [00:00<00:00, 318.53it/s]"
     ]
    },
    {
     "name": "stderr",
     "output_type": "stream",
     "text": [
      "\r",
      "run 0 with current best 0.494:  40%|████      | 32/80 [00:00<00:00, 318.53it/s]"
     ]
    },
    {
     "name": "stderr",
     "output_type": "stream",
     "text": [
      "\r",
      "run 0 with current best 0.494:  40%|████      | 32/80 [00:00<00:00, 318.53it/s]"
     ]
    },
    {
     "name": "stderr",
     "output_type": "stream",
     "text": [
      "\r",
      "run 0 with current best 0.494:  40%|████      | 32/80 [00:00<00:00, 318.53it/s]"
     ]
    },
    {
     "name": "stderr",
     "output_type": "stream",
     "text": [
      "\r",
      "run 0 with current best 0.494:  40%|████      | 32/80 [00:00<00:00, 318.53it/s]"
     ]
    },
    {
     "name": "stderr",
     "output_type": "stream",
     "text": [
      "\r",
      "run 0 with current best 0.494:  40%|████      | 32/80 [00:00<00:00, 318.53it/s]"
     ]
    },
    {
     "name": "stderr",
     "output_type": "stream",
     "text": [
      "\r",
      "run 0 with current best 0.494:  40%|████      | 32/80 [00:00<00:00, 318.53it/s]"
     ]
    },
    {
     "name": "stderr",
     "output_type": "stream",
     "text": [
      "\r",
      "run 0 with current best 0.494:  40%|████      | 32/80 [00:00<00:00, 318.53it/s]"
     ]
    },
    {
     "name": "stderr",
     "output_type": "stream",
     "text": [
      "\r",
      "run 0 with current best 0.494:  40%|████      | 32/80 [00:00<00:00, 318.53it/s]"
     ]
    },
    {
     "name": "stderr",
     "output_type": "stream",
     "text": [
      "\r",
      "run 0 with current best 0.494:  40%|████      | 32/80 [00:00<00:00, 318.53it/s]"
     ]
    },
    {
     "name": "stderr",
     "output_type": "stream",
     "text": [
      "\r",
      "run 0 with current best 0.494:  40%|████      | 32/80 [00:00<00:00, 318.53it/s]"
     ]
    },
    {
     "name": "stderr",
     "output_type": "stream",
     "text": [
      "\r",
      "run 0 with current best 0.494:  40%|████      | 32/80 [00:00<00:00, 318.53it/s]"
     ]
    },
    {
     "name": "stderr",
     "output_type": "stream",
     "text": [
      "\r",
      "run 0 with current best 0.494:  40%|████      | 32/80 [00:00<00:00, 318.53it/s]"
     ]
    },
    {
     "name": "stderr",
     "output_type": "stream",
     "text": [
      "\r",
      "run 0 with current best 0.494:  40%|████      | 32/80 [00:00<00:00, 318.53it/s]"
     ]
    },
    {
     "name": "stderr",
     "output_type": "stream",
     "text": [
      "\r",
      "run 0 with current best 0.494:  40%|████      | 32/80 [00:00<00:00, 318.53it/s]"
     ]
    },
    {
     "name": "stderr",
     "output_type": "stream",
     "text": [
      "\r",
      "run 0 with current best 0.494:  40%|████      | 32/80 [00:00<00:00, 318.53it/s]"
     ]
    },
    {
     "name": "stderr",
     "output_type": "stream",
     "text": [
      "\r",
      "run 0 with current best 0.494:  40%|████      | 32/80 [00:00<00:00, 318.53it/s]"
     ]
    },
    {
     "name": "stderr",
     "output_type": "stream",
     "text": [
      "\r",
      "run 0 with current best 0.494:  40%|████      | 32/80 [00:00<00:00, 318.53it/s]"
     ]
    },
    {
     "name": "stderr",
     "output_type": "stream",
     "text": [
      "\r",
      "run 0 with current best 0.494:  40%|████      | 32/80 [00:00<00:00, 318.53it/s]"
     ]
    },
    {
     "name": "stderr",
     "output_type": "stream",
     "text": [
      "\r",
      "run 0 with current best 0.494:  40%|████      | 32/80 [00:00<00:00, 318.53it/s]"
     ]
    },
    {
     "name": "stderr",
     "output_type": "stream",
     "text": [
      "\r",
      "run 0 with current best 0.494:  40%|████      | 32/80 [00:00<00:00, 318.53it/s]"
     ]
    },
    {
     "name": "stderr",
     "output_type": "stream",
     "text": [
      "\r",
      "run 0 with current best 0.494:  40%|████      | 32/80 [00:00<00:00, 318.53it/s]"
     ]
    },
    {
     "name": "stderr",
     "output_type": "stream",
     "text": [
      "\r",
      "run 0 with current best 0.494:  40%|████      | 32/80 [00:00<00:00, 318.53it/s]"
     ]
    },
    {
     "name": "stderr",
     "output_type": "stream",
     "text": [
      "\r",
      "run 0 with current best 0.494:  40%|████      | 32/80 [00:00<00:00, 318.53it/s]"
     ]
    },
    {
     "name": "stderr",
     "output_type": "stream",
     "text": [
      "\r",
      "run 0 with current best 0.494:  40%|████      | 32/80 [00:00<00:00, 318.53it/s]"
     ]
    },
    {
     "name": "stderr",
     "output_type": "stream",
     "text": [
      "\r",
      "run 0 with current best 0.494:  40%|████      | 32/80 [00:00<00:00, 318.53it/s]"
     ]
    },
    {
     "name": "stderr",
     "output_type": "stream",
     "text": [
      "\r",
      "run 0 with current best 0.494:  80%|████████  | 64/80 [00:00<00:00, 296.04it/s]"
     ]
    },
    {
     "name": "stderr",
     "output_type": "stream",
     "text": [
      "\r",
      "run 0 with current best 0.494:  80%|████████  | 64/80 [00:00<00:00, 296.04it/s]"
     ]
    },
    {
     "name": "stderr",
     "output_type": "stream",
     "text": [
      "\r",
      "run 0 with current best 0.494:  80%|████████  | 64/80 [00:00<00:00, 296.04it/s]"
     ]
    },
    {
     "name": "stderr",
     "output_type": "stream",
     "text": [
      "\r",
      "run 0 with current best 0.494:  80%|████████  | 64/80 [00:00<00:00, 296.04it/s]"
     ]
    },
    {
     "name": "stderr",
     "output_type": "stream",
     "text": [
      "\r",
      "run 0 with current best 0.494:  80%|████████  | 64/80 [00:00<00:00, 296.04it/s]"
     ]
    },
    {
     "name": "stderr",
     "output_type": "stream",
     "text": [
      "\r",
      "run 0 with current best 0.494:  80%|████████  | 64/80 [00:00<00:00, 296.04it/s]"
     ]
    },
    {
     "name": "stderr",
     "output_type": "stream",
     "text": [
      "\r",
      "run 0 with current best 0.494:  80%|████████  | 64/80 [00:00<00:00, 296.04it/s]"
     ]
    },
    {
     "name": "stderr",
     "output_type": "stream",
     "text": [
      "\r",
      "run 0 with current best 0.494:  80%|████████  | 64/80 [00:00<00:00, 296.04it/s]"
     ]
    },
    {
     "name": "stderr",
     "output_type": "stream",
     "text": [
      "\r",
      "run 0 with current best 0.494:  80%|████████  | 64/80 [00:00<00:00, 296.04it/s]"
     ]
    },
    {
     "name": "stderr",
     "output_type": "stream",
     "text": [
      "\r",
      "run 0 with current best 0.494:  80%|████████  | 64/80 [00:00<00:00, 296.04it/s]"
     ]
    },
    {
     "name": "stderr",
     "output_type": "stream",
     "text": [
      "\r",
      "run 0 with current best 0.494:  80%|████████  | 64/80 [00:00<00:00, 296.04it/s]"
     ]
    },
    {
     "name": "stderr",
     "output_type": "stream",
     "text": [
      "\r",
      "run 0 with current best 0.494:  80%|████████  | 64/80 [00:00<00:00, 296.04it/s]"
     ]
    },
    {
     "name": "stderr",
     "output_type": "stream",
     "text": [
      "\r",
      "run 0 with current best 0.494:  80%|████████  | 64/80 [00:00<00:00, 296.04it/s]"
     ]
    },
    {
     "name": "stderr",
     "output_type": "stream",
     "text": [
      "\r",
      "run 0 with current best 0.494:  80%|████████  | 64/80 [00:00<00:00, 296.04it/s]"
     ]
    },
    {
     "name": "stderr",
     "output_type": "stream",
     "text": [
      "\r",
      "run 0 with current best 0.494:  80%|████████  | 64/80 [00:00<00:00, 296.04it/s]"
     ]
    },
    {
     "name": "stderr",
     "output_type": "stream",
     "text": [
      "\r",
      "run 0 with current best 0.494:  80%|████████  | 64/80 [00:00<00:00, 296.04it/s]"
     ]
    },
    {
     "name": "stderr",
     "output_type": "stream",
     "text": [
      "\r",
      "run 0 with current best 0.494:  80%|████████  | 64/80 [00:00<00:00, 296.04it/s]"
     ]
    },
    {
     "name": "stderr",
     "output_type": "stream",
     "text": [
      "\r",
      "run 0 with current best 0.494: 100%|██████████| 80/80 [00:00<00:00, 284.32it/s]"
     ]
    },
    {
     "name": "stderr",
     "output_type": "stream",
     "text": [
      "\n"
     ]
    },
    {
     "name": "stderr",
     "output_type": "stream",
     "text": [
      "\r",
      "  0%|          | 0/80 [00:00<?, ?it/s]"
     ]
    },
    {
     "name": "stderr",
     "output_type": "stream",
     "text": [
      "\r",
      "run 0 with current best 7.090:   0%|          | 0/80 [00:00<?, ?it/s]"
     ]
    },
    {
     "name": "stderr",
     "output_type": "stream",
     "text": [
      "\r",
      "run 0 with current best 7.090:   0%|          | 0/80 [00:00<?, ?it/s]"
     ]
    },
    {
     "name": "stderr",
     "output_type": "stream",
     "text": [
      "\r",
      "run 0 with current best 7.090:   0%|          | 0/80 [00:00<?, ?it/s]"
     ]
    },
    {
     "name": "stderr",
     "output_type": "stream",
     "text": [
      "\r",
      "run 0 with current best 7.090:   0%|          | 0/80 [00:00<?, ?it/s]"
     ]
    },
    {
     "name": "stderr",
     "output_type": "stream",
     "text": [
      "\r",
      "run 0 with current best 7.090:   0%|          | 0/80 [00:00<?, ?it/s]"
     ]
    },
    {
     "name": "stderr",
     "output_type": "stream",
     "text": [
      "\r",
      "run 0 with current best 7.090:   0%|          | 0/80 [00:00<?, ?it/s]"
     ]
    },
    {
     "name": "stderr",
     "output_type": "stream",
     "text": [
      "\r",
      "run 0 with current best 6.442:   0%|          | 0/80 [00:00<?, ?it/s]"
     ]
    },
    {
     "name": "stderr",
     "output_type": "stream",
     "text": [
      "\r",
      "run 0 with current best 6.442:   0%|          | 0/80 [00:00<?, ?it/s]"
     ]
    },
    {
     "name": "stderr",
     "output_type": "stream",
     "text": [
      "\r",
      "run 0 with current best 6.442:   0%|          | 0/80 [00:00<?, ?it/s]"
     ]
    },
    {
     "name": "stderr",
     "output_type": "stream",
     "text": [
      "\r",
      "run 0 with current best 6.442:   0%|          | 0/80 [00:00<?, ?it/s]"
     ]
    },
    {
     "name": "stderr",
     "output_type": "stream",
     "text": [
      "\r",
      "run 0 with current best 6.442:   0%|          | 0/80 [00:00<?, ?it/s]"
     ]
    },
    {
     "name": "stderr",
     "output_type": "stream",
     "text": [
      "\r",
      "run 0 with current best 5.157:   0%|          | 0/80 [00:00<?, ?it/s]"
     ]
    },
    {
     "name": "stderr",
     "output_type": "stream",
     "text": [
      "\r",
      "run 0 with current best 5.157:   0%|          | 0/80 [00:00<?, ?it/s]"
     ]
    },
    {
     "name": "stderr",
     "output_type": "stream",
     "text": [
      "\r",
      "run 0 with current best 5.157:   0%|          | 0/80 [00:00<?, ?it/s]"
     ]
    },
    {
     "name": "stderr",
     "output_type": "stream",
     "text": [
      "\r",
      "run 0 with current best 5.157:   0%|          | 0/80 [00:00<?, ?it/s]"
     ]
    },
    {
     "name": "stderr",
     "output_type": "stream",
     "text": [
      "\r",
      "run 0 with current best 5.157:   0%|          | 0/80 [00:00<?, ?it/s]"
     ]
    },
    {
     "name": "stderr",
     "output_type": "stream",
     "text": [
      "\r",
      "run 0 with current best 5.157:   0%|          | 0/80 [00:00<?, ?it/s]"
     ]
    },
    {
     "name": "stderr",
     "output_type": "stream",
     "text": [
      "\r",
      "run 0 with current best 5.157:   0%|          | 0/80 [00:00<?, ?it/s]"
     ]
    },
    {
     "name": "stderr",
     "output_type": "stream",
     "text": [
      "\r",
      "run 0 with current best 5.157:   0%|          | 0/80 [00:00<?, ?it/s]"
     ]
    },
    {
     "name": "stderr",
     "output_type": "stream",
     "text": [
      "\r",
      "run 0 with current best 5.157:   0%|          | 0/80 [00:00<?, ?it/s]"
     ]
    },
    {
     "name": "stderr",
     "output_type": "stream",
     "text": [
      "\r",
      "run 0 with current best 5.157:   0%|          | 0/80 [00:00<?, ?it/s]"
     ]
    },
    {
     "name": "stderr",
     "output_type": "stream",
     "text": [
      "\r",
      "run 0 with current best 5.157:   0%|          | 0/80 [00:00<?, ?it/s]"
     ]
    },
    {
     "name": "stderr",
     "output_type": "stream",
     "text": [
      "\r",
      "run 0 with current best 5.157:   0%|          | 0/80 [00:00<?, ?it/s]"
     ]
    },
    {
     "name": "stderr",
     "output_type": "stream",
     "text": [
      "\r",
      "run 0 with current best 5.157:   0%|          | 0/80 [00:00<?, ?it/s]"
     ]
    },
    {
     "name": "stderr",
     "output_type": "stream",
     "text": [
      "\r",
      "run 0 with current best 5.157:   0%|          | 0/80 [00:00<?, ?it/s]"
     ]
    },
    {
     "name": "stderr",
     "output_type": "stream",
     "text": [
      "\r",
      "run 0 with current best 5.157:   0%|          | 0/80 [00:00<?, ?it/s]"
     ]
    },
    {
     "name": "stderr",
     "output_type": "stream",
     "text": [
      "\r",
      "run 0 with current best 5.157:   0%|          | 0/80 [00:00<?, ?it/s]"
     ]
    },
    {
     "name": "stderr",
     "output_type": "stream",
     "text": [
      "\r",
      "run 0 with current best 5.157:   0%|          | 0/80 [00:00<?, ?it/s]"
     ]
    },
    {
     "name": "stderr",
     "output_type": "stream",
     "text": [
      "\r",
      "run 0 with current best 5.157:   0%|          | 0/80 [00:00<?, ?it/s]"
     ]
    },
    {
     "name": "stderr",
     "output_type": "stream",
     "text": [
      "\r",
      "run 0 with current best 5.157:   0%|          | 0/80 [00:00<?, ?it/s]"
     ]
    },
    {
     "name": "stderr",
     "output_type": "stream",
     "text": [
      "\r",
      "run 0 with current best 5.157:   0%|          | 0/80 [00:00<?, ?it/s]"
     ]
    },
    {
     "name": "stderr",
     "output_type": "stream",
     "text": [
      "\r",
      "run 0 with current best 5.157:   0%|          | 0/80 [00:00<?, ?it/s]"
     ]
    },
    {
     "name": "stderr",
     "output_type": "stream",
     "text": [
      "\r",
      "run 0 with current best 5.157:  40%|████      | 32/80 [00:00<00:00, 319.57it/s]"
     ]
    },
    {
     "name": "stderr",
     "output_type": "stream",
     "text": [
      "\r",
      "run 0 with current best 5.157:  40%|████      | 32/80 [00:00<00:00, 319.57it/s]"
     ]
    },
    {
     "name": "stderr",
     "output_type": "stream",
     "text": [
      "\r",
      "run 0 with current best 5.157:  40%|████      | 32/80 [00:00<00:00, 319.57it/s]"
     ]
    },
    {
     "name": "stderr",
     "output_type": "stream",
     "text": [
      "\r",
      "run 0 with current best 5.157:  40%|████      | 32/80 [00:00<00:00, 319.57it/s]"
     ]
    },
    {
     "name": "stderr",
     "output_type": "stream",
     "text": [
      "\r",
      "run 0 with current best 5.157:  40%|████      | 32/80 [00:00<00:00, 319.57it/s]"
     ]
    },
    {
     "name": "stderr",
     "output_type": "stream",
     "text": [
      "\r",
      "run 0 with current best 5.157:  40%|████      | 32/80 [00:00<00:00, 319.57it/s]"
     ]
    },
    {
     "name": "stderr",
     "output_type": "stream",
     "text": [
      "\r",
      "run 0 with current best 4.770:  40%|████      | 32/80 [00:00<00:00, 319.57it/s]"
     ]
    },
    {
     "name": "stderr",
     "output_type": "stream",
     "text": [
      "\r",
      "run 0 with current best 4.770:  40%|████      | 32/80 [00:00<00:00, 319.57it/s]"
     ]
    },
    {
     "name": "stderr",
     "output_type": "stream",
     "text": [
      "\r",
      "run 0 with current best 4.770:  40%|████      | 32/80 [00:00<00:00, 319.57it/s]"
     ]
    },
    {
     "name": "stderr",
     "output_type": "stream",
     "text": [
      "\r",
      "run 0 with current best 0.722:  40%|████      | 32/80 [00:00<00:00, 319.57it/s]"
     ]
    },
    {
     "name": "stderr",
     "output_type": "stream",
     "text": [
      "\r",
      "run 0 with current best 0.722:  40%|████      | 32/80 [00:00<00:00, 319.57it/s]"
     ]
    },
    {
     "name": "stderr",
     "output_type": "stream",
     "text": [
      "\r",
      "run 0 with current best 0.722:  40%|████      | 32/80 [00:00<00:00, 319.57it/s]"
     ]
    },
    {
     "name": "stderr",
     "output_type": "stream",
     "text": [
      "\r",
      "run 0 with current best 0.722:  40%|████      | 32/80 [00:00<00:00, 319.57it/s]"
     ]
    },
    {
     "name": "stderr",
     "output_type": "stream",
     "text": [
      "\r",
      "run 0 with current best 0.722:  40%|████      | 32/80 [00:00<00:00, 319.57it/s]"
     ]
    },
    {
     "name": "stderr",
     "output_type": "stream",
     "text": [
      "\r",
      "run 0 with current best 0.722:  40%|████      | 32/80 [00:00<00:00, 319.57it/s]"
     ]
    },
    {
     "name": "stderr",
     "output_type": "stream",
     "text": [
      "\r",
      "run 0 with current best 0.722:  40%|████      | 32/80 [00:00<00:00, 319.57it/s]"
     ]
    },
    {
     "name": "stderr",
     "output_type": "stream",
     "text": [
      "\r",
      "run 0 with current best 0.722:  40%|████      | 32/80 [00:00<00:00, 319.57it/s]"
     ]
    },
    {
     "name": "stderr",
     "output_type": "stream",
     "text": [
      "\r",
      "run 0 with current best 0.722:  40%|████      | 32/80 [00:00<00:00, 319.57it/s]"
     ]
    },
    {
     "name": "stderr",
     "output_type": "stream",
     "text": [
      "\r",
      "run 0 with current best 0.722:  40%|████      | 32/80 [00:00<00:00, 319.57it/s]"
     ]
    },
    {
     "name": "stderr",
     "output_type": "stream",
     "text": [
      "\r",
      "run 0 with current best 0.722:  40%|████      | 32/80 [00:00<00:00, 319.57it/s]"
     ]
    },
    {
     "name": "stderr",
     "output_type": "stream",
     "text": [
      "\r",
      "run 0 with current best 0.722:  40%|████      | 32/80 [00:00<00:00, 319.57it/s]"
     ]
    },
    {
     "name": "stderr",
     "output_type": "stream",
     "text": [
      "\r",
      "run 0 with current best 0.722:  40%|████      | 32/80 [00:00<00:00, 319.57it/s]"
     ]
    },
    {
     "name": "stderr",
     "output_type": "stream",
     "text": [
      "\r",
      "run 0 with current best 0.722:  40%|████      | 32/80 [00:00<00:00, 319.57it/s]"
     ]
    },
    {
     "name": "stderr",
     "output_type": "stream",
     "text": [
      "\r",
      "run 0 with current best 0.722:  40%|████      | 32/80 [00:00<00:00, 319.57it/s]"
     ]
    },
    {
     "name": "stderr",
     "output_type": "stream",
     "text": [
      "\r",
      "run 0 with current best 0.722:  40%|████      | 32/80 [00:00<00:00, 319.57it/s]"
     ]
    },
    {
     "name": "stderr",
     "output_type": "stream",
     "text": [
      "\r",
      "run 0 with current best 0.722:  40%|████      | 32/80 [00:00<00:00, 319.57it/s]"
     ]
    },
    {
     "name": "stderr",
     "output_type": "stream",
     "text": [
      "\r",
      "run 0 with current best 0.722:  40%|████      | 32/80 [00:00<00:00, 319.57it/s]"
     ]
    },
    {
     "name": "stderr",
     "output_type": "stream",
     "text": [
      "\r",
      "run 0 with current best 0.722:  40%|████      | 32/80 [00:00<00:00, 319.57it/s]"
     ]
    },
    {
     "name": "stderr",
     "output_type": "stream",
     "text": [
      "\r",
      "run 0 with current best 0.722:  40%|████      | 32/80 [00:00<00:00, 319.57it/s]"
     ]
    },
    {
     "name": "stderr",
     "output_type": "stream",
     "text": [
      "\r",
      "run 0 with current best 0.722:  40%|████      | 32/80 [00:00<00:00, 319.57it/s]"
     ]
    },
    {
     "name": "stderr",
     "output_type": "stream",
     "text": [
      "\r",
      "run 0 with current best 0.722:  40%|████      | 32/80 [00:00<00:00, 319.57it/s]"
     ]
    },
    {
     "name": "stderr",
     "output_type": "stream",
     "text": [
      "\r",
      "run 0 with current best 0.722:  40%|████      | 32/80 [00:00<00:00, 319.57it/s]"
     ]
    },
    {
     "name": "stderr",
     "output_type": "stream",
     "text": [
      "\r",
      "run 0 with current best 0.722:  40%|████      | 32/80 [00:00<00:00, 319.57it/s]"
     ]
    },
    {
     "name": "stderr",
     "output_type": "stream",
     "text": [
      "\r",
      "run 0 with current best 0.722:  80%|████████  | 64/80 [00:00<00:00, 316.80it/s]"
     ]
    },
    {
     "name": "stderr",
     "output_type": "stream",
     "text": [
      "\r",
      "run 0 with current best 0.722:  80%|████████  | 64/80 [00:00<00:00, 316.80it/s]"
     ]
    },
    {
     "name": "stderr",
     "output_type": "stream",
     "text": [
      "\r",
      "run 0 with current best 0.722:  80%|████████  | 64/80 [00:00<00:00, 316.80it/s]"
     ]
    },
    {
     "name": "stderr",
     "output_type": "stream",
     "text": [
      "\r",
      "run 0 with current best 0.722:  80%|████████  | 64/80 [00:00<00:00, 316.80it/s]"
     ]
    },
    {
     "name": "stderr",
     "output_type": "stream",
     "text": [
      "\r",
      "run 0 with current best 0.722:  80%|████████  | 64/80 [00:00<00:00, 316.80it/s]"
     ]
    },
    {
     "name": "stderr",
     "output_type": "stream",
     "text": [
      "\r",
      "run 0 with current best 0.722:  80%|████████  | 64/80 [00:00<00:00, 316.80it/s]"
     ]
    },
    {
     "name": "stderr",
     "output_type": "stream",
     "text": [
      "\r",
      "run 0 with current best 0.722:  80%|████████  | 64/80 [00:00<00:00, 316.80it/s]"
     ]
    },
    {
     "name": "stderr",
     "output_type": "stream",
     "text": [
      "\r",
      "run 0 with current best 0.722:  80%|████████  | 64/80 [00:00<00:00, 316.80it/s]"
     ]
    },
    {
     "name": "stderr",
     "output_type": "stream",
     "text": [
      "\r",
      "run 0 with current best 0.722:  80%|████████  | 64/80 [00:00<00:00, 316.80it/s]"
     ]
    },
    {
     "name": "stderr",
     "output_type": "stream",
     "text": [
      "\r",
      "run 0 with current best 0.722:  80%|████████  | 64/80 [00:00<00:00, 316.80it/s]"
     ]
    },
    {
     "name": "stderr",
     "output_type": "stream",
     "text": [
      "\r",
      "run 0 with current best 0.722:  80%|████████  | 64/80 [00:00<00:00, 316.80it/s]"
     ]
    },
    {
     "name": "stderr",
     "output_type": "stream",
     "text": [
      "\r",
      "run 0 with current best 0.722:  80%|████████  | 64/80 [00:00<00:00, 316.80it/s]"
     ]
    },
    {
     "name": "stderr",
     "output_type": "stream",
     "text": [
      "\r",
      "run 0 with current best 0.722:  80%|████████  | 64/80 [00:00<00:00, 316.80it/s]"
     ]
    },
    {
     "name": "stderr",
     "output_type": "stream",
     "text": [
      "\r",
      "run 0 with current best 0.722:  80%|████████  | 64/80 [00:00<00:00, 316.80it/s]"
     ]
    },
    {
     "name": "stderr",
     "output_type": "stream",
     "text": [
      "\r",
      "run 0 with current best 0.722:  80%|████████  | 64/80 [00:00<00:00, 316.80it/s]"
     ]
    },
    {
     "name": "stderr",
     "output_type": "stream",
     "text": [
      "\r",
      "run 0 with current best 0.722:  80%|████████  | 64/80 [00:00<00:00, 316.80it/s]"
     ]
    },
    {
     "name": "stderr",
     "output_type": "stream",
     "text": [
      "\r",
      "run 0 with current best 0.722:  80%|████████  | 64/80 [00:00<00:00, 316.80it/s]"
     ]
    },
    {
     "name": "stderr",
     "output_type": "stream",
     "text": [
      "\r",
      "run 0 with current best 0.722: 100%|██████████| 80/80 [00:00<00:00, 317.66it/s]"
     ]
    },
    {
     "name": "stderr",
     "output_type": "stream",
     "text": [
      "\n"
     ]
    }
   ],
   "source": [
    "random_results = [\n",
    "    run(\n",
    "        Branin(locality_factor=0.5),\n",
    "        strategy_factory=lambda domain: strategies.map(RandomStrategy(domain=domain)),\n",
    "        n_iterations=80,\n",
    "        metric=best,\n",
    "        initial_sampler=sample,\n",
    "        n_runs=1,\n",
    "        n_procs=1,\n",
    "    )\n",
    "    for _ in range(5)\n",
    "]"
   ]
  },
  {
   "cell_type": "markdown",
   "id": "5",
   "metadata": {
    "papermill": {
     "duration": 0.00913,
     "end_time": "2024-10-10T16:06:27.991513",
     "exception": false,
     "start_time": "2024-10-10T16:06:27.982383",
     "status": "completed"
    },
    "tags": []
   },
   "source": [
    "## SOBO Optimization\n",
    "Here standard bayesian optimization is performed without any local search region constraints applied using the qEI acquistion function."
   ]
  },
  {
   "cell_type": "code",
   "execution_count": null,
   "id": "6",
   "metadata": {
    "papermill": {
     "duration": null,
     "end_time": null,
     "exception": false,
     "start_time": "2024-10-10T16:06:28.000343",
     "status": "running"
    },
    "tags": []
   },
   "outputs": [
    {
     "name": "stderr",
     "output_type": "stream",
     "text": [
      "\r",
      "  0%|          | 0/80 [00:00<?, ?it/s]"
     ]
    },
    {
     "name": "stderr",
     "output_type": "stream",
     "text": [
      "\r",
      "run 0 with current best 1.951:   0%|          | 0/80 [00:00<?, ?it/s]"
     ]
    },
    {
     "name": "stderr",
     "output_type": "stream",
     "text": [
      "\r",
      "run 0 with current best 1.951:   1%|▏         | 1/80 [00:00<00:20,  3.93it/s]"
     ]
    },
    {
     "name": "stderr",
     "output_type": "stream",
     "text": [
      "\r",
      "run 0 with current best 1.951:   1%|▏         | 1/80 [00:00<00:20,  3.93it/s]"
     ]
    },
    {
     "name": "stderr",
     "output_type": "stream",
     "text": [
      "\r",
      "run 0 with current best 1.951:   2%|▎         | 2/80 [00:00<00:20,  3.82it/s]"
     ]
    },
    {
     "name": "stderr",
     "output_type": "stream",
     "text": [
      "\r",
      "run 0 with current best 1.951:   2%|▎         | 2/80 [00:00<00:20,  3.82it/s]"
     ]
    },
    {
     "name": "stderr",
     "output_type": "stream",
     "text": [
      "\r",
      "run 0 with current best 1.951:   4%|▍         | 3/80 [00:00<00:19,  3.97it/s]"
     ]
    },
    {
     "name": "stderr",
     "output_type": "stream",
     "text": [
      "\r",
      "run 0 with current best 1.951:   4%|▍         | 3/80 [00:00<00:19,  3.97it/s]"
     ]
    },
    {
     "name": "stderr",
     "output_type": "stream",
     "text": [
      "\r",
      "run 0 with current best 1.951:   5%|▌         | 4/80 [00:00<00:17,  4.27it/s]"
     ]
    },
    {
     "name": "stderr",
     "output_type": "stream",
     "text": [
      "\r",
      "run 0 with current best 1.951:   5%|▌         | 4/80 [00:01<00:17,  4.27it/s]"
     ]
    },
    {
     "name": "stderr",
     "output_type": "stream",
     "text": [
      "\r",
      "run 0 with current best 1.951:   6%|▋         | 5/80 [00:01<00:16,  4.46it/s]"
     ]
    },
    {
     "name": "stderr",
     "output_type": "stream",
     "text": [
      "\r",
      "run 0 with current best 1.951:   6%|▋         | 5/80 [00:01<00:16,  4.46it/s]"
     ]
    },
    {
     "name": "stderr",
     "output_type": "stream",
     "text": [
      "\r",
      "run 0 with current best 1.951:   8%|▊         | 6/80 [00:01<00:17,  4.30it/s]"
     ]
    },
    {
     "name": "stderr",
     "output_type": "stream",
     "text": [
      "\r",
      "run 0 with current best 1.951:   8%|▊         | 6/80 [00:01<00:17,  4.30it/s]"
     ]
    },
    {
     "name": "stderr",
     "output_type": "stream",
     "text": [
      "\r",
      "run 0 with current best 1.951:   9%|▉         | 7/80 [00:01<00:17,  4.19it/s]"
     ]
    },
    {
     "name": "stderr",
     "output_type": "stream",
     "text": [
      "\r",
      "run 0 with current best 0.800:   9%|▉         | 7/80 [00:01<00:17,  4.19it/s]"
     ]
    },
    {
     "name": "stderr",
     "output_type": "stream",
     "text": [
      "\r",
      "run 0 with current best 0.800:  10%|█         | 8/80 [00:01<00:18,  3.91it/s]"
     ]
    },
    {
     "name": "stderr",
     "output_type": "stream",
     "text": [
      "\r",
      "run 0 with current best 0.579:  10%|█         | 8/80 [00:02<00:18,  3.91it/s]"
     ]
    },
    {
     "name": "stderr",
     "output_type": "stream",
     "text": [
      "\r",
      "run 0 with current best 0.579:  11%|█▏        | 9/80 [00:02<00:18,  3.77it/s]"
     ]
    },
    {
     "name": "stderr",
     "output_type": "stream",
     "text": [
      "\r",
      "run 0 with current best 0.579:  11%|█▏        | 9/80 [00:02<00:18,  3.77it/s]"
     ]
    },
    {
     "name": "stderr",
     "output_type": "stream",
     "text": [
      "\r",
      "run 0 with current best 0.579:  12%|█▎        | 10/80 [00:02<00:18,  3.77it/s]"
     ]
    },
    {
     "name": "stderr",
     "output_type": "stream",
     "text": [
      "\r",
      "run 0 with current best 0.579:  12%|█▎        | 10/80 [00:02<00:18,  3.77it/s]"
     ]
    },
    {
     "name": "stderr",
     "output_type": "stream",
     "text": [
      "\r",
      "run 0 with current best 0.579:  14%|█▍        | 11/80 [00:02<00:18,  3.67it/s]"
     ]
    },
    {
     "name": "stderr",
     "output_type": "stream",
     "text": [
      "\r",
      "run 0 with current best 0.579:  14%|█▍        | 11/80 [00:03<00:18,  3.67it/s]"
     ]
    },
    {
     "name": "stderr",
     "output_type": "stream",
     "text": [
      "\r",
      "run 0 with current best 0.579:  15%|█▌        | 12/80 [00:03<00:18,  3.65it/s]"
     ]
    },
    {
     "name": "stderr",
     "output_type": "stream",
     "text": [
      "\r",
      "run 0 with current best 0.579:  15%|█▌        | 12/80 [00:03<00:18,  3.65it/s]"
     ]
    },
    {
     "name": "stderr",
     "output_type": "stream",
     "text": [
      "\r",
      "run 0 with current best 0.579:  16%|█▋        | 13/80 [00:03<00:17,  3.75it/s]"
     ]
    },
    {
     "name": "stderr",
     "output_type": "stream",
     "text": [
      "\r",
      "run 0 with current best 0.579:  16%|█▋        | 13/80 [00:03<00:17,  3.75it/s]"
     ]
    },
    {
     "name": "stderr",
     "output_type": "stream",
     "text": [
      "\r",
      "run 0 with current best 0.579:  18%|█▊        | 14/80 [00:03<00:18,  3.53it/s]"
     ]
    },
    {
     "name": "stderr",
     "output_type": "stream",
     "text": [
      "\r",
      "run 0 with current best 0.579:  18%|█▊        | 14/80 [00:03<00:18,  3.53it/s]"
     ]
    },
    {
     "name": "stderr",
     "output_type": "stream",
     "text": [
      "\r",
      "run 0 with current best 0.579:  19%|█▉        | 15/80 [00:03<00:18,  3.56it/s]"
     ]
    },
    {
     "name": "stderr",
     "output_type": "stream",
     "text": [
      "\r",
      "run 0 with current best 0.579:  19%|█▉        | 15/80 [00:04<00:18,  3.56it/s]"
     ]
    },
    {
     "name": "stderr",
     "output_type": "stream",
     "text": [
      "\r",
      "run 0 with current best 0.579:  20%|██        | 16/80 [00:04<00:17,  3.59it/s]"
     ]
    },
    {
     "name": "stderr",
     "output_type": "stream",
     "text": [
      "\r",
      "run 0 with current best 0.579:  20%|██        | 16/80 [00:04<00:17,  3.59it/s]"
     ]
    },
    {
     "name": "stderr",
     "output_type": "stream",
     "text": [
      "\r",
      "run 0 with current best 0.579:  21%|██▏       | 17/80 [00:04<00:18,  3.37it/s]"
     ]
    },
    {
     "name": "stderr",
     "output_type": "stream",
     "text": [
      "\r",
      "run 0 with current best 0.443:  21%|██▏       | 17/80 [00:04<00:18,  3.37it/s]"
     ]
    },
    {
     "name": "stderr",
     "output_type": "stream",
     "text": [
      "\r",
      "run 0 with current best 0.443:  22%|██▎       | 18/80 [00:04<00:19,  3.14it/s]"
     ]
    },
    {
     "name": "stderr",
     "output_type": "stream",
     "text": [
      "\r",
      "run 0 with current best 0.442:  22%|██▎       | 18/80 [00:05<00:19,  3.14it/s]"
     ]
    },
    {
     "name": "stderr",
     "output_type": "stream",
     "text": [
      "\r",
      "run 0 with current best 0.442:  24%|██▍       | 19/80 [00:05<00:20,  2.91it/s]"
     ]
    },
    {
     "name": "stderr",
     "output_type": "stream",
     "text": [
      "\r",
      "run 0 with current best 0.442:  24%|██▍       | 19/80 [00:05<00:20,  2.91it/s]"
     ]
    },
    {
     "name": "stderr",
     "output_type": "stream",
     "text": [
      "\r",
      "run 0 with current best 0.442:  25%|██▌       | 20/80 [00:05<00:19,  3.01it/s]"
     ]
    },
    {
     "name": "stderr",
     "output_type": "stream",
     "text": [
      "\r",
      "run 0 with current best 0.442:  25%|██▌       | 20/80 [00:05<00:19,  3.01it/s]"
     ]
    },
    {
     "name": "stderr",
     "output_type": "stream",
     "text": [
      "\r",
      "run 0 with current best 0.442:  26%|██▋       | 21/80 [00:05<00:18,  3.15it/s]"
     ]
    },
    {
     "name": "stderr",
     "output_type": "stream",
     "text": [
      "\r",
      "run 0 with current best 0.442:  26%|██▋       | 21/80 [00:06<00:18,  3.15it/s]"
     ]
    },
    {
     "name": "stderr",
     "output_type": "stream",
     "text": [
      "\r",
      "run 0 with current best 0.442:  28%|██▊       | 22/80 [00:06<00:19,  2.99it/s]"
     ]
    },
    {
     "name": "stderr",
     "output_type": "stream",
     "text": [
      "\r",
      "run 0 with current best 0.401:  28%|██▊       | 22/80 [00:06<00:19,  2.99it/s]"
     ]
    },
    {
     "name": "stderr",
     "output_type": "stream",
     "text": [
      "\r",
      "run 0 with current best 0.401:  29%|██▉       | 23/80 [00:06<00:18,  3.12it/s]"
     ]
    },
    {
     "name": "stderr",
     "output_type": "stream",
     "text": [
      "\r",
      "run 0 with current best 0.401:  29%|██▉       | 23/80 [00:06<00:18,  3.12it/s]"
     ]
    },
    {
     "name": "stderr",
     "output_type": "stream",
     "text": [
      "\r",
      "run 0 with current best 0.401:  30%|███       | 24/80 [00:06<00:17,  3.17it/s]"
     ]
    },
    {
     "name": "stderr",
     "output_type": "stream",
     "text": [
      "\r",
      "run 0 with current best 0.401:  30%|███       | 24/80 [00:07<00:17,  3.17it/s]"
     ]
    },
    {
     "name": "stderr",
     "output_type": "stream",
     "text": [
      "\r",
      "run 0 with current best 0.401:  31%|███▏      | 25/80 [00:07<00:18,  3.00it/s]"
     ]
    },
    {
     "name": "stderr",
     "output_type": "stream",
     "text": [
      "\r",
      "run 0 with current best 0.401:  31%|███▏      | 25/80 [00:07<00:18,  3.00it/s]"
     ]
    },
    {
     "name": "stderr",
     "output_type": "stream",
     "text": [
      "\r",
      "run 0 with current best 0.401:  32%|███▎      | 26/80 [00:07<00:19,  2.84it/s]"
     ]
    },
    {
     "name": "stderr",
     "output_type": "stream",
     "text": [
      "\r",
      "run 0 with current best 0.399:  32%|███▎      | 26/80 [00:08<00:19,  2.84it/s]"
     ]
    },
    {
     "name": "stderr",
     "output_type": "stream",
     "text": [
      "\r",
      "run 0 with current best 0.399:  34%|███▍      | 27/80 [00:08<00:19,  2.77it/s]"
     ]
    },
    {
     "name": "stderr",
     "output_type": "stream",
     "text": [
      "\r",
      "run 0 with current best 0.399:  34%|███▍      | 27/80 [00:08<00:19,  2.77it/s]"
     ]
    },
    {
     "name": "stderr",
     "output_type": "stream",
     "text": [
      "\r",
      "run 0 with current best 0.399:  35%|███▌      | 28/80 [00:08<00:19,  2.68it/s]"
     ]
    },
    {
     "name": "stderr",
     "output_type": "stream",
     "text": [
      "\r",
      "run 0 with current best 0.399:  35%|███▌      | 28/80 [00:08<00:19,  2.68it/s]"
     ]
    },
    {
     "name": "stderr",
     "output_type": "stream",
     "text": [
      "\r",
      "run 0 with current best 0.399:  36%|███▋      | 29/80 [00:08<00:19,  2.60it/s]"
     ]
    },
    {
     "name": "stderr",
     "output_type": "stream",
     "text": [
      "\r",
      "run 0 with current best 0.399:  36%|███▋      | 29/80 [00:09<00:19,  2.60it/s]"
     ]
    },
    {
     "name": "stderr",
     "output_type": "stream",
     "text": [
      "\r",
      "run 0 with current best 0.399:  38%|███▊      | 30/80 [00:09<00:18,  2.64it/s]"
     ]
    },
    {
     "name": "stderr",
     "output_type": "stream",
     "text": [
      "\r",
      "run 0 with current best 0.399:  38%|███▊      | 30/80 [00:09<00:18,  2.64it/s]"
     ]
    },
    {
     "name": "stderr",
     "output_type": "stream",
     "text": [
      "\r",
      "run 0 with current best 0.399:  39%|███▉      | 31/80 [00:09<00:18,  2.60it/s]"
     ]
    },
    {
     "name": "stderr",
     "output_type": "stream",
     "text": [
      "\r",
      "run 0 with current best 0.399:  39%|███▉      | 31/80 [00:09<00:18,  2.60it/s]"
     ]
    },
    {
     "name": "stderr",
     "output_type": "stream",
     "text": [
      "\r",
      "run 0 with current best 0.399:  40%|████      | 32/80 [00:09<00:18,  2.63it/s]"
     ]
    },
    {
     "name": "stderr",
     "output_type": "stream",
     "text": [
      "\r",
      "run 0 with current best 0.399:  40%|████      | 32/80 [00:10<00:18,  2.63it/s]"
     ]
    },
    {
     "name": "stderr",
     "output_type": "stream",
     "text": [
      "\r",
      "run 0 with current best 0.399:  41%|████▏     | 33/80 [00:10<00:18,  2.57it/s]"
     ]
    },
    {
     "name": "stderr",
     "output_type": "stream",
     "text": [
      "\r",
      "run 0 with current best 0.398:  41%|████▏     | 33/80 [00:10<00:18,  2.57it/s]"
     ]
    },
    {
     "name": "stderr",
     "output_type": "stream",
     "text": [
      "\r",
      "run 0 with current best 0.398:  42%|████▎     | 34/80 [00:10<00:16,  2.73it/s]"
     ]
    },
    {
     "name": "stderr",
     "output_type": "stream",
     "text": [
      "\r",
      "run 0 with current best 0.398:  42%|████▎     | 34/80 [00:10<00:16,  2.73it/s]"
     ]
    },
    {
     "name": "stderr",
     "output_type": "stream",
     "text": [
      "\r",
      "run 0 with current best 0.398:  44%|████▍     | 35/80 [00:10<00:15,  2.87it/s]"
     ]
    },
    {
     "name": "stderr",
     "output_type": "stream",
     "text": [
      "\r",
      "run 0 with current best 0.398:  44%|████▍     | 35/80 [00:11<00:15,  2.87it/s]"
     ]
    },
    {
     "name": "stderr",
     "output_type": "stream",
     "text": [
      "\r",
      "run 0 with current best 0.398:  45%|████▌     | 36/80 [00:11<00:16,  2.74it/s]"
     ]
    },
    {
     "name": "stderr",
     "output_type": "stream",
     "text": [
      "\r",
      "run 0 with current best 0.398:  45%|████▌     | 36/80 [00:11<00:16,  2.74it/s]"
     ]
    },
    {
     "name": "stderr",
     "output_type": "stream",
     "text": [
      "\r",
      "run 0 with current best 0.398:  46%|████▋     | 37/80 [00:11<00:17,  2.42it/s]"
     ]
    },
    {
     "name": "stderr",
     "output_type": "stream",
     "text": [
      "\r",
      "run 0 with current best 0.398:  46%|████▋     | 37/80 [00:12<00:17,  2.42it/s]"
     ]
    },
    {
     "name": "stderr",
     "output_type": "stream",
     "text": [
      "\r",
      "run 0 with current best 0.398:  48%|████▊     | 38/80 [00:12<00:18,  2.28it/s]"
     ]
    },
    {
     "name": "stderr",
     "output_type": "stream",
     "text": [
      "\r",
      "run 0 with current best 0.398:  48%|████▊     | 38/80 [00:12<00:18,  2.28it/s]"
     ]
    },
    {
     "name": "stderr",
     "output_type": "stream",
     "text": [
      "\r",
      "run 0 with current best 0.398:  49%|████▉     | 39/80 [00:12<00:16,  2.54it/s]"
     ]
    },
    {
     "name": "stderr",
     "output_type": "stream",
     "text": [
      "\r",
      "run 0 with current best 0.398:  49%|████▉     | 39/80 [00:13<00:16,  2.54it/s]"
     ]
    },
    {
     "name": "stderr",
     "output_type": "stream",
     "text": [
      "\r",
      "run 0 with current best 0.398:  50%|█████     | 40/80 [00:13<00:15,  2.64it/s]"
     ]
    },
    {
     "name": "stderr",
     "output_type": "stream",
     "text": [
      "\r",
      "run 0 with current best 0.398:  50%|█████     | 40/80 [00:13<00:15,  2.64it/s]"
     ]
    },
    {
     "name": "stderr",
     "output_type": "stream",
     "text": [
      "\r",
      "run 0 with current best 0.398:  51%|█████▏    | 41/80 [00:13<00:13,  2.86it/s]"
     ]
    },
    {
     "name": "stderr",
     "output_type": "stream",
     "text": [
      "\r",
      "run 0 with current best 0.398:  51%|█████▏    | 41/80 [00:13<00:13,  2.86it/s]"
     ]
    },
    {
     "name": "stderr",
     "output_type": "stream",
     "text": [
      "\r",
      "run 0 with current best 0.398:  52%|█████▎    | 42/80 [00:13<00:13,  2.75it/s]"
     ]
    },
    {
     "name": "stderr",
     "output_type": "stream",
     "text": [
      "\r",
      "run 0 with current best 0.398:  52%|█████▎    | 42/80 [00:14<00:13,  2.75it/s]"
     ]
    },
    {
     "name": "stderr",
     "output_type": "stream",
     "text": [
      "\r",
      "run 0 with current best 0.398:  54%|█████▍    | 43/80 [00:14<00:13,  2.76it/s]"
     ]
    },
    {
     "name": "stderr",
     "output_type": "stream",
     "text": [
      "\r",
      "run 0 with current best 0.398:  54%|█████▍    | 43/80 [00:14<00:13,  2.76it/s]"
     ]
    },
    {
     "name": "stderr",
     "output_type": "stream",
     "text": [
      "\r",
      "run 0 with current best 0.398:  55%|█████▌    | 44/80 [00:14<00:12,  2.90it/s]"
     ]
    },
    {
     "name": "stderr",
     "output_type": "stream",
     "text": [
      "\r",
      "run 0 with current best 0.398:  55%|█████▌    | 44/80 [00:14<00:12,  2.90it/s]"
     ]
    },
    {
     "name": "stderr",
     "output_type": "stream",
     "text": [
      "\r",
      "run 0 with current best 0.398:  56%|█████▋    | 45/80 [00:14<00:12,  2.89it/s]"
     ]
    },
    {
     "name": "stderr",
     "output_type": "stream",
     "text": [
      "\r",
      "run 0 with current best 0.398:  56%|█████▋    | 45/80 [00:15<00:12,  2.89it/s]"
     ]
    },
    {
     "name": "stderr",
     "output_type": "stream",
     "text": [
      "\r",
      "run 0 with current best 0.398:  57%|█████▊    | 46/80 [00:15<00:11,  2.98it/s]"
     ]
    },
    {
     "name": "stderr",
     "output_type": "stream",
     "text": [
      "\r",
      "run 0 with current best 0.398:  57%|█████▊    | 46/80 [00:15<00:11,  2.98it/s]"
     ]
    },
    {
     "name": "stderr",
     "output_type": "stream",
     "text": [
      "\r",
      "run 0 with current best 0.398:  59%|█████▉    | 47/80 [00:15<00:10,  3.01it/s]"
     ]
    },
    {
     "name": "stderr",
     "output_type": "stream",
     "text": [
      "\r",
      "run 0 with current best 0.398:  59%|█████▉    | 47/80 [00:15<00:10,  3.01it/s]"
     ]
    },
    {
     "name": "stderr",
     "output_type": "stream",
     "text": [
      "\r",
      "run 0 with current best 0.398:  60%|██████    | 48/80 [00:15<00:10,  3.12it/s]"
     ]
    },
    {
     "name": "stderr",
     "output_type": "stream",
     "text": [
      "\r",
      "run 0 with current best 0.398:  60%|██████    | 48/80 [00:15<00:10,  3.12it/s]"
     ]
    },
    {
     "name": "stderr",
     "output_type": "stream",
     "text": [
      "\r",
      "run 0 with current best 0.398:  61%|██████▏   | 49/80 [00:15<00:09,  3.23it/s]"
     ]
    },
    {
     "name": "stderr",
     "output_type": "stream",
     "text": [
      "\r",
      "run 0 with current best 0.398:  61%|██████▏   | 49/80 [00:16<00:09,  3.23it/s]"
     ]
    },
    {
     "name": "stderr",
     "output_type": "stream",
     "text": [
      "\r",
      "run 0 with current best 0.398:  62%|██████▎   | 50/80 [00:16<00:09,  3.31it/s]"
     ]
    },
    {
     "name": "stderr",
     "output_type": "stream",
     "text": [
      "\r",
      "run 0 with current best 0.398:  62%|██████▎   | 50/80 [00:16<00:09,  3.31it/s]"
     ]
    },
    {
     "name": "stderr",
     "output_type": "stream",
     "text": [
      "\r",
      "run 0 with current best 0.398:  64%|██████▍   | 51/80 [00:16<00:09,  3.02it/s]"
     ]
    },
    {
     "name": "stderr",
     "output_type": "stream",
     "text": [
      "\r",
      "run 0 with current best 0.398:  64%|██████▍   | 51/80 [00:16<00:09,  3.02it/s]"
     ]
    },
    {
     "name": "stderr",
     "output_type": "stream",
     "text": [
      "\r",
      "run 0 with current best 0.398:  65%|██████▌   | 52/80 [00:16<00:09,  3.06it/s]"
     ]
    },
    {
     "name": "stderr",
     "output_type": "stream",
     "text": [
      "\r",
      "run 0 with current best 0.398:  65%|██████▌   | 52/80 [00:17<00:09,  3.06it/s]"
     ]
    },
    {
     "name": "stderr",
     "output_type": "stream",
     "text": [
      "\r",
      "run 0 with current best 0.398:  66%|██████▋   | 53/80 [00:17<00:09,  2.98it/s]"
     ]
    },
    {
     "name": "stderr",
     "output_type": "stream",
     "text": [
      "\r",
      "run 0 with current best 0.398:  66%|██████▋   | 53/80 [00:17<00:09,  2.98it/s]"
     ]
    },
    {
     "name": "stderr",
     "output_type": "stream",
     "text": [
      "\r",
      "run 0 with current best 0.398:  68%|██████▊   | 54/80 [00:17<00:09,  2.84it/s]"
     ]
    },
    {
     "name": "stderr",
     "output_type": "stream",
     "text": [
      "\r",
      "run 0 with current best 0.398:  68%|██████▊   | 54/80 [00:18<00:09,  2.84it/s]"
     ]
    },
    {
     "name": "stderr",
     "output_type": "stream",
     "text": [
      "\r",
      "run 0 with current best 0.398:  69%|██████▉   | 55/80 [00:18<00:08,  2.93it/s]"
     ]
    },
    {
     "name": "stderr",
     "output_type": "stream",
     "text": [
      "\r",
      "run 0 with current best 0.398:  69%|██████▉   | 55/80 [00:18<00:08,  2.93it/s]"
     ]
    },
    {
     "name": "stderr",
     "output_type": "stream",
     "text": [
      "\r",
      "run 0 with current best 0.398:  70%|███████   | 56/80 [00:18<00:08,  2.96it/s]"
     ]
    },
    {
     "name": "stderr",
     "output_type": "stream",
     "text": [
      "\r",
      "run 0 with current best 0.398:  70%|███████   | 56/80 [00:18<00:08,  2.96it/s]"
     ]
    },
    {
     "name": "stderr",
     "output_type": "stream",
     "text": [
      "\r",
      "run 0 with current best 0.398:  71%|███████▏  | 57/80 [00:18<00:07,  2.93it/s]"
     ]
    },
    {
     "name": "stderr",
     "output_type": "stream",
     "text": [
      "\r",
      "run 0 with current best 0.398:  71%|███████▏  | 57/80 [00:19<00:07,  2.93it/s]"
     ]
    },
    {
     "name": "stderr",
     "output_type": "stream",
     "text": [
      "\r",
      "run 0 with current best 0.398:  72%|███████▎  | 58/80 [00:19<00:07,  2.82it/s]"
     ]
    },
    {
     "name": "stderr",
     "output_type": "stream",
     "text": [
      "\r",
      "run 0 with current best 0.398:  72%|███████▎  | 58/80 [00:19<00:07,  2.82it/s]"
     ]
    },
    {
     "name": "stderr",
     "output_type": "stream",
     "text": [
      "\r",
      "run 0 with current best 0.398:  74%|███████▍  | 59/80 [00:19<00:07,  2.96it/s]"
     ]
    },
    {
     "name": "stderr",
     "output_type": "stream",
     "text": [
      "\r",
      "run 0 with current best 0.398:  74%|███████▍  | 59/80 [00:19<00:07,  2.96it/s]"
     ]
    },
    {
     "name": "stderr",
     "output_type": "stream",
     "text": [
      "\r",
      "run 0 with current best 0.398:  75%|███████▌  | 60/80 [00:19<00:06,  2.95it/s]"
     ]
    },
    {
     "name": "stderr",
     "output_type": "stream",
     "text": [
      "\r",
      "run 0 with current best 0.398:  75%|███████▌  | 60/80 [00:20<00:06,  2.95it/s]"
     ]
    },
    {
     "name": "stderr",
     "output_type": "stream",
     "text": [
      "\r",
      "run 0 with current best 0.398:  76%|███████▋  | 61/80 [00:20<00:06,  2.88it/s]"
     ]
    },
    {
     "name": "stderr",
     "output_type": "stream",
     "text": [
      "\r",
      "run 0 with current best 0.398:  76%|███████▋  | 61/80 [00:20<00:06,  2.88it/s]"
     ]
    },
    {
     "name": "stderr",
     "output_type": "stream",
     "text": [
      "\r",
      "run 0 with current best 0.398:  78%|███████▊  | 62/80 [00:20<00:06,  2.89it/s]"
     ]
    },
    {
     "name": "stderr",
     "output_type": "stream",
     "text": [
      "\r",
      "run 0 with current best 0.398:  78%|███████▊  | 62/80 [00:20<00:06,  2.89it/s]"
     ]
    },
    {
     "name": "stderr",
     "output_type": "stream",
     "text": [
      "\r",
      "run 0 with current best 0.398:  79%|███████▉  | 63/80 [00:20<00:06,  2.80it/s]"
     ]
    },
    {
     "name": "stderr",
     "output_type": "stream",
     "text": [
      "\r",
      "run 0 with current best 0.398:  79%|███████▉  | 63/80 [00:21<00:06,  2.80it/s]"
     ]
    },
    {
     "name": "stderr",
     "output_type": "stream",
     "text": [
      "\r",
      "run 0 with current best 0.398:  80%|████████  | 64/80 [00:21<00:05,  2.81it/s]"
     ]
    },
    {
     "name": "stderr",
     "output_type": "stream",
     "text": [
      "\r",
      "run 0 with current best 0.398:  80%|████████  | 64/80 [00:21<00:05,  2.81it/s]"
     ]
    },
    {
     "name": "stderr",
     "output_type": "stream",
     "text": [
      "\r",
      "run 0 with current best 0.398:  81%|████████▏ | 65/80 [00:21<00:05,  2.73it/s]"
     ]
    },
    {
     "name": "stderr",
     "output_type": "stream",
     "text": [
      "\r",
      "run 0 with current best 0.398:  81%|████████▏ | 65/80 [00:21<00:05,  2.73it/s]"
     ]
    },
    {
     "name": "stderr",
     "output_type": "stream",
     "text": [
      "\r",
      "run 0 with current best 0.398:  82%|████████▎ | 66/80 [00:21<00:05,  2.77it/s]"
     ]
    },
    {
     "name": "stderr",
     "output_type": "stream",
     "text": [
      "\r",
      "run 0 with current best 0.398:  82%|████████▎ | 66/80 [00:22<00:05,  2.77it/s]"
     ]
    },
    {
     "name": "stderr",
     "output_type": "stream",
     "text": [
      "\r",
      "run 0 with current best 0.398:  84%|████████▍ | 67/80 [00:22<00:04,  2.82it/s]"
     ]
    },
    {
     "name": "stderr",
     "output_type": "stream",
     "text": [
      "\r",
      "run 0 with current best 0.398:  84%|████████▍ | 67/80 [00:22<00:04,  2.82it/s]"
     ]
    },
    {
     "name": "stderr",
     "output_type": "stream",
     "text": [
      "\r",
      "run 0 with current best 0.398:  85%|████████▌ | 68/80 [00:22<00:04,  2.70it/s]"
     ]
    },
    {
     "name": "stderr",
     "output_type": "stream",
     "text": [
      "\r",
      "run 0 with current best 0.398:  85%|████████▌ | 68/80 [00:23<00:04,  2.70it/s]"
     ]
    },
    {
     "name": "stderr",
     "output_type": "stream",
     "text": [
      "\r",
      "run 0 with current best 0.398:  86%|████████▋ | 69/80 [00:23<00:04,  2.55it/s]"
     ]
    },
    {
     "name": "stderr",
     "output_type": "stream",
     "text": [
      "\r",
      "run 0 with current best 0.398:  86%|████████▋ | 69/80 [00:23<00:04,  2.55it/s]"
     ]
    },
    {
     "name": "stderr",
     "output_type": "stream",
     "text": [
      "\r",
      "run 0 with current best 0.398:  88%|████████▊ | 70/80 [00:23<00:03,  2.56it/s]"
     ]
    },
    {
     "name": "stderr",
     "output_type": "stream",
     "text": [
      "\r",
      "run 0 with current best 0.398:  88%|████████▊ | 70/80 [00:23<00:03,  2.56it/s]"
     ]
    },
    {
     "name": "stderr",
     "output_type": "stream",
     "text": [
      "\r",
      "run 0 with current best 0.398:  89%|████████▉ | 71/80 [00:23<00:03,  2.63it/s]"
     ]
    },
    {
     "name": "stderr",
     "output_type": "stream",
     "text": [
      "\r",
      "run 0 with current best 0.398:  89%|████████▉ | 71/80 [00:24<00:03,  2.63it/s]"
     ]
    },
    {
     "name": "stderr",
     "output_type": "stream",
     "text": [
      "\r",
      "run 0 with current best 0.398:  90%|█████████ | 72/80 [00:24<00:02,  2.73it/s]"
     ]
    },
    {
     "name": "stderr",
     "output_type": "stream",
     "text": [
      "\r",
      "run 0 with current best 0.398:  90%|█████████ | 72/80 [00:24<00:02,  2.73it/s]"
     ]
    },
    {
     "name": "stderr",
     "output_type": "stream",
     "text": [
      "\r",
      "run 0 with current best 0.398:  91%|█████████▏| 73/80 [00:24<00:02,  2.42it/s]"
     ]
    },
    {
     "name": "stderr",
     "output_type": "stream",
     "text": [
      "\r",
      "run 0 with current best 0.398:  91%|█████████▏| 73/80 [00:25<00:02,  2.42it/s]"
     ]
    },
    {
     "name": "stderr",
     "output_type": "stream",
     "text": [
      "\r",
      "run 0 with current best 0.398:  92%|█████████▎| 74/80 [00:25<00:02,  2.60it/s]"
     ]
    },
    {
     "name": "stderr",
     "output_type": "stream",
     "text": [
      "\r",
      "run 0 with current best 0.398:  92%|█████████▎| 74/80 [00:25<00:02,  2.60it/s]"
     ]
    },
    {
     "name": "stderr",
     "output_type": "stream",
     "text": [
      "\r",
      "run 0 with current best 0.398:  94%|█████████▍| 75/80 [00:25<00:01,  2.67it/s]"
     ]
    },
    {
     "name": "stderr",
     "output_type": "stream",
     "text": [
      "\r",
      "run 0 with current best 0.398:  94%|█████████▍| 75/80 [00:25<00:01,  2.67it/s]"
     ]
    },
    {
     "name": "stderr",
     "output_type": "stream",
     "text": [
      "\r",
      "run 0 with current best 0.398:  95%|█████████▌| 76/80 [00:25<00:01,  2.68it/s]"
     ]
    },
    {
     "name": "stderr",
     "output_type": "stream",
     "text": [
      "\r",
      "run 0 with current best 0.398:  95%|█████████▌| 76/80 [00:26<00:01,  2.68it/s]"
     ]
    },
    {
     "name": "stderr",
     "output_type": "stream",
     "text": [
      "\r",
      "run 0 with current best 0.398:  96%|█████████▋| 77/80 [00:26<00:01,  2.75it/s]"
     ]
    },
    {
     "name": "stderr",
     "output_type": "stream",
     "text": [
      "\r",
      "run 0 with current best 0.398:  96%|█████████▋| 77/80 [00:26<00:01,  2.75it/s]"
     ]
    },
    {
     "name": "stderr",
     "output_type": "stream",
     "text": [
      "\r",
      "run 0 with current best 0.398:  98%|█████████▊| 78/80 [00:26<00:00,  2.52it/s]"
     ]
    },
    {
     "name": "stderr",
     "output_type": "stream",
     "text": [
      "\r",
      "run 0 with current best 0.398:  98%|█████████▊| 78/80 [00:26<00:00,  2.52it/s]"
     ]
    },
    {
     "name": "stderr",
     "output_type": "stream",
     "text": [
      "\r",
      "run 0 with current best 0.398:  99%|█████████▉| 79/80 [00:26<00:00,  2.52it/s]"
     ]
    },
    {
     "name": "stderr",
     "output_type": "stream",
     "text": [
      "\r",
      "run 0 with current best 0.398:  99%|█████████▉| 79/80 [00:27<00:00,  2.52it/s]"
     ]
    },
    {
     "name": "stderr",
     "output_type": "stream",
     "text": [
      "\r",
      "run 0 with current best 0.398: 100%|██████████| 80/80 [00:27<00:00,  2.28it/s]"
     ]
    },
    {
     "name": "stderr",
     "output_type": "stream",
     "text": [
      "\r",
      "run 0 with current best 0.398: 100%|██████████| 80/80 [00:27<00:00,  2.91it/s]"
     ]
    },
    {
     "name": "stderr",
     "output_type": "stream",
     "text": [
      "\n"
     ]
    },
    {
     "name": "stderr",
     "output_type": "stream",
     "text": [
      "\r",
      "  0%|          | 0/80 [00:00<?, ?it/s]"
     ]
    },
    {
     "name": "stderr",
     "output_type": "stream",
     "text": [
      "\r",
      "run 0 with current best 0.887:   0%|          | 0/80 [00:00<?, ?it/s]"
     ]
    },
    {
     "name": "stderr",
     "output_type": "stream",
     "text": [
      "\r",
      "run 0 with current best 0.887:   1%|▏         | 1/80 [00:00<00:17,  4.62it/s]"
     ]
    },
    {
     "name": "stderr",
     "output_type": "stream",
     "text": [
      "\r",
      "run 0 with current best 0.887:   1%|▏         | 1/80 [00:00<00:17,  4.62it/s]"
     ]
    },
    {
     "name": "stderr",
     "output_type": "stream",
     "text": [
      "\r",
      "run 0 with current best 0.887:   2%|▎         | 2/80 [00:00<00:16,  4.71it/s]"
     ]
    },
    {
     "name": "stderr",
     "output_type": "stream",
     "text": [
      "\r",
      "run 0 with current best 0.887:   2%|▎         | 2/80 [00:00<00:16,  4.71it/s]"
     ]
    },
    {
     "name": "stderr",
     "output_type": "stream",
     "text": [
      "\r",
      "run 0 with current best 0.887:   4%|▍         | 3/80 [00:00<00:16,  4.60it/s]"
     ]
    },
    {
     "name": "stderr",
     "output_type": "stream",
     "text": [
      "\r",
      "run 0 with current best 0.887:   4%|▍         | 3/80 [00:00<00:16,  4.60it/s]"
     ]
    },
    {
     "name": "stderr",
     "output_type": "stream",
     "text": [
      "\r",
      "run 0 with current best 0.887:   5%|▌         | 4/80 [00:00<00:16,  4.66it/s]"
     ]
    },
    {
     "name": "stderr",
     "output_type": "stream",
     "text": [
      "\r",
      "run 0 with current best 0.887:   5%|▌         | 4/80 [00:01<00:16,  4.66it/s]"
     ]
    },
    {
     "name": "stderr",
     "output_type": "stream",
     "text": [
      "\r",
      "run 0 with current best 0.887:   6%|▋         | 5/80 [00:01<00:16,  4.64it/s]"
     ]
    },
    {
     "name": "stderr",
     "output_type": "stream",
     "text": [
      "\r",
      "run 0 with current best 0.887:   6%|▋         | 5/80 [00:01<00:16,  4.64it/s]"
     ]
    },
    {
     "name": "stderr",
     "output_type": "stream",
     "text": [
      "\r",
      "run 0 with current best 0.887:   8%|▊         | 6/80 [00:01<00:16,  4.50it/s]"
     ]
    },
    {
     "name": "stderr",
     "output_type": "stream",
     "text": [
      "\r",
      "run 0 with current best 0.462:   8%|▊         | 6/80 [00:01<00:16,  4.50it/s]"
     ]
    },
    {
     "name": "stderr",
     "output_type": "stream",
     "text": [
      "\r",
      "run 0 with current best 0.462:   9%|▉         | 7/80 [00:01<00:16,  4.41it/s]"
     ]
    },
    {
     "name": "stderr",
     "output_type": "stream",
     "text": [
      "\r",
      "run 0 with current best 0.462:   9%|▉         | 7/80 [00:01<00:16,  4.41it/s]"
     ]
    },
    {
     "name": "stderr",
     "output_type": "stream",
     "text": [
      "\r",
      "run 0 with current best 0.462:  10%|█         | 8/80 [00:01<00:17,  4.11it/s]"
     ]
    },
    {
     "name": "stderr",
     "output_type": "stream",
     "text": [
      "\r",
      "run 0 with current best 0.402:  10%|█         | 8/80 [00:02<00:17,  4.11it/s]"
     ]
    },
    {
     "name": "stderr",
     "output_type": "stream",
     "text": [
      "\r",
      "run 0 with current best 0.402:  11%|█▏        | 9/80 [00:02<00:17,  4.09it/s]"
     ]
    },
    {
     "name": "stderr",
     "output_type": "stream",
     "text": [
      "\r",
      "run 0 with current best 0.402:  11%|█▏        | 9/80 [00:02<00:17,  4.09it/s]"
     ]
    },
    {
     "name": "stderr",
     "output_type": "stream",
     "text": [
      "\r",
      "run 0 with current best 0.402:  12%|█▎        | 10/80 [00:02<00:18,  3.71it/s]"
     ]
    },
    {
     "name": "stderr",
     "output_type": "stream",
     "text": [
      "\r",
      "run 0 with current best 0.402:  12%|█▎        | 10/80 [00:02<00:18,  3.71it/s]"
     ]
    },
    {
     "name": "stderr",
     "output_type": "stream",
     "text": [
      "\r",
      "run 0 with current best 0.402:  14%|█▍        | 11/80 [00:02<00:20,  3.41it/s]"
     ]
    },
    {
     "name": "stderr",
     "output_type": "stream",
     "text": [
      "\r",
      "run 0 with current best 0.402:  14%|█▍        | 11/80 [00:03<00:20,  3.41it/s]"
     ]
    },
    {
     "name": "stderr",
     "output_type": "stream",
     "text": [
      "\r",
      "run 0 with current best 0.402:  15%|█▌        | 12/80 [00:03<00:21,  3.24it/s]"
     ]
    },
    {
     "name": "stderr",
     "output_type": "stream",
     "text": [
      "\r",
      "run 0 with current best 0.402:  15%|█▌        | 12/80 [00:03<00:21,  3.24it/s]"
     ]
    },
    {
     "name": "stderr",
     "output_type": "stream",
     "text": [
      "\r",
      "run 0 with current best 0.402:  16%|█▋        | 13/80 [00:03<00:19,  3.48it/s]"
     ]
    },
    {
     "name": "stderr",
     "output_type": "stream",
     "text": [
      "\r",
      "run 0 with current best 0.402:  16%|█▋        | 13/80 [00:03<00:19,  3.48it/s]"
     ]
    },
    {
     "name": "stderr",
     "output_type": "stream",
     "text": [
      "\r",
      "run 0 with current best 0.402:  18%|█▊        | 14/80 [00:03<00:18,  3.55it/s]"
     ]
    },
    {
     "name": "stderr",
     "output_type": "stream",
     "text": [
      "\r",
      "run 0 with current best 0.402:  18%|█▊        | 14/80 [00:03<00:18,  3.55it/s]"
     ]
    },
    {
     "name": "stderr",
     "output_type": "stream",
     "text": [
      "\r",
      "run 0 with current best 0.402:  19%|█▉        | 15/80 [00:03<00:18,  3.59it/s]"
     ]
    },
    {
     "name": "stderr",
     "output_type": "stream",
     "text": [
      "\r",
      "run 0 with current best 0.402:  19%|█▉        | 15/80 [00:04<00:18,  3.59it/s]"
     ]
    },
    {
     "name": "stderr",
     "output_type": "stream",
     "text": [
      "\r",
      "run 0 with current best 0.402:  20%|██        | 16/80 [00:04<00:18,  3.55it/s]"
     ]
    },
    {
     "name": "stderr",
     "output_type": "stream",
     "text": [
      "\r",
      "run 0 with current best 0.402:  20%|██        | 16/80 [00:04<00:18,  3.55it/s]"
     ]
    },
    {
     "name": "stderr",
     "output_type": "stream",
     "text": [
      "\r",
      "run 0 with current best 0.402:  21%|██▏       | 17/80 [00:04<00:17,  3.67it/s]"
     ]
    },
    {
     "name": "stderr",
     "output_type": "stream",
     "text": [
      "\r",
      "run 0 with current best 0.402:  21%|██▏       | 17/80 [00:04<00:17,  3.67it/s]"
     ]
    },
    {
     "name": "stderr",
     "output_type": "stream",
     "text": [
      "\r",
      "run 0 with current best 0.402:  22%|██▎       | 18/80 [00:04<00:17,  3.58it/s]"
     ]
    },
    {
     "name": "stderr",
     "output_type": "stream",
     "text": [
      "\r",
      "run 0 with current best 0.402:  22%|██▎       | 18/80 [00:04<00:17,  3.58it/s]"
     ]
    },
    {
     "name": "stderr",
     "output_type": "stream",
     "text": [
      "\r",
      "run 0 with current best 0.402:  24%|██▍       | 19/80 [00:04<00:16,  3.61it/s]"
     ]
    },
    {
     "name": "stderr",
     "output_type": "stream",
     "text": [
      "\r",
      "run 0 with current best 0.402:  24%|██▍       | 19/80 [00:05<00:16,  3.61it/s]"
     ]
    },
    {
     "name": "stderr",
     "output_type": "stream",
     "text": [
      "\r",
      "run 0 with current best 0.402:  25%|██▌       | 20/80 [00:05<00:16,  3.62it/s]"
     ]
    },
    {
     "name": "stderr",
     "output_type": "stream",
     "text": [
      "\r",
      "run 0 with current best 0.402:  25%|██▌       | 20/80 [00:05<00:16,  3.62it/s]"
     ]
    },
    {
     "name": "stderr",
     "output_type": "stream",
     "text": [
      "\r",
      "run 0 with current best 0.402:  26%|██▋       | 21/80 [00:05<00:16,  3.65it/s]"
     ]
    },
    {
     "name": "stderr",
     "output_type": "stream",
     "text": [
      "\r",
      "run 0 with current best 0.402:  26%|██▋       | 21/80 [00:05<00:16,  3.65it/s]"
     ]
    },
    {
     "name": "stderr",
     "output_type": "stream",
     "text": [
      "\r",
      "run 0 with current best 0.402:  28%|██▊       | 22/80 [00:05<00:15,  3.68it/s]"
     ]
    },
    {
     "name": "stderr",
     "output_type": "stream",
     "text": [
      "\r",
      "run 0 with current best 0.402:  28%|██▊       | 22/80 [00:06<00:15,  3.68it/s]"
     ]
    },
    {
     "name": "stderr",
     "output_type": "stream",
     "text": [
      "\r",
      "run 0 with current best 0.402:  29%|██▉       | 23/80 [00:06<00:15,  3.67it/s]"
     ]
    },
    {
     "name": "stderr",
     "output_type": "stream",
     "text": [
      "\r",
      "run 0 with current best 0.402:  29%|██▉       | 23/80 [00:06<00:15,  3.67it/s]"
     ]
    },
    {
     "name": "stderr",
     "output_type": "stream",
     "text": [
      "\r",
      "run 0 with current best 0.402:  30%|███       | 24/80 [00:06<00:16,  3.40it/s]"
     ]
    },
    {
     "name": "stderr",
     "output_type": "stream",
     "text": [
      "\r",
      "run 0 with current best 0.402:  30%|███       | 24/80 [00:06<00:16,  3.40it/s]"
     ]
    },
    {
     "name": "stderr",
     "output_type": "stream",
     "text": [
      "\r",
      "run 0 with current best 0.402:  31%|███▏      | 25/80 [00:06<00:16,  3.29it/s]"
     ]
    },
    {
     "name": "stderr",
     "output_type": "stream",
     "text": [
      "\r",
      "run 0 with current best 0.402:  31%|███▏      | 25/80 [00:06<00:16,  3.29it/s]"
     ]
    },
    {
     "name": "stderr",
     "output_type": "stream",
     "text": [
      "\r",
      "run 0 with current best 0.402:  32%|███▎      | 26/80 [00:06<00:15,  3.52it/s]"
     ]
    },
    {
     "name": "stderr",
     "output_type": "stream",
     "text": [
      "\r",
      "run 0 with current best 0.402:  32%|███▎      | 26/80 [00:07<00:15,  3.52it/s]"
     ]
    },
    {
     "name": "stderr",
     "output_type": "stream",
     "text": [
      "\r",
      "run 0 with current best 0.402:  34%|███▍      | 27/80 [00:07<00:13,  3.82it/s]"
     ]
    },
    {
     "name": "stderr",
     "output_type": "stream",
     "text": [
      "\r",
      "run 0 with current best 0.402:  34%|███▍      | 27/80 [00:07<00:13,  3.82it/s]"
     ]
    },
    {
     "name": "stderr",
     "output_type": "stream",
     "text": [
      "\r",
      "run 0 with current best 0.402:  35%|███▌      | 28/80 [00:07<00:13,  3.82it/s]"
     ]
    },
    {
     "name": "stderr",
     "output_type": "stream",
     "text": [
      "\r",
      "run 0 with current best 0.402:  35%|███▌      | 28/80 [00:07<00:13,  3.82it/s]"
     ]
    },
    {
     "name": "stderr",
     "output_type": "stream",
     "text": [
      "\r",
      "run 0 with current best 0.402:  36%|███▋      | 29/80 [00:07<00:15,  3.39it/s]"
     ]
    },
    {
     "name": "stderr",
     "output_type": "stream",
     "text": [
      "\r",
      "run 0 with current best 0.402:  36%|███▋      | 29/80 [00:08<00:15,  3.39it/s]"
     ]
    },
    {
     "name": "stderr",
     "output_type": "stream",
     "text": [
      "\r",
      "run 0 with current best 0.402:  38%|███▊      | 30/80 [00:08<00:16,  3.07it/s]"
     ]
    },
    {
     "name": "stderr",
     "output_type": "stream",
     "text": [
      "\r",
      "run 0 with current best 0.402:  38%|███▊      | 30/80 [00:08<00:16,  3.07it/s]"
     ]
    },
    {
     "name": "stderr",
     "output_type": "stream",
     "text": [
      "\r",
      "run 0 with current best 0.402:  39%|███▉      | 31/80 [00:08<00:17,  2.88it/s]"
     ]
    },
    {
     "name": "stderr",
     "output_type": "stream",
     "text": [
      "\r",
      "run 0 with current best 0.402:  39%|███▉      | 31/80 [00:08<00:17,  2.88it/s]"
     ]
    },
    {
     "name": "stderr",
     "output_type": "stream",
     "text": [
      "\r",
      "run 0 with current best 0.402:  40%|████      | 32/80 [00:08<00:15,  3.17it/s]"
     ]
    },
    {
     "name": "stderr",
     "output_type": "stream",
     "text": [
      "\r",
      "run 0 with current best 0.402:  40%|████      | 32/80 [00:09<00:15,  3.17it/s]"
     ]
    },
    {
     "name": "stderr",
     "output_type": "stream",
     "text": [
      "\r",
      "run 0 with current best 0.402:  41%|████▏     | 33/80 [00:09<00:14,  3.30it/s]"
     ]
    },
    {
     "name": "stderr",
     "output_type": "stream",
     "text": [
      "\r",
      "run 0 with current best 0.402:  41%|████▏     | 33/80 [00:09<00:14,  3.30it/s]"
     ]
    },
    {
     "name": "stderr",
     "output_type": "stream",
     "text": [
      "\r",
      "run 0 with current best 0.402:  42%|████▎     | 34/80 [00:09<00:14,  3.14it/s]"
     ]
    },
    {
     "name": "stderr",
     "output_type": "stream",
     "text": [
      "\r",
      "run 0 with current best 0.402:  42%|████▎     | 34/80 [00:09<00:14,  3.14it/s]"
     ]
    },
    {
     "name": "stderr",
     "output_type": "stream",
     "text": [
      "\r",
      "run 0 with current best 0.402:  44%|████▍     | 35/80 [00:09<00:14,  3.21it/s]"
     ]
    },
    {
     "name": "stderr",
     "output_type": "stream",
     "text": [
      "\r",
      "run 0 with current best 0.402:  44%|████▍     | 35/80 [00:10<00:14,  3.21it/s]"
     ]
    },
    {
     "name": "stderr",
     "output_type": "stream",
     "text": [
      "\r",
      "run 0 with current best 0.402:  45%|████▌     | 36/80 [00:10<00:14,  3.08it/s]"
     ]
    },
    {
     "name": "stderr",
     "output_type": "stream",
     "text": [
      "\r",
      "run 0 with current best 0.402:  45%|████▌     | 36/80 [00:10<00:14,  3.08it/s]"
     ]
    },
    {
     "name": "stderr",
     "output_type": "stream",
     "text": [
      "\r",
      "run 0 with current best 0.402:  46%|████▋     | 37/80 [00:10<00:13,  3.17it/s]"
     ]
    },
    {
     "name": "stderr",
     "output_type": "stream",
     "text": [
      "\r",
      "run 0 with current best 0.402:  46%|████▋     | 37/80 [00:10<00:13,  3.17it/s]"
     ]
    },
    {
     "name": "stderr",
     "output_type": "stream",
     "text": [
      "\r",
      "run 0 with current best 0.402:  48%|████▊     | 38/80 [00:10<00:13,  3.14it/s]"
     ]
    },
    {
     "name": "stderr",
     "output_type": "stream",
     "text": [
      "\r",
      "run 0 with current best 0.402:  48%|████▊     | 38/80 [00:11<00:13,  3.14it/s]"
     ]
    },
    {
     "name": "stderr",
     "output_type": "stream",
     "text": [
      "\r",
      "run 0 with current best 0.402:  49%|████▉     | 39/80 [00:11<00:13,  3.15it/s]"
     ]
    },
    {
     "name": "stderr",
     "output_type": "stream",
     "text": [
      "\r",
      "run 0 with current best 0.402:  49%|████▉     | 39/80 [00:11<00:13,  3.15it/s]"
     ]
    },
    {
     "name": "stderr",
     "output_type": "stream",
     "text": [
      "\r",
      "run 0 with current best 0.402:  50%|█████     | 40/80 [00:11<00:13,  3.00it/s]"
     ]
    },
    {
     "name": "stderr",
     "output_type": "stream",
     "text": [
      "\r",
      "run 0 with current best 0.402:  50%|█████     | 40/80 [00:11<00:13,  3.00it/s]"
     ]
    },
    {
     "name": "stderr",
     "output_type": "stream",
     "text": [
      "\r",
      "run 0 with current best 0.402:  51%|█████▏    | 41/80 [00:11<00:12,  3.04it/s]"
     ]
    },
    {
     "name": "stderr",
     "output_type": "stream",
     "text": [
      "\r",
      "run 0 with current best 0.402:  51%|█████▏    | 41/80 [00:12<00:12,  3.04it/s]"
     ]
    },
    {
     "name": "stderr",
     "output_type": "stream",
     "text": [
      "\r",
      "run 0 with current best 0.402:  52%|█████▎    | 42/80 [00:12<00:12,  3.06it/s]"
     ]
    },
    {
     "name": "stderr",
     "output_type": "stream",
     "text": [
      "\r",
      "run 0 with current best 0.402:  52%|█████▎    | 42/80 [00:12<00:12,  3.06it/s]"
     ]
    },
    {
     "name": "stderr",
     "output_type": "stream",
     "text": [
      "\r",
      "run 0 with current best 0.402:  54%|█████▍    | 43/80 [00:12<00:12,  2.96it/s]"
     ]
    },
    {
     "name": "stderr",
     "output_type": "stream",
     "text": [
      "\r",
      "run 0 with current best 0.402:  54%|█████▍    | 43/80 [00:12<00:12,  2.96it/s]"
     ]
    },
    {
     "name": "stderr",
     "output_type": "stream",
     "text": [
      "\r",
      "run 0 with current best 0.402:  55%|█████▌    | 44/80 [00:12<00:13,  2.77it/s]"
     ]
    },
    {
     "name": "stderr",
     "output_type": "stream",
     "text": [
      "\r",
      "run 0 with current best 0.402:  55%|█████▌    | 44/80 [00:13<00:13,  2.77it/s]"
     ]
    },
    {
     "name": "stderr",
     "output_type": "stream",
     "text": [
      "\r",
      "run 0 with current best 0.402:  56%|█████▋    | 45/80 [00:13<00:13,  2.64it/s]"
     ]
    },
    {
     "name": "stderr",
     "output_type": "stream",
     "text": [
      "\r",
      "run 0 with current best 0.402:  56%|█████▋    | 45/80 [00:13<00:13,  2.64it/s]"
     ]
    },
    {
     "name": "stderr",
     "output_type": "stream",
     "text": [
      "\r",
      "run 0 with current best 0.402:  57%|█████▊    | 46/80 [00:13<00:12,  2.80it/s]"
     ]
    },
    {
     "name": "stderr",
     "output_type": "stream",
     "text": [
      "\r",
      "run 0 with current best 0.402:  57%|█████▊    | 46/80 [00:13<00:12,  2.80it/s]"
     ]
    },
    {
     "name": "stderr",
     "output_type": "stream",
     "text": [
      "\r",
      "run 0 with current best 0.402:  59%|█████▉    | 47/80 [00:13<00:11,  2.95it/s]"
     ]
    },
    {
     "name": "stderr",
     "output_type": "stream",
     "text": [
      "\r",
      "run 0 with current best 0.402:  59%|█████▉    | 47/80 [00:14<00:11,  2.95it/s]"
     ]
    },
    {
     "name": "stderr",
     "output_type": "stream",
     "text": [
      "\r",
      "run 0 with current best 0.402:  60%|██████    | 48/80 [00:14<00:11,  2.75it/s]"
     ]
    },
    {
     "name": "stderr",
     "output_type": "stream",
     "text": [
      "\r",
      "run 0 with current best 0.402:  60%|██████    | 48/80 [00:14<00:11,  2.75it/s]"
     ]
    },
    {
     "name": "stderr",
     "output_type": "stream",
     "text": [
      "\r",
      "run 0 with current best 0.402:  61%|██████▏   | 49/80 [00:14<00:10,  3.06it/s]"
     ]
    },
    {
     "name": "stderr",
     "output_type": "stream",
     "text": [
      "\r",
      "run 0 with current best 0.402:  61%|██████▏   | 49/80 [00:14<00:10,  3.06it/s]"
     ]
    },
    {
     "name": "stderr",
     "output_type": "stream",
     "text": [
      "\r",
      "run 0 with current best 0.402:  62%|██████▎   | 50/80 [00:14<00:10,  2.81it/s]"
     ]
    },
    {
     "name": "stderr",
     "output_type": "stream",
     "text": [
      "\r",
      "run 0 with current best 0.401:  62%|██████▎   | 50/80 [00:15<00:10,  2.81it/s]"
     ]
    },
    {
     "name": "stderr",
     "output_type": "stream",
     "text": [
      "\r",
      "run 0 with current best 0.401:  64%|██████▍   | 51/80 [00:15<00:09,  2.95it/s]"
     ]
    },
    {
     "name": "stderr",
     "output_type": "stream",
     "text": [
      "\r",
      "run 0 with current best 0.401:  64%|██████▍   | 51/80 [00:15<00:09,  2.95it/s]"
     ]
    },
    {
     "name": "stderr",
     "output_type": "stream",
     "text": [
      "\r",
      "run 0 with current best 0.401:  65%|██████▌   | 52/80 [00:15<00:10,  2.55it/s]"
     ]
    },
    {
     "name": "stderr",
     "output_type": "stream",
     "text": [
      "\r",
      "run 0 with current best 0.401:  65%|██████▌   | 52/80 [00:16<00:10,  2.55it/s]"
     ]
    },
    {
     "name": "stderr",
     "output_type": "stream",
     "text": [
      "\r",
      "run 0 with current best 0.401:  66%|██████▋   | 53/80 [00:16<00:10,  2.66it/s]"
     ]
    },
    {
     "name": "stderr",
     "output_type": "stream",
     "text": [
      "\r",
      "run 0 with current best 0.401:  66%|██████▋   | 53/80 [00:16<00:10,  2.66it/s]"
     ]
    },
    {
     "name": "stderr",
     "output_type": "stream",
     "text": [
      "\r",
      "run 0 with current best 0.401:  68%|██████▊   | 54/80 [00:16<00:08,  2.93it/s]"
     ]
    },
    {
     "name": "stderr",
     "output_type": "stream",
     "text": [
      "\r",
      "run 0 with current best 0.401:  68%|██████▊   | 54/80 [00:16<00:08,  2.93it/s]"
     ]
    },
    {
     "name": "stderr",
     "output_type": "stream",
     "text": [
      "\r",
      "run 0 with current best 0.401:  69%|██████▉   | 55/80 [00:16<00:08,  3.06it/s]"
     ]
    },
    {
     "name": "stderr",
     "output_type": "stream",
     "text": [
      "\r",
      "run 0 with current best 0.401:  69%|██████▉   | 55/80 [00:17<00:08,  3.06it/s]"
     ]
    },
    {
     "name": "stderr",
     "output_type": "stream",
     "text": [
      "\r",
      "run 0 with current best 0.401:  70%|███████   | 56/80 [00:17<00:08,  2.96it/s]"
     ]
    },
    {
     "name": "stderr",
     "output_type": "stream",
     "text": [
      "\r",
      "run 0 with current best 0.401:  70%|███████   | 56/80 [00:17<00:08,  2.96it/s]"
     ]
    },
    {
     "name": "stderr",
     "output_type": "stream",
     "text": [
      "\r",
      "run 0 with current best 0.401:  71%|███████▏  | 57/80 [00:17<00:08,  2.87it/s]"
     ]
    },
    {
     "name": "stderr",
     "output_type": "stream",
     "text": [
      "\r",
      "run 0 with current best 0.401:  71%|███████▏  | 57/80 [00:17<00:08,  2.87it/s]"
     ]
    },
    {
     "name": "stderr",
     "output_type": "stream",
     "text": [
      "\r",
      "run 0 with current best 0.401:  72%|███████▎  | 58/80 [00:17<00:07,  3.08it/s]"
     ]
    },
    {
     "name": "stderr",
     "output_type": "stream",
     "text": [
      "\r",
      "run 0 with current best 0.399:  72%|███████▎  | 58/80 [00:18<00:07,  3.08it/s]"
     ]
    },
    {
     "name": "stderr",
     "output_type": "stream",
     "text": [
      "\r",
      "run 0 with current best 0.399:  74%|███████▍  | 59/80 [00:18<00:07,  3.00it/s]"
     ]
    },
    {
     "name": "stderr",
     "output_type": "stream",
     "text": [
      "\r",
      "run 0 with current best 0.399:  74%|███████▍  | 59/80 [00:18<00:07,  3.00it/s]"
     ]
    },
    {
     "name": "stderr",
     "output_type": "stream",
     "text": [
      "\r",
      "run 0 with current best 0.399:  75%|███████▌  | 60/80 [00:18<00:07,  2.79it/s]"
     ]
    },
    {
     "name": "stderr",
     "output_type": "stream",
     "text": [
      "\r",
      "run 0 with current best 0.399:  75%|███████▌  | 60/80 [00:18<00:07,  2.79it/s]"
     ]
    },
    {
     "name": "stderr",
     "output_type": "stream",
     "text": [
      "\r",
      "run 0 with current best 0.399:  76%|███████▋  | 61/80 [00:18<00:06,  2.90it/s]"
     ]
    },
    {
     "name": "stderr",
     "output_type": "stream",
     "text": [
      "\r",
      "run 0 with current best 0.399:  76%|███████▋  | 61/80 [00:19<00:06,  2.90it/s]"
     ]
    },
    {
     "name": "stderr",
     "output_type": "stream",
     "text": [
      "\r",
      "run 0 with current best 0.399:  78%|███████▊  | 62/80 [00:19<00:05,  3.08it/s]"
     ]
    },
    {
     "name": "stderr",
     "output_type": "stream",
     "text": [
      "\r",
      "run 0 with current best 0.399:  78%|███████▊  | 62/80 [00:19<00:05,  3.08it/s]"
     ]
    },
    {
     "name": "stderr",
     "output_type": "stream",
     "text": [
      "\r",
      "run 0 with current best 0.399:  79%|███████▉  | 63/80 [00:19<00:05,  3.11it/s]"
     ]
    },
    {
     "name": "stderr",
     "output_type": "stream",
     "text": [
      "\r",
      "run 0 with current best 0.399:  79%|███████▉  | 63/80 [00:19<00:05,  3.11it/s]"
     ]
    },
    {
     "name": "stderr",
     "output_type": "stream",
     "text": [
      "\r",
      "run 0 with current best 0.399:  80%|████████  | 64/80 [00:19<00:05,  2.88it/s]"
     ]
    },
    {
     "name": "stderr",
     "output_type": "stream",
     "text": [
      "\r",
      "run 0 with current best 0.399:  80%|████████  | 64/80 [00:20<00:05,  2.88it/s]"
     ]
    },
    {
     "name": "stderr",
     "output_type": "stream",
     "text": [
      "\r",
      "run 0 with current best 0.399:  81%|████████▏ | 65/80 [00:20<00:05,  2.95it/s]"
     ]
    },
    {
     "name": "stderr",
     "output_type": "stream",
     "text": [
      "\r",
      "run 0 with current best 0.399:  81%|████████▏ | 65/80 [00:20<00:05,  2.95it/s]"
     ]
    },
    {
     "name": "stderr",
     "output_type": "stream",
     "text": [
      "\r",
      "run 0 with current best 0.399:  82%|████████▎ | 66/80 [00:20<00:05,  2.77it/s]"
     ]
    },
    {
     "name": "stderr",
     "output_type": "stream",
     "text": [
      "\r",
      "run 0 with current best 0.399:  82%|████████▎ | 66/80 [00:20<00:05,  2.77it/s]"
     ]
    },
    {
     "name": "stderr",
     "output_type": "stream",
     "text": [
      "\r",
      "run 0 with current best 0.399:  84%|████████▍ | 67/80 [00:20<00:04,  2.69it/s]"
     ]
    },
    {
     "name": "stderr",
     "output_type": "stream",
     "text": [
      "\r",
      "run 0 with current best 0.399:  84%|████████▍ | 67/80 [00:21<00:04,  2.69it/s]"
     ]
    },
    {
     "name": "stderr",
     "output_type": "stream",
     "text": [
      "\r",
      "run 0 with current best 0.399:  85%|████████▌ | 68/80 [00:21<00:04,  2.73it/s]"
     ]
    },
    {
     "name": "stderr",
     "output_type": "stream",
     "text": [
      "\r",
      "run 0 with current best 0.399:  85%|████████▌ | 68/80 [00:21<00:04,  2.73it/s]"
     ]
    },
    {
     "name": "stderr",
     "output_type": "stream",
     "text": [
      "\r",
      "run 0 with current best 0.399:  86%|████████▋ | 69/80 [00:21<00:03,  2.79it/s]"
     ]
    },
    {
     "name": "stderr",
     "output_type": "stream",
     "text": [
      "\r",
      "run 0 with current best 0.399:  86%|████████▋ | 69/80 [00:21<00:03,  2.79it/s]"
     ]
    },
    {
     "name": "stderr",
     "output_type": "stream",
     "text": [
      "\r",
      "run 0 with current best 0.399:  88%|████████▊ | 70/80 [00:21<00:03,  2.72it/s]"
     ]
    },
    {
     "name": "stderr",
     "output_type": "stream",
     "text": [
      "\r",
      "run 0 with current best 0.399:  88%|████████▊ | 70/80 [00:22<00:03,  2.72it/s]"
     ]
    },
    {
     "name": "stderr",
     "output_type": "stream",
     "text": [
      "\r",
      "run 0 with current best 0.399:  89%|████████▉ | 71/80 [00:22<00:03,  2.70it/s]"
     ]
    },
    {
     "name": "stderr",
     "output_type": "stream",
     "text": [
      "\r",
      "run 0 with current best 0.399:  89%|████████▉ | 71/80 [00:22<00:03,  2.70it/s]"
     ]
    },
    {
     "name": "stderr",
     "output_type": "stream",
     "text": [
      "\r",
      "run 0 with current best 0.399:  90%|█████████ | 72/80 [00:22<00:02,  2.69it/s]"
     ]
    },
    {
     "name": "stderr",
     "output_type": "stream",
     "text": [
      "\r",
      "run 0 with current best 0.399:  90%|█████████ | 72/80 [00:23<00:02,  2.69it/s]"
     ]
    },
    {
     "name": "stderr",
     "output_type": "stream",
     "text": [
      "\r",
      "run 0 with current best 0.399:  91%|█████████▏| 73/80 [00:23<00:02,  2.66it/s]"
     ]
    },
    {
     "name": "stderr",
     "output_type": "stream",
     "text": [
      "\r",
      "run 0 with current best 0.399:  91%|█████████▏| 73/80 [00:23<00:02,  2.66it/s]"
     ]
    },
    {
     "name": "stderr",
     "output_type": "stream",
     "text": [
      "\r",
      "run 0 with current best 0.399:  92%|█████████▎| 74/80 [00:23<00:02,  2.76it/s]"
     ]
    },
    {
     "name": "stderr",
     "output_type": "stream",
     "text": [
      "\r",
      "run 0 with current best 0.399:  92%|█████████▎| 74/80 [00:23<00:02,  2.76it/s]"
     ]
    },
    {
     "name": "stderr",
     "output_type": "stream",
     "text": [
      "\r",
      "run 0 with current best 0.399:  94%|█████████▍| 75/80 [00:23<00:01,  2.97it/s]"
     ]
    },
    {
     "name": "stderr",
     "output_type": "stream",
     "text": [
      "\r",
      "run 0 with current best 0.399:  94%|█████████▍| 75/80 [00:24<00:01,  2.97it/s]"
     ]
    },
    {
     "name": "stderr",
     "output_type": "stream",
     "text": [
      "\r",
      "run 0 with current best 0.399:  95%|█████████▌| 76/80 [00:24<00:01,  2.88it/s]"
     ]
    },
    {
     "name": "stderr",
     "output_type": "stream",
     "text": [
      "\r",
      "run 0 with current best 0.399:  95%|█████████▌| 76/80 [00:24<00:01,  2.88it/s]"
     ]
    },
    {
     "name": "stderr",
     "output_type": "stream",
     "text": [
      "\r",
      "run 0 with current best 0.399:  96%|█████████▋| 77/80 [00:24<00:01,  2.86it/s]"
     ]
    },
    {
     "name": "stderr",
     "output_type": "stream",
     "text": [
      "\r",
      "run 0 with current best 0.399:  96%|█████████▋| 77/80 [00:24<00:01,  2.86it/s]"
     ]
    },
    {
     "name": "stderr",
     "output_type": "stream",
     "text": [
      "\r",
      "run 0 with current best 0.399:  98%|█████████▊| 78/80 [00:24<00:00,  3.06it/s]"
     ]
    },
    {
     "name": "stderr",
     "output_type": "stream",
     "text": [
      "\r",
      "run 0 with current best 0.399:  98%|█████████▊| 78/80 [00:24<00:00,  3.06it/s]"
     ]
    },
    {
     "name": "stderr",
     "output_type": "stream",
     "text": [
      "\r",
      "run 0 with current best 0.399:  99%|█████████▉| 79/80 [00:24<00:00,  3.25it/s]"
     ]
    },
    {
     "name": "stderr",
     "output_type": "stream",
     "text": [
      "\r",
      "run 0 with current best 0.399:  99%|█████████▉| 79/80 [00:25<00:00,  3.25it/s]"
     ]
    },
    {
     "name": "stderr",
     "output_type": "stream",
     "text": [
      "\r",
      "run 0 with current best 0.399: 100%|██████████| 80/80 [00:25<00:00,  3.36it/s]"
     ]
    },
    {
     "name": "stderr",
     "output_type": "stream",
     "text": [
      "\r",
      "run 0 with current best 0.399: 100%|██████████| 80/80 [00:25<00:00,  3.17it/s]"
     ]
    },
    {
     "name": "stderr",
     "output_type": "stream",
     "text": [
      "\n"
     ]
    },
    {
     "name": "stderr",
     "output_type": "stream",
     "text": [
      "\r",
      "  0%|          | 0/80 [00:00<?, ?it/s]"
     ]
    },
    {
     "name": "stderr",
     "output_type": "stream",
     "text": [
      "\r",
      "run 0 with current best 3.475:   0%|          | 0/80 [00:00<?, ?it/s]"
     ]
    },
    {
     "name": "stderr",
     "output_type": "stream",
     "text": [
      "\r",
      "run 0 with current best 3.475:   1%|▏         | 1/80 [00:00<00:17,  4.51it/s]"
     ]
    },
    {
     "name": "stderr",
     "output_type": "stream",
     "text": [
      "\r",
      "run 0 with current best 3.475:   1%|▏         | 1/80 [00:00<00:17,  4.51it/s]"
     ]
    },
    {
     "name": "stderr",
     "output_type": "stream",
     "text": [
      "\r",
      "run 0 with current best 3.475:   2%|▎         | 2/80 [00:00<00:17,  4.38it/s]"
     ]
    },
    {
     "name": "stderr",
     "output_type": "stream",
     "text": [
      "\r",
      "run 0 with current best 3.475:   2%|▎         | 2/80 [00:00<00:17,  4.38it/s]"
     ]
    },
    {
     "name": "stderr",
     "output_type": "stream",
     "text": [
      "\r",
      "run 0 with current best 3.475:   4%|▍         | 3/80 [00:00<00:18,  4.07it/s]"
     ]
    },
    {
     "name": "stderr",
     "output_type": "stream",
     "text": [
      "\r",
      "run 0 with current best 2.285:   4%|▍         | 3/80 [00:00<00:18,  4.07it/s]"
     ]
    },
    {
     "name": "stderr",
     "output_type": "stream",
     "text": [
      "\r",
      "run 0 with current best 2.285:   5%|▌         | 4/80 [00:00<00:19,  3.90it/s]"
     ]
    },
    {
     "name": "stderr",
     "output_type": "stream",
     "text": [
      "\r",
      "run 0 with current best 2.285:   5%|▌         | 4/80 [00:01<00:19,  3.90it/s]"
     ]
    },
    {
     "name": "stderr",
     "output_type": "stream",
     "text": [
      "\r",
      "run 0 with current best 2.285:   6%|▋         | 5/80 [00:01<00:19,  3.90it/s]"
     ]
    },
    {
     "name": "stderr",
     "output_type": "stream",
     "text": [
      "\r",
      "run 0 with current best 2.285:   6%|▋         | 5/80 [00:01<00:19,  3.90it/s]"
     ]
    },
    {
     "name": "stderr",
     "output_type": "stream",
     "text": [
      "\r",
      "run 0 with current best 2.285:   8%|▊         | 6/80 [00:01<00:17,  4.18it/s]"
     ]
    },
    {
     "name": "stderr",
     "output_type": "stream",
     "text": [
      "\r",
      "run 0 with current best 2.285:   8%|▊         | 6/80 [00:01<00:17,  4.18it/s]"
     ]
    },
    {
     "name": "stderr",
     "output_type": "stream",
     "text": [
      "\r",
      "run 0 with current best 2.285:   9%|▉         | 7/80 [00:01<00:18,  3.98it/s]"
     ]
    },
    {
     "name": "stderr",
     "output_type": "stream",
     "text": [
      "\r",
      "run 0 with current best 2.285:   9%|▉         | 7/80 [00:02<00:18,  3.98it/s]"
     ]
    },
    {
     "name": "stderr",
     "output_type": "stream",
     "text": [
      "\r",
      "run 0 with current best 2.285:  10%|█         | 8/80 [00:02<00:19,  3.71it/s]"
     ]
    },
    {
     "name": "stderr",
     "output_type": "stream",
     "text": [
      "\r",
      "run 0 with current best 1.991:  10%|█         | 8/80 [00:02<00:19,  3.71it/s]"
     ]
    },
    {
     "name": "stderr",
     "output_type": "stream",
     "text": [
      "\r",
      "run 0 with current best 1.991:  11%|█▏        | 9/80 [00:02<00:19,  3.58it/s]"
     ]
    },
    {
     "name": "stderr",
     "output_type": "stream",
     "text": [
      "\r",
      "run 0 with current best 0.450:  11%|█▏        | 9/80 [00:02<00:19,  3.58it/s]"
     ]
    },
    {
     "name": "stderr",
     "output_type": "stream",
     "text": [
      "\r",
      "run 0 with current best 0.450:  12%|█▎        | 10/80 [00:02<00:20,  3.42it/s]"
     ]
    },
    {
     "name": "stderr",
     "output_type": "stream",
     "text": [
      "\r",
      "run 0 with current best 0.450:  12%|█▎        | 10/80 [00:02<00:20,  3.42it/s]"
     ]
    },
    {
     "name": "stderr",
     "output_type": "stream",
     "text": [
      "\r",
      "run 0 with current best 0.450:  14%|█▍        | 11/80 [00:02<00:20,  3.33it/s]"
     ]
    },
    {
     "name": "stderr",
     "output_type": "stream",
     "text": [
      "\r",
      "run 0 with current best 0.448:  14%|█▍        | 11/80 [00:03<00:20,  3.33it/s]"
     ]
    },
    {
     "name": "stderr",
     "output_type": "stream",
     "text": [
      "\r",
      "run 0 with current best 0.448:  15%|█▌        | 12/80 [00:03<00:20,  3.26it/s]"
     ]
    },
    {
     "name": "stderr",
     "output_type": "stream",
     "text": [
      "\r",
      "run 0 with current best 0.448:  15%|█▌        | 12/80 [00:03<00:20,  3.26it/s]"
     ]
    },
    {
     "name": "stderr",
     "output_type": "stream",
     "text": [
      "\r",
      "run 0 with current best 0.448:  16%|█▋        | 13/80 [00:03<00:21,  3.08it/s]"
     ]
    },
    {
     "name": "stderr",
     "output_type": "stream",
     "text": [
      "\r",
      "run 0 with current best 0.448:  16%|█▋        | 13/80 [00:04<00:21,  3.08it/s]"
     ]
    },
    {
     "name": "stderr",
     "output_type": "stream",
     "text": [
      "\r",
      "run 0 with current best 0.448:  18%|█▊        | 14/80 [00:04<00:23,  2.87it/s]"
     ]
    },
    {
     "name": "stderr",
     "output_type": "stream",
     "text": [
      "\r",
      "run 0 with current best 0.431:  18%|█▊        | 14/80 [00:04<00:23,  2.87it/s]"
     ]
    },
    {
     "name": "stderr",
     "output_type": "stream",
     "text": [
      "\r",
      "run 0 with current best 0.431:  19%|█▉        | 15/80 [00:04<00:22,  2.94it/s]"
     ]
    },
    {
     "name": "stderr",
     "output_type": "stream",
     "text": [
      "\r",
      "run 0 with current best 0.431:  19%|█▉        | 15/80 [00:04<00:22,  2.94it/s]"
     ]
    },
    {
     "name": "stderr",
     "output_type": "stream",
     "text": [
      "\r",
      "run 0 with current best 0.431:  20%|██        | 16/80 [00:04<00:21,  2.98it/s]"
     ]
    },
    {
     "name": "stderr",
     "output_type": "stream",
     "text": [
      "\r",
      "run 0 with current best 0.423:  20%|██        | 16/80 [00:05<00:21,  2.98it/s]"
     ]
    },
    {
     "name": "stderr",
     "output_type": "stream",
     "text": [
      "\r",
      "run 0 with current best 0.423:  21%|██▏       | 17/80 [00:05<00:20,  3.02it/s]"
     ]
    },
    {
     "name": "stderr",
     "output_type": "stream",
     "text": [
      "\r",
      "run 0 with current best 0.423:  21%|██▏       | 17/80 [00:05<00:20,  3.02it/s]"
     ]
    },
    {
     "name": "stderr",
     "output_type": "stream",
     "text": [
      "\r",
      "run 0 with current best 0.423:  22%|██▎       | 18/80 [00:05<00:20,  2.97it/s]"
     ]
    },
    {
     "name": "stderr",
     "output_type": "stream",
     "text": [
      "\r",
      "run 0 with current best 0.423:  22%|██▎       | 18/80 [00:05<00:20,  2.97it/s]"
     ]
    },
    {
     "name": "stderr",
     "output_type": "stream",
     "text": [
      "\r",
      "run 0 with current best 0.423:  24%|██▍       | 19/80 [00:05<00:21,  2.87it/s]"
     ]
    },
    {
     "name": "stderr",
     "output_type": "stream",
     "text": [
      "\r",
      "run 0 with current best 0.411:  24%|██▍       | 19/80 [00:06<00:21,  2.87it/s]"
     ]
    },
    {
     "name": "stderr",
     "output_type": "stream",
     "text": [
      "\r",
      "run 0 with current best 0.411:  25%|██▌       | 20/80 [00:06<00:21,  2.83it/s]"
     ]
    },
    {
     "name": "stderr",
     "output_type": "stream",
     "text": [
      "\r",
      "run 0 with current best 0.411:  25%|██▌       | 20/80 [00:06<00:21,  2.83it/s]"
     ]
    },
    {
     "name": "stderr",
     "output_type": "stream",
     "text": [
      "\r",
      "run 0 with current best 0.411:  26%|██▋       | 21/80 [00:06<00:20,  2.92it/s]"
     ]
    },
    {
     "name": "stderr",
     "output_type": "stream",
     "text": [
      "\r",
      "run 0 with current best 0.411:  26%|██▋       | 21/80 [00:06<00:20,  2.92it/s]"
     ]
    },
    {
     "name": "stderr",
     "output_type": "stream",
     "text": [
      "\r",
      "run 0 with current best 0.411:  28%|██▊       | 22/80 [00:06<00:19,  2.92it/s]"
     ]
    },
    {
     "name": "stderr",
     "output_type": "stream",
     "text": [
      "\r",
      "run 0 with current best 0.411:  28%|██▊       | 22/80 [00:07<00:19,  2.92it/s]"
     ]
    },
    {
     "name": "stderr",
     "output_type": "stream",
     "text": [
      "\r",
      "run 0 with current best 0.411:  29%|██▉       | 23/80 [00:07<00:19,  3.00it/s]"
     ]
    },
    {
     "name": "stderr",
     "output_type": "stream",
     "text": [
      "\r",
      "run 0 with current best 0.401:  29%|██▉       | 23/80 [00:07<00:19,  3.00it/s]"
     ]
    },
    {
     "name": "stderr",
     "output_type": "stream",
     "text": [
      "\r",
      "run 0 with current best 0.401:  30%|███       | 24/80 [00:07<00:19,  2.91it/s]"
     ]
    },
    {
     "name": "stderr",
     "output_type": "stream",
     "text": [
      "\r",
      "run 0 with current best 0.401:  30%|███       | 24/80 [00:07<00:19,  2.91it/s]"
     ]
    },
    {
     "name": "stderr",
     "output_type": "stream",
     "text": [
      "\r",
      "run 0 with current best 0.401:  31%|███▏      | 25/80 [00:07<00:19,  2.80it/s]"
     ]
    },
    {
     "name": "stderr",
     "output_type": "stream",
     "text": [
      "\r",
      "run 0 with current best 0.401:  31%|███▏      | 25/80 [00:08<00:19,  2.80it/s]"
     ]
    },
    {
     "name": "stderr",
     "output_type": "stream",
     "text": [
      "\r",
      "run 0 with current best 0.401:  32%|███▎      | 26/80 [00:08<00:19,  2.76it/s]"
     ]
    },
    {
     "name": "stderr",
     "output_type": "stream",
     "text": [
      "\r",
      "run 0 with current best 0.401:  32%|███▎      | 26/80 [00:08<00:19,  2.76it/s]"
     ]
    },
    {
     "name": "stderr",
     "output_type": "stream",
     "text": [
      "\r",
      "run 0 with current best 0.401:  34%|███▍      | 27/80 [00:08<00:19,  2.69it/s]"
     ]
    },
    {
     "name": "stderr",
     "output_type": "stream",
     "text": [
      "\r",
      "run 0 with current best 0.401:  34%|███▍      | 27/80 [00:08<00:19,  2.69it/s]"
     ]
    },
    {
     "name": "stderr",
     "output_type": "stream",
     "text": [
      "\r",
      "run 0 with current best 0.401:  35%|███▌      | 28/80 [00:08<00:17,  2.90it/s]"
     ]
    },
    {
     "name": "stderr",
     "output_type": "stream",
     "text": [
      "\r",
      "run 0 with current best 0.401:  35%|███▌      | 28/80 [00:09<00:17,  2.90it/s]"
     ]
    },
    {
     "name": "stderr",
     "output_type": "stream",
     "text": [
      "\r",
      "run 0 with current best 0.401:  36%|███▋      | 29/80 [00:09<00:18,  2.77it/s]"
     ]
    },
    {
     "name": "stderr",
     "output_type": "stream",
     "text": [
      "\r",
      "run 0 with current best 0.401:  36%|███▋      | 29/80 [00:09<00:18,  2.77it/s]"
     ]
    },
    {
     "name": "stderr",
     "output_type": "stream",
     "text": [
      "\r",
      "run 0 with current best 0.401:  38%|███▊      | 30/80 [00:09<00:18,  2.74it/s]"
     ]
    },
    {
     "name": "stderr",
     "output_type": "stream",
     "text": [
      "\r",
      "run 0 with current best 0.401:  38%|███▊      | 30/80 [00:10<00:18,  2.74it/s]"
     ]
    },
    {
     "name": "stderr",
     "output_type": "stream",
     "text": [
      "\r",
      "run 0 with current best 0.401:  39%|███▉      | 31/80 [00:10<00:17,  2.73it/s]"
     ]
    },
    {
     "name": "stderr",
     "output_type": "stream",
     "text": [
      "\r",
      "run 0 with current best 0.401:  39%|███▉      | 31/80 [00:10<00:17,  2.73it/s]"
     ]
    },
    {
     "name": "stderr",
     "output_type": "stream",
     "text": [
      "\r",
      "run 0 with current best 0.401:  40%|████      | 32/80 [00:10<00:18,  2.62it/s]"
     ]
    },
    {
     "name": "stderr",
     "output_type": "stream",
     "text": [
      "\r",
      "run 0 with current best 0.401:  40%|████      | 32/80 [00:10<00:18,  2.62it/s]"
     ]
    },
    {
     "name": "stderr",
     "output_type": "stream",
     "text": [
      "\r",
      "run 0 with current best 0.401:  41%|████▏     | 33/80 [00:10<00:17,  2.75it/s]"
     ]
    },
    {
     "name": "stderr",
     "output_type": "stream",
     "text": [
      "\r",
      "run 0 with current best 0.401:  41%|████▏     | 33/80 [00:11<00:17,  2.75it/s]"
     ]
    },
    {
     "name": "stderr",
     "output_type": "stream",
     "text": [
      "\r",
      "run 0 with current best 0.401:  42%|████▎     | 34/80 [00:11<00:16,  2.73it/s]"
     ]
    },
    {
     "name": "stderr",
     "output_type": "stream",
     "text": [
      "\r",
      "run 0 with current best 0.401:  42%|████▎     | 34/80 [00:11<00:16,  2.73it/s]"
     ]
    },
    {
     "name": "stderr",
     "output_type": "stream",
     "text": [
      "\r",
      "run 0 with current best 0.401:  44%|████▍     | 35/80 [00:11<00:16,  2.80it/s]"
     ]
    },
    {
     "name": "stderr",
     "output_type": "stream",
     "text": [
      "\r",
      "run 0 with current best 0.401:  44%|████▍     | 35/80 [00:11<00:16,  2.80it/s]"
     ]
    },
    {
     "name": "stderr",
     "output_type": "stream",
     "text": [
      "\r",
      "run 0 with current best 0.401:  45%|████▌     | 36/80 [00:11<00:15,  2.77it/s]"
     ]
    },
    {
     "name": "stderr",
     "output_type": "stream",
     "text": [
      "\r",
      "run 0 with current best 0.401:  45%|████▌     | 36/80 [00:12<00:15,  2.77it/s]"
     ]
    },
    {
     "name": "stderr",
     "output_type": "stream",
     "text": [
      "\r",
      "run 0 with current best 0.401:  46%|████▋     | 37/80 [00:12<00:15,  2.71it/s]"
     ]
    },
    {
     "name": "stderr",
     "output_type": "stream",
     "text": [
      "\r",
      "run 0 with current best 0.401:  46%|████▋     | 37/80 [00:12<00:15,  2.71it/s]"
     ]
    },
    {
     "name": "stderr",
     "output_type": "stream",
     "text": [
      "\r",
      "run 0 with current best 0.401:  48%|████▊     | 38/80 [00:12<00:17,  2.44it/s]"
     ]
    },
    {
     "name": "stderr",
     "output_type": "stream",
     "text": [
      "\r",
      "run 0 with current best 0.401:  48%|████▊     | 38/80 [00:13<00:17,  2.44it/s]"
     ]
    },
    {
     "name": "stderr",
     "output_type": "stream",
     "text": [
      "\r",
      "run 0 with current best 0.401:  49%|████▉     | 39/80 [00:13<00:16,  2.45it/s]"
     ]
    },
    {
     "name": "stderr",
     "output_type": "stream",
     "text": [
      "\r",
      "run 0 with current best 0.401:  49%|████▉     | 39/80 [00:13<00:16,  2.45it/s]"
     ]
    },
    {
     "name": "stderr",
     "output_type": "stream",
     "text": [
      "\r",
      "run 0 with current best 0.401:  50%|█████     | 40/80 [00:13<00:16,  2.37it/s]"
     ]
    },
    {
     "name": "stderr",
     "output_type": "stream",
     "text": [
      "\r",
      "run 0 with current best 0.401:  50%|█████     | 40/80 [00:13<00:16,  2.37it/s]"
     ]
    },
    {
     "name": "stderr",
     "output_type": "stream",
     "text": [
      "\r",
      "run 0 with current best 0.401:  51%|█████▏    | 41/80 [00:13<00:15,  2.48it/s]"
     ]
    },
    {
     "name": "stderr",
     "output_type": "stream",
     "text": [
      "\r",
      "run 0 with current best 0.401:  51%|█████▏    | 41/80 [00:14<00:15,  2.48it/s]"
     ]
    },
    {
     "name": "stderr",
     "output_type": "stream",
     "text": [
      "\r",
      "run 0 with current best 0.401:  52%|█████▎    | 42/80 [00:14<00:13,  2.73it/s]"
     ]
    },
    {
     "name": "stderr",
     "output_type": "stream",
     "text": [
      "\r",
      "run 0 with current best 0.401:  52%|█████▎    | 42/80 [00:14<00:13,  2.73it/s]"
     ]
    },
    {
     "name": "stderr",
     "output_type": "stream",
     "text": [
      "\r",
      "run 0 with current best 0.401:  54%|█████▍    | 43/80 [00:14<00:13,  2.70it/s]"
     ]
    },
    {
     "name": "stderr",
     "output_type": "stream",
     "text": [
      "\r",
      "run 0 with current best 0.401:  54%|█████▍    | 43/80 [00:15<00:13,  2.70it/s]"
     ]
    },
    {
     "name": "stderr",
     "output_type": "stream",
     "text": [
      "\r",
      "run 0 with current best 0.401:  55%|█████▌    | 44/80 [00:15<00:13,  2.59it/s]"
     ]
    },
    {
     "name": "stderr",
     "output_type": "stream",
     "text": [
      "\r",
      "run 0 with current best 0.401:  55%|█████▌    | 44/80 [00:15<00:13,  2.59it/s]"
     ]
    },
    {
     "name": "stderr",
     "output_type": "stream",
     "text": [
      "\r",
      "run 0 with current best 0.401:  56%|█████▋    | 45/80 [00:15<00:15,  2.21it/s]"
     ]
    },
    {
     "name": "stderr",
     "output_type": "stream",
     "text": [
      "\r",
      "run 0 with current best 0.401:  56%|█████▋    | 45/80 [00:16<00:15,  2.21it/s]"
     ]
    },
    {
     "name": "stderr",
     "output_type": "stream",
     "text": [
      "\r",
      "run 0 with current best 0.401:  57%|█████▊    | 46/80 [00:16<00:15,  2.14it/s]"
     ]
    },
    {
     "name": "stderr",
     "output_type": "stream",
     "text": [
      "\r",
      "run 0 with current best 0.401:  57%|█████▊    | 46/80 [00:16<00:15,  2.14it/s]"
     ]
    },
    {
     "name": "stderr",
     "output_type": "stream",
     "text": [
      "\r",
      "run 0 with current best 0.401:  59%|█████▉    | 47/80 [00:16<00:15,  2.20it/s]"
     ]
    },
    {
     "name": "stderr",
     "output_type": "stream",
     "text": [
      "\r",
      "run 0 with current best 0.401:  59%|█████▉    | 47/80 [00:17<00:15,  2.20it/s]"
     ]
    },
    {
     "name": "stderr",
     "output_type": "stream",
     "text": [
      "\r",
      "run 0 with current best 0.401:  60%|██████    | 48/80 [00:17<00:14,  2.16it/s]"
     ]
    },
    {
     "name": "stderr",
     "output_type": "stream",
     "text": [
      "\r",
      "run 0 with current best 0.401:  60%|██████    | 48/80 [00:17<00:14,  2.16it/s]"
     ]
    },
    {
     "name": "stderr",
     "output_type": "stream",
     "text": [
      "\r",
      "run 0 with current best 0.401:  61%|██████▏   | 49/80 [00:17<00:13,  2.34it/s]"
     ]
    },
    {
     "name": "stderr",
     "output_type": "stream",
     "text": [
      "\r",
      "run 0 with current best 0.401:  61%|██████▏   | 49/80 [00:17<00:13,  2.34it/s]"
     ]
    },
    {
     "name": "stderr",
     "output_type": "stream",
     "text": [
      "\r",
      "run 0 with current best 0.401:  62%|██████▎   | 50/80 [00:17<00:12,  2.36it/s]"
     ]
    },
    {
     "name": "stderr",
     "output_type": "stream",
     "text": [
      "\r",
      "run 0 with current best 0.401:  62%|██████▎   | 50/80 [00:18<00:12,  2.36it/s]"
     ]
    },
    {
     "name": "stderr",
     "output_type": "stream",
     "text": [
      "\r",
      "run 0 with current best 0.401:  64%|██████▍   | 51/80 [00:18<00:12,  2.36it/s]"
     ]
    },
    {
     "name": "stderr",
     "output_type": "stream",
     "text": [
      "\r",
      "run 0 with current best 0.401:  64%|██████▍   | 51/80 [00:18<00:12,  2.36it/s]"
     ]
    },
    {
     "name": "stderr",
     "output_type": "stream",
     "text": [
      "\r",
      "run 0 with current best 0.401:  65%|██████▌   | 52/80 [00:18<00:11,  2.37it/s]"
     ]
    },
    {
     "name": "stderr",
     "output_type": "stream",
     "text": [
      "\r",
      "run 0 with current best 0.401:  65%|██████▌   | 52/80 [00:19<00:11,  2.37it/s]"
     ]
    },
    {
     "name": "stderr",
     "output_type": "stream",
     "text": [
      "\r",
      "run 0 with current best 0.401:  66%|██████▋   | 53/80 [00:19<00:12,  2.22it/s]"
     ]
    },
    {
     "name": "stderr",
     "output_type": "stream",
     "text": [
      "\r",
      "run 0 with current best 0.401:  66%|██████▋   | 53/80 [00:19<00:12,  2.22it/s]"
     ]
    },
    {
     "name": "stderr",
     "output_type": "stream",
     "text": [
      "\r",
      "run 0 with current best 0.401:  68%|██████▊   | 54/80 [00:19<00:12,  2.12it/s]"
     ]
    },
    {
     "name": "stderr",
     "output_type": "stream",
     "text": [
      "\r",
      "run 0 with current best 0.401:  68%|██████▊   | 54/80 [00:20<00:12,  2.12it/s]"
     ]
    },
    {
     "name": "stderr",
     "output_type": "stream",
     "text": [
      "\r",
      "run 0 with current best 0.401:  69%|██████▉   | 55/80 [00:20<00:11,  2.18it/s]"
     ]
    },
    {
     "name": "stderr",
     "output_type": "stream",
     "text": [
      "\r",
      "run 0 with current best 0.399:  69%|██████▉   | 55/80 [00:20<00:11,  2.18it/s]"
     ]
    },
    {
     "name": "stderr",
     "output_type": "stream",
     "text": [
      "\r",
      "run 0 with current best 0.399:  70%|███████   | 56/80 [00:20<00:10,  2.26it/s]"
     ]
    },
    {
     "name": "stderr",
     "output_type": "stream",
     "text": [
      "\r",
      "run 0 with current best 0.399:  70%|███████   | 56/80 [00:20<00:10,  2.26it/s]"
     ]
    },
    {
     "name": "stderr",
     "output_type": "stream",
     "text": [
      "\r",
      "run 0 with current best 0.399:  71%|███████▏  | 57/80 [00:20<00:09,  2.51it/s]"
     ]
    },
    {
     "name": "stderr",
     "output_type": "stream",
     "text": [
      "\r",
      "run 0 with current best 0.399:  71%|███████▏  | 57/80 [00:21<00:09,  2.51it/s]"
     ]
    },
    {
     "name": "stderr",
     "output_type": "stream",
     "text": [
      "\r",
      "run 0 with current best 0.399:  72%|███████▎  | 58/80 [00:21<00:08,  2.55it/s]"
     ]
    },
    {
     "name": "stderr",
     "output_type": "stream",
     "text": [
      "\r",
      "run 0 with current best 0.399:  72%|███████▎  | 58/80 [00:21<00:08,  2.55it/s]"
     ]
    },
    {
     "name": "stderr",
     "output_type": "stream",
     "text": [
      "\r",
      "run 0 with current best 0.399:  74%|███████▍  | 59/80 [00:21<00:08,  2.39it/s]"
     ]
    },
    {
     "name": "stderr",
     "output_type": "stream",
     "text": [
      "\r",
      "run 0 with current best 0.398:  74%|███████▍  | 59/80 [00:22<00:08,  2.39it/s]"
     ]
    },
    {
     "name": "stderr",
     "output_type": "stream",
     "text": [
      "\r",
      "run 0 with current best 0.398:  75%|███████▌  | 60/80 [00:22<00:08,  2.42it/s]"
     ]
    },
    {
     "name": "stderr",
     "output_type": "stream",
     "text": [
      "\r",
      "run 0 with current best 0.398:  75%|███████▌  | 60/80 [00:22<00:08,  2.42it/s]"
     ]
    },
    {
     "name": "stderr",
     "output_type": "stream",
     "text": [
      "\r",
      "run 0 with current best 0.398:  76%|███████▋  | 61/80 [00:22<00:07,  2.44it/s]"
     ]
    },
    {
     "name": "stderr",
     "output_type": "stream",
     "text": [
      "\r",
      "run 0 with current best 0.398:  76%|███████▋  | 61/80 [00:23<00:07,  2.44it/s]"
     ]
    },
    {
     "name": "stderr",
     "output_type": "stream",
     "text": [
      "\r",
      "run 0 with current best 0.398:  78%|███████▊  | 62/80 [00:23<00:08,  2.19it/s]"
     ]
    },
    {
     "name": "stderr",
     "output_type": "stream",
     "text": [
      "\r",
      "run 0 with current best 0.398:  78%|███████▊  | 62/80 [00:23<00:08,  2.19it/s]"
     ]
    },
    {
     "name": "stderr",
     "output_type": "stream",
     "text": [
      "\r",
      "run 0 with current best 0.398:  79%|███████▉  | 63/80 [00:23<00:08,  2.05it/s]"
     ]
    },
    {
     "name": "stderr",
     "output_type": "stream",
     "text": [
      "\r",
      "run 0 with current best 0.398:  79%|███████▉  | 63/80 [00:24<00:08,  2.05it/s]"
     ]
    },
    {
     "name": "stderr",
     "output_type": "stream",
     "text": [
      "\r",
      "run 0 with current best 0.398:  80%|████████  | 64/80 [00:24<00:07,  2.18it/s]"
     ]
    },
    {
     "name": "stderr",
     "output_type": "stream",
     "text": [
      "\r",
      "run 0 with current best 0.398:  80%|████████  | 64/80 [00:24<00:07,  2.18it/s]"
     ]
    },
    {
     "name": "stderr",
     "output_type": "stream",
     "text": [
      "\r",
      "run 0 with current best 0.398:  81%|████████▏ | 65/80 [00:24<00:06,  2.28it/s]"
     ]
    },
    {
     "name": "stderr",
     "output_type": "stream",
     "text": [
      "\r",
      "run 0 with current best 0.398:  81%|████████▏ | 65/80 [00:24<00:06,  2.28it/s]"
     ]
    },
    {
     "name": "stderr",
     "output_type": "stream",
     "text": [
      "\r",
      "run 0 with current best 0.398:  82%|████████▎ | 66/80 [00:24<00:06,  2.28it/s]"
     ]
    },
    {
     "name": "stderr",
     "output_type": "stream",
     "text": [
      "\r",
      "run 0 with current best 0.398:  82%|████████▎ | 66/80 [00:25<00:06,  2.28it/s]"
     ]
    },
    {
     "name": "stderr",
     "output_type": "stream",
     "text": [
      "\r",
      "run 0 with current best 0.398:  84%|████████▍ | 67/80 [00:25<00:05,  2.31it/s]"
     ]
    },
    {
     "name": "stderr",
     "output_type": "stream",
     "text": [
      "\r",
      "run 0 with current best 0.398:  84%|████████▍ | 67/80 [00:25<00:05,  2.31it/s]"
     ]
    },
    {
     "name": "stderr",
     "output_type": "stream",
     "text": [
      "\r",
      "run 0 with current best 0.398:  85%|████████▌ | 68/80 [00:25<00:05,  2.33it/s]"
     ]
    },
    {
     "name": "stderr",
     "output_type": "stream",
     "text": [
      "\r",
      "run 0 with current best 0.398:  85%|████████▌ | 68/80 [00:26<00:05,  2.33it/s]"
     ]
    },
    {
     "name": "stderr",
     "output_type": "stream",
     "text": [
      "\r",
      "run 0 with current best 0.398:  86%|████████▋ | 69/80 [00:26<00:04,  2.42it/s]"
     ]
    },
    {
     "name": "stderr",
     "output_type": "stream",
     "text": [
      "\r",
      "run 0 with current best 0.398:  86%|████████▋ | 69/80 [00:26<00:04,  2.42it/s]"
     ]
    },
    {
     "name": "stderr",
     "output_type": "stream",
     "text": [
      "\r",
      "run 0 with current best 0.398:  88%|████████▊ | 70/80 [00:26<00:04,  2.45it/s]"
     ]
    },
    {
     "name": "stderr",
     "output_type": "stream",
     "text": [
      "\r",
      "run 0 with current best 0.398:  88%|████████▊ | 70/80 [00:27<00:04,  2.45it/s]"
     ]
    },
    {
     "name": "stderr",
     "output_type": "stream",
     "text": [
      "\r",
      "run 0 with current best 0.398:  89%|████████▉ | 71/80 [00:27<00:04,  2.16it/s]"
     ]
    },
    {
     "name": "stderr",
     "output_type": "stream",
     "text": [
      "\r",
      "run 0 with current best 0.398:  89%|████████▉ | 71/80 [00:27<00:04,  2.16it/s]"
     ]
    },
    {
     "name": "stderr",
     "output_type": "stream",
     "text": [
      "\r",
      "run 0 with current best 0.398:  90%|█████████ | 72/80 [00:27<00:03,  2.23it/s]"
     ]
    },
    {
     "name": "stderr",
     "output_type": "stream",
     "text": [
      "\r",
      "run 0 with current best 0.398:  90%|█████████ | 72/80 [00:27<00:03,  2.23it/s]"
     ]
    },
    {
     "name": "stderr",
     "output_type": "stream",
     "text": [
      "\r",
      "run 0 with current best 0.398:  91%|█████████▏| 73/80 [00:27<00:02,  2.39it/s]"
     ]
    },
    {
     "name": "stderr",
     "output_type": "stream",
     "text": [
      "\r",
      "run 0 with current best 0.398:  91%|█████████▏| 73/80 [00:28<00:02,  2.39it/s]"
     ]
    },
    {
     "name": "stderr",
     "output_type": "stream",
     "text": [
      "\r",
      "run 0 with current best 0.398:  92%|█████████▎| 74/80 [00:28<00:02,  2.26it/s]"
     ]
    },
    {
     "name": "stderr",
     "output_type": "stream",
     "text": [
      "\r",
      "run 0 with current best 0.398:  92%|█████████▎| 74/80 [00:28<00:02,  2.26it/s]"
     ]
    },
    {
     "name": "stderr",
     "output_type": "stream",
     "text": [
      "\r",
      "run 0 with current best 0.398:  94%|█████████▍| 75/80 [00:28<00:02,  2.30it/s]"
     ]
    },
    {
     "name": "stderr",
     "output_type": "stream",
     "text": [
      "\r",
      "run 0 with current best 0.398:  94%|█████████▍| 75/80 [00:29<00:02,  2.30it/s]"
     ]
    },
    {
     "name": "stderr",
     "output_type": "stream",
     "text": [
      "\r",
      "run 0 with current best 0.398:  95%|█████████▌| 76/80 [00:29<00:01,  2.37it/s]"
     ]
    },
    {
     "name": "stderr",
     "output_type": "stream",
     "text": [
      "\r",
      "run 0 with current best 0.398:  95%|█████████▌| 76/80 [00:29<00:01,  2.37it/s]"
     ]
    },
    {
     "name": "stderr",
     "output_type": "stream",
     "text": [
      "\r",
      "run 0 with current best 0.398:  96%|█████████▋| 77/80 [00:29<00:01,  2.27it/s]"
     ]
    },
    {
     "name": "stderr",
     "output_type": "stream",
     "text": [
      "\r",
      "run 0 with current best 0.398:  96%|█████████▋| 77/80 [00:30<00:01,  2.27it/s]"
     ]
    },
    {
     "name": "stderr",
     "output_type": "stream",
     "text": [
      "\r",
      "run 0 with current best 0.398:  98%|█████████▊| 78/80 [00:30<00:00,  2.17it/s]"
     ]
    },
    {
     "name": "stderr",
     "output_type": "stream",
     "text": [
      "\r",
      "run 0 with current best 0.398:  98%|█████████▊| 78/80 [00:30<00:00,  2.17it/s]"
     ]
    },
    {
     "name": "stderr",
     "output_type": "stream",
     "text": [
      "\r",
      "run 0 with current best 0.398:  99%|█████████▉| 79/80 [00:30<00:00,  2.24it/s]"
     ]
    },
    {
     "name": "stderr",
     "output_type": "stream",
     "text": [
      "\r",
      "run 0 with current best 0.398:  99%|█████████▉| 79/80 [00:31<00:00,  2.24it/s]"
     ]
    },
    {
     "name": "stderr",
     "output_type": "stream",
     "text": [
      "\r",
      "run 0 with current best 0.398: 100%|██████████| 80/80 [00:31<00:00,  2.15it/s]"
     ]
    },
    {
     "name": "stderr",
     "output_type": "stream",
     "text": [
      "\r",
      "run 0 with current best 0.398: 100%|██████████| 80/80 [00:31<00:00,  2.58it/s]"
     ]
    },
    {
     "name": "stderr",
     "output_type": "stream",
     "text": [
      "\n"
     ]
    },
    {
     "name": "stderr",
     "output_type": "stream",
     "text": [
      "\r",
      "  0%|          | 0/80 [00:00<?, ?it/s]"
     ]
    },
    {
     "name": "stderr",
     "output_type": "stream",
     "text": [
      "\r",
      "run 0 with current best 0.611:   0%|          | 0/80 [00:00<?, ?it/s]"
     ]
    },
    {
     "name": "stderr",
     "output_type": "stream",
     "text": [
      "\r",
      "run 0 with current best 0.611:   1%|▏         | 1/80 [00:00<00:15,  4.97it/s]"
     ]
    },
    {
     "name": "stderr",
     "output_type": "stream",
     "text": [
      "\r",
      "run 0 with current best 0.611:   1%|▏         | 1/80 [00:00<00:15,  4.97it/s]"
     ]
    },
    {
     "name": "stderr",
     "output_type": "stream",
     "text": [
      "\r",
      "run 0 with current best 0.611:   2%|▎         | 2/80 [00:00<00:16,  4.80it/s]"
     ]
    },
    {
     "name": "stderr",
     "output_type": "stream",
     "text": [
      "\r",
      "run 0 with current best 0.611:   2%|▎         | 2/80 [00:00<00:16,  4.80it/s]"
     ]
    },
    {
     "name": "stderr",
     "output_type": "stream",
     "text": [
      "\r",
      "run 0 with current best 0.611:   4%|▍         | 3/80 [00:00<00:15,  4.96it/s]"
     ]
    },
    {
     "name": "stderr",
     "output_type": "stream",
     "text": [
      "\r",
      "run 0 with current best 0.611:   4%|▍         | 3/80 [00:00<00:15,  4.96it/s]"
     ]
    },
    {
     "name": "stderr",
     "output_type": "stream",
     "text": [
      "\r",
      "run 0 with current best 0.611:   5%|▌         | 4/80 [00:00<00:15,  4.98it/s]"
     ]
    },
    {
     "name": "stderr",
     "output_type": "stream",
     "text": [
      "\r",
      "run 0 with current best 0.611:   5%|▌         | 4/80 [00:01<00:15,  4.98it/s]"
     ]
    },
    {
     "name": "stderr",
     "output_type": "stream",
     "text": [
      "\r",
      "run 0 with current best 0.611:   6%|▋         | 5/80 [00:01<00:16,  4.65it/s]"
     ]
    },
    {
     "name": "stderr",
     "output_type": "stream",
     "text": [
      "\r",
      "run 0 with current best 0.611:   6%|▋         | 5/80 [00:01<00:16,  4.65it/s]"
     ]
    },
    {
     "name": "stderr",
     "output_type": "stream",
     "text": [
      "\r",
      "run 0 with current best 0.611:   8%|▊         | 6/80 [00:01<00:16,  4.43it/s]"
     ]
    },
    {
     "name": "stderr",
     "output_type": "stream",
     "text": [
      "\r",
      "run 0 with current best 0.611:   8%|▊         | 6/80 [00:01<00:16,  4.43it/s]"
     ]
    },
    {
     "name": "stderr",
     "output_type": "stream",
     "text": [
      "\r",
      "run 0 with current best 0.611:   9%|▉         | 7/80 [00:01<00:16,  4.35it/s]"
     ]
    },
    {
     "name": "stderr",
     "output_type": "stream",
     "text": [
      "\r",
      "run 0 with current best 0.611:   9%|▉         | 7/80 [00:01<00:16,  4.35it/s]"
     ]
    },
    {
     "name": "stderr",
     "output_type": "stream",
     "text": [
      "\r",
      "run 0 with current best 0.611:  10%|█         | 8/80 [00:01<00:16,  4.37it/s]"
     ]
    },
    {
     "name": "stderr",
     "output_type": "stream",
     "text": [
      "\r",
      "run 0 with current best 0.611:  10%|█         | 8/80 [00:02<00:16,  4.37it/s]"
     ]
    },
    {
     "name": "stderr",
     "output_type": "stream",
     "text": [
      "\r",
      "run 0 with current best 0.611:  11%|█▏        | 9/80 [00:02<00:19,  3.68it/s]"
     ]
    },
    {
     "name": "stderr",
     "output_type": "stream",
     "text": [
      "\r",
      "run 0 with current best 0.424:  11%|█▏        | 9/80 [00:02<00:19,  3.68it/s]"
     ]
    },
    {
     "name": "stderr",
     "output_type": "stream",
     "text": [
      "\r",
      "run 0 with current best 0.424:  12%|█▎        | 10/80 [00:02<00:19,  3.60it/s]"
     ]
    },
    {
     "name": "stderr",
     "output_type": "stream",
     "text": [
      "\r",
      "run 0 with current best 0.424:  12%|█▎        | 10/80 [00:02<00:19,  3.60it/s]"
     ]
    },
    {
     "name": "stderr",
     "output_type": "stream",
     "text": [
      "\r",
      "run 0 with current best 0.424:  14%|█▍        | 11/80 [00:02<00:18,  3.65it/s]"
     ]
    },
    {
     "name": "stderr",
     "output_type": "stream",
     "text": [
      "\r",
      "run 0 with current best 0.424:  14%|█▍        | 11/80 [00:02<00:18,  3.65it/s]"
     ]
    },
    {
     "name": "stderr",
     "output_type": "stream",
     "text": [
      "\r",
      "run 0 with current best 0.424:  15%|█▌        | 12/80 [00:02<00:19,  3.48it/s]"
     ]
    },
    {
     "name": "stderr",
     "output_type": "stream",
     "text": [
      "\r",
      "run 0 with current best 0.414:  15%|█▌        | 12/80 [00:03<00:19,  3.48it/s]"
     ]
    },
    {
     "name": "stderr",
     "output_type": "stream",
     "text": [
      "\r",
      "run 0 with current best 0.414:  16%|█▋        | 13/80 [00:03<00:18,  3.62it/s]"
     ]
    },
    {
     "name": "stderr",
     "output_type": "stream",
     "text": [
      "\r",
      "run 0 with current best 0.414:  16%|█▋        | 13/80 [00:03<00:18,  3.62it/s]"
     ]
    },
    {
     "name": "stderr",
     "output_type": "stream",
     "text": [
      "\r",
      "run 0 with current best 0.414:  18%|█▊        | 14/80 [00:03<00:16,  3.91it/s]"
     ]
    },
    {
     "name": "stderr",
     "output_type": "stream",
     "text": [
      "\r",
      "run 0 with current best 0.414:  18%|█▊        | 14/80 [00:03<00:16,  3.91it/s]"
     ]
    },
    {
     "name": "stderr",
     "output_type": "stream",
     "text": [
      "\r",
      "run 0 with current best 0.414:  19%|█▉        | 15/80 [00:03<00:16,  3.91it/s]"
     ]
    },
    {
     "name": "stderr",
     "output_type": "stream",
     "text": [
      "\r",
      "run 0 with current best 0.414:  19%|█▉        | 15/80 [00:03<00:16,  3.91it/s]"
     ]
    },
    {
     "name": "stderr",
     "output_type": "stream",
     "text": [
      "\r",
      "run 0 with current best 0.414:  20%|██        | 16/80 [00:03<00:16,  3.94it/s]"
     ]
    },
    {
     "name": "stderr",
     "output_type": "stream",
     "text": [
      "\r",
      "run 0 with current best 0.414:  20%|██        | 16/80 [00:04<00:16,  3.94it/s]"
     ]
    },
    {
     "name": "stderr",
     "output_type": "stream",
     "text": [
      "\r",
      "run 0 with current best 0.414:  21%|██▏       | 17/80 [00:04<00:15,  4.12it/s]"
     ]
    },
    {
     "name": "stderr",
     "output_type": "stream",
     "text": [
      "\r",
      "run 0 with current best 0.414:  21%|██▏       | 17/80 [00:04<00:15,  4.12it/s]"
     ]
    },
    {
     "name": "stderr",
     "output_type": "stream",
     "text": [
      "\r",
      "run 0 with current best 0.414:  22%|██▎       | 18/80 [00:04<00:16,  3.84it/s]"
     ]
    },
    {
     "name": "stderr",
     "output_type": "stream",
     "text": [
      "\r",
      "run 0 with current best 0.414:  22%|██▎       | 18/80 [00:04<00:16,  3.84it/s]"
     ]
    },
    {
     "name": "stderr",
     "output_type": "stream",
     "text": [
      "\r",
      "run 0 with current best 0.414:  24%|██▍       | 19/80 [00:04<00:17,  3.46it/s]"
     ]
    },
    {
     "name": "stderr",
     "output_type": "stream",
     "text": [
      "\r",
      "run 0 with current best 0.414:  24%|██▍       | 19/80 [00:05<00:17,  3.46it/s]"
     ]
    },
    {
     "name": "stderr",
     "output_type": "stream",
     "text": [
      "\r",
      "run 0 with current best 0.414:  25%|██▌       | 20/80 [00:05<00:18,  3.25it/s]"
     ]
    },
    {
     "name": "stderr",
     "output_type": "stream",
     "text": [
      "\r",
      "run 0 with current best 0.414:  25%|██▌       | 20/80 [00:05<00:18,  3.25it/s]"
     ]
    },
    {
     "name": "stderr",
     "output_type": "stream",
     "text": [
      "\r",
      "run 0 with current best 0.414:  26%|██▋       | 21/80 [00:05<00:18,  3.13it/s]"
     ]
    },
    {
     "name": "stderr",
     "output_type": "stream",
     "text": [
      "\r",
      "run 0 with current best 0.400:  26%|██▋       | 21/80 [00:05<00:18,  3.13it/s]"
     ]
    },
    {
     "name": "stderr",
     "output_type": "stream",
     "text": [
      "\r",
      "run 0 with current best 0.400:  28%|██▊       | 22/80 [00:05<00:19,  3.05it/s]"
     ]
    },
    {
     "name": "stderr",
     "output_type": "stream",
     "text": [
      "\r",
      "run 0 with current best 0.400:  28%|██▊       | 22/80 [00:06<00:19,  3.05it/s]"
     ]
    }
   ],
   "source": [
    "sobo_results = [\n",
    "    run(\n",
    "        Branin(locality_factor=0.5),\n",
    "        strategy_factory=lambda domain: strategies.map(\n",
    "            SoboStrategy(domain=domain, acquisition_function=qLogEI())\n",
    "        ),\n",
    "        n_iterations=80,\n",
    "        metric=best,\n",
    "        initial_sampler=sample,\n",
    "        n_runs=1,\n",
    "        n_procs=1,\n",
    "    )\n",
    "    for _ in range(5)\n",
    "]"
   ]
  },
  {
   "cell_type": "markdown",
   "id": "7",
   "metadata": {
    "papermill": {
     "duration": null,
     "end_time": null,
     "exception": null,
     "start_time": null,
     "status": "pending"
    },
    "tags": []
   },
   "source": [
    "## Local SOBO Optimization\n",
    "Here bayesian optimization is performed with setting `gamma` parameter of the LSR-BO method to 0 which results in a pure local optimization with respect to the last random sample."
   ]
  },
  {
   "cell_type": "code",
   "execution_count": null,
   "id": "8",
   "metadata": {
    "papermill": {
     "duration": null,
     "end_time": null,
     "exception": null,
     "start_time": null,
     "status": "pending"
    },
    "tags": []
   },
   "outputs": [],
   "source": [
    "local_results = [\n",
    "    run(\n",
    "        Branin(locality_factor=0.5),\n",
    "        strategy_factory=lambda domain: strategies.map(\n",
    "            SoboStrategy(\n",
    "                domain=domain,\n",
    "                acquisition_function=qLogEI(),\n",
    "                local_search_config=LSRBO(gamma=0),\n",
    "            )\n",
    "        ),\n",
    "        n_iterations=80,\n",
    "        metric=best,\n",
    "        initial_sampler=sample,\n",
    "        n_runs=1,\n",
    "        n_procs=1,\n",
    "    )\n",
    "    for _ in range(5)\n",
    "]"
   ]
  },
  {
   "cell_type": "markdown",
   "id": "9",
   "metadata": {
    "papermill": {
     "duration": null,
     "end_time": null,
     "exception": null,
     "start_time": null,
     "status": "pending"
    },
    "tags": []
   },
   "source": [
    "## Global SOBO Optimization (Projection)\n",
    "Here bayesian optimization is performed with setting `gamma` parameter of the LSR-BO method to 500 which results in taking always the biggest step in the direction of the global candidate. In the original paper, this is called \"Projection\"."
   ]
  },
  {
   "cell_type": "code",
   "execution_count": null,
   "id": "10",
   "metadata": {
    "papermill": {
     "duration": null,
     "end_time": null,
     "exception": null,
     "start_time": null,
     "status": "pending"
    },
    "tags": []
   },
   "outputs": [],
   "source": [
    "global_results = [\n",
    "    run(\n",
    "        Branin(locality_factor=0.5),\n",
    "        strategy_factory=lambda domain: strategies.map(\n",
    "            SoboStrategy(\n",
    "                domain=domain,\n",
    "                acquisition_function=qLogEI(),\n",
    "                local_search_config=LSRBO(gamma=500),\n",
    "            )\n",
    "        ),\n",
    "        n_iterations=80,\n",
    "        metric=best,\n",
    "        initial_sampler=sample,\n",
    "        n_runs=1,\n",
    "        n_procs=1,\n",
    "    )\n",
    "    for _ in range(5)\n",
    "]"
   ]
  },
  {
   "cell_type": "markdown",
   "id": "11",
   "metadata": {
    "papermill": {
     "duration": null,
     "end_time": null,
     "exception": null,
     "start_time": null,
     "status": "pending"
    },
    "tags": []
   },
   "source": [
    "## LSR-BO\n",
    "Here the actual method from the paper is performed with setting `gamma` to 0.1."
   ]
  },
  {
   "cell_type": "code",
   "execution_count": null,
   "id": "12",
   "metadata": {
    "papermill": {
     "duration": null,
     "end_time": null,
     "exception": null,
     "start_time": null,
     "status": "pending"
    },
    "tags": []
   },
   "outputs": [],
   "source": [
    "lsr_results = [\n",
    "    run(\n",
    "        Branin(locality_factor=0.5),\n",
    "        strategy_factory=lambda domain: strategies.map(\n",
    "            SoboStrategy(\n",
    "                domain=domain,\n",
    "                acquisition_function=qLogEI(),\n",
    "                local_search_config=LSRBO(gamma=0.1),\n",
    "            )\n",
    "        ),\n",
    "        n_iterations=80,\n",
    "        metric=best,\n",
    "        initial_sampler=sample,\n",
    "        n_runs=1,\n",
    "        n_procs=1,\n",
    "    )\n",
    "    for _ in range(5)\n",
    "]"
   ]
  },
  {
   "cell_type": "markdown",
   "id": "13",
   "metadata": {
    "papermill": {
     "duration": null,
     "end_time": null,
     "exception": null,
     "start_time": null,
     "status": "pending"
    },
    "tags": []
   },
   "source": [
    "## Plot the results"
   ]
  },
  {
   "cell_type": "code",
   "execution_count": null,
   "id": "14",
   "metadata": {
    "papermill": {
     "duration": null,
     "end_time": null,
     "exception": null,
     "start_time": null,
     "status": "pending"
    },
    "tags": []
   },
   "outputs": [],
   "source": [
    "import matplotlib.pyplot as plt\n",
    "import numpy as np\n",
    "\n",
    "\n",
    "fig, ax = plt.subplots()\n",
    "\n",
    "best_random = np.array([random_results[i][0][1] for i in range(len(random_results))])\n",
    "ax.plot(range(0, 80), best_random.mean(axis=0), color=\"gray\", label=\"Random\")\n",
    "ax.fill_between(\n",
    "    range(0, 80),\n",
    "    (best_random.mean(0) - best_random.std(0)),\n",
    "    (best_random.mean(0) + best_random.std(0)),\n",
    "    alpha=0.3,\n",
    "    color=\"gray\",\n",
    ")\n",
    "\n",
    "best_global = np.log10(\n",
    "    np.array([global_results[i][0][1] for i in range(len(global_results))]) - 0.397887\n",
    ")\n",
    "ax.plot(range(0, 80), best_global.mean(axis=0), color=\"orange\", label=\"Projection\")\n",
    "ax.fill_between(\n",
    "    range(0, 80),\n",
    "    (best_global.mean(0) - best_global.std(0)),\n",
    "    (best_global.mean(0) + best_global.std(0)),\n",
    "    alpha=0.3,\n",
    "    color=\"orange\",\n",
    ")\n",
    "\n",
    "best_local = np.log10(\n",
    "    np.array([local_results[i][0][1] for i in range(len(global_results))]) - 0.397887\n",
    ")\n",
    "ax.plot(range(0, 80), best_local.mean(axis=0), color=\"green\", label=\"Local\")\n",
    "ax.fill_between(\n",
    "    range(0, 80),\n",
    "    (best_local.mean(0) - best_local.std(0)),\n",
    "    (best_local.mean(0) + best_local.std(0)),\n",
    "    alpha=0.3,\n",
    "    color=\"green\",\n",
    ")\n",
    "\n",
    "best_lsr = np.log10(\n",
    "    np.array([lsr_results[i][0][1] for i in range(len(lsr_results))]) - 0.397887\n",
    ")\n",
    "ax.plot(range(0, 80), best_lsr.mean(axis=0), color=\"blue\", label=\"LSR\")\n",
    "ax.fill_between(\n",
    "    range(0, 80),\n",
    "    (best_lsr.mean(0) - best_lsr.std(0)),\n",
    "    (best_lsr.mean(0) + best_lsr.std(0)),\n",
    "    alpha=0.3,\n",
    "    color=\"blue\",\n",
    ")\n",
    "\n",
    "best_unconstrained = np.log10(\n",
    "    np.array([sobo_results[i][0][1] for i in range(len(sobo_results))]) - 0.397887\n",
    ")\n",
    "ax.plot(\n",
    "    range(0, 80), best_unconstrained.mean(axis=0), color=\"red\", label=\"Unconstrained\"\n",
    ")\n",
    "ax.fill_between(\n",
    "    range(0, 80),\n",
    "    (best_unconstrained.mean(0) - best_unconstrained.std(0)),\n",
    "    (best_unconstrained.mean(0) + best_unconstrained.std(0)),\n",
    "    alpha=0.3,\n",
    "    color=\"red\",\n",
    ")\n",
    "\n",
    "\n",
    "ax.set_xlabel(\"Iteration\")\n",
    "ax.set_ylabel(\"Log10(SimpleRegret)\")\n",
    "ax.legend()\n",
    "\n",
    "plt.show()"
   ]
  }
 ],
 "metadata": {
  "kernelspec": {
   "display_name": "base",
   "language": "python",
   "name": "python3"
  },
  "language_info": {
   "codemirror_mode": {
    "name": "ipython",
    "version": 3
   },
   "file_extension": ".py",
   "mimetype": "text/x-python",
   "name": "python",
   "nbconvert_exporter": "python",
   "pygments_lexer": "ipython3",
   "version": "3.12.2"
  },
  "papermill": {
   "default_parameters": {},
   "duration": null,
   "end_time": null,
   "environment_variables": {},
   "exception": null,
   "input_path": "/Users/radical-rhys/Radical/bofire/tutorials/benchmarks/010-LSRBO.ipynb",
   "output_path": "/Users/radical-rhys/Radical/bofire/tutorials/benchmarks/010-LSRBO.ipynb",
   "parameters": {},
   "start_time": "2024-10-10T16:06:23.555168",
   "version": "2.6.0"
  }
 },
 "nbformat": 4,
 "nbformat_minor": 5
}
