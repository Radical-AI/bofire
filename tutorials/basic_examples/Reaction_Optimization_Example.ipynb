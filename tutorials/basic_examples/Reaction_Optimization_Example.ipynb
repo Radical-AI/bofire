{
 "cells": [
  {
   "cell_type": "markdown",
   "id": "0",
   "metadata": {
    "papermill": {
     "duration": 0.00364,
     "end_time": "2024-10-10T16:02:46.727962",
     "exception": false,
     "start_time": "2024-10-10T16:02:46.724322",
     "status": "completed"
    },
    "tags": []
   },
   "source": [
    "# Getting started by Example: Optimization of Reaction Conditions\n",
    "\n",
    "In this example we take on a reaction condition optimization problem:\n",
    "Suppose you have some simple reaction where two ingredients $A$ and $B$ react to $C$ as\n",
    "\n",
    "$$\n",
    "A + B  \\rightarrow C\n",
    "$$\n",
    "\n",
    "Our reactors can be temperature controlled, and we can use different solvents. Furthermore, we can dilute our reaction mixture by using a different solvent volume. \n",
    "parameters like the **temperature** or the **solvent volume** are **continuous paramters**, where we have to set our ranges\n",
    "$$\n",
    "0^{\\, \\circ} \\text{C}  \\, \\le T \\le \\,  60^{\\, \\circ} \\text{C} \n",
    "$$\n",
    "\n",
    "$$\n",
    "20 \\, \\text{ml} \\le V_{solvent} \\le 90 \\,\\text{ml} \n",
    "$$\n",
    "\n",
    "Parameters like the use of **which solvent**, where there's a choice of either this or that, are **categorical parameters**\n",
    "$$\n",
    "\\text{Solvent} \\, S \\,  \\in  \\, \\{ \\text{MeOH, THF, Dioxane} \\}\n",
    "$$\n",
    "\n",
    "\n",
    "For now we only wish top optimize the Reaction yield, making this a **single objective optimization problem**.\n",
    "\n",
    "$$\n",
    "\\max _{T,V,S} \\text{ReactionYield}(T,V,S)\n",
    "$$\n",
    "\n",
    "Below we'll see how to perform such an optimization using bofire, Utilizing a **Single Objective Bayesian Optimization (SOBO)** Strategy "
   ]
  },
  {
   "cell_type": "code",
   "execution_count": null,
   "id": "1",
   "metadata": {
    "papermill": {
     "duration": 0.292049,
     "end_time": "2024-10-10T16:02:47.022930",
     "exception": false,
     "start_time": "2024-10-10T16:02:46.730881",
     "status": "completed"
    },
    "tags": []
   },
   "outputs": [
    {
     "name": "stdout",
     "output_type": "stream",
     "text": [
      "SMOKE_TEST: True\n"
     ]
    }
   ],
   "source": [
    "# python imports we'll need in this notebook\n",
    "import os\n",
    "import time\n",
    "\n",
    "import numpy as np\n",
    "import pandas as pd\n",
    "\n",
    "\n",
    "SMOKE_TEST = os.environ.get(\"SMOKE_TEST\")\n",
    "print(f\"SMOKE_TEST: {SMOKE_TEST}\")"
   ]
  },
  {
   "cell_type": "markdown",
   "id": "2",
   "metadata": {
    "papermill": {
     "duration": 0.005119,
     "end_time": "2024-10-10T16:02:47.032239",
     "exception": false,
     "start_time": "2024-10-10T16:02:47.027120",
     "status": "completed"
    },
    "tags": []
   },
   "source": [
    "## Setting up the optimization problem as a **Reaction Domain**"
   ]
  },
  {
   "cell_type": "code",
   "execution_count": null,
   "id": "3",
   "metadata": {
    "papermill": {
     "duration": 0.648142,
     "end_time": "2024-10-10T16:02:47.683526",
     "exception": false,
     "start_time": "2024-10-10T16:02:47.035384",
     "status": "completed"
    },
    "tags": []
   },
   "outputs": [],
   "source": [
    "from bofire.data_models.domain.api import Domain, Inputs, Outputs\n",
    "from bofire.data_models.features.api import (  # we won't need all of those.\n",
    "    CategoricalInput,\n",
    "    ContinuousInput,\n",
    "    ContinuousOutput,\n",
    ")"
   ]
  },
  {
   "cell_type": "code",
   "execution_count": null,
   "id": "4",
   "metadata": {
    "papermill": {
     "duration": 0.023637,
     "end_time": "2024-10-10T16:02:47.711343",
     "exception": false,
     "start_time": "2024-10-10T16:02:47.687706",
     "status": "completed"
    },
    "tags": []
   },
   "outputs": [],
   "source": [
    "# We wish the temperature of the reaction to be between 0 and 60 °C\n",
    "temperature_feature = ContinuousInput(key=\"Temperature\", bounds=[0.0, 60.0], unit=\"°C\")\n",
    "\n",
    "# Solvent Amount\n",
    "solvent_amount_feature = ContinuousInput(key=\"Solvent Volume\", bounds=[20, 90])\n",
    "\n",
    "# we have a couple of solvents in stock, which we'd liek to use\n",
    "solvent_type_feature = CategoricalInput(\n",
    "    key=\"Solvent Type\", categories=[\"MeOH\", \"THF\", \"Dioxane\"]\n",
    ")\n",
    "\n",
    "\n",
    "# gather all individual features\n",
    "input_features = Inputs(\n",
    "    features=[\n",
    "        temperature_feature,\n",
    "        solvent_type_feature,\n",
    "        solvent_amount_feature,\n",
    "    ]\n",
    ")"
   ]
  },
  {
   "cell_type": "code",
   "execution_count": null,
   "id": "5",
   "metadata": {
    "papermill": {
     "duration": 0.006733,
     "end_time": "2024-10-10T16:02:47.720612",
     "exception": false,
     "start_time": "2024-10-10T16:02:47.713879",
     "status": "completed"
    },
    "tags": []
   },
   "outputs": [],
   "source": [
    "# outputs: we wish to maximize the Yield\n",
    "# import Maximize Objective to tell the optimizer you wish to optimize\n",
    "from bofire.data_models.objectives.api import MaximizeObjective\n",
    "\n",
    "\n",
    "objective = MaximizeObjective(\n",
    "    w=1.0,\n",
    ")\n",
    "yield_feature = ContinuousOutput(key=\"Yield\", objective=objective)\n",
    "# create an output feature\n",
    "output_features = Outputs(features=[yield_feature])"
   ]
  },
  {
   "cell_type": "code",
   "execution_count": null,
   "id": "6",
   "metadata": {
    "papermill": {
     "duration": 0.00761,
     "end_time": "2024-10-10T16:02:47.730774",
     "exception": false,
     "start_time": "2024-10-10T16:02:47.723164",
     "status": "completed"
    },
    "tags": []
   },
   "outputs": [
    {
     "data": {
      "text/plain": [
       "MaximizeObjective(type='MaximizeObjective', w=1.0, bounds=(0, 1))"
      ]
     },
     "execution_count": null,
     "metadata": {},
     "output_type": "execute_result"
    }
   ],
   "source": [
    "objective"
   ]
  },
  {
   "cell_type": "code",
   "execution_count": null,
   "id": "7",
   "metadata": {
    "papermill": {
     "duration": 0.006149,
     "end_time": "2024-10-10T16:02:47.739687",
     "exception": false,
     "start_time": "2024-10-10T16:02:47.733538",
     "status": "completed"
    },
    "tags": []
   },
   "outputs": [
    {
     "name": "stdout",
     "output_type": "stream",
     "text": [
      "input_features: type='Inputs' features=[ContinuousInput(type='ContinuousInput', key='Temperature', unit='°C', bounds=(0.0, 60.0), local_relative_bounds=None, stepsize=None), CategoricalInput(type='CategoricalInput', key='Solvent Type', categories=['MeOH', 'THF', 'Dioxane'], allowed=[True, True, True]), ContinuousInput(type='ContinuousInput', key='Solvent Volume', unit=None, bounds=(20.0, 90.0), local_relative_bounds=None, stepsize=None)]\n",
      "output_features: type='Outputs' features=[ContinuousOutput(type='ContinuousOutput', key='Yield', unit=None, objective=MaximizeObjective(type='MaximizeObjective', w=1.0, bounds=(0, 1)))]\n"
     ]
    }
   ],
   "source": [
    "# we now have\n",
    "print(\"input_features:\", input_features)\n",
    "print(\"output_features:\", output_features)"
   ]
  },
  {
   "cell_type": "code",
   "execution_count": null,
   "id": "8",
   "metadata": {
    "papermill": {
     "duration": 0.005956,
     "end_time": "2024-10-10T16:02:47.748184",
     "exception": false,
     "start_time": "2024-10-10T16:02:47.742228",
     "status": "completed"
    },
    "tags": []
   },
   "outputs": [],
   "source": [
    "# The domain is now the object that holds the entire optimization problem / problem definition.\n",
    "domain = Domain(\n",
    "    inputs=input_features,\n",
    "    outputs=output_features,\n",
    ")"
   ]
  },
  {
   "cell_type": "code",
   "execution_count": null,
   "id": "9",
   "metadata": {
    "papermill": {
     "duration": 0.008735,
     "end_time": "2024-10-10T16:02:47.759528",
     "exception": false,
     "start_time": "2024-10-10T16:02:47.750793",
     "status": "completed"
    },
    "tags": []
   },
   "outputs": [
    {
     "data": {
      "text/html": [
       "<div>\n",
       "<style scoped>\n",
       "    .dataframe tbody tr th:only-of-type {\n",
       "        vertical-align: middle;\n",
       "    }\n",
       "\n",
       "    .dataframe tbody tr th {\n",
       "        vertical-align: top;\n",
       "    }\n",
       "\n",
       "    .dataframe thead th {\n",
       "        text-align: right;\n",
       "    }\n",
       "</style>\n",
       "<table border=\"1\" class=\"dataframe\">\n",
       "  <thead>\n",
       "    <tr style=\"text-align: right;\">\n",
       "      <th></th>\n",
       "      <th>Type</th>\n",
       "      <th>Description</th>\n",
       "    </tr>\n",
       "  </thead>\n",
       "  <tbody>\n",
       "    <tr>\n",
       "      <th>Solvent Volume</th>\n",
       "      <td>ContinuousInput</td>\n",
       "      <td>[20.0,90.0]</td>\n",
       "    </tr>\n",
       "    <tr>\n",
       "      <th>Temperature</th>\n",
       "      <td>ContinuousInput</td>\n",
       "      <td>[0.0,60.0]</td>\n",
       "    </tr>\n",
       "    <tr>\n",
       "      <th>Solvent Type</th>\n",
       "      <td>CategoricalInput</td>\n",
       "      <td>3 categories</td>\n",
       "    </tr>\n",
       "    <tr>\n",
       "      <th>Yield</th>\n",
       "      <td>ContinuousOutput</td>\n",
       "      <td>ContinuousOutputFeature</td>\n",
       "    </tr>\n",
       "  </tbody>\n",
       "</table>\n",
       "</div>"
      ],
      "text/plain": [
       "                            Type              Description\n",
       "Solvent Volume   ContinuousInput              [20.0,90.0]\n",
       "Temperature      ContinuousInput               [0.0,60.0]\n",
       "Solvent Type    CategoricalInput             3 categories\n",
       "Yield           ContinuousOutput  ContinuousOutputFeature"
      ]
     },
     "execution_count": null,
     "metadata": {},
     "output_type": "execute_result"
    }
   ],
   "source": [
    "# you can now have a pretty printout of your domain via\n",
    "(domain.inputs + domain.outputs).get_reps_df()"
   ]
  },
  {
   "cell_type": "code",
   "execution_count": null,
   "id": "10",
   "metadata": {
    "papermill": {
     "duration": 0.006154,
     "end_time": "2024-10-10T16:02:47.768282",
     "exception": false,
     "start_time": "2024-10-10T16:02:47.762128",
     "status": "completed"
    },
    "tags": []
   },
   "outputs": [
    {
     "name": "stdout",
     "output_type": "stream",
     "text": [
      "Solvent Volume | [20.0,90.0]\n",
      "Temperature | [0.0,60.0]\n",
      "Solvent Type | 3 categories\n"
     ]
    }
   ],
   "source": [
    "# and you can access your domain features via\n",
    "for (\n",
    "    feature_key\n",
    ") in domain.inputs.get_keys():  # this will get all the feature names and loop over them\n",
    "    input_feature = domain.inputs.get_by_key(\n",
    "        feature_key\n",
    "    )  # we can extract the individual feature object by asking for it by name\n",
    "    print(feature_key, \"|\", input_feature)"
   ]
  },
  {
   "cell_type": "code",
   "execution_count": null,
   "id": "11",
   "metadata": {
    "papermill": {
     "duration": 0.006807,
     "end_time": "2024-10-10T16:02:47.777638",
     "exception": false,
     "start_time": "2024-10-10T16:02:47.770831",
     "status": "completed"
    },
    "tags": []
   },
   "outputs": [
    {
     "name": "stdout",
     "output_type": "stream",
     "text": [
      "Yield  |  ContinuousOutput(type='ContinuousOutput', key='Yield', unit=None, objective=MaximizeObjective(type='MaximizeObjective', w=1.0, bounds=(0, 1)))\n"
     ]
    }
   ],
   "source": [
    "# as well as the output features as\n",
    "# and you can access your domain features via\n",
    "for feature_key in (\n",
    "    domain.outputs.get_keys()\n",
    "):  # this will get all the feature names and loop over them\n",
    "    output_feature = domain.outputs.get_by_key(\n",
    "        feature_key\n",
    "    )  # we can extract the individual feature object by asking for it by name\n",
    "    print(feature_key, \" | \", output_feature.__repr__())"
   ]
  },
  {
   "cell_type": "code",
   "execution_count": null,
   "id": "12",
   "metadata": {
    "papermill": {
     "duration": 0.008411,
     "end_time": "2024-10-10T16:02:47.788648",
     "exception": false,
     "start_time": "2024-10-10T16:02:47.780237",
     "status": "completed"
    },
    "tags": []
   },
   "outputs": [
    {
     "data": {
      "text/html": [
       "<div>\n",
       "<style scoped>\n",
       "    .dataframe tbody tr th:only-of-type {\n",
       "        vertical-align: middle;\n",
       "    }\n",
       "\n",
       "    .dataframe tbody tr th {\n",
       "        vertical-align: top;\n",
       "    }\n",
       "\n",
       "    .dataframe thead th {\n",
       "        text-align: right;\n",
       "    }\n",
       "</style>\n",
       "<table border=\"1\" class=\"dataframe\">\n",
       "  <thead>\n",
       "    <tr style=\"text-align: right;\">\n",
       "      <th></th>\n",
       "      <th>Type</th>\n",
       "      <th>Description</th>\n",
       "    </tr>\n",
       "  </thead>\n",
       "  <tbody>\n",
       "    <tr>\n",
       "      <th>Solvent Volume</th>\n",
       "      <td>ContinuousInput</td>\n",
       "      <td>[20.0,90.0]</td>\n",
       "    </tr>\n",
       "    <tr>\n",
       "      <th>Temperature</th>\n",
       "      <td>ContinuousInput</td>\n",
       "      <td>[0.0,60.0]</td>\n",
       "    </tr>\n",
       "    <tr>\n",
       "      <th>Solvent Type</th>\n",
       "      <td>CategoricalInput</td>\n",
       "      <td>3 categories</td>\n",
       "    </tr>\n",
       "    <tr>\n",
       "      <th>Yield</th>\n",
       "      <td>ContinuousOutput</td>\n",
       "      <td>ContinuousOutputFeature</td>\n",
       "    </tr>\n",
       "  </tbody>\n",
       "</table>\n",
       "</div>"
      ],
      "text/plain": [
       "                            Type              Description\n",
       "Solvent Volume   ContinuousInput              [20.0,90.0]\n",
       "Temperature      ContinuousInput               [0.0,60.0]\n",
       "Solvent Type    CategoricalInput             3 categories\n",
       "Yield           ContinuousOutput  ContinuousOutputFeature"
      ]
     },
     "execution_count": null,
     "metadata": {},
     "output_type": "execute_result"
    }
   ],
   "source": [
    "(domain.inputs + domain.outputs).get_reps_df()"
   ]
  },
  {
   "cell_type": "markdown",
   "id": "13",
   "metadata": {
    "papermill": {
     "duration": 0.002646,
     "end_time": "2024-10-10T16:02:47.794067",
     "exception": false,
     "start_time": "2024-10-10T16:02:47.791421",
     "status": "completed"
    },
    "tags": []
   },
   "source": [
    "### Import a toy Reaction to play around with\n",
    "We've prepared a reaction emulator, which you can use to emulate a real experiment below."
   ]
  },
  {
   "cell_type": "code",
   "execution_count": null,
   "id": "14",
   "metadata": {
    "papermill": {
     "duration": 0.011397,
     "end_time": "2024-10-10T16:02:47.808462",
     "exception": false,
     "start_time": "2024-10-10T16:02:47.797065",
     "status": "completed"
    },
    "tags": []
   },
   "outputs": [],
   "source": [
    "# Reaction Optimization Notebook util code\n",
    "T0 = 25\n",
    "T1 = 100\n",
    "e0 = np.exp((T1 + 0) / T0)\n",
    "e60 = np.exp((T1 + 60) / T0)\n",
    "de = e60 - e0\n",
    "\n",
    "boiling_points = {  # in °C\n",
    "    \"MeOH\": 64.7,\n",
    "    \"THF\": 66.0,\n",
    "    \"Dioxane\": 101.0,\n",
    "}\n",
    "density = {  # in kg/l\n",
    "    \"MeOH\": 0.792,\n",
    "    \"THF\": 0.886,\n",
    "    \"Dioxane\": 1.03,\n",
    "}\n",
    "# create dict from individual dicts\n",
    "descs = {\n",
    "    \"boiling_points\": boiling_points,\n",
    "    \"density\": density,\n",
    "}\n",
    "solvent_descriptors = pd.DataFrame(descs)\n",
    "\n",
    "\n",
    "# these functions are for faking real experimental data ;)\n",
    "def calc_volume_fact(V):\n",
    "    # 20-90\n",
    "    # max at 75 = 1\n",
    "    # min at 20 = 0.7\n",
    "    # at 90=0.5\n",
    "    x = (V - 20) / 70\n",
    "    x = 0.5 + (x - 0.75) * 0.1 + (x - 0.4) ** 2\n",
    "    return x\n",
    "\n",
    "\n",
    "def calc_rhofact(solvent_type, Tfact):\n",
    "    #  between 0.7 and 1.1\n",
    "    x = solvent_descriptors[\"density\"][solvent_type]\n",
    "    x = (1.5 - x) * (Tfact + 0.5) / 2\n",
    "    return x.values\n",
    "\n",
    "\n",
    "def calc_Tfact(T):\n",
    "    x = np.exp((T1 + T) / T0)\n",
    "    return (x - e0) / de\n",
    "\n",
    "\n",
    "# this can be used to create a dataframe of experiments including yields\n",
    "def create_experiments(domain, nsamples=100, A=25, B=90, candidates=None):\n",
    "    Tf = domain.inputs.get_by_key(\"Temperature\")\n",
    "    Vf = domain.inputs.get_by_key(\"Solvent Volume\")\n",
    "    typef = domain.inputs.get_by_key(\"Solvent Type\")\n",
    "    yf = domain.outputs.get_by_key(\"Yield\")\n",
    "    if candidates is None:\n",
    "        T = np.random.uniform(low=Tf.lower_bound, high=Tf.upper_bound, size=(nsamples,))\n",
    "        V = np.random.uniform(low=Vf.lower_bound, high=Vf.upper_bound, size=(nsamples,))\n",
    "        solvent_types = [\n",
    "            domain.inputs.get_by_key(\"Solvent Type\").categories[np.random.randint(0, 3)]\n",
    "            for i in range(nsamples)\n",
    "        ]\n",
    "    else:\n",
    "        nsamples = len(candidates)\n",
    "        T = candidates[\"Temperature\"].values\n",
    "        V = candidates[\"Solvent Volume\"].values\n",
    "        solvent_types = candidates[\"Solvent Type\"].values\n",
    "\n",
    "    Tfact = calc_Tfact(T)\n",
    "    rhofact = calc_rhofact(solvent_types, Tfact)\n",
    "    Vfact = calc_volume_fact(V)\n",
    "    y = A * Tfact + B * rhofact\n",
    "    y = 0.5 * y + 0.5 * y * Vfact\n",
    "    # y = y.values\n",
    "    samples = pd.DataFrame(\n",
    "        {\n",
    "            Tf.key: T,\n",
    "            Vf.key: V,\n",
    "            yf.key: y,\n",
    "            typef.key: solvent_types,\n",
    "            \"valid_\" + yf.key: np.ones(nsamples),\n",
    "        },\n",
    "        # index=pd.RangeIndex(nsamples),\n",
    "    )\n",
    "    samples.index = pd.RangeIndex(nsamples)\n",
    "    return samples\n",
    "\n",
    "\n",
    "def create_candidates(domain, nsamples=4):\n",
    "    experiments = create_experiments(domain, nsamples=nsamples)\n",
    "    candidates = experiments.drop([\"Yield\", \"valid_Yield\"], axis=1)\n",
    "    return candidates\n",
    "\n",
    "\n",
    "# this is for evaluating candidates that do not yet have a yield attributed to it.\n",
    "def evaluate_experiments(domain, candidates):\n",
    "    return create_experiments(domain, candidates=candidates)"
   ]
  },
  {
   "cell_type": "code",
   "execution_count": null,
   "id": "15",
   "metadata": {
    "papermill": {
     "duration": 0.007796,
     "end_time": "2024-10-10T16:02:47.819610",
     "exception": false,
     "start_time": "2024-10-10T16:02:47.811814",
     "status": "completed"
    },
    "tags": []
   },
   "outputs": [],
   "source": [
    "# create some trial experiments (at unitform random)\n",
    "candidates = create_candidates(domain, nsamples=4)"
   ]
  },
  {
   "cell_type": "code",
   "execution_count": null,
   "id": "16",
   "metadata": {
    "papermill": {
     "duration": 0.008179,
     "end_time": "2024-10-10T16:02:47.830450",
     "exception": false,
     "start_time": "2024-10-10T16:02:47.822271",
     "status": "completed"
    },
    "tags": []
   },
   "outputs": [
    {
     "data": {
      "text/html": [
       "<div>\n",
       "<style scoped>\n",
       "    .dataframe tbody tr th:only-of-type {\n",
       "        vertical-align: middle;\n",
       "    }\n",
       "\n",
       "    .dataframe tbody tr th {\n",
       "        vertical-align: top;\n",
       "    }\n",
       "\n",
       "    .dataframe thead th {\n",
       "        text-align: right;\n",
       "    }\n",
       "</style>\n",
       "<table border=\"1\" class=\"dataframe\">\n",
       "  <thead>\n",
       "    <tr style=\"text-align: right;\">\n",
       "      <th></th>\n",
       "      <th>Temperature</th>\n",
       "      <th>Solvent Volume</th>\n",
       "      <th>Solvent Type</th>\n",
       "    </tr>\n",
       "  </thead>\n",
       "  <tbody>\n",
       "    <tr>\n",
       "      <th>0</th>\n",
       "      <td>58.079994</td>\n",
       "      <td>62.749667</td>\n",
       "      <td>MeOH</td>\n",
       "    </tr>\n",
       "    <tr>\n",
       "      <th>1</th>\n",
       "      <td>54.548070</td>\n",
       "      <td>21.571404</td>\n",
       "      <td>MeOH</td>\n",
       "    </tr>\n",
       "    <tr>\n",
       "      <th>2</th>\n",
       "      <td>44.572609</td>\n",
       "      <td>65.044737</td>\n",
       "      <td>THF</td>\n",
       "    </tr>\n",
       "    <tr>\n",
       "      <th>3</th>\n",
       "      <td>53.383736</td>\n",
       "      <td>70.417429</td>\n",
       "      <td>THF</td>\n",
       "    </tr>\n",
       "  </tbody>\n",
       "</table>\n",
       "</div>"
      ],
      "text/plain": [
       "   Temperature  Solvent Volume Solvent Type\n",
       "0    58.079994       62.749667         MeOH\n",
       "1    54.548070       21.571404         MeOH\n",
       "2    44.572609       65.044737          THF\n",
       "3    53.383736       70.417429          THF"
      ]
     },
     "execution_count": null,
     "metadata": {},
     "output_type": "execute_result"
    }
   ],
   "source": [
    "candidates"
   ]
  },
  {
   "cell_type": "code",
   "execution_count": null,
   "id": "17",
   "metadata": {
    "papermill": {
     "duration": 0.006852,
     "end_time": "2024-10-10T16:02:47.840117",
     "exception": false,
     "start_time": "2024-10-10T16:02:47.833265",
     "status": "completed"
    },
    "tags": []
   },
   "outputs": [],
   "source": [
    "# we can evaluate the yield of those candidates\n",
    "experiments = evaluate_experiments(domain, candidates)"
   ]
  },
  {
   "cell_type": "code",
   "execution_count": null,
   "id": "18",
   "metadata": {
    "papermill": {
     "duration": 0.008681,
     "end_time": "2024-10-10T16:02:47.851734",
     "exception": false,
     "start_time": "2024-10-10T16:02:47.843053",
     "status": "completed"
    },
    "tags": []
   },
   "outputs": [
    {
     "data": {
      "text/html": [
       "<div>\n",
       "<style scoped>\n",
       "    .dataframe tbody tr th:only-of-type {\n",
       "        vertical-align: middle;\n",
       "    }\n",
       "\n",
       "    .dataframe tbody tr th {\n",
       "        vertical-align: top;\n",
       "    }\n",
       "\n",
       "    .dataframe thead th {\n",
       "        text-align: right;\n",
       "    }\n",
       "</style>\n",
       "<table border=\"1\" class=\"dataframe\">\n",
       "  <thead>\n",
       "    <tr style=\"text-align: right;\">\n",
       "      <th></th>\n",
       "      <th>Temperature</th>\n",
       "      <th>Solvent Volume</th>\n",
       "      <th>Yield</th>\n",
       "      <th>Solvent Type</th>\n",
       "      <th>valid_Yield</th>\n",
       "    </tr>\n",
       "  </thead>\n",
       "  <tbody>\n",
       "    <tr>\n",
       "      <th>0</th>\n",
       "      <td>58.079994</td>\n",
       "      <td>62.749667</td>\n",
       "      <td>52.163945</td>\n",
       "      <td>MeOH</td>\n",
       "      <td>1.0</td>\n",
       "    </tr>\n",
       "    <tr>\n",
       "      <th>1</th>\n",
       "      <td>54.548070</td>\n",
       "      <td>21.571404</td>\n",
       "      <td>47.515597</td>\n",
       "      <td>MeOH</td>\n",
       "      <td>1.0</td>\n",
       "    </tr>\n",
       "    <tr>\n",
       "      <th>2</th>\n",
       "      <td>44.572609</td>\n",
       "      <td>65.044737</td>\n",
       "      <td>30.811281</td>\n",
       "      <td>THF</td>\n",
       "      <td>1.0</td>\n",
       "    </tr>\n",
       "    <tr>\n",
       "      <th>3</th>\n",
       "      <td>53.383736</td>\n",
       "      <td>70.417429</td>\n",
       "      <td>42.377953</td>\n",
       "      <td>THF</td>\n",
       "      <td>1.0</td>\n",
       "    </tr>\n",
       "  </tbody>\n",
       "</table>\n",
       "</div>"
      ],
      "text/plain": [
       "   Temperature  Solvent Volume      Yield Solvent Type  valid_Yield\n",
       "0    58.079994       62.749667  52.163945         MeOH          1.0\n",
       "1    54.548070       21.571404  47.515597         MeOH          1.0\n",
       "2    44.572609       65.044737  30.811281          THF          1.0\n",
       "3    53.383736       70.417429  42.377953          THF          1.0"
      ]
     },
     "execution_count": null,
     "metadata": {},
     "output_type": "execute_result"
    }
   ],
   "source": [
    "experiments"
   ]
  },
  {
   "cell_type": "markdown",
   "id": "19",
   "metadata": {
    "papermill": {
     "duration": 0.002812,
     "end_time": "2024-10-10T16:02:47.857371",
     "exception": false,
     "start_time": "2024-10-10T16:02:47.854559",
     "status": "completed"
    },
    "tags": []
   },
   "source": [
    "# Strategy Setup\n",
    "a BO Strategy requires a choice of an acquisition function in order to evaluate the quality of new trial candidates. \n",
    "\n",
    "In this example we'll use the popular **Expected Improvement (EI)** acqf, which can evaluate the expectation value for obtaining a better function value compared to the current best value by utilizing the regression models' prediction of botht the function value as well as the variance at that point. "
   ]
  },
  {
   "cell_type": "code",
   "execution_count": null,
   "id": "20",
   "metadata": {
    "papermill": {
     "duration": 1.638596,
     "end_time": "2024-10-10T16:02:49.498696",
     "exception": false,
     "start_time": "2024-10-10T16:02:47.860100",
     "status": "completed"
    },
    "tags": []
   },
   "outputs": [],
   "source": [
    "import bofire.strategies.api as strategies\n",
    "from bofire.data_models.acquisition_functions.api import qLogEI\n",
    "from bofire.data_models.strategies.api import SoboStrategy"
   ]
  },
  {
   "cell_type": "code",
   "execution_count": null,
   "id": "21",
   "metadata": {
    "papermill": {
     "duration": 0.008715,
     "end_time": "2024-10-10T16:02:49.510274",
     "exception": false,
     "start_time": "2024-10-10T16:02:49.501559",
     "status": "completed"
    },
    "tags": []
   },
   "outputs": [],
   "source": [
    "# a single objective BO strategy\n",
    "\n",
    "sobo_strategy_data_model = SoboStrategy(\n",
    "    domain=domain,\n",
    "    acquisition_function=qLogEI(),\n",
    ")\n",
    "\n",
    "# map the strategy data model to the actual strategy that has functionality\n",
    "sobo_strategy = strategies.map(sobo_strategy_data_model)"
   ]
  },
  {
   "cell_type": "code",
   "execution_count": null,
   "id": "22",
   "metadata": {
    "papermill": {
     "duration": 0.77188,
     "end_time": "2024-10-10T16:02:50.284895",
     "exception": false,
     "start_time": "2024-10-10T16:02:49.513015",
     "status": "completed"
    },
    "tags": []
   },
   "outputs": [],
   "source": [
    "# first we fit the model of the strategy\n",
    "\n",
    "sobo_strategy.tell(experiments)"
   ]
  },
  {
   "cell_type": "markdown",
   "id": "23",
   "metadata": {
    "papermill": {
     "duration": 0.00269,
     "end_time": "2024-10-10T16:02:50.290497",
     "exception": false,
     "start_time": "2024-10-10T16:02:50.287807",
     "status": "completed"
    },
    "tags": []
   },
   "source": [
    "Each implemented strategy has a `strategy.ask(n)` method implemented, where new experiment candidates can be fetched from.  "
   ]
  },
  {
   "cell_type": "code",
   "execution_count": null,
   "id": "24",
   "metadata": {
    "papermill": {
     "duration": 0.005902,
     "end_time": "2024-10-10T16:02:50.299218",
     "exception": false,
     "start_time": "2024-10-10T16:02:50.293316",
     "status": "completed"
    },
    "tags": []
   },
   "outputs": [],
   "source": [
    "# uncomment and run me to see what's happening!\n",
    "# sobo_strategy.ask(1)"
   ]
  },
  {
   "cell_type": "markdown",
   "id": "25",
   "metadata": {
    "papermill": {
     "duration": 0.002626,
     "end_time": "2024-10-10T16:02:50.304469",
     "exception": false,
     "start_time": "2024-10-10T16:02:50.301843",
     "status": "completed"
    },
    "tags": []
   },
   "source": [
    "Since a BO strategy requries an underlying regression model for predictions, it requires a certain amount of initial experiments for it to be able to build such a model.\n",
    "\n",
    "In order to obtain initial experiments, one way is to (pseudo)randomly sample candidate points in the reaction domain. This can e.g. be done by the RandomStrategy. "
   ]
  },
  {
   "cell_type": "code",
   "execution_count": null,
   "id": "26",
   "metadata": {
    "papermill": {
     "duration": 0.006279,
     "end_time": "2024-10-10T16:02:50.313468",
     "exception": false,
     "start_time": "2024-10-10T16:02:50.307189",
     "status": "completed"
    },
    "tags": []
   },
   "outputs": [],
   "source": [
    "# a random strategy\n",
    "from bofire.data_models.strategies.api import RandomStrategy as RandomStrategyModel\n",
    "\n",
    "\n",
    "random_strategy_model = RandomStrategyModel(domain=domain)\n",
    "# we have to provide the strategy with our optimization problem so it knows where to sample from.\n",
    "random_strategy = strategies.map(random_strategy_model)"
   ]
  },
  {
   "cell_type": "code",
   "execution_count": null,
   "id": "27",
   "metadata": {
    "papermill": {
     "duration": 0.006054,
     "end_time": "2024-10-10T16:02:50.322339",
     "exception": false,
     "start_time": "2024-10-10T16:02:50.316285",
     "status": "completed"
    },
    "tags": []
   },
   "outputs": [
    {
     "data": {
      "text/plain": [
       "Domain(type='Domain', inputs=Inputs(type='Inputs', features=[ContinuousInput(type='ContinuousInput', key='Temperature', unit='°C', bounds=(0.0, 60.0), local_relative_bounds=None, stepsize=None), CategoricalInput(type='CategoricalInput', key='Solvent Type', categories=['MeOH', 'THF', 'Dioxane'], allowed=[True, True, True]), ContinuousInput(type='ContinuousInput', key='Solvent Volume', unit=None, bounds=(20.0, 90.0), local_relative_bounds=None, stepsize=None)]), outputs=Outputs(type='Outputs', features=[ContinuousOutput(type='ContinuousOutput', key='Yield', unit=None, objective=MaximizeObjective(type='MaximizeObjective', w=1.0, bounds=(0, 1)))]), constraints=Constraints(type='Constraints', constraints=[]))"
      ]
     },
     "execution_count": null,
     "metadata": {},
     "output_type": "execute_result"
    }
   ],
   "source": [
    "domain"
   ]
  },
  {
   "cell_type": "code",
   "execution_count": null,
   "id": "28",
   "metadata": {
    "papermill": {
     "duration": 0.00816,
     "end_time": "2024-10-10T16:02:50.333352",
     "exception": false,
     "start_time": "2024-10-10T16:02:50.325192",
     "status": "completed"
    },
    "tags": []
   },
   "outputs": [],
   "source": [
    "# let's ask for five random sets of conditions\n",
    "candidates = random_strategy.ask(5)"
   ]
  },
  {
   "cell_type": "markdown",
   "id": "29",
   "metadata": {
    "papermill": {
     "duration": 0.00276,
     "end_time": "2024-10-10T16:02:50.338954",
     "exception": false,
     "start_time": "2024-10-10T16:02:50.336194",
     "status": "completed"
    },
    "tags": []
   },
   "source": [
    "you can have a look at the candidates"
   ]
  },
  {
   "cell_type": "code",
   "execution_count": null,
   "id": "30",
   "metadata": {
    "papermill": {
     "duration": 0.00715,
     "end_time": "2024-10-10T16:02:50.348748",
     "exception": false,
     "start_time": "2024-10-10T16:02:50.341598",
     "status": "completed"
    },
    "tags": []
   },
   "outputs": [
    {
     "data": {
      "text/html": [
       "<div>\n",
       "<style scoped>\n",
       "    .dataframe tbody tr th:only-of-type {\n",
       "        vertical-align: middle;\n",
       "    }\n",
       "\n",
       "    .dataframe tbody tr th {\n",
       "        vertical-align: top;\n",
       "    }\n",
       "\n",
       "    .dataframe thead th {\n",
       "        text-align: right;\n",
       "    }\n",
       "</style>\n",
       "<table border=\"1\" class=\"dataframe\">\n",
       "  <thead>\n",
       "    <tr style=\"text-align: right;\">\n",
       "      <th></th>\n",
       "      <th>Solvent Volume</th>\n",
       "      <th>Temperature</th>\n",
       "      <th>Solvent Type</th>\n",
       "    </tr>\n",
       "  </thead>\n",
       "  <tbody>\n",
       "    <tr>\n",
       "      <th>0</th>\n",
       "      <td>75.090131</td>\n",
       "      <td>18.111664</td>\n",
       "      <td>THF</td>\n",
       "    </tr>\n",
       "    <tr>\n",
       "      <th>1</th>\n",
       "      <td>26.340833</td>\n",
       "      <td>50.048569</td>\n",
       "      <td>MeOH</td>\n",
       "    </tr>\n",
       "    <tr>\n",
       "      <th>2</th>\n",
       "      <td>84.496554</td>\n",
       "      <td>49.440374</td>\n",
       "      <td>MeOH</td>\n",
       "    </tr>\n",
       "    <tr>\n",
       "      <th>3</th>\n",
       "      <td>62.219315</td>\n",
       "      <td>27.959654</td>\n",
       "      <td>Dioxane</td>\n",
       "    </tr>\n",
       "    <tr>\n",
       "      <th>4</th>\n",
       "      <td>36.527079</td>\n",
       "      <td>6.740230</td>\n",
       "      <td>THF</td>\n",
       "    </tr>\n",
       "  </tbody>\n",
       "</table>\n",
       "</div>"
      ],
      "text/plain": [
       "   Solvent Volume  Temperature Solvent Type\n",
       "0       75.090131    18.111664          THF\n",
       "1       26.340833    50.048569         MeOH\n",
       "2       84.496554    49.440374         MeOH\n",
       "3       62.219315    27.959654      Dioxane\n",
       "4       36.527079     6.740230          THF"
      ]
     },
     "execution_count": null,
     "metadata": {},
     "output_type": "execute_result"
    }
   ],
   "source": [
    "candidates"
   ]
  },
  {
   "cell_type": "markdown",
   "id": "31",
   "metadata": {
    "papermill": {
     "duration": 0.003139,
     "end_time": "2024-10-10T16:02:50.355167",
     "exception": false,
     "start_time": "2024-10-10T16:02:50.352028",
     "status": "completed"
    },
    "tags": []
   },
   "source": [
    "In order to use those experiments as data foundation of the bo strategy above, the output values of these candidates have to be provided. Herein we'll use a dummy function to evaluate some more or less realistic yields given the proposed input candidates as."
   ]
  },
  {
   "cell_type": "code",
   "execution_count": null,
   "id": "32",
   "metadata": {
    "papermill": {
     "duration": 0.006271,
     "end_time": "2024-10-10T16:02:50.364229",
     "exception": false,
     "start_time": "2024-10-10T16:02:50.357958",
     "status": "completed"
    },
    "tags": []
   },
   "outputs": [],
   "source": [
    "experiments = evaluate_experiments(domain, candidates)"
   ]
  },
  {
   "cell_type": "code",
   "execution_count": null,
   "id": "33",
   "metadata": {
    "papermill": {
     "duration": 0.007677,
     "end_time": "2024-10-10T16:02:50.374862",
     "exception": false,
     "start_time": "2024-10-10T16:02:50.367185",
     "status": "completed"
    },
    "tags": []
   },
   "outputs": [
    {
     "data": {
      "text/html": [
       "<div>\n",
       "<style scoped>\n",
       "    .dataframe tbody tr th:only-of-type {\n",
       "        vertical-align: middle;\n",
       "    }\n",
       "\n",
       "    .dataframe tbody tr th {\n",
       "        vertical-align: top;\n",
       "    }\n",
       "\n",
       "    .dataframe thead th {\n",
       "        text-align: right;\n",
       "    }\n",
       "</style>\n",
       "<table border=\"1\" class=\"dataframe\">\n",
       "  <thead>\n",
       "    <tr style=\"text-align: right;\">\n",
       "      <th></th>\n",
       "      <th>Temperature</th>\n",
       "      <th>Solvent Volume</th>\n",
       "      <th>Yield</th>\n",
       "      <th>Solvent Type</th>\n",
       "      <th>valid_Yield</th>\n",
       "    </tr>\n",
       "  </thead>\n",
       "  <tbody>\n",
       "    <tr>\n",
       "      <th>0</th>\n",
       "      <td>18.111664</td>\n",
       "      <td>75.090131</td>\n",
       "      <td>16.038616</td>\n",
       "      <td>THF</td>\n",
       "      <td>1.0</td>\n",
       "    </tr>\n",
       "    <tr>\n",
       "      <th>1</th>\n",
       "      <td>50.048569</td>\n",
       "      <td>26.340833</td>\n",
       "      <td>39.970295</td>\n",
       "      <td>MeOH</td>\n",
       "      <td>1.0</td>\n",
       "    </tr>\n",
       "    <tr>\n",
       "      <th>2</th>\n",
       "      <td>49.440374</td>\n",
       "      <td>84.496554</td>\n",
       "      <td>45.839142</td>\n",
       "      <td>MeOH</td>\n",
       "      <td>1.0</td>\n",
       "    </tr>\n",
       "    <tr>\n",
       "      <th>3</th>\n",
       "      <td>27.959654</td>\n",
       "      <td>62.219315</td>\n",
       "      <td>15.311189</td>\n",
       "      <td>Dioxane</td>\n",
       "      <td>1.0</td>\n",
       "    </tr>\n",
       "    <tr>\n",
       "      <th>4</th>\n",
       "      <td>6.740230</td>\n",
       "      <td>36.527079</td>\n",
       "      <td>11.390565</td>\n",
       "      <td>THF</td>\n",
       "      <td>1.0</td>\n",
       "    </tr>\n",
       "  </tbody>\n",
       "</table>\n",
       "</div>"
      ],
      "text/plain": [
       "   Temperature  Solvent Volume      Yield Solvent Type  valid_Yield\n",
       "0    18.111664       75.090131  16.038616          THF          1.0\n",
       "1    50.048569       26.340833  39.970295         MeOH          1.0\n",
       "2    49.440374       84.496554  45.839142         MeOH          1.0\n",
       "3    27.959654       62.219315  15.311189      Dioxane          1.0\n",
       "4     6.740230       36.527079  11.390565          THF          1.0"
      ]
     },
     "execution_count": null,
     "metadata": {},
     "output_type": "execute_result"
    }
   ],
   "source": [
    "experiments"
   ]
  },
  {
   "cell_type": "markdown",
   "id": "34",
   "metadata": {
    "papermill": {
     "duration": 0.002825,
     "end_time": "2024-10-10T16:02:50.380566",
     "exception": false,
     "start_time": "2024-10-10T16:02:50.377741",
     "status": "completed"
    },
    "tags": []
   },
   "source": [
    "note, that the columns `Yield` and `valid_Yield` have been added. `Yield` contains the actual output, whereas `valid_Yield` labels the experiment as valid w.r.t. this respective measured output. "
   ]
  },
  {
   "cell_type": "markdown",
   "id": "35",
   "metadata": {
    "papermill": {
     "duration": 0.002882,
     "end_time": "2024-10-10T16:02:50.386509",
     "exception": false,
     "start_time": "2024-10-10T16:02:50.383627",
     "status": "completed"
    },
    "tags": []
   },
   "source": [
    "This info can now be given to the bo strategy so it can use it to fit the underlying regression model it utilizes via the `strategy.tell()` method."
   ]
  },
  {
   "cell_type": "code",
   "execution_count": null,
   "id": "36",
   "metadata": {
    "papermill": {
     "duration": 0.252477,
     "end_time": "2024-10-10T16:02:50.641976",
     "exception": false,
     "start_time": "2024-10-10T16:02:50.389499",
     "status": "completed"
    },
    "tags": []
   },
   "outputs": [
    {
     "name": "stdout",
     "output_type": "stream",
     "text": [
      "fit took 0.25 seconds\n"
     ]
    }
   ],
   "source": [
    "t1 = time.time()\n",
    "sobo_strategy.tell(experiments, replace=True, retrain=True)\n",
    "print(f\"fit took {(time.time()-t1):.2f} seconds\")"
   ]
  },
  {
   "cell_type": "markdown",
   "id": "37",
   "metadata": {
    "papermill": {
     "duration": 0.002951,
     "end_time": "2024-10-10T16:02:50.648289",
     "exception": false,
     "start_time": "2024-10-10T16:02:50.645338",
     "status": "completed"
    },
    "tags": []
   },
   "source": [
    "Using this data we can now get a proposal for a next point to evaluate via the `sobo_strategy.ask(1)` method."
   ]
  },
  {
   "cell_type": "code",
   "execution_count": null,
   "id": "38",
   "metadata": {
    "papermill": {
     "duration": 0.666582,
     "end_time": "2024-10-10T16:02:51.318088",
     "exception": false,
     "start_time": "2024-10-10T16:02:50.651506",
     "status": "completed"
    },
    "tags": []
   },
   "outputs": [
    {
     "name": "stdout",
     "output_type": "stream",
     "text": [
      "SOBO step took 0.66 seconds\n"
     ]
    }
   ],
   "source": [
    "t1 = time.time()\n",
    "new_candidate = sobo_strategy.ask(1)\n",
    "print(f\"SOBO step took {(time.time()-t1):.2f} seconds\")"
   ]
  },
  {
   "cell_type": "markdown",
   "id": "39",
   "metadata": {
    "papermill": {
     "duration": 0.002939,
     "end_time": "2024-10-10T16:02:51.324224",
     "exception": false,
     "start_time": "2024-10-10T16:02:51.321285",
     "status": "completed"
    },
    "tags": []
   },
   "source": [
    "This ask call now takes way longer, since first a GP model is fitted to the data, and the acquisition function **EI** is optimized to obtain the new proposed candidiates. Note that the predictied yield and standard deviation, as well as desirability function value (the underlying value the optimizer sees) are provided in the new_candidate dataframe."
   ]
  },
  {
   "cell_type": "code",
   "execution_count": null,
   "id": "40",
   "metadata": {
    "papermill": {
     "duration": 0.007952,
     "end_time": "2024-10-10T16:02:51.335315",
     "exception": false,
     "start_time": "2024-10-10T16:02:51.327363",
     "status": "completed"
    },
    "tags": []
   },
   "outputs": [
    {
     "data": {
      "text/html": [
       "<div>\n",
       "<style scoped>\n",
       "    .dataframe tbody tr th:only-of-type {\n",
       "        vertical-align: middle;\n",
       "    }\n",
       "\n",
       "    .dataframe tbody tr th {\n",
       "        vertical-align: top;\n",
       "    }\n",
       "\n",
       "    .dataframe thead th {\n",
       "        text-align: right;\n",
       "    }\n",
       "</style>\n",
       "<table border=\"1\" class=\"dataframe\">\n",
       "  <thead>\n",
       "    <tr style=\"text-align: right;\">\n",
       "      <th></th>\n",
       "      <th>Solvent Volume</th>\n",
       "      <th>Temperature</th>\n",
       "      <th>Solvent Type</th>\n",
       "      <th>Yield_pred</th>\n",
       "      <th>Yield_sd</th>\n",
       "      <th>Yield_des</th>\n",
       "    </tr>\n",
       "  </thead>\n",
       "  <tbody>\n",
       "    <tr>\n",
       "      <th>0</th>\n",
       "      <td>90.0</td>\n",
       "      <td>26.953909</td>\n",
       "      <td>MeOH</td>\n",
       "      <td>44.597389</td>\n",
       "      <td>3.30191</td>\n",
       "      <td>44.597389</td>\n",
       "    </tr>\n",
       "  </tbody>\n",
       "</table>\n",
       "</div>"
      ],
      "text/plain": [
       "   Solvent Volume  Temperature Solvent Type  Yield_pred  Yield_sd  Yield_des\n",
       "0            90.0    26.953909         MeOH   44.597389   3.30191  44.597389"
      ]
     },
     "execution_count": null,
     "metadata": {},
     "output_type": "execute_result"
    }
   ],
   "source": [
    "new_candidate"
   ]
  },
  {
   "cell_type": "markdown",
   "id": "41",
   "metadata": {
    "papermill": {
     "duration": 0.002922,
     "end_time": "2024-10-10T16:02:51.341254",
     "exception": false,
     "start_time": "2024-10-10T16:02:51.338332",
     "status": "completed"
    },
    "tags": []
   },
   "source": [
    "## Optimization Loop\n",
    "With this `strategy.ask()` and `strategy.tell()` we can now do our optimization loop, where after each new proposal, the conditions obtained from `ask` are evaluated and added to the known datapoints via `tell`. This requires to refit the underling model in each step.\n"
   ]
  },
  {
   "cell_type": "code",
   "execution_count": null,
   "id": "42",
   "metadata": {
    "papermill": {
     "duration": 0.006239,
     "end_time": "2024-10-10T16:02:51.350434",
     "exception": false,
     "start_time": "2024-10-10T16:02:51.344195",
     "status": "completed"
    },
    "tags": []
   },
   "outputs": [],
   "source": [
    "experimental_budget = 10\n",
    "i = 0\n",
    "# in case of smoke_test we don't run the actual optimization loop ...\n",
    "done = False if not SMOKE_TEST else True\n",
    "\n",
    "while not done:\n",
    "    i += 1\n",
    "    t1 = time.time()\n",
    "    # ask for a new experiment\n",
    "    new_candidate = sobo_strategy.ask(1)\n",
    "    new_experiment = evaluate_experiments(domain, new_candidate)\n",
    "    sobo_strategy.tell(new_experiment)\n",
    "    print(f\"Iteration took {(time.time()-t1):.2f} seconds\")\n",
    "    # inform the strategy about the new experiment\n",
    "    # experiments = pd.concat([experiments,new_experiment],ignore_index=True)\n",
    "    if i > experimental_budget:\n",
    "        done = True"
   ]
  },
  {
   "cell_type": "markdown",
   "id": "43",
   "metadata": {
    "papermill": {
     "duration": 0.002883,
     "end_time": "2024-10-10T16:02:51.356216",
     "exception": false,
     "start_time": "2024-10-10T16:02:51.353333",
     "status": "completed"
    },
    "tags": []
   },
   "source": [
    "### investigating results"
   ]
  },
  {
   "cell_type": "code",
   "execution_count": null,
   "id": "44",
   "metadata": {
    "papermill": {
     "duration": 0.007634,
     "end_time": "2024-10-10T16:02:51.366994",
     "exception": false,
     "start_time": "2024-10-10T16:02:51.359360",
     "status": "completed"
    },
    "tags": []
   },
   "outputs": [
    {
     "data": {
      "text/html": [
       "<div>\n",
       "<style scoped>\n",
       "    .dataframe tbody tr th:only-of-type {\n",
       "        vertical-align: middle;\n",
       "    }\n",
       "\n",
       "    .dataframe tbody tr th {\n",
       "        vertical-align: top;\n",
       "    }\n",
       "\n",
       "    .dataframe thead th {\n",
       "        text-align: right;\n",
       "    }\n",
       "</style>\n",
       "<table border=\"1\" class=\"dataframe\">\n",
       "  <thead>\n",
       "    <tr style=\"text-align: right;\">\n",
       "      <th></th>\n",
       "      <th>Temperature</th>\n",
       "      <th>Solvent Volume</th>\n",
       "      <th>Yield</th>\n",
       "      <th>Solvent Type</th>\n",
       "      <th>valid_Yield</th>\n",
       "    </tr>\n",
       "  </thead>\n",
       "  <tbody>\n",
       "    <tr>\n",
       "      <th>0</th>\n",
       "      <td>18.111664</td>\n",
       "      <td>75.090131</td>\n",
       "      <td>16.038616</td>\n",
       "      <td>THF</td>\n",
       "      <td>True</td>\n",
       "    </tr>\n",
       "    <tr>\n",
       "      <th>1</th>\n",
       "      <td>50.048569</td>\n",
       "      <td>26.340833</td>\n",
       "      <td>39.970295</td>\n",
       "      <td>MeOH</td>\n",
       "      <td>True</td>\n",
       "    </tr>\n",
       "    <tr>\n",
       "      <th>2</th>\n",
       "      <td>49.440374</td>\n",
       "      <td>84.496554</td>\n",
       "      <td>45.839142</td>\n",
       "      <td>MeOH</td>\n",
       "      <td>True</td>\n",
       "    </tr>\n",
       "    <tr>\n",
       "      <th>3</th>\n",
       "      <td>27.959654</td>\n",
       "      <td>62.219315</td>\n",
       "      <td>15.311189</td>\n",
       "      <td>Dioxane</td>\n",
       "      <td>True</td>\n",
       "    </tr>\n",
       "    <tr>\n",
       "      <th>4</th>\n",
       "      <td>6.740230</td>\n",
       "      <td>36.527079</td>\n",
       "      <td>11.390565</td>\n",
       "      <td>THF</td>\n",
       "      <td>True</td>\n",
       "    </tr>\n",
       "  </tbody>\n",
       "</table>\n",
       "</div>"
      ],
      "text/plain": [
       "   Temperature  Solvent Volume      Yield Solvent Type  valid_Yield\n",
       "0    18.111664       75.090131  16.038616          THF         True\n",
       "1    50.048569       26.340833  39.970295         MeOH         True\n",
       "2    49.440374       84.496554  45.839142         MeOH         True\n",
       "3    27.959654       62.219315  15.311189      Dioxane         True\n",
       "4     6.740230       36.527079  11.390565          THF         True"
      ]
     },
     "execution_count": null,
     "metadata": {},
     "output_type": "execute_result"
    }
   ],
   "source": [
    "# you have access to the experiments here\n",
    "sobo_strategy.experiments"
   ]
  },
  {
   "cell_type": "code",
   "execution_count": null,
   "id": "45",
   "metadata": {
    "papermill": {
     "duration": 0.277281,
     "end_time": "2024-10-10T16:02:51.647390",
     "exception": false,
     "start_time": "2024-10-10T16:02:51.370109",
     "status": "completed"
    },
    "tags": []
   },
   "outputs": [
    {
     "data": {
      "text/plain": [
       "<Axes: >"
      ]
     },
     "execution_count": null,
     "metadata": {},
     "output_type": "execute_result"
    },
    {
     "data": {
      "image/png": "[encoded data removed]",
      "text/plain": [
       "<Figure size 640x480 with 1 Axes>"
      ]
     },
     "metadata": {},
     "output_type": "display_data"
    }
   ],
   "source": [
    "# quick plot of yield vs. Iteration\n",
    "sobo_strategy.experiments[\"Yield\"].plot()"
   ]
  },
  {
   "cell_type": "markdown",
   "id": "46",
   "metadata": {
    "papermill": {
     "duration": 0.003288,
     "end_time": "2024-10-10T16:02:51.654254",
     "exception": false,
     "start_time": "2024-10-10T16:02:51.650966",
     "status": "completed"
    },
    "tags": []
   },
   "source": [
    "### Exercises: \n",
    "* further analyze of the experiments. \n",
    "    * plot of Iteration vs. Y and best observed Y\n",
    "    * evaluation of final model w.r.t. Optimal conditions\n",
    "    * plot of final models' mean and variance as a function of the input parameters, perhaps different plots for each solvent, or in 3d as slices"
   ]
  }
 ],
 "metadata": {
  "kernelspec": {
   "display_name": "base",
   "language": "python",
   "name": "python3"
  },
  "language_info": {
   "codemirror_mode": {
    "name": "ipython",
    "version": 3
   },
   "file_extension": ".py",
   "mimetype": "text/x-python",
   "name": "python",
   "nbconvert_exporter": "python",
   "pygments_lexer": "ipython3",
   "version": "3.12.2"
  },
  "papermill": {
   "default_parameters": {},
   "duration": 6.459756,
   "end_time": "2024-10-10T16:02:52.378190",
   "environment_variables": {},
   "exception": null,
   "input_path": "/Users/radical-rhys/Radical/bofire/tutorials/basic_examples/Reaction_Optimization_Example.ipynb",
   "output_path": "/Users/radical-rhys/Radical/bofire/tutorials/basic_examples/Reaction_Optimization_Example.ipynb",
   "parameters": {},
   "start_time": "2024-10-10T16:02:45.918434",
   "version": "2.6.0"
  }
 },
 "nbformat": 4,
 "nbformat_minor": 5
}
