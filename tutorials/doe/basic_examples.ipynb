{
 "cells": [
  {
   "attachments": {},
   "cell_type": "markdown",
   "id": "0",
   "metadata": {
    "papermill": {
     "duration": 0.002411,
     "end_time": "2024-10-10T20:35:59.714416",
     "exception": false,
     "start_time": "2024-10-10T20:35:59.712005",
     "status": "completed"
    },
    "tags": []
   },
   "source": [
    "# Basic Examples for the DoE Subpackage\n",
    "\n",
    "The following example has been taken from the paper \"The construction of D- and I-optimal designs for mixture experiments with linear constraints on the components\" by R. Coetzer and L. M. Haines. "
   ]
  },
  {
   "cell_type": "code",
   "execution_count": null,
   "id": "1",
   "metadata": {
    "papermill": {
     "duration": 2.886753,
     "end_time": "2024-10-10T20:36:02.603166",
     "exception": false,
     "start_time": "2024-10-10T20:35:59.716413",
     "status": "completed"
    },
    "tags": []
   },
   "outputs": [
    {
     "name": "stderr",
     "output_type": "stream",
     "text": [
      "/Users/radical-rhys/Radical/bofire/bofire/utils/cheminformatics.py:24: UserWarning: mordred not installed. Mordred molecular descriptors cannot be used.\n",
      "  warnings.warn(\n"
     ]
    }
   ],
   "source": [
    "import matplotlib.pyplot as plt\n",
    "import numpy as np\n",
    "from matplotlib.ticker import FormatStrFormatter\n",
    "\n",
    "from bofire.data_models.constraints.api import (\n",
    "    InterpointEqualityConstraint,\n",
    "    LinearEqualityConstraint,\n",
    "    LinearInequalityConstraint,\n",
    "    NonlinearEqualityConstraint,\n",
    "    NonlinearInequalityConstraint,\n",
    ")\n",
    "from bofire.data_models.domain.api import Domain\n",
    "from bofire.data_models.features.api import ContinuousInput, ContinuousOutput\n",
    "from bofire.strategies.doe.design import find_local_max_ipopt"
   ]
  },
  {
   "attachments": {},
   "cell_type": "markdown",
   "id": "2",
   "metadata": {
    "papermill": {
     "duration": 0.001876,
     "end_time": "2024-10-10T20:36:02.606948",
     "exception": false,
     "start_time": "2024-10-10T20:36:02.605072",
     "status": "completed"
    },
    "tags": []
   },
   "source": [
    "## linear model"
   ]
  },
  {
   "cell_type": "code",
   "execution_count": null,
   "id": "3",
   "metadata": {
    "papermill": {
     "duration": 0.258445,
     "end_time": "2024-10-10T20:36:02.867393",
     "exception": true,
     "start_time": "2024-10-10T20:36:02.608948",
     "status": "failed"
    },
    "tags": []
   },
   "outputs": [
    {
     "ename": "TypeError",
     "evalue": "expected np.ndarray (got numpy.ndarray)",
     "output_type": "error",
     "traceback": [
      "\u001b[0;31m---------------------------------------------------------------------------\u001b[0m",
      "\u001b[0;31mTypeError\u001b[0m                                 Traceback (most recent call last)",
      "File \u001b[0;32m~/Radical/bofire/bofire/strategies/random.py:295\u001b[0m, in \u001b[0;36mRandomStrategy._sample_from_polytope\u001b[0;34m(domain, n, fallback_sampling_method, n_burnin, n_thinning, seed)\u001b[0m\n\u001b[1;32m    294\u001b[0m \u001b[38;5;28;01mtry\u001b[39;00m:\n\u001b[0;32m--> 295\u001b[0m     candidates \u001b[38;5;241m=\u001b[39m \u001b[43msample_q_batches_from_polytope\u001b[49m\u001b[43m(\u001b[49m\u001b[43m  \u001b[49m\u001b[38;5;66;43;03m# type: ignore\u001b[39;49;00m\n\u001b[1;32m    296\u001b[0m \u001b[43m        \u001b[49m\u001b[43mn\u001b[49m\u001b[38;5;241;43m=\u001b[39;49m\u001b[38;5;241;43m1\u001b[39;49m\u001b[43m,\u001b[49m\n\u001b[1;32m    297\u001b[0m \u001b[43m        \u001b[49m\u001b[43mq\u001b[49m\u001b[38;5;241;43m=\u001b[39;49m\u001b[43mn\u001b[49m\u001b[43m,\u001b[49m\n\u001b[1;32m    298\u001b[0m \u001b[43m        \u001b[49m\u001b[43mbounds\u001b[49m\u001b[38;5;241;43m=\u001b[39;49m\u001b[43mbounds\u001b[49m\u001b[38;5;241;43m.\u001b[39;49m\u001b[43mto\u001b[49m\u001b[43m(\u001b[49m\u001b[38;5;241;43m*\u001b[39;49m\u001b[38;5;241;43m*\u001b[39;49m\u001b[43mtkwargs\u001b[49m\u001b[43m)\u001b[49m\u001b[43m,\u001b[49m\n\u001b[1;32m    299\u001b[0m \u001b[43m        \u001b[49m\u001b[43minequality_constraints\u001b[49m\u001b[38;5;241;43m=\u001b[39;49m\u001b[43m(\u001b[49m\n\u001b[1;32m    300\u001b[0m \u001b[43m            \u001b[49m\u001b[43munfixed_ineqs\u001b[49m\u001b[43m \u001b[49m\u001b[38;5;28;43;01mif\u001b[39;49;00m\u001b[43m \u001b[49m\u001b[38;5;28;43mlen\u001b[39;49m\u001b[43m(\u001b[49m\u001b[43munfixed_ineqs\u001b[49m\u001b[43m)\u001b[49m\u001b[43m \u001b[49m\u001b[38;5;241;43m>\u001b[39;49m\u001b[43m \u001b[49m\u001b[38;5;241;43m0\u001b[39;49m\u001b[43m \u001b[49m\u001b[38;5;28;43;01melse\u001b[39;49;00m\u001b[43m \u001b[49m\u001b[38;5;28;43;01mNone\u001b[39;49;00m\u001b[43m  \u001b[49m\u001b[38;5;66;43;03m# type: ignore\u001b[39;49;00m\n\u001b[1;32m    301\u001b[0m \u001b[43m        \u001b[49m\u001b[43m)\u001b[49m\u001b[43m,\u001b[49m\n\u001b[1;32m    302\u001b[0m \u001b[43m        \u001b[49m\u001b[43mequality_constraints\u001b[49m\u001b[38;5;241;43m=\u001b[39;49m\u001b[43mcombined_eqs\u001b[49m\n\u001b[1;32m    303\u001b[0m \u001b[43m        \u001b[49m\u001b[38;5;28;43;01mif\u001b[39;49;00m\u001b[43m \u001b[49m\u001b[38;5;28;43mlen\u001b[39;49m\u001b[43m(\u001b[49m\u001b[43mcombined_eqs\u001b[49m\u001b[43m)\u001b[49m\u001b[43m \u001b[49m\u001b[38;5;241;43m>\u001b[39;49m\u001b[43m \u001b[49m\u001b[38;5;241;43m0\u001b[39;49m\n\u001b[1;32m    304\u001b[0m \u001b[43m        \u001b[49m\u001b[38;5;28;43;01melse\u001b[39;49;00m\u001b[43m \u001b[49m\u001b[38;5;28;43;01mNone\u001b[39;49;00m\u001b[43m,\u001b[49m\n\u001b[1;32m    305\u001b[0m \u001b[43m        \u001b[49m\u001b[43mn_burnin\u001b[49m\u001b[38;5;241;43m=\u001b[39;49m\u001b[43mn_burnin\u001b[49m\u001b[43m,\u001b[49m\n\u001b[1;32m    306\u001b[0m \u001b[43m        \u001b[49m\u001b[43mthinning\u001b[49m\u001b[38;5;241;43m=\u001b[39;49m\u001b[43mn_thinning\u001b[49m\u001b[43m,\u001b[49m\u001b[43m  \u001b[49m\u001b[38;5;66;43;03m# type: ignore\u001b[39;49;00m\n\u001b[1;32m    307\u001b[0m \u001b[43m        \u001b[49m\u001b[43mseed\u001b[49m\u001b[38;5;241;43m=\u001b[39;49m\u001b[43mseed\u001b[49m\u001b[43m,\u001b[49m\n\u001b[1;32m    308\u001b[0m \u001b[43m    \u001b[49m\u001b[43m)\u001b[49m\u001b[38;5;241m.\u001b[39msqueeze(dim\u001b[38;5;241m=\u001b[39m\u001b[38;5;241m0\u001b[39m)\n\u001b[1;32m    309\u001b[0m \u001b[38;5;28;01mexcept\u001b[39;00m \u001b[38;5;167;01mTypeError\u001b[39;00m:\n",
      "\u001b[0;31mTypeError\u001b[0m: sample_q_batches_from_polytope() got an unexpected keyword argument 'thinning'",
      "\nDuring handling of the above exception, another exception occurred:\n",
      "\u001b[0;31mTypeError\u001b[0m                                 Traceback (most recent call last)",
      "Cell \u001b[0;32mIn[2], line 20\u001b[0m\n\u001b[1;32m      1\u001b[0m domain \u001b[38;5;241m=\u001b[39m Domain(\n\u001b[1;32m      2\u001b[0m     inputs\u001b[38;5;241m=\u001b[39m[\n\u001b[1;32m      3\u001b[0m         ContinuousInput(key\u001b[38;5;241m=\u001b[39m\u001b[38;5;124m\"\u001b[39m\u001b[38;5;124mx1\u001b[39m\u001b[38;5;124m\"\u001b[39m, bounds\u001b[38;5;241m=\u001b[39m(\u001b[38;5;241m0\u001b[39m, \u001b[38;5;241m1\u001b[39m)),\n\u001b[0;32m   (...)\u001b[0m\n\u001b[1;32m     16\u001b[0m     ],\n\u001b[1;32m     17\u001b[0m )\n\u001b[1;32m     19\u001b[0m d_optimal_design \u001b[38;5;241m=\u001b[39m (\n\u001b[0;32m---> 20\u001b[0m     \u001b[43mfind_local_max_ipopt\u001b[49m\u001b[43m(\u001b[49m\u001b[43mdomain\u001b[49m\u001b[43m,\u001b[49m\u001b[43m \u001b[49m\u001b[38;5;124;43m\"\u001b[39;49m\u001b[38;5;124;43mlinear\u001b[39;49m\u001b[38;5;124;43m\"\u001b[39;49m\u001b[43m,\u001b[49m\u001b[43m \u001b[49m\u001b[43mn_experiments\u001b[49m\u001b[38;5;241;43m=\u001b[39;49m\u001b[38;5;241;43m12\u001b[39;49m\u001b[43m,\u001b[49m\u001b[43m \u001b[49m\u001b[43mipopt_options\u001b[49m\u001b[38;5;241;43m=\u001b[39;49m\u001b[43m{\u001b[49m\u001b[38;5;124;43m\"\u001b[39;49m\u001b[38;5;124;43mdisp\u001b[39;49m\u001b[38;5;124;43m\"\u001b[39;49m\u001b[43m:\u001b[49m\u001b[43m \u001b[49m\u001b[38;5;241;43m0\u001b[39;49m\u001b[43m}\u001b[49m\u001b[43m)\u001b[49m\n\u001b[1;32m     21\u001b[0m     \u001b[38;5;241m.\u001b[39mto_numpy()\n\u001b[1;32m     22\u001b[0m     \u001b[38;5;241m.\u001b[39mT\n\u001b[1;32m     23\u001b[0m )\n",
      "File \u001b[0;32m~/Radical/bofire/bofire/strategies/doe/design.py:474\u001b[0m, in \u001b[0;36mfind_local_max_ipopt\u001b[0;34m(domain, model_type, n_experiments, delta, ipopt_options, sampling, fixed_experiments, partially_fixed_experiments, objective, transform_range)\u001b[0m\n\u001b[1;32m    472\u001b[0m \u001b[38;5;28;01mif\u001b[39;00m \u001b[38;5;28mlen\u001b[39m(domain\u001b[38;5;241m.\u001b[39mconstraints\u001b[38;5;241m.\u001b[39mget(NonlinearConstraint)) \u001b[38;5;241m==\u001b[39m \u001b[38;5;241m0\u001b[39m:\n\u001b[1;32m    473\u001b[0m     sampler \u001b[38;5;241m=\u001b[39m RandomStrategy(data_model\u001b[38;5;241m=\u001b[39mRandomStrategyDataModel(domain\u001b[38;5;241m=\u001b[39mdomain))\n\u001b[0;32m--> 474\u001b[0m     x0 \u001b[38;5;241m=\u001b[39m \u001b[43msampler\u001b[49m\u001b[38;5;241;43m.\u001b[39;49m\u001b[43mask\u001b[49m\u001b[43m(\u001b[49m\u001b[43mn_experiments\u001b[49m\u001b[43m)\u001b[49m\u001b[38;5;241m.\u001b[39mto_numpy()\u001b[38;5;241m.\u001b[39mflatten()\n\u001b[1;32m    475\u001b[0m \u001b[38;5;28;01melse\u001b[39;00m:\n\u001b[1;32m    476\u001b[0m     warnings\u001b[38;5;241m.\u001b[39mwarn(\n\u001b[1;32m    477\u001b[0m         \u001b[38;5;124m\"\u001b[39m\u001b[38;5;124mSampling failed. Falling back to uniform sampling on input domain.\u001b[39m\u001b[38;5;130;01m\\\u001b[39;00m\n\u001b[1;32m    478\u001b[0m \u001b[38;5;124m                  Providing a custom sampling strategy compatible with the problem can \u001b[39m\u001b[38;5;130;01m\\\u001b[39;00m\n\u001b[1;32m    479\u001b[0m \u001b[38;5;124m                  possibly improve performance.\u001b[39m\u001b[38;5;124m\"\u001b[39m\n\u001b[1;32m    480\u001b[0m     )\n",
      "File \u001b[0;32m~/Radical/bofire/bofire/strategies/strategy.py:117\u001b[0m, in \u001b[0;36mStrategy.ask\u001b[0;34m(self, candidate_count, add_pending, raise_validation_error)\u001b[0m\n\u001b[1;32m    112\u001b[0m \u001b[38;5;28;01mif\u001b[39;00m \u001b[38;5;129;01mnot\u001b[39;00m \u001b[38;5;28mself\u001b[39m\u001b[38;5;241m.\u001b[39mhas_sufficient_experiments():\n\u001b[1;32m    113\u001b[0m     \u001b[38;5;28;01mraise\u001b[39;00m \u001b[38;5;167;01mValueError\u001b[39;00m(\n\u001b[1;32m    114\u001b[0m         \u001b[38;5;124m\"\u001b[39m\u001b[38;5;124mNot enough experiments available to execute the strategy.\u001b[39m\u001b[38;5;124m\"\u001b[39m\n\u001b[1;32m    115\u001b[0m     )\n\u001b[0;32m--> 117\u001b[0m candidates \u001b[38;5;241m=\u001b[39m \u001b[38;5;28;43mself\u001b[39;49m\u001b[38;5;241;43m.\u001b[39;49m\u001b[43m_ask\u001b[49m\u001b[43m(\u001b[49m\u001b[43mcandidate_count\u001b[49m\u001b[38;5;241;43m=\u001b[39;49m\u001b[43mcandidate_count\u001b[49m\u001b[43m)\u001b[49m\n\u001b[1;32m    119\u001b[0m \u001b[38;5;28mself\u001b[39m\u001b[38;5;241m.\u001b[39mdomain\u001b[38;5;241m.\u001b[39mvalidate_candidates(\n\u001b[1;32m    120\u001b[0m     candidates\u001b[38;5;241m=\u001b[39mcandidates,\n\u001b[1;32m    121\u001b[0m     only_inputs\u001b[38;5;241m=\u001b[39m\u001b[38;5;28;01mTrue\u001b[39;00m,\n\u001b[1;32m    122\u001b[0m     raise_validation_error\u001b[38;5;241m=\u001b[39mraise_validation_error,\n\u001b[1;32m    123\u001b[0m )\n\u001b[1;32m    125\u001b[0m \u001b[38;5;28;01mif\u001b[39;00m candidate_count \u001b[38;5;129;01mis\u001b[39;00m \u001b[38;5;129;01mnot\u001b[39;00m \u001b[38;5;28;01mNone\u001b[39;00m:\n",
      "File \u001b[0;32m~/Radical/bofire/bofire/strategies/random.py:94\u001b[0m, in \u001b[0;36mRandomStrategy._ask\u001b[0;34m(self, candidate_count)\u001b[0m\n\u001b[1;32m     83\u001b[0m \u001b[38;5;66;03m# no nonlinear constraints present --> no rejection sampling needed\u001b[39;00m\n\u001b[1;32m     84\u001b[0m \u001b[38;5;28;01mif\u001b[39;00m \u001b[38;5;28mlen\u001b[39m(\u001b[38;5;28mself\u001b[39m\u001b[38;5;241m.\u001b[39mdomain\u001b[38;5;241m.\u001b[39mconstraints) \u001b[38;5;241m==\u001b[39m \u001b[38;5;28mlen\u001b[39m(\n\u001b[1;32m     85\u001b[0m     \u001b[38;5;28mself\u001b[39m\u001b[38;5;241m.\u001b[39mdomain\u001b[38;5;241m.\u001b[39mconstraints\u001b[38;5;241m.\u001b[39mget(\n\u001b[1;32m     86\u001b[0m         [\n\u001b[0;32m   (...)\u001b[0m\n\u001b[1;32m     92\u001b[0m     )\n\u001b[1;32m     93\u001b[0m ):\n\u001b[0;32m---> 94\u001b[0m     \u001b[38;5;28;01mreturn\u001b[39;00m \u001b[38;5;28;43mself\u001b[39;49m\u001b[38;5;241;43m.\u001b[39;49m\u001b[43m_sample_with_nchooseks\u001b[49m\u001b[43m(\u001b[49m\u001b[43mcandidate_count\u001b[49m\u001b[43m)\u001b[49m\n\u001b[1;32m     95\u001b[0m \u001b[38;5;66;03m# perform the rejection sampling\u001b[39;00m\n\u001b[1;32m     96\u001b[0m num_base_samples \u001b[38;5;241m=\u001b[39m \u001b[38;5;28mself\u001b[39m\u001b[38;5;241m.\u001b[39mnum_base_samples \u001b[38;5;129;01mor\u001b[39;00m candidate_count\n",
      "File \u001b[0;32m~/Radical/bofire/bofire/strategies/random.py:167\u001b[0m, in \u001b[0;36mRandomStrategy._sample_with_nchooseks\u001b[0;34m(self, candidate_count)\u001b[0m\n\u001b[1;32m    159\u001b[0m     samples \u001b[38;5;241m=\u001b[39m pd\u001b[38;5;241m.\u001b[39mconcat(samples, axis\u001b[38;5;241m=\u001b[39m\u001b[38;5;241m0\u001b[39m, ignore_index\u001b[38;5;241m=\u001b[39m\u001b[38;5;28;01mTrue\u001b[39;00m)\n\u001b[1;32m    160\u001b[0m     \u001b[38;5;28;01mreturn\u001b[39;00m samples\u001b[38;5;241m.\u001b[39msample(\n\u001b[1;32m    161\u001b[0m         n\u001b[38;5;241m=\u001b[39mcandidate_count,\n\u001b[1;32m    162\u001b[0m         replace\u001b[38;5;241m=\u001b[39m\u001b[38;5;28;01mFalse\u001b[39;00m,\n\u001b[1;32m    163\u001b[0m         ignore_index\u001b[38;5;241m=\u001b[39m\u001b[38;5;28;01mTrue\u001b[39;00m,\n\u001b[1;32m    164\u001b[0m         random_state\u001b[38;5;241m=\u001b[39m\u001b[38;5;28mself\u001b[39m\u001b[38;5;241m.\u001b[39m_get_seed(),\n\u001b[1;32m    165\u001b[0m     )\n\u001b[0;32m--> 167\u001b[0m \u001b[38;5;28;01mreturn\u001b[39;00m \u001b[38;5;28;43mself\u001b[39;49m\u001b[38;5;241;43m.\u001b[39;49m\u001b[43m_sample_from_polytope\u001b[49m\u001b[43m(\u001b[49m\n\u001b[1;32m    168\u001b[0m \u001b[43m    \u001b[49m\u001b[43mdomain\u001b[49m\u001b[38;5;241;43m=\u001b[39;49m\u001b[38;5;28;43mself\u001b[39;49m\u001b[38;5;241;43m.\u001b[39;49m\u001b[43mdomain\u001b[49m\u001b[43m,\u001b[49m\n\u001b[1;32m    169\u001b[0m \u001b[43m    \u001b[49m\u001b[43mfallback_sampling_method\u001b[49m\u001b[38;5;241;43m=\u001b[39;49m\u001b[38;5;28;43mself\u001b[39;49m\u001b[38;5;241;43m.\u001b[39;49m\u001b[43mfallback_sampling_method\u001b[49m\u001b[43m,\u001b[49m\n\u001b[1;32m    170\u001b[0m \u001b[43m    \u001b[49m\u001b[43mn_burnin\u001b[49m\u001b[38;5;241;43m=\u001b[39;49m\u001b[38;5;28;43mself\u001b[39;49m\u001b[38;5;241;43m.\u001b[39;49m\u001b[43mn_burnin\u001b[49m\u001b[43m,\u001b[49m\n\u001b[1;32m    171\u001b[0m \u001b[43m    \u001b[49m\u001b[43mn_thinning\u001b[49m\u001b[38;5;241;43m=\u001b[39;49m\u001b[38;5;28;43mself\u001b[39;49m\u001b[38;5;241;43m.\u001b[39;49m\u001b[43mn_thinning\u001b[49m\u001b[43m,\u001b[49m\n\u001b[1;32m    172\u001b[0m \u001b[43m    \u001b[49m\u001b[43mseed\u001b[49m\u001b[38;5;241;43m=\u001b[39;49m\u001b[38;5;28;43mself\u001b[39;49m\u001b[38;5;241;43m.\u001b[39;49m\u001b[43m_get_seed\u001b[49m\u001b[43m(\u001b[49m\u001b[43m)\u001b[49m\u001b[43m,\u001b[49m\n\u001b[1;32m    173\u001b[0m \u001b[43m    \u001b[49m\u001b[43mn\u001b[49m\u001b[38;5;241;43m=\u001b[39;49m\u001b[43mcandidate_count\u001b[49m\u001b[43m,\u001b[49m\n\u001b[1;32m    174\u001b[0m \u001b[43m\u001b[49m\u001b[43m)\u001b[49m\n",
      "File \u001b[0;32m~/Radical/bofire/bofire/strategies/random.py:310\u001b[0m, in \u001b[0;36mRandomStrategy._sample_from_polytope\u001b[0;34m(domain, n, fallback_sampling_method, n_burnin, n_thinning, seed)\u001b[0m\n\u001b[1;32m    295\u001b[0m     candidates \u001b[38;5;241m=\u001b[39m sample_q_batches_from_polytope(  \u001b[38;5;66;03m# type: ignore\u001b[39;00m\n\u001b[1;32m    296\u001b[0m         n\u001b[38;5;241m=\u001b[39m\u001b[38;5;241m1\u001b[39m,\n\u001b[1;32m    297\u001b[0m         q\u001b[38;5;241m=\u001b[39mn,\n\u001b[0;32m   (...)\u001b[0m\n\u001b[1;32m    307\u001b[0m         seed\u001b[38;5;241m=\u001b[39mseed,\n\u001b[1;32m    308\u001b[0m     )\u001b[38;5;241m.\u001b[39msqueeze(dim\u001b[38;5;241m=\u001b[39m\u001b[38;5;241m0\u001b[39m)\n\u001b[1;32m    309\u001b[0m \u001b[38;5;28;01mexcept\u001b[39;00m \u001b[38;5;167;01mTypeError\u001b[39;00m:\n\u001b[0;32m--> 310\u001b[0m     candidates \u001b[38;5;241m=\u001b[39m \u001b[43msample_q_batches_from_polytope\u001b[49m\u001b[43m(\u001b[49m\n\u001b[1;32m    311\u001b[0m \u001b[43m        \u001b[49m\u001b[43mn\u001b[49m\u001b[38;5;241;43m=\u001b[39;49m\u001b[38;5;241;43m1\u001b[39;49m\u001b[43m,\u001b[49m\n\u001b[1;32m    312\u001b[0m \u001b[43m        \u001b[49m\u001b[43mq\u001b[49m\u001b[38;5;241;43m=\u001b[39;49m\u001b[43mn\u001b[49m\u001b[43m,\u001b[49m\n\u001b[1;32m    313\u001b[0m \u001b[43m        \u001b[49m\u001b[43mbounds\u001b[49m\u001b[38;5;241;43m=\u001b[39;49m\u001b[43mbounds\u001b[49m\u001b[38;5;241;43m.\u001b[39;49m\u001b[43mto\u001b[49m\u001b[43m(\u001b[49m\u001b[38;5;241;43m*\u001b[39;49m\u001b[38;5;241;43m*\u001b[39;49m\u001b[43mtkwargs\u001b[49m\u001b[43m)\u001b[49m\u001b[43m,\u001b[49m\n\u001b[1;32m    314\u001b[0m \u001b[43m        \u001b[49m\u001b[43minequality_constraints\u001b[49m\u001b[38;5;241;43m=\u001b[39;49m\u001b[43m(\u001b[49m\n\u001b[1;32m    315\u001b[0m \u001b[43m            \u001b[49m\u001b[43munfixed_ineqs\u001b[49m\u001b[43m \u001b[49m\u001b[38;5;28;43;01mif\u001b[39;49;00m\u001b[43m \u001b[49m\u001b[38;5;28;43mlen\u001b[39;49m\u001b[43m(\u001b[49m\u001b[43munfixed_ineqs\u001b[49m\u001b[43m)\u001b[49m\u001b[43m \u001b[49m\u001b[38;5;241;43m>\u001b[39;49m\u001b[43m \u001b[49m\u001b[38;5;241;43m0\u001b[39;49m\u001b[43m \u001b[49m\u001b[38;5;28;43;01melse\u001b[39;49;00m\u001b[43m \u001b[49m\u001b[38;5;28;43;01mNone\u001b[39;49;00m\u001b[43m  \u001b[49m\u001b[38;5;66;43;03m# type: ignore\u001b[39;49;00m\n\u001b[1;32m    316\u001b[0m \u001b[43m        \u001b[49m\u001b[43m)\u001b[49m\u001b[43m,\u001b[49m\n\u001b[1;32m    317\u001b[0m \u001b[43m        \u001b[49m\u001b[43mequality_constraints\u001b[49m\u001b[38;5;241;43m=\u001b[39;49m\u001b[43mcombined_eqs\u001b[49m\n\u001b[1;32m    318\u001b[0m \u001b[43m        \u001b[49m\u001b[38;5;28;43;01mif\u001b[39;49;00m\u001b[43m \u001b[49m\u001b[38;5;28;43mlen\u001b[39;49m\u001b[43m(\u001b[49m\u001b[43mcombined_eqs\u001b[49m\u001b[43m)\u001b[49m\u001b[43m \u001b[49m\u001b[38;5;241;43m>\u001b[39;49m\u001b[43m \u001b[49m\u001b[38;5;241;43m0\u001b[39;49m\n\u001b[1;32m    319\u001b[0m \u001b[43m        \u001b[49m\u001b[38;5;28;43;01melse\u001b[39;49;00m\u001b[43m \u001b[49m\u001b[38;5;28;43;01mNone\u001b[39;49;00m\u001b[43m,\u001b[49m\n\u001b[1;32m    320\u001b[0m \u001b[43m        \u001b[49m\u001b[43mn_burnin\u001b[49m\u001b[38;5;241;43m=\u001b[39;49m\u001b[43mn_burnin\u001b[49m\u001b[43m,\u001b[49m\n\u001b[1;32m    321\u001b[0m \u001b[43m        \u001b[49m\u001b[43mn_thinning\u001b[49m\u001b[38;5;241;43m=\u001b[39;49m\u001b[43mn_thinning\u001b[49m\u001b[43m,\u001b[49m\n\u001b[1;32m    322\u001b[0m \u001b[43m        \u001b[49m\u001b[43mseed\u001b[49m\u001b[38;5;241;43m=\u001b[39;49m\u001b[43mseed\u001b[49m\u001b[43m,\u001b[49m\n\u001b[1;32m    323\u001b[0m \u001b[43m    \u001b[49m\u001b[43m)\u001b[49m\u001b[38;5;241m.\u001b[39msqueeze(dim\u001b[38;5;241m=\u001b[39m\u001b[38;5;241m0\u001b[39m)\n\u001b[1;32m    325\u001b[0m \u001b[38;5;66;03m# check that the random generated candidates are not always the same\u001b[39;00m\n\u001b[1;32m    326\u001b[0m \u001b[38;5;28;01mif\u001b[39;00m (candidates\u001b[38;5;241m.\u001b[39munique(dim\u001b[38;5;241m=\u001b[39m\u001b[38;5;241m0\u001b[39m)\u001b[38;5;241m.\u001b[39mshape[\u001b[38;5;241m0\u001b[39m] \u001b[38;5;241m!=\u001b[39m n) \u001b[38;5;129;01mand\u001b[39;00m (n \u001b[38;5;241m>\u001b[39m \u001b[38;5;241m1\u001b[39m):\n",
      "File \u001b[0;32m~/miniconda/lib/python3.12/site-packages/botorch/optim/initializers.py:231\u001b[0m, in \u001b[0;36msample_q_batches_from_polytope\u001b[0;34m(n, q, bounds, n_burnin, n_thinning, seed, inequality_constraints, equality_constraints)\u001b[0m\n\u001b[1;32m    217\u001b[0m     samples \u001b[38;5;241m=\u001b[39m get_polytope_samples(\n\u001b[1;32m    218\u001b[0m         n\u001b[38;5;241m=\u001b[39mn,\n\u001b[1;32m    219\u001b[0m         bounds\u001b[38;5;241m=\u001b[39mtorch\u001b[38;5;241m.\u001b[39mhstack([bounds \u001b[38;5;28;01mfor\u001b[39;00m _ \u001b[38;5;129;01min\u001b[39;00m \u001b[38;5;28mrange\u001b[39m(q)]),\n\u001b[0;32m   (...)\u001b[0m\n\u001b[1;32m    228\u001b[0m         n_thinning\u001b[38;5;241m=\u001b[39mn_thinning \u001b[38;5;241m*\u001b[39m q,\n\u001b[1;32m    229\u001b[0m     )\n\u001b[1;32m    230\u001b[0m \u001b[38;5;28;01melse\u001b[39;00m:\n\u001b[0;32m--> 231\u001b[0m     samples \u001b[38;5;241m=\u001b[39m \u001b[43mget_polytope_samples\u001b[49m\u001b[43m(\u001b[49m\n\u001b[1;32m    232\u001b[0m \u001b[43m        \u001b[49m\u001b[43mn\u001b[49m\u001b[38;5;241;43m=\u001b[39;49m\u001b[43mn\u001b[49m\u001b[43m \u001b[49m\u001b[38;5;241;43m*\u001b[39;49m\u001b[43m \u001b[49m\u001b[43mq\u001b[49m\u001b[43m,\u001b[49m\n\u001b[1;32m    233\u001b[0m \u001b[43m        \u001b[49m\u001b[43mbounds\u001b[49m\u001b[38;5;241;43m=\u001b[39;49m\u001b[43mbounds\u001b[49m\u001b[43m,\u001b[49m\n\u001b[1;32m    234\u001b[0m \u001b[43m        \u001b[49m\u001b[43minequality_constraints\u001b[49m\u001b[38;5;241;43m=\u001b[39;49m\u001b[43minequality_constraints\u001b[49m\u001b[43m,\u001b[49m\n\u001b[1;32m    235\u001b[0m \u001b[43m        \u001b[49m\u001b[43mequality_constraints\u001b[49m\u001b[38;5;241;43m=\u001b[39;49m\u001b[43mequality_constraints\u001b[49m\u001b[43m,\u001b[49m\n\u001b[1;32m    236\u001b[0m \u001b[43m        \u001b[49m\u001b[43mseed\u001b[49m\u001b[38;5;241;43m=\u001b[39;49m\u001b[43mseed\u001b[49m\u001b[43m,\u001b[49m\n\u001b[1;32m    237\u001b[0m \u001b[43m        \u001b[49m\u001b[43mn_burnin\u001b[49m\u001b[38;5;241;43m=\u001b[39;49m\u001b[43mn_burnin\u001b[49m\u001b[43m,\u001b[49m\n\u001b[1;32m    238\u001b[0m \u001b[43m        \u001b[49m\u001b[43mn_thinning\u001b[49m\u001b[38;5;241;43m=\u001b[39;49m\u001b[43mn_thinning\u001b[49m\u001b[43m,\u001b[49m\n\u001b[1;32m    239\u001b[0m \u001b[43m    \u001b[49m\u001b[43m)\u001b[49m\n\u001b[1;32m    240\u001b[0m \u001b[38;5;28;01mreturn\u001b[39;00m samples\u001b[38;5;241m.\u001b[39mview(n, q, \u001b[38;5;241m-\u001b[39m\u001b[38;5;241m1\u001b[39m)\u001b[38;5;241m.\u001b[39mcpu()\n",
      "File \u001b[0;32m~/miniconda/lib/python3.12/site-packages/botorch/utils/sampling.py:948\u001b[0m, in \u001b[0;36mget_polytope_samples\u001b[0;34m(n, bounds, inequality_constraints, equality_constraints, seed, n_burnin, n_thinning)\u001b[0m\n\u001b[1;32m    946\u001b[0m \u001b[38;5;28;01melse\u001b[39;00m:\n\u001b[1;32m    947\u001b[0m     dense_equality_constraints \u001b[38;5;241m=\u001b[39m \u001b[38;5;28;01mNone\u001b[39;00m\n\u001b[0;32m--> 948\u001b[0m polytope_sampler \u001b[38;5;241m=\u001b[39m \u001b[43mHitAndRunPolytopeSampler\u001b[49m\u001b[43m(\u001b[49m\n\u001b[1;32m    949\u001b[0m \u001b[43m    \u001b[49m\u001b[43mbounds\u001b[49m\u001b[38;5;241;43m=\u001b[39;49m\u001b[43mbounds\u001b[49m\u001b[43m,\u001b[49m\n\u001b[1;32m    950\u001b[0m \u001b[43m    \u001b[49m\u001b[43minequality_constraints\u001b[49m\u001b[38;5;241;43m=\u001b[39;49m\u001b[43mdense_inequality_constraints\u001b[49m\u001b[43m,\u001b[49m\n\u001b[1;32m    951\u001b[0m \u001b[43m    \u001b[49m\u001b[43mequality_constraints\u001b[49m\u001b[38;5;241;43m=\u001b[39;49m\u001b[43mdense_equality_constraints\u001b[49m\u001b[43m,\u001b[49m\n\u001b[1;32m    952\u001b[0m \u001b[43m    \u001b[49m\u001b[43mn_burnin\u001b[49m\u001b[38;5;241;43m=\u001b[39;49m\u001b[43mn_burnin\u001b[49m\u001b[43m,\u001b[49m\n\u001b[1;32m    953\u001b[0m \u001b[43m    \u001b[49m\u001b[43mn_thinning\u001b[49m\u001b[38;5;241;43m=\u001b[39;49m\u001b[43mn_thinning\u001b[49m\u001b[43m,\u001b[49m\n\u001b[1;32m    954\u001b[0m \u001b[43m    \u001b[49m\u001b[43mseed\u001b[49m\u001b[38;5;241;43m=\u001b[39;49m\u001b[43mseed\u001b[49m\u001b[43m,\u001b[49m\n\u001b[1;32m    955\u001b[0m \u001b[43m\u001b[49m\u001b[43m)\u001b[49m\n\u001b[1;32m    956\u001b[0m \u001b[38;5;28;01mreturn\u001b[39;00m polytope_sampler\u001b[38;5;241m.\u001b[39mdraw(n\u001b[38;5;241m=\u001b[39mn)\n",
      "File \u001b[0;32m~/miniconda/lib/python3.12/site-packages/botorch/utils/sampling.py:654\u001b[0m, in \u001b[0;36mHitAndRunPolytopeSampler.__init__\u001b[0;34m(self, inequality_constraints, equality_constraints, bounds, interior_point, n_burnin, n_thinning, seed)\u001b[0m\n\u001b[1;32m    651\u001b[0m         bounds \u001b[38;5;241m=\u001b[39m torch\u001b[38;5;241m.\u001b[39mzeros_like(bounds)\n\u001b[1;32m    652\u001b[0m         bounds[\u001b[38;5;241m1\u001b[39m, :] \u001b[38;5;241m=\u001b[39m \u001b[38;5;241m1.0\u001b[39m\n\u001b[0;32m--> 654\u001b[0m \u001b[38;5;28;43msuper\u001b[39;49m\u001b[43m(\u001b[49m\u001b[43m)\u001b[49m\u001b[38;5;241;43m.\u001b[39;49m\u001b[38;5;21;43m__init__\u001b[39;49m\u001b[43m(\u001b[49m\n\u001b[1;32m    655\u001b[0m \u001b[43m    \u001b[49m\u001b[43minequality_constraints\u001b[49m\u001b[38;5;241;43m=\u001b[39;49m\u001b[43minequality_constraints\u001b[49m\u001b[43m,\u001b[49m\n\u001b[1;32m    656\u001b[0m \u001b[43m    \u001b[49m\u001b[43mequality_constraints\u001b[49m\u001b[38;5;241;43m=\u001b[39;49m\u001b[43mequality_constraints\u001b[49m\u001b[43m,\u001b[49m\n\u001b[1;32m    657\u001b[0m \u001b[43m    \u001b[49m\u001b[43mbounds\u001b[49m\u001b[38;5;241;43m=\u001b[39;49m\u001b[43mbounds\u001b[49m\u001b[43m,\u001b[49m\n\u001b[1;32m    658\u001b[0m \u001b[43m    \u001b[49m\u001b[43minterior_point\u001b[49m\u001b[38;5;241;43m=\u001b[39;49m\u001b[43minterior_point\u001b[49m\u001b[43m,\u001b[49m\n\u001b[1;32m    659\u001b[0m \u001b[43m\u001b[49m\u001b[43m)\u001b[49m\n\u001b[1;32m    660\u001b[0m \u001b[38;5;28mself\u001b[39m\u001b[38;5;241m.\u001b[39mn_burnin: \u001b[38;5;28mint\u001b[39m \u001b[38;5;241m=\u001b[39m n_burnin\n\u001b[1;32m    661\u001b[0m \u001b[38;5;28mself\u001b[39m\u001b[38;5;241m.\u001b[39mn_thinning: \u001b[38;5;28mint\u001b[39m \u001b[38;5;241m=\u001b[39m n_thinning\n",
      "File \u001b[0;32m~/miniconda/lib/python3.12/site-packages/botorch/utils/sampling.py:528\u001b[0m, in \u001b[0;36mPolytopeSampler.__init__\u001b[0;34m(self, inequality_constraints, equality_constraints, bounds, interior_point)\u001b[0m\n\u001b[1;32m    526\u001b[0m         \u001b[38;5;28;01mraise\u001b[39;00m \u001b[38;5;167;01mValueError\u001b[39;00m(\u001b[38;5;124m\"\u001b[39m\u001b[38;5;124mThe given input point is not feasible.\u001b[39m\u001b[38;5;124m\"\u001b[39m)\n\u001b[1;32m    527\u001b[0m \u001b[38;5;28;01melse\u001b[39;00m:\n\u001b[0;32m--> 528\u001b[0m     \u001b[38;5;28mself\u001b[39m\u001b[38;5;241m.\u001b[39mx0 \u001b[38;5;241m=\u001b[39m \u001b[38;5;28;43mself\u001b[39;49m\u001b[38;5;241;43m.\u001b[39;49m\u001b[43mfind_interior_point\u001b[49m\u001b[43m(\u001b[49m\u001b[43m)\u001b[49m\n",
      "File \u001b[0;32m~/miniconda/lib/python3.12/site-packages/botorch/utils/sampling.py:564\u001b[0m, in \u001b[0;36mPolytopeSampler.find_interior_point\u001b[0;34m(self)\u001b[0m\n\u001b[1;32m    560\u001b[0m     b_eq \u001b[38;5;241m=\u001b[39m \u001b[38;5;28;01mNone\u001b[39;00m\n\u001b[1;32m    561\u001b[0m x0 \u001b[38;5;241m=\u001b[39m find_interior_point(\n\u001b[1;32m    562\u001b[0m     A\u001b[38;5;241m=\u001b[39m\u001b[38;5;28mself\u001b[39m\u001b[38;5;241m.\u001b[39mA\u001b[38;5;241m.\u001b[39mcpu()\u001b[38;5;241m.\u001b[39mnumpy(), b\u001b[38;5;241m=\u001b[39m\u001b[38;5;28mself\u001b[39m\u001b[38;5;241m.\u001b[39mb\u001b[38;5;241m.\u001b[39mcpu()\u001b[38;5;241m.\u001b[39mnumpy(), A_eq\u001b[38;5;241m=\u001b[39mA_eq, b_eq\u001b[38;5;241m=\u001b[39mb_eq\n\u001b[1;32m    563\u001b[0m )\n\u001b[0;32m--> 564\u001b[0m \u001b[38;5;28;01mreturn\u001b[39;00m \u001b[43mtorch\u001b[49m\u001b[38;5;241;43m.\u001b[39;49m\u001b[43mfrom_numpy\u001b[49m\u001b[43m(\u001b[49m\u001b[43mx0\u001b[49m\u001b[43m)\u001b[49m\u001b[38;5;241m.\u001b[39mto(\u001b[38;5;28mself\u001b[39m\u001b[38;5;241m.\u001b[39mA)\u001b[38;5;241m.\u001b[39munsqueeze(\u001b[38;5;241m-\u001b[39m\u001b[38;5;241m1\u001b[39m)\n",
      "\u001b[0;31mTypeError\u001b[0m: expected np.ndarray (got numpy.ndarray)"
     ]
    }
   ],
   "source": [
    "domain = Domain(\n",
    "    inputs=[\n",
    "        ContinuousInput(key=\"x1\", bounds=(0, 1)),\n",
    "        ContinuousInput(key=\"x2\", bounds=(0.1, 1)),\n",
    "        ContinuousInput(key=\"x3\", bounds=(0, 0.6)),\n",
    "    ],\n",
    "    outputs=[ContinuousOutput(key=\"y\")],\n",
    "    constraints=[\n",
    "        LinearEqualityConstraint(\n",
    "            features=[\"x1\", \"x2\", \"x3\"], coefficients=[1, 1, 1], rhs=1\n",
    "        ),\n",
    "        LinearInequalityConstraint(features=[\"x1\", \"x2\"], coefficients=[5, 4], rhs=3.9),\n",
    "        LinearInequalityConstraint(\n",
    "            features=[\"x1\", \"x2\"], coefficients=[-20, 5], rhs=-3\n",
    "        ),\n",
    "    ],\n",
    ")\n",
    "\n",
    "d_optimal_design = (\n",
    "    find_local_max_ipopt(domain, \"linear\", n_experiments=12, ipopt_options={\"disp\": 0})\n",
    "    .to_numpy()\n",
    "    .T\n",
    ")"
   ]
  },
  {
   "cell_type": "code",
   "execution_count": null,
   "id": "4",
   "metadata": {
    "papermill": {
     "duration": null,
     "end_time": null,
     "exception": null,
     "start_time": null,
     "status": "pending"
    },
    "tags": []
   },
   "outputs": [],
   "source": [
    "fig = plt.figure(figsize=((10, 10)))\n",
    "ax = fig.add_subplot(111, projection=\"3d\")\n",
    "ax.view_init(45, 45)\n",
    "ax.set_title(\"Linear model\")\n",
    "ax.set_xlabel(\"$x_1$\")\n",
    "ax.set_ylabel(\"$x_2$\")\n",
    "ax.set_zlabel(\"$x_3$\")\n",
    "plt.rcParams[\"figure.figsize\"] = (10, 8)\n",
    "\n",
    "# plot feasible polytope\n",
    "ax.plot(\n",
    "    xs=[7 / 10, 3 / 10, 1 / 5, 3 / 10, 7 / 10],\n",
    "    ys=[1 / 10, 3 / 5, 1 / 5, 1 / 10, 1 / 10],\n",
    "    zs=[1 / 5, 1 / 10, 3 / 5, 3 / 5, 1 / 5],\n",
    "    linewidth=2,\n",
    ")\n",
    "\n",
    "# plot D-optimal solutions\n",
    "ax.scatter(\n",
    "    xs=d_optimal_design[0],\n",
    "    ys=d_optimal_design[1],\n",
    "    zs=d_optimal_design[2],\n",
    "    marker=\"o\",\n",
    "    s=40,\n",
    "    color=\"orange\",\n",
    "    label=\"optimal_design solution, 12 points\",\n",
    ")\n",
    "\n",
    "plt.legend()"
   ]
  },
  {
   "attachments": {},
   "cell_type": "markdown",
   "id": "5",
   "metadata": {
    "papermill": {
     "duration": null,
     "end_time": null,
     "exception": null,
     "start_time": null,
     "status": "pending"
    },
    "tags": []
   },
   "source": [
    "## cubic model"
   ]
  },
  {
   "cell_type": "code",
   "execution_count": null,
   "id": "6",
   "metadata": {
    "papermill": {
     "duration": null,
     "end_time": null,
     "exception": null,
     "start_time": null,
     "status": "pending"
    },
    "tags": []
   },
   "outputs": [],
   "source": [
    "d_optimal_design = (\n",
    "    find_local_max_ipopt(\n",
    "        domain,\n",
    "        \"x1 + x2 + x3 + {x1**2} + {x2**2} + {x3**2} + {x1**3} + {x2**3} + {x3**3} + x1:x2 + x1:x3 + x2:x3 + x1:x2:x3\",\n",
    "        n_experiments=12,\n",
    "    )\n",
    "    .to_numpy()\n",
    "    .T\n",
    ")\n",
    "\n",
    "d_opt = np.array(\n",
    "    [\n",
    "        [\n",
    "            0.7,\n",
    "            0.3,\n",
    "            0.2,\n",
    "            0.3,\n",
    "            0.5902,\n",
    "            0.4098,\n",
    "            0.2702,\n",
    "            0.2279,\n",
    "            0.4118,\n",
    "            0.5738,\n",
    "            0.4211,\n",
    "            0.3360,\n",
    "        ],\n",
    "        [0.1, 0.6, 0.2, 0.1, 0.2373, 0.4628, 0.4808, 0.3117, 0.1, 0.1, 0.2911, 0.2264],\n",
    "        [\n",
    "            0.2,\n",
    "            0.1,\n",
    "            0.6,\n",
    "            0.6,\n",
    "            0.1725,\n",
    "            0.1274,\n",
    "            0.249,\n",
    "            0.4604,\n",
    "            0.4882,\n",
    "            0.3262,\n",
    "            0.2878,\n",
    "            0.4376,\n",
    "        ],\n",
    "    ]\n",
    ")  # values taken from paper\n",
    "\n",
    "\n",
    "fig = plt.figure(figsize=((10, 10)))\n",
    "ax = fig.add_subplot(111, projection=\"3d\")\n",
    "ax.set_title(\"cubic model\")\n",
    "ax.view_init(45, 45)\n",
    "ax.set_xlabel(\"$x_1$\")\n",
    "ax.set_ylabel(\"$x_2$\")\n",
    "ax.set_zlabel(\"$x_3$\")\n",
    "plt.rcParams[\"figure.figsize\"] = (10, 8)\n",
    "\n",
    "# plot feasible polytope\n",
    "ax.plot(\n",
    "    xs=[7 / 10, 3 / 10, 1 / 5, 3 / 10, 7 / 10],\n",
    "    ys=[1 / 10, 3 / 5, 1 / 5, 1 / 10, 1 / 10],\n",
    "    zs=[1 / 5, 1 / 10, 3 / 5, 3 / 5, 1 / 5],\n",
    "    linewidth=2,\n",
    ")\n",
    "\n",
    "# plot D-optimal solution\n",
    "ax.scatter(\n",
    "    xs=d_opt[0],\n",
    "    ys=d_opt[1],\n",
    "    zs=d_opt[2],\n",
    "    marker=\"o\",\n",
    "    s=40,\n",
    "    color=\"darkgreen\",\n",
    "    label=\"D-optimal design, 12 points\",\n",
    ")\n",
    "\n",
    "ax.scatter(\n",
    "    xs=d_optimal_design[0],\n",
    "    ys=d_optimal_design[1],\n",
    "    zs=d_optimal_design[2],\n",
    "    marker=\"o\",\n",
    "    s=40,\n",
    "    color=\"orange\",\n",
    "    label=\"optimal_design solution, 12 points\",\n",
    ")\n",
    "\n",
    "plt.legend()"
   ]
  },
  {
   "attachments": {},
   "cell_type": "markdown",
   "id": "7",
   "metadata": {
    "papermill": {
     "duration": null,
     "end_time": null,
     "exception": null,
     "start_time": null,
     "status": "pending"
    },
    "tags": []
   },
   "source": [
    "## Nonlinear Constraints\n",
    "\n",
    "IPOPT also supports nonlinear constraints. This notebook shows examples of design optimizations with nonlinear constraints."
   ]
  },
  {
   "cell_type": "code",
   "execution_count": null,
   "id": "8",
   "metadata": {
    "papermill": {
     "duration": null,
     "end_time": null,
     "exception": null,
     "start_time": null,
     "status": "pending"
    },
    "tags": []
   },
   "outputs": [],
   "source": [
    "def plot_results_3d(result, surface_func):\n",
    "    u, v = np.mgrid[0 : 2 * np.pi : 100j, 0 : np.pi : 80j]\n",
    "    X = np.cos(u) * np.sin(v)\n",
    "    Y = np.sin(u) * np.sin(v)\n",
    "    Z = surface_func(X, Y)\n",
    "\n",
    "    fig = plt.figure(figsize=(8, 8))\n",
    "    ax = fig.add_subplot(111, projection=\"3d\")\n",
    "    ax.plot_surface(X, Y, Z, alpha=0.3)\n",
    "    ax.scatter(\n",
    "        xs=result[\"x1\"],\n",
    "        ys=result[\"x2\"],\n",
    "        zs=result[\"x3\"],\n",
    "        marker=\"o\",\n",
    "        s=40,\n",
    "        color=\"red\",\n",
    "    )\n",
    "    ax.set(xlabel=\"x1\", ylabel=\"x2\", zlabel=\"x3\")\n",
    "    ax.xaxis.set_major_formatter(FormatStrFormatter(\"%.2f\"))\n",
    "    ax.yaxis.set_major_formatter(FormatStrFormatter(\"%.2f\"))"
   ]
  },
  {
   "attachments": {},
   "cell_type": "markdown",
   "id": "9",
   "metadata": {
    "papermill": {
     "duration": null,
     "end_time": null,
     "exception": null,
     "start_time": null,
     "status": "pending"
    },
    "tags": []
   },
   "source": [
    "### Example 1: Design inside a cone / nonlinear inequality\n",
    "\n",
    "In the following example we have three design variables. \n",
    "We impose the constraint of all experiments to be contained in the interior of a cone, which corresponds the nonlinear inequality constraint\n",
    "$\\sqrt{x_1^2 + x_2^2} - x_3 \\leq 0$.\n",
    "The optimization is done for a linear model and places the points on the surface of the cone so as to maximize the between them"
   ]
  },
  {
   "cell_type": "code",
   "execution_count": null,
   "id": "10",
   "metadata": {
    "papermill": {
     "duration": null,
     "end_time": null,
     "exception": null,
     "start_time": null,
     "status": "pending"
    },
    "tags": []
   },
   "outputs": [],
   "source": [
    "domain = Domain(\n",
    "    inputs=[\n",
    "        ContinuousInput(key=\"x1\", bounds=(-1, 1)),\n",
    "        ContinuousInput(key=\"x2\", bounds=(-1, 1)),\n",
    "        ContinuousInput(key=\"x3\", bounds=(0, 1)),\n",
    "    ],\n",
    "    outputs=[ContinuousOutput(key=\"y\")],\n",
    "    constraints=[\n",
    "        NonlinearInequalityConstraint(\n",
    "            expression=\"(x1**2 + x2**2)**0.5 - x3\", features=[\"x1\", \"x2\", \"x3\"]\n",
    "        )\n",
    "    ],\n",
    ")\n",
    "\n",
    "result = find_local_max_ipopt(\n",
    "    domain, \"linear\", ipopt_options={\"maxiter\": 100, \"disp\": 0}\n",
    ")\n",
    "result.round(3)\n",
    "plot_results_3d(result, surface_func=lambda x1, x2: np.sqrt(x1**2 + x2**2))"
   ]
  },
  {
   "attachments": {},
   "cell_type": "markdown",
   "id": "11",
   "metadata": {
    "papermill": {
     "duration": null,
     "end_time": null,
     "exception": null,
     "start_time": null,
     "status": "pending"
    },
    "tags": []
   },
   "source": [
    "And the same for a design space limited by an elliptical cone $x_1^2 + x_2^2 - x_3 \\leq 0$.\n"
   ]
  },
  {
   "cell_type": "code",
   "execution_count": null,
   "id": "12",
   "metadata": {
    "papermill": {
     "duration": null,
     "end_time": null,
     "exception": null,
     "start_time": null,
     "status": "pending"
    },
    "tags": []
   },
   "outputs": [],
   "source": [
    "domain = Domain(\n",
    "    inputs=[\n",
    "        ContinuousInput(key=\"x1\", bounds=(-1, 1)),\n",
    "        ContinuousInput(key=\"x2\", bounds=(-1, 1)),\n",
    "        ContinuousInput(key=\"x3\", bounds=(0, 1)),\n",
    "    ],\n",
    "    outputs=[ContinuousOutput(key=\"y\")],\n",
    "    constraints=[\n",
    "        NonlinearInequalityConstraint(\n",
    "            expression=\"x1**2 + x2**2 - x3\", features=[\"x1\", \"x2\", \"x3\"]\n",
    "        )\n",
    "    ],\n",
    ")\n",
    "\n",
    "result = find_local_max_ipopt(domain, \"linear\", ipopt_options={\"maxiter\": 100})\n",
    "result.round(3)\n",
    "plot_results_3d(result, surface_func=lambda x1, x2: x1**2 + x2**2)"
   ]
  },
  {
   "attachments": {},
   "cell_type": "markdown",
   "id": "13",
   "metadata": {
    "papermill": {
     "duration": null,
     "end_time": null,
     "exception": null,
     "start_time": null,
     "status": "pending"
    },
    "tags": []
   },
   "source": [
    "### Example 2: Design on the surface of a cone / nonlinear equality\n",
    "\n",
    "We can also limit the design space to the surface of a cone, defined by the equality constraint $\\sqrt{x_1^2 + x_2^2} - x_3 = 0$\n",
    "\n",
    "Note that due to missing sampling methods in opti, the initial points provided to IPOPT don't satisfy the constraints.\n"
   ]
  },
  {
   "cell_type": "code",
   "execution_count": null,
   "id": "14",
   "metadata": {
    "papermill": {
     "duration": null,
     "end_time": null,
     "exception": null,
     "start_time": null,
     "status": "pending"
    },
    "tags": []
   },
   "outputs": [],
   "source": [
    "domain = Domain(\n",
    "    inputs=[\n",
    "        ContinuousInput(key=\"x1\", bounds=(-1, 1)),\n",
    "        ContinuousInput(key=\"x2\", bounds=(-1, 1)),\n",
    "        ContinuousInput(key=\"x3\", bounds=(0, 1)),\n",
    "    ],\n",
    "    outputs=[ContinuousOutput(key=\"y\")],\n",
    "    constraints=[\n",
    "        NonlinearEqualityConstraint(\n",
    "            expression=\"(x1**2 + x2**2)**0.5 - x3\", features=[\"x1\", \"x2\", \"x3\"]\n",
    "        )\n",
    "    ],\n",
    ")\n",
    "\n",
    "result = find_local_max_ipopt(domain, \"linear\", ipopt_options={\"maxiter\": 100})\n",
    "result.round(3)\n",
    "plot_results_3d(result, surface_func=lambda x1, x2: np.sqrt(x1**2 + x2**2))"
   ]
  },
  {
   "cell_type": "markdown",
   "id": "15",
   "metadata": {
    "papermill": {
     "duration": null,
     "end_time": null,
     "exception": null,
     "start_time": null,
     "status": "pending"
    },
    "tags": []
   },
   "source": [
    "### Example 3: Batch constraints\n",
    "Batch constraints can be used to create designs where each set of `multiplicity` subsequent experiments have the same value for a certain feature. In the following example we fix the value of the decision variable `x1` inside each batch of size 3.   "
   ]
  },
  {
   "cell_type": "code",
   "execution_count": null,
   "id": "16",
   "metadata": {
    "papermill": {
     "duration": null,
     "end_time": null,
     "exception": null,
     "start_time": null,
     "status": "pending"
    },
    "tags": []
   },
   "outputs": [],
   "source": [
    "domain = Domain(\n",
    "    inputs=[\n",
    "        ContinuousInput(key=\"x1\", bounds=(0, 1)),\n",
    "        ContinuousInput(key=\"x2\", bounds=(0, 1)),\n",
    "        ContinuousInput(key=\"x3\", bounds=(0, 1)),\n",
    "    ],\n",
    "    outputs=[ContinuousOutput(key=\"y\")],\n",
    "    constraints=[InterpointEqualityConstraint(feature=\"x1\", multiplicity=3)],\n",
    ")\n",
    "\n",
    "result = find_local_max_ipopt(\n",
    "    domain, \"linear\", ipopt_options={\"maxiter\": 100}, n_experiments=12\n",
    ")\n",
    "result.round(3)"
   ]
  }
 ],
 "metadata": {
  "kernelspec": {
   "display_name": "base",
   "language": "python",
   "name": "python3"
  },
  "language_info": {
   "codemirror_mode": {
    "name": "ipython",
    "version": 3
   },
   "file_extension": ".py",
   "mimetype": "text/x-python",
   "name": "python",
   "nbconvert_exporter": "python",
   "pygments_lexer": "ipython3",
   "version": "3.12.7"
  },
  "papermill": {
   "default_parameters": {},
   "duration": 4.728012,
   "end_time": "2024-10-10T20:36:03.591436",
   "environment_variables": {},
   "exception": true,
   "input_path": "/Users/radical-rhys/Radical/bofire/tutorials/doe/basic_examples.ipynb",
   "output_path": "/Users/radical-rhys/Radical/bofire/tutorials/doe/basic_examples.ipynb",
   "parameters": {},
   "start_time": "2024-10-10T20:35:58.863424",
   "version": "2.6.0"
  }
 },
 "nbformat": 4,
 "nbformat_minor": 5
}
