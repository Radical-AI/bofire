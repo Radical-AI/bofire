{
 "cells": [
  {
   "cell_type": "markdown",
   "id": "0",
   "metadata": {
    "tags": [
     "papermill-error-cell-tag"
    ]
   },
   "source": [
    "<span style=\"color:red; font-family:Helvetica Neue, Helvetica, Arial, sans-serif; font-size:2em;\">An Exception was encountered at '<a href=\"#papermill-error-cell\">In [1]</a>'.</span>"
   ]
  },
  {
   "attachments": {},
   "cell_type": "markdown",
   "id": "1",
   "metadata": {
    "papermill": {
     "duration": 0.005014,
     "end_time": "2024-10-10T16:10:09.176123",
     "exception": false,
     "start_time": "2024-10-10T16:10:09.171109",
     "status": "completed"
    },
    "tags": []
   },
   "source": [
    "## Design with NChooseK constraint\n",
    "\n",
    "The doe subpackage also supports problems with NChooseK constraints. Since IPOPT has problems finding feasible solutions\n",
    "using the gradient of the NChooseK constraint violation, a closely related (but stricter) constraint that suffices\n",
    "to fulfill the NChooseK constraint is imposed onto the problem: For each experiment $j$\n",
    "N-K decision variables $x_{i_1,j},...,x_{i_{N-K,j}}$ from the NChooseK constraints' names attribute are picked\n",
    "that are forced to be zero. This is done by setting the upper and lower bounds of the picked variables are set to 0\n",
    "in the corresponding experiments. This causes IPOPT to treat them as \"fixed variables\" (i.e. it will not optimize for them)\n",
    "and will always stick to the only feasible value (which is 0 here).\n",
    "However, this constraint is stricter than the original NChooseK constraint. In combination with other\n",
    "constraints on the same decision variables this can result in a situation where the constraints cannot be fulfilled\n",
    "even though the original constraints would allow for a solution. For example consider a problem with four decision\n",
    "variables $x_1, x_2, x_3, x_4$, an NChooseK constraint on the first four variable that restricts the number of nonzero variables\n",
    "to two. Additionally, we have a linear constraint\n",
    "$$\n",
    "x_3 + x_4 \\geq 0.1\n",
    "$$\n",
    "We can easily find points that fulfill both constraints (e.g. $(0,0,0,0.1)$). Now consider the stricter, linear constraint\n",
    "from above. Eventually, it will happen that $x_3$ and $x_4$ are chosen to be zero for one experiment. For this experiment\n",
    "it is impossible to fulfill the linear constraint $x_3 + x_4 \\geq 0.1$ since $x_3 = x_4 = 0$.\n",
    "\n",
    "Therefore one has to be very careful when imposing linear constraints upon decision variables that already show up in an NChooseK constraint.\n",
    "\n",
    "For practical reasons it necessary that two NChooseK constraints of the same problem must not share any variables.\n",
    "\n",
    "You can find an example for a problem with NChooseK constraints and additional linear constraints imposed on the same variables.\n"
   ]
  },
  {
   "cell_type": "markdown",
   "id": "2",
   "metadata": {
    "tags": [
     "papermill-error-cell-tag"
    ]
   },
   "source": [
    "<span id=\"papermill-error-cell\" style=\"color:red; font-family:Helvetica Neue, Helvetica, Arial, sans-serif; font-size:2em;\">Execution using papermill encountered an exception here and stopped:</span>"
   ]
  },
  {
   "cell_type": "code",
   "execution_count": null,
   "id": "3",
   "metadata": {
    "papermill": {
     "duration": 1.839837,
     "end_time": "2024-10-10T16:10:11.018672",
     "exception": true,
     "start_time": "2024-10-10T16:10:09.178835",
     "status": "failed"
    },
    "tags": []
   },
   "outputs": [
    {
     "name": "stderr",
     "output_type": "stream",
     "text": [
      "/Users/radical-rhys/Radical/bofire/bofire/strategies/doe/design.py:413: UserWarning: dlopen(/Users/radical-rhys/miniconda3/lib/python3.12/site-packages/ipopt_wrapper.cpython-312-darwin.so, 0x0002): Library not loaded: @rpath/liblapack.3.dylib\n",
      "  Referenced from: <B8DC9BF1-E8E9-31AE-8E2D-7CD4259EC148> /Users/radical-rhys/miniconda3/lib/libdmumps_seq.dylib\n",
      "  Reason: tried: '/Users/radical-rhys/miniconda3/lib/liblapack.3.dylib' (no such file), '/liblapack.3.dylib' (no such file), '/Users/radical-rhys/miniconda3/lib/liblapack.3.dylib' (no such file), '/Users/radical-rhys/miniconda3/lib/liblapack.3.dylib' (no such file), '/Users/radical-rhys/miniconda3/lib/liblapack.3.dylib' (no such file), '/Users/radical-rhys/miniconda3/lib/python3.12/site-packages/../../liblapack.3.dylib' (no such file), '/Users/radical-rhys/miniconda3/lib/python3.12/site-packages/../../liblapack.3.dylib' (no such file), '/Users/radical-rhys/miniconda3/bin/../lib/liblapack.3.dylib' (no such file), '/Users/radical-rhys/miniconda3/bin/../lib/liblapack.3.dylib' (no such file), '/usr/local/lib/liblapack.3.dylib' (no such file), '/usr/lib/liblapack.3.dylib' (no such file, not in dyld cache)\n",
      "  warnings.warn(e.msg)\n",
      "/Users/radical-rhys/Radical/bofire/bofire/strategies/doe/design.py:414: UserWarning: please run `conda install -c conda-forge cyipopt` for this functionality.\n",
      "  warnings.warn(\n"
     ]
    },
    {
     "ename": "ImportError",
     "evalue": "dlopen(/Users/radical-rhys/miniconda3/lib/python3.12/site-packages/ipopt_wrapper.cpython-312-darwin.so, 0x0002): Library not loaded: @rpath/liblapack.3.dylib\n  Referenced from: <B8DC9BF1-E8E9-31AE-8E2D-7CD4259EC148> /Users/radical-rhys/miniconda3/lib/libdmumps_seq.dylib\n  Reason: tried: '/Users/radical-rhys/miniconda3/lib/liblapack.3.dylib' (no such file), '/liblapack.3.dylib' (no such file), '/Users/radical-rhys/miniconda3/lib/liblapack.3.dylib' (no such file), '/Users/radical-rhys/miniconda3/lib/liblapack.3.dylib' (no such file), '/Users/radical-rhys/miniconda3/lib/liblapack.3.dylib' (no such file), '/Users/radical-rhys/miniconda3/lib/python3.12/site-packages/../../liblapack.3.dylib' (no such file), '/Users/radical-rhys/miniconda3/lib/python3.12/site-packages/../../liblapack.3.dylib' (no such file), '/Users/radical-rhys/miniconda3/bin/../lib/liblapack.3.dylib' (no such file), '/Users/radical-rhys/miniconda3/bin/../lib/liblapack.3.dylib' (no such file), '/usr/local/lib/liblapack.3.dylib' (no such file), '/usr/lib/liblapack.3.dylib' (no such file, not in dyld cache)",
     "output_type": "error",
     "traceback": [
      "\u001b[0;31m---------------------------------------------------------------------------\u001b[0m",
      "\u001b[0;31mImportError\u001b[0m                               Traceback (most recent call last)",
      "Cell \u001b[0;32mIn[1], line 35\u001b[0m\n\u001b[1;32m     10\u001b[0m \u001b[38;5;28;01mfrom\u001b[39;00m \u001b[38;5;21;01mbofire\u001b[39;00m\u001b[38;5;21;01m.\u001b[39;00m\u001b[38;5;21;01mstrategies\u001b[39;00m\u001b[38;5;21;01m.\u001b[39;00m\u001b[38;5;21;01mdoe\u001b[39;00m\u001b[38;5;21;01m.\u001b[39;00m\u001b[38;5;21;01mdesign\u001b[39;00m \u001b[38;5;28;01mimport\u001b[39;00m find_local_max_ipopt\n\u001b[1;32m     13\u001b[0m domain \u001b[38;5;241m=\u001b[39m Domain(\n\u001b[1;32m     14\u001b[0m     inputs\u001b[38;5;241m=\u001b[39m[ContinuousInput(key\u001b[38;5;241m=\u001b[39m\u001b[38;5;124mf\u001b[39m\u001b[38;5;124m\"\u001b[39m\u001b[38;5;124mx\u001b[39m\u001b[38;5;132;01m{\u001b[39;00mi\u001b[38;5;241m+\u001b[39m\u001b[38;5;241m1\u001b[39m\u001b[38;5;132;01m}\u001b[39;00m\u001b[38;5;124m\"\u001b[39m, bounds\u001b[38;5;241m=\u001b[39m(\u001b[38;5;241m0\u001b[39m, \u001b[38;5;241m1\u001b[39m)) \u001b[38;5;28;01mfor\u001b[39;00m i \u001b[38;5;129;01min\u001b[39;00m \u001b[38;5;28mrange\u001b[39m(\u001b[38;5;241m8\u001b[39m)],\n\u001b[1;32m     15\u001b[0m     outputs\u001b[38;5;241m=\u001b[39m[ContinuousOutput(key\u001b[38;5;241m=\u001b[39m\u001b[38;5;124m\"\u001b[39m\u001b[38;5;124my\u001b[39m\u001b[38;5;124m\"\u001b[39m)],\n\u001b[0;32m   (...)\u001b[0m\n\u001b[1;32m     32\u001b[0m     ],\n\u001b[1;32m     33\u001b[0m )\n\u001b[0;32m---> 35\u001b[0m res \u001b[38;5;241m=\u001b[39m \u001b[43mfind_local_max_ipopt\u001b[49m\u001b[43m(\u001b[49m\n\u001b[1;32m     36\u001b[0m \u001b[43m    \u001b[49m\u001b[43mdomain\u001b[49m\u001b[38;5;241;43m=\u001b[39;49m\u001b[43mdomain\u001b[49m\u001b[43m,\u001b[49m\n\u001b[1;32m     37\u001b[0m \u001b[43m    \u001b[49m\u001b[43mmodel_type\u001b[49m\u001b[38;5;241;43m=\u001b[39;49m\u001b[38;5;124;43m\"\u001b[39;49m\u001b[38;5;124;43mfully-quadratic\u001b[39;49m\u001b[38;5;124;43m\"\u001b[39;49m\u001b[43m,\u001b[49m\n\u001b[1;32m     38\u001b[0m \u001b[43m    \u001b[49m\u001b[43mipopt_options\u001b[49m\u001b[38;5;241;43m=\u001b[39;49m\u001b[43m{\u001b[49m\u001b[38;5;124;43m\"\u001b[39;49m\u001b[38;5;124;43mmaxiter\u001b[39;49m\u001b[38;5;124;43m\"\u001b[39;49m\u001b[43m:\u001b[49m\u001b[43m \u001b[49m\u001b[38;5;241;43m500\u001b[39;49m\u001b[43m}\u001b[49m\u001b[43m,\u001b[49m\n\u001b[1;32m     39\u001b[0m \u001b[43m)\u001b[49m\n\u001b[1;32m     40\u001b[0m np\u001b[38;5;241m.\u001b[39mround(res, \u001b[38;5;241m3\u001b[39m)\n",
      "File \u001b[0;32m~/Radical/bofire/bofire/strategies/doe/design.py:417\u001b[0m, in \u001b[0;36mfind_local_max_ipopt\u001b[0;34m(domain, model_type, n_experiments, delta, ipopt_options, sampling, fixed_experiments, partially_fixed_experiments, objective, transform_range)\u001b[0m\n\u001b[1;32m    413\u001b[0m     warnings\u001b[38;5;241m.\u001b[39mwarn(e\u001b[38;5;241m.\u001b[39mmsg)\n\u001b[1;32m    414\u001b[0m     warnings\u001b[38;5;241m.\u001b[39mwarn(\n\u001b[1;32m    415\u001b[0m         \u001b[38;5;124m\"\u001b[39m\u001b[38;5;124mplease run `conda install -c conda-forge cyipopt` for this functionality.\u001b[39m\u001b[38;5;124m\"\u001b[39m\n\u001b[1;32m    416\u001b[0m     )\n\u001b[0;32m--> 417\u001b[0m     \u001b[38;5;28;01mraise\u001b[39;00m e\n\u001b[1;32m    419\u001b[0m model_formula \u001b[38;5;241m=\u001b[39m get_formula_from_string(\n\u001b[1;32m    420\u001b[0m     model_type\u001b[38;5;241m=\u001b[39mmodel_type, rhs_only\u001b[38;5;241m=\u001b[39m\u001b[38;5;28;01mTrue\u001b[39;00m, domain\u001b[38;5;241m=\u001b[39mdomain\n\u001b[1;32m    421\u001b[0m )\n\u001b[1;32m    423\u001b[0m \u001b[38;5;66;03m# determine number of experiments (only relevant if n_experiments is not provided by the user)\u001b[39;00m\n",
      "File \u001b[0;32m~/Radical/bofire/bofire/strategies/doe/design.py:411\u001b[0m, in \u001b[0;36mfind_local_max_ipopt\u001b[0;34m(domain, model_type, n_experiments, delta, ipopt_options, sampling, fixed_experiments, partially_fixed_experiments, objective, transform_range)\u001b[0m\n\u001b[1;32m    405\u001b[0m \u001b[38;5;66;03m#\u001b[39;00m\n\u001b[1;32m    406\u001b[0m \u001b[38;5;66;03m# Checks and preparation steps\u001b[39;00m\n\u001b[1;32m    407\u001b[0m \u001b[38;5;66;03m#\u001b[39;00m\n\u001b[1;32m    408\u001b[0m \n\u001b[1;32m    409\u001b[0m \u001b[38;5;66;03m# warn user if IPOPT scipy interface is not available\u001b[39;00m\n\u001b[1;32m    410\u001b[0m \u001b[38;5;28;01mtry\u001b[39;00m:\n\u001b[0;32m--> 411\u001b[0m     \u001b[38;5;28;01mfrom\u001b[39;00m \u001b[38;5;21;01mcyipopt\u001b[39;00m \u001b[38;5;28;01mimport\u001b[39;00m minimize_ipopt  \u001b[38;5;66;03m# type: ignore\u001b[39;00m\n\u001b[1;32m    412\u001b[0m \u001b[38;5;28;01mexcept\u001b[39;00m \u001b[38;5;167;01mImportError\u001b[39;00m \u001b[38;5;28;01mas\u001b[39;00m e:\n\u001b[1;32m    413\u001b[0m     warnings\u001b[38;5;241m.\u001b[39mwarn(e\u001b[38;5;241m.\u001b[39mmsg)\n",
      "File \u001b[0;32m~/miniconda3/lib/python3.12/site-packages/cyipopt/__init__.py:12\u001b[0m\n\u001b[1;32m      1\u001b[0m \u001b[38;5;66;03m# -*- coding: utf-8 -*-\u001b[39;00m\n\u001b[1;32m      2\u001b[0m \u001b[38;5;124;03m\"\"\"\u001b[39;00m\n\u001b[1;32m      3\u001b[0m \u001b[38;5;124;03mcyipopt: Python wrapper for the Ipopt optimization package, written in Cython.\u001b[39;00m\n\u001b[1;32m      4\u001b[0m \n\u001b[0;32m   (...)\u001b[0m\n\u001b[1;32m      9\u001b[0m \u001b[38;5;124;03mLicense: EPL 2.0\u001b[39;00m\n\u001b[1;32m     10\u001b[0m \u001b[38;5;124;03m\"\"\"\u001b[39;00m\n\u001b[0;32m---> 12\u001b[0m \u001b[38;5;28;01mfrom\u001b[39;00m \u001b[38;5;21;01mipopt_wrapper\u001b[39;00m \u001b[38;5;28;01mimport\u001b[39;00m \u001b[38;5;241m*\u001b[39m\n\u001b[1;32m     13\u001b[0m \u001b[38;5;28;01mfrom\u001b[39;00m \u001b[38;5;21;01m.\u001b[39;00m\u001b[38;5;21;01mipopt_wrapper\u001b[39;00m \u001b[38;5;28;01mimport\u001b[39;00m \u001b[38;5;241m*\u001b[39m\n\u001b[1;32m     14\u001b[0m \u001b[38;5;28;01mfrom\u001b[39;00m \u001b[38;5;21;01m.\u001b[39;00m\u001b[38;5;21;01mscipy_interface\u001b[39;00m \u001b[38;5;28;01mimport\u001b[39;00m \u001b[38;5;241m*\u001b[39m\n",
      "\u001b[0;31mImportError\u001b[0m: dlopen(/Users/radical-rhys/miniconda3/lib/python3.12/site-packages/ipopt_wrapper.cpython-312-darwin.so, 0x0002): Library not loaded: @rpath/liblapack.3.dylib\n  Referenced from: <B8DC9BF1-E8E9-31AE-8E2D-7CD4259EC148> /Users/radical-rhys/miniconda3/lib/libdmumps_seq.dylib\n  Reason: tried: '/Users/radical-rhys/miniconda3/lib/liblapack.3.dylib' (no such file), '/liblapack.3.dylib' (no such file), '/Users/radical-rhys/miniconda3/lib/liblapack.3.dylib' (no such file), '/Users/radical-rhys/miniconda3/lib/liblapack.3.dylib' (no such file), '/Users/radical-rhys/miniconda3/lib/liblapack.3.dylib' (no such file), '/Users/radical-rhys/miniconda3/lib/python3.12/site-packages/../../liblapack.3.dylib' (no such file), '/Users/radical-rhys/miniconda3/lib/python3.12/site-packages/../../liblapack.3.dylib' (no such file), '/Users/radical-rhys/miniconda3/bin/../lib/liblapack.3.dylib' (no such file), '/Users/radical-rhys/miniconda3/bin/../lib/liblapack.3.dylib' (no such file), '/usr/local/lib/liblapack.3.dylib' (no such file), '/usr/lib/liblapack.3.dylib' (no such file, not in dyld cache)"
     ]
    }
   ],
   "source": [
    "import numpy as np\n",
    "\n",
    "from bofire.data_models.constraints.api import (\n",
    "    LinearEqualityConstraint,\n",
    "    LinearInequalityConstraint,\n",
    "    NChooseKConstraint,\n",
    ")\n",
    "from bofire.data_models.domain.api import Domain\n",
    "from bofire.data_models.features.api import ContinuousInput, ContinuousOutput\n",
    "from bofire.strategies.doe.design import find_local_max_ipopt\n",
    "\n",
    "\n",
    "domain = Domain(\n",
    "    inputs=[ContinuousInput(key=f\"x{i+1}\", bounds=(0, 1)) for i in range(8)],\n",
    "    outputs=[ContinuousOutput(key=\"y\")],\n",
    "    constraints=[\n",
    "        LinearEqualityConstraint(\n",
    "            features=[f\"x{i+1}\" for i in range(8)],\n",
    "            coefficients=[1, 1, 1, 1, 1, 1, 1, 1],\n",
    "            rhs=1,\n",
    "        ),\n",
    "        NChooseKConstraint(\n",
    "            features=[\"x1\", \"x2\", \"x3\"], min_count=0, max_count=1, none_also_valid=True\n",
    "        ),\n",
    "        LinearInequalityConstraint(\n",
    "            features=[\"x1\", \"x2\", \"x3\"], coefficients=[1, 1, 1], rhs=0.7\n",
    "        ),\n",
    "        LinearInequalityConstraint(\n",
    "            features=[\"x7\", \"x8\"], coefficients=[-1, -1], rhs=-0.1\n",
    "        ),\n",
    "        LinearInequalityConstraint(features=[\"x7\", \"x8\"], coefficients=[1, 1], rhs=0.9),\n",
    "    ],\n",
    ")\n",
    "\n",
    "res = find_local_max_ipopt(\n",
    "    domain=domain,\n",
    "    model_type=\"fully-quadratic\",\n",
    "    ipopt_options={\"maxiter\": 500},\n",
    ")\n",
    "np.round(res, 3)"
   ]
  }
 ],
 "metadata": {
  "kernelspec": {
   "display_name": "base",
   "language": "python",
   "name": "python3"
  },
  "language_info": {
   "codemirror_mode": {
    "name": "ipython",
    "version": 3
   },
   "file_extension": ".py",
   "mimetype": "text/x-python",
   "name": "python",
   "nbconvert_exporter": "python",
   "pygments_lexer": "ipython3",
   "version": "3.12.2"
  },
  "papermill": {
   "default_parameters": {},
   "duration": 3.069185,
   "end_time": "2024-10-10T16:10:11.437756",
   "environment_variables": {},
   "exception": true,
   "input_path": "/Users/radical-rhys/Radical/bofire/tutorials/doe/nchoosek_constraint.ipynb",
   "output_path": "/Users/radical-rhys/Radical/bofire/tutorials/doe/nchoosek_constraint.ipynb",
   "parameters": {},
   "start_time": "2024-10-10T16:10:08.368571",
   "version": "2.6.0"
  }
 },
 "nbformat": 4,
 "nbformat_minor": 5
}
