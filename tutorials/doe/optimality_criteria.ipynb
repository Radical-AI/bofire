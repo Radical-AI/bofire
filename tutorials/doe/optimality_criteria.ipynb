{
 "cells": [
  {
   "cell_type": "code",
   "execution_count": null,
   "id": "0",
   "metadata": {
    "papermill": {
     "duration": 3.589219,
     "end_time": "2024-10-10T20:36:26.021870",
     "exception": false,
     "start_time": "2024-10-10T20:36:22.432651",
     "status": "completed"
    },
    "tags": []
   },
   "outputs": [
    {
     "name": "stderr",
     "output_type": "stream",
     "text": [
      "/Users/radical-rhys/Radical/bofire/bofire/utils/cheminformatics.py:24: UserWarning: mordred not installed. Mordred molecular descriptors cannot be used.\n",
      "  warnings.warn(\n"
     ]
    }
   ],
   "source": [
    "import matplotlib.pyplot as plt\n",
    "\n",
    "from bofire.data_models.constraints.api import LinearEqualityConstraint\n",
    "from bofire.data_models.domain.api import Domain\n",
    "from bofire.data_models.features.api import ContinuousInput, ContinuousOutput\n",
    "from bofire.strategies.doe.design import find_local_max_ipopt\n",
    "from bofire.strategies.enum import OptimalityCriterionEnum"
   ]
  },
  {
   "attachments": {},
   "cell_type": "markdown",
   "id": "1",
   "metadata": {
    "papermill": {
     "duration": 0.000787,
     "end_time": "2024-10-10T20:36:26.024024",
     "exception": false,
     "start_time": "2024-10-10T20:36:26.023237",
     "status": "completed"
    },
    "tags": []
   },
   "source": [
    "### Designs for different optimality criteria"
   ]
  },
  {
   "cell_type": "code",
   "execution_count": null,
   "id": "2",
   "metadata": {
    "papermill": {
     "duration": 0.591417,
     "end_time": "2024-10-10T20:36:26.616405",
     "exception": true,
     "start_time": "2024-10-10T20:36:26.024988",
     "status": "failed"
    },
    "tags": []
   },
   "outputs": [
    {
     "name": "stdout",
     "output_type": "stream",
     "text": [
      "\n",
      "******************************************************************************\n",
      "This program contains Ipopt, a library for large-scale nonlinear optimization.\n",
      " Ipopt is released as open source code under the Eclipse Public License (EPL).\n",
      "         For more information visit https://github.com/coin-or/Ipopt\n",
      "******************************************************************************\n",
      "\n"
     ]
    },
    {
     "ename": "TypeError",
     "evalue": "expected 0 arguments, got 1",
     "output_type": "error",
     "traceback": [
      "\u001b[0;31m---------------------------------------------------------------------------\u001b[0m",
      "\u001b[0;31mTypeError\u001b[0m                                 Traceback (most recent call last)",
      "Cell \u001b[0;32mIn[2], line 11\u001b[0m\n\u001b[1;32m      9\u001b[0m designs \u001b[38;5;241m=\u001b[39m {}\n\u001b[1;32m     10\u001b[0m \u001b[38;5;28;01mfor\u001b[39;00m obj \u001b[38;5;129;01min\u001b[39;00m OptimalityCriterionEnum:\n\u001b[0;32m---> 11\u001b[0m     designs[obj\u001b[38;5;241m.\u001b[39mvalue] \u001b[38;5;241m=\u001b[39m \u001b[43mfind_local_max_ipopt\u001b[49m\u001b[43m(\u001b[49m\n\u001b[1;32m     12\u001b[0m \u001b[43m        \u001b[49m\u001b[43mdomain\u001b[49m\u001b[43m,\u001b[49m\n\u001b[1;32m     13\u001b[0m \u001b[43m        \u001b[49m\u001b[43mmodel_type\u001b[49m\u001b[38;5;241;43m=\u001b[39;49m\u001b[43mmodel_type\u001b[49m\u001b[43m,\u001b[49m\n\u001b[1;32m     14\u001b[0m \u001b[43m        \u001b[49m\u001b[43mn_experiments\u001b[49m\u001b[38;5;241;43m=\u001b[39;49m\u001b[43mn_experiments\u001b[49m\u001b[43m,\u001b[49m\n\u001b[1;32m     15\u001b[0m \u001b[43m        \u001b[49m\u001b[43mobjective\u001b[49m\u001b[38;5;241;43m=\u001b[39;49m\u001b[43mobj\u001b[49m\u001b[43m,\u001b[49m\n\u001b[1;32m     16\u001b[0m \u001b[43m        \u001b[49m\u001b[43mipopt_options\u001b[49m\u001b[38;5;241;43m=\u001b[39;49m\u001b[43m{\u001b[49m\u001b[38;5;124;43m\"\u001b[39;49m\u001b[38;5;124;43mmaxiter\u001b[39;49m\u001b[38;5;124;43m\"\u001b[39;49m\u001b[43m:\u001b[49m\u001b[43m \u001b[49m\u001b[38;5;241;43m300\u001b[39;49m\u001b[43m}\u001b[49m\u001b[43m,\u001b[49m\n\u001b[1;32m     17\u001b[0m \u001b[43m    \u001b[49m\u001b[43m)\u001b[49m\u001b[38;5;241m.\u001b[39mto_numpy()\n\u001b[1;32m     19\u001b[0m fig \u001b[38;5;241m=\u001b[39m plt\u001b[38;5;241m.\u001b[39mfigure(figsize\u001b[38;5;241m=\u001b[39m((\u001b[38;5;241m8\u001b[39m, \u001b[38;5;241m8\u001b[39m)))\n\u001b[1;32m     20\u001b[0m ax \u001b[38;5;241m=\u001b[39m fig\u001b[38;5;241m.\u001b[39madd_subplot(\u001b[38;5;241m111\u001b[39m)\n",
      "File \u001b[0;32m~/Radical/bofire/bofire/strategies/doe/design.py:531\u001b[0m, in \u001b[0;36mfind_local_max_ipopt\u001b[0;34m(domain, model_type, n_experiments, delta, ipopt_options, sampling, fixed_experiments, partially_fixed_experiments, objective, transform_range)\u001b[0m\n\u001b[1;32m    525\u001b[0m     _ipopt_options[\u001b[38;5;124m\"\u001b[39m\u001b[38;5;124mdisp\u001b[39m\u001b[38;5;124m\"\u001b[39m] \u001b[38;5;241m=\u001b[39m \u001b[38;5;241m0\u001b[39m\n\u001b[1;32m    527\u001b[0m \u001b[38;5;66;03m#\u001b[39;00m\n\u001b[1;32m    528\u001b[0m \u001b[38;5;66;03m# Do the optimization\u001b[39;00m\n\u001b[1;32m    529\u001b[0m \u001b[38;5;66;03m#\u001b[39;00m\n\u001b[0;32m--> 531\u001b[0m result \u001b[38;5;241m=\u001b[39m \u001b[43mminimize_ipopt\u001b[49m\u001b[43m(\u001b[49m\n\u001b[1;32m    532\u001b[0m \u001b[43m    \u001b[49m\u001b[43mobjective_function\u001b[49m\u001b[38;5;241;43m.\u001b[39;49m\u001b[43mevaluate\u001b[49m\u001b[43m,\u001b[49m\n\u001b[1;32m    533\u001b[0m \u001b[43m    \u001b[49m\u001b[43mx0\u001b[49m\u001b[38;5;241;43m=\u001b[39;49m\u001b[43mx0\u001b[49m\u001b[43m,\u001b[49m\n\u001b[1;32m    534\u001b[0m \u001b[43m    \u001b[49m\u001b[43mbounds\u001b[49m\u001b[38;5;241;43m=\u001b[39;49m\u001b[43mbounds\u001b[49m\u001b[43m,\u001b[49m\n\u001b[1;32m    535\u001b[0m \u001b[43m    \u001b[49m\u001b[38;5;66;43;03m# \"SLSQP\" has no deeper meaning here and just ensures correct constraint standardization\u001b[39;49;00m\n\u001b[1;32m    536\u001b[0m \u001b[43m    \u001b[49m\u001b[43mconstraints\u001b[49m\u001b[38;5;241;43m=\u001b[39;49m\u001b[43mstandardize_constraints\u001b[49m\u001b[43m(\u001b[49m\u001b[43mconstraints\u001b[49m\u001b[43m,\u001b[49m\u001b[43m \u001b[49m\u001b[43mx0\u001b[49m\u001b[43m,\u001b[49m\u001b[43m \u001b[49m\u001b[38;5;124;43m\"\u001b[39;49m\u001b[38;5;124;43mSLSQP\u001b[39;49m\u001b[38;5;124;43m\"\u001b[39;49m\u001b[43m)\u001b[49m\u001b[43m,\u001b[49m\n\u001b[1;32m    537\u001b[0m \u001b[43m    \u001b[49m\u001b[43moptions\u001b[49m\u001b[38;5;241;43m=\u001b[39;49m\u001b[43m_ipopt_options\u001b[49m\u001b[43m,\u001b[49m\n\u001b[1;32m    538\u001b[0m \u001b[43m    \u001b[49m\u001b[43mjac\u001b[49m\u001b[38;5;241;43m=\u001b[39;49m\u001b[43mobjective_function\u001b[49m\u001b[38;5;241;43m.\u001b[39;49m\u001b[43mevaluate_jacobian\u001b[49m\u001b[43m,\u001b[49m\n\u001b[1;32m    539\u001b[0m \u001b[43m\u001b[49m\u001b[43m)\u001b[49m\n\u001b[1;32m    541\u001b[0m design \u001b[38;5;241m=\u001b[39m pd\u001b[38;5;241m.\u001b[39mDataFrame(\n\u001b[1;32m    542\u001b[0m     result[\u001b[38;5;124m\"\u001b[39m\u001b[38;5;124mx\u001b[39m\u001b[38;5;124m\"\u001b[39m]\u001b[38;5;241m.\u001b[39mreshape(n_experiments, \u001b[38;5;28mlen\u001b[39m(domain\u001b[38;5;241m.\u001b[39minputs)),\n\u001b[1;32m    543\u001b[0m     columns\u001b[38;5;241m=\u001b[39mdomain\u001b[38;5;241m.\u001b[39minputs\u001b[38;5;241m.\u001b[39mget_keys(),\n\u001b[1;32m    544\u001b[0m     index\u001b[38;5;241m=\u001b[39m[\u001b[38;5;124mf\u001b[39m\u001b[38;5;124m\"\u001b[39m\u001b[38;5;124mexp\u001b[39m\u001b[38;5;132;01m{\u001b[39;00mi\u001b[38;5;132;01m}\u001b[39;00m\u001b[38;5;124m\"\u001b[39m \u001b[38;5;28;01mfor\u001b[39;00m i \u001b[38;5;129;01min\u001b[39;00m \u001b[38;5;28mrange\u001b[39m(n_experiments)],\n\u001b[1;32m    545\u001b[0m )\n\u001b[1;32m    547\u001b[0m \u001b[38;5;66;03m# exit message\u001b[39;00m\n",
      "File \u001b[0;32m~/miniconda/lib/python3.12/site-packages/cyipopt/scipy_interface.py:615\u001b[0m, in \u001b[0;36mminimize_ipopt\u001b[0;34m(fun, x0, args, kwargs, method, jac, hess, hessp, bounds, constraints, tol, callback, options)\u001b[0m\n\u001b[1;32m    612\u001b[0m         msg \u001b[38;5;241m=\u001b[39m \u001b[38;5;124m'\u001b[39m\u001b[38;5;124mInvalid option for IPOPT: \u001b[39m\u001b[38;5;132;01m{0}\u001b[39;00m\u001b[38;5;124m: \u001b[39m\u001b[38;5;132;01m{1}\u001b[39;00m\u001b[38;5;124m (Original message: \u001b[39m\u001b[38;5;124m\"\u001b[39m\u001b[38;5;132;01m{2}\u001b[39;00m\u001b[38;5;124m\"\u001b[39m\u001b[38;5;124m)\u001b[39m\u001b[38;5;124m'\u001b[39m\n\u001b[1;32m    613\u001b[0m         \u001b[38;5;28;01mraise\u001b[39;00m \u001b[38;5;167;01mTypeError\u001b[39;00m(msg\u001b[38;5;241m.\u001b[39mformat(option, value, e))\n\u001b[0;32m--> 615\u001b[0m x, info \u001b[38;5;241m=\u001b[39m \u001b[43mnlp\u001b[49m\u001b[38;5;241;43m.\u001b[39;49m\u001b[43msolve\u001b[49m\u001b[43m(\u001b[49m\u001b[43mx0\u001b[49m\u001b[43m)\u001b[49m\n\u001b[1;32m    617\u001b[0m \u001b[38;5;28;01mreturn\u001b[39;00m OptimizeResult(x\u001b[38;5;241m=\u001b[39mx,\n\u001b[1;32m    618\u001b[0m                       success\u001b[38;5;241m=\u001b[39minfo[\u001b[38;5;124m'\u001b[39m\u001b[38;5;124mstatus\u001b[39m\u001b[38;5;124m'\u001b[39m] \u001b[38;5;241m==\u001b[39m \u001b[38;5;241m0\u001b[39m,\n\u001b[1;32m    619\u001b[0m                       status\u001b[38;5;241m=\u001b[39minfo[\u001b[38;5;124m'\u001b[39m\u001b[38;5;124mstatus\u001b[39m\u001b[38;5;124m'\u001b[39m],\n\u001b[0;32m   (...)\u001b[0m\n\u001b[1;32m    624\u001b[0m                       njev\u001b[38;5;241m=\u001b[39mproblem\u001b[38;5;241m.\u001b[39mnjev,\n\u001b[1;32m    625\u001b[0m                       nit\u001b[38;5;241m=\u001b[39mproblem\u001b[38;5;241m.\u001b[39mnit)\n",
      "File \u001b[0;32m~/miniconda/lib/python3.12/site-packages/cyipopt/cython/ipopt_wrapper.pyx:658\u001b[0m, in \u001b[0;36mipopt_wrapper.Problem.solve\u001b[0;34m()\u001b[0m\n",
      "File \u001b[0;32m~/miniconda/lib/python3.12/site-packages/cyipopt/cython/ipopt_wrapper.pyx:904\u001b[0m, in \u001b[0;36mipopt_wrapper.gradient_cb\u001b[0;34m()\u001b[0m\n",
      "File \u001b[0;32m~/miniconda/lib/python3.12/site-packages/cyipopt/scipy_interface.py:200\u001b[0m, in \u001b[0;36mIpoptProblemWrapper.gradient\u001b[0;34m(self, x, **kwargs)\u001b[0m\n\u001b[1;32m    198\u001b[0m \u001b[38;5;28;01mdef\u001b[39;00m \u001b[38;5;21mgradient\u001b[39m(\u001b[38;5;28mself\u001b[39m, x, \u001b[38;5;241m*\u001b[39m\u001b[38;5;241m*\u001b[39mkwargs):\n\u001b[1;32m    199\u001b[0m     \u001b[38;5;28mself\u001b[39m\u001b[38;5;241m.\u001b[39mnjev \u001b[38;5;241m+\u001b[39m\u001b[38;5;241m=\u001b[39m \u001b[38;5;241m1\u001b[39m\n\u001b[0;32m--> 200\u001b[0m     \u001b[38;5;28;01mreturn\u001b[39;00m \u001b[38;5;28;43mself\u001b[39;49m\u001b[38;5;241;43m.\u001b[39;49m\u001b[43mjac\u001b[49m\u001b[43m(\u001b[49m\u001b[43mx\u001b[49m\u001b[43m,\u001b[49m\u001b[43m \u001b[49m\u001b[38;5;241;43m*\u001b[39;49m\u001b[38;5;28;43mself\u001b[39;49m\u001b[38;5;241;43m.\u001b[39;49m\u001b[43margs\u001b[49m\u001b[43m,\u001b[49m\u001b[43m \u001b[49m\u001b[38;5;241;43m*\u001b[39;49m\u001b[38;5;241;43m*\u001b[39;49m\u001b[38;5;28;43mself\u001b[39;49m\u001b[38;5;241;43m.\u001b[39;49m\u001b[43mkwargs\u001b[49m\u001b[43m)\u001b[49m\n",
      "File \u001b[0;32m~/Radical/bofire/bofire/strategies/doe/objective.py:81\u001b[0m, in \u001b[0;36mObjective.evaluate_jacobian\u001b[0;34m(self, x)\u001b[0m\n\u001b[1;32m     80\u001b[0m \u001b[38;5;28;01mdef\u001b[39;00m \u001b[38;5;21mevaluate_jacobian\u001b[39m(\u001b[38;5;28mself\u001b[39m, x: np\u001b[38;5;241m.\u001b[39mndarray) \u001b[38;5;241m-\u001b[39m\u001b[38;5;241m>\u001b[39m np\u001b[38;5;241m.\u001b[39mndarray:\n\u001b[0;32m---> 81\u001b[0m     \u001b[38;5;28;01mreturn\u001b[39;00m \u001b[38;5;28;43mself\u001b[39;49m\u001b[38;5;241;43m.\u001b[39;49m\u001b[43m_evaluate_jacobian\u001b[49m\u001b[43m(\u001b[49m\u001b[38;5;28;43mself\u001b[39;49m\u001b[38;5;241;43m.\u001b[39;49m\u001b[43mtransform\u001b[49m\u001b[43m(\u001b[49m\u001b[43mx\u001b[49m\u001b[43m)\u001b[49m\u001b[43m)\u001b[49m \u001b[38;5;241m*\u001b[39m \u001b[38;5;28mself\u001b[39m\u001b[38;5;241m.\u001b[39mtransform\u001b[38;5;241m.\u001b[39mjacobian(x\u001b[38;5;241m=\u001b[39mx)\n",
      "File \u001b[0;32m~/Radical/bofire/bofire/strategies/doe/objective.py:211\u001b[0m, in \u001b[0;36mDOptimality._evaluate_jacobian\u001b[0;34m(self, x)\u001b[0m\n\u001b[1;32m    208\u001b[0m J2 \u001b[38;5;241m=\u001b[39m \u001b[38;5;28mself\u001b[39m\u001b[38;5;241m.\u001b[39m_model_jacobian_t(x)\n\u001b[1;32m    210\u001b[0m \u001b[38;5;66;03m# combine both parts\u001b[39;00m\n\u001b[0;32m--> 211\u001b[0m J \u001b[38;5;241m=\u001b[39m \u001b[43mJ1\u001b[49m\u001b[43m \u001b[49m\u001b[38;5;241;43m*\u001b[39;49m\u001b[43m \u001b[49m\u001b[43mJ2\u001b[49m\n\u001b[1;32m    212\u001b[0m J \u001b[38;5;241m=\u001b[39m np\u001b[38;5;241m.\u001b[39msum(J, axis\u001b[38;5;241m=\u001b[39m\u001b[38;5;241m-\u001b[39m\u001b[38;5;241m1\u001b[39m)\n\u001b[1;32m    214\u001b[0m \u001b[38;5;28;01mreturn\u001b[39;00m J\u001b[38;5;241m.\u001b[39mflatten()\n",
      "File \u001b[0;32m~/miniconda/lib/python3.12/site-packages/numpy/_core/_internal.py:876\u001b[0m, in \u001b[0;36marray_ufunc_errmsg_formatter\u001b[0;34m(dummy, ufunc, method, *inputs, **kwargs)\u001b[0m\n\u001b[1;32m    874\u001b[0m \u001b[38;5;28;01mdef\u001b[39;00m \u001b[38;5;21marray_ufunc_errmsg_formatter\u001b[39m(dummy, ufunc, method, \u001b[38;5;241m*\u001b[39minputs, \u001b[38;5;241m*\u001b[39m\u001b[38;5;241m*\u001b[39mkwargs):\n\u001b[1;32m    875\u001b[0m \u001b[38;5;250m    \u001b[39m\u001b[38;5;124;03m\"\"\" Format the error message for when __array_ufunc__ gives up. \"\"\"\u001b[39;00m\n\u001b[0;32m--> 876\u001b[0m     args_string \u001b[38;5;241m=\u001b[39m \u001b[38;5;124m'\u001b[39m\u001b[38;5;124m, \u001b[39m\u001b[38;5;124m'\u001b[39m\u001b[38;5;241m.\u001b[39mjoin([\u001b[38;5;124;43m'\u001b[39;49m\u001b[38;5;132;43;01m{!r}\u001b[39;49;00m\u001b[38;5;124;43m'\u001b[39;49m\u001b[38;5;241;43m.\u001b[39;49m\u001b[43mformat\u001b[49m\u001b[43m(\u001b[49m\u001b[43marg\u001b[49m\u001b[43m)\u001b[49m \u001b[38;5;28;01mfor\u001b[39;00m arg \u001b[38;5;129;01min\u001b[39;00m inputs] \u001b[38;5;241m+\u001b[39m\n\u001b[1;32m    877\u001b[0m                             [\u001b[38;5;124m'\u001b[39m\u001b[38;5;132;01m{}\u001b[39;00m\u001b[38;5;124m=\u001b[39m\u001b[38;5;132;01m{!r}\u001b[39;00m\u001b[38;5;124m'\u001b[39m\u001b[38;5;241m.\u001b[39mformat(k, v)\n\u001b[1;32m    878\u001b[0m                              \u001b[38;5;28;01mfor\u001b[39;00m k, v \u001b[38;5;129;01min\u001b[39;00m kwargs\u001b[38;5;241m.\u001b[39mitems()])\n\u001b[1;32m    879\u001b[0m     args \u001b[38;5;241m=\u001b[39m inputs \u001b[38;5;241m+\u001b[39m kwargs\u001b[38;5;241m.\u001b[39mget(\u001b[38;5;124m'\u001b[39m\u001b[38;5;124mout\u001b[39m\u001b[38;5;124m'\u001b[39m, ())\n\u001b[1;32m    880\u001b[0m     types_string \u001b[38;5;241m=\u001b[39m \u001b[38;5;124m'\u001b[39m\u001b[38;5;124m, \u001b[39m\u001b[38;5;124m'\u001b[39m\u001b[38;5;241m.\u001b[39mjoin(\u001b[38;5;28mrepr\u001b[39m(\u001b[38;5;28mtype\u001b[39m(arg)\u001b[38;5;241m.\u001b[39m\u001b[38;5;18m__name__\u001b[39m) \u001b[38;5;28;01mfor\u001b[39;00m arg \u001b[38;5;129;01min\u001b[39;00m args)\n",
      "File \u001b[0;32m~/miniconda/lib/python3.12/site-packages/numpy/_core/arrayprint.py:1578\u001b[0m, in \u001b[0;36m_array_repr_implementation\u001b[0;34m(arr, max_line_width, precision, suppress_small, array2string)\u001b[0m\n\u001b[1;32m   1575\u001b[0m \u001b[38;5;28;01melse\u001b[39;00m:\n\u001b[1;32m   1576\u001b[0m     class_name \u001b[38;5;241m=\u001b[39m \u001b[38;5;124m\"\u001b[39m\u001b[38;5;124marray\u001b[39m\u001b[38;5;124m\"\u001b[39m\n\u001b[0;32m-> 1578\u001b[0m skipdtype \u001b[38;5;241m=\u001b[39m \u001b[43mdtype_is_implied\u001b[49m\u001b[43m(\u001b[49m\u001b[43marr\u001b[49m\u001b[38;5;241;43m.\u001b[39;49m\u001b[43mdtype\u001b[49m\u001b[43m)\u001b[49m \u001b[38;5;129;01mand\u001b[39;00m arr\u001b[38;5;241m.\u001b[39msize \u001b[38;5;241m>\u001b[39m \u001b[38;5;241m0\u001b[39m\n\u001b[1;32m   1580\u001b[0m prefix \u001b[38;5;241m=\u001b[39m class_name \u001b[38;5;241m+\u001b[39m \u001b[38;5;124m\"\u001b[39m\u001b[38;5;124m(\u001b[39m\u001b[38;5;124m\"\u001b[39m\n\u001b[1;32m   1581\u001b[0m suffix \u001b[38;5;241m=\u001b[39m \u001b[38;5;124m\"\u001b[39m\u001b[38;5;124m)\u001b[39m\u001b[38;5;124m\"\u001b[39m \u001b[38;5;28;01mif\u001b[39;00m skipdtype \u001b[38;5;28;01melse\u001b[39;00m \u001b[38;5;124m\"\u001b[39m\u001b[38;5;124m,\u001b[39m\u001b[38;5;124m\"\u001b[39m\n",
      "File \u001b[0;32m~/miniconda/lib/python3.12/site-packages/numpy/_core/arrayprint.py:1514\u001b[0m, in \u001b[0;36mdtype_is_implied\u001b[0;34m(dtype)\u001b[0m\n\u001b[1;32m   1487\u001b[0m \u001b[38;5;28;01mdef\u001b[39;00m \u001b[38;5;21mdtype_is_implied\u001b[39m(dtype):\n\u001b[1;32m   1488\u001b[0m \u001b[38;5;250m    \u001b[39m\u001b[38;5;124;03m\"\"\"\u001b[39;00m\n\u001b[1;32m   1489\u001b[0m \u001b[38;5;124;03m    Determine if the given dtype is implied by the representation\u001b[39;00m\n\u001b[1;32m   1490\u001b[0m \u001b[38;5;124;03m    of its values.\u001b[39;00m\n\u001b[0;32m   (...)\u001b[0m\n\u001b[1;32m   1512\u001b[0m \u001b[38;5;124;03m    array([1, 2, 3], dtype=int8)\u001b[39;00m\n\u001b[1;32m   1513\u001b[0m \u001b[38;5;124;03m    \"\"\"\u001b[39;00m\n\u001b[0;32m-> 1514\u001b[0m     dtype \u001b[38;5;241m=\u001b[39m \u001b[43mnp\u001b[49m\u001b[38;5;241;43m.\u001b[39;49m\u001b[43mdtype\u001b[49m\u001b[43m(\u001b[49m\u001b[43mdtype\u001b[49m\u001b[43m)\u001b[49m\n\u001b[1;32m   1515\u001b[0m     \u001b[38;5;28;01mif\u001b[39;00m format_options\u001b[38;5;241m.\u001b[39mget()[\u001b[38;5;124m'\u001b[39m\u001b[38;5;124mlegacy\u001b[39m\u001b[38;5;124m'\u001b[39m] \u001b[38;5;241m<\u001b[39m\u001b[38;5;241m=\u001b[39m \u001b[38;5;241m113\u001b[39m \u001b[38;5;129;01mand\u001b[39;00m dtype\u001b[38;5;241m.\u001b[39mtype \u001b[38;5;241m==\u001b[39m np\u001b[38;5;241m.\u001b[39mbool:\n\u001b[1;32m   1516\u001b[0m         \u001b[38;5;28;01mreturn\u001b[39;00m \u001b[38;5;28;01mFalse\u001b[39;00m\n",
      "\u001b[0;31mTypeError\u001b[0m: expected 0 arguments, got 1"
     ]
    }
   ],
   "source": [
    "# Optimal designs for a quadratic model on the unit square\n",
    "domain = Domain(\n",
    "    inputs=[ContinuousInput(key=f\"x{i+1}\", bounds=(0, 1)) for i in range(2)],\n",
    "    outputs=[ContinuousOutput(key=\"y\")],\n",
    ")\n",
    "model_type = \"fully-quadratic\"\n",
    "n_experiments = 13\n",
    "\n",
    "designs = {}\n",
    "for obj in OptimalityCriterionEnum:\n",
    "    designs[obj.value] = find_local_max_ipopt(\n",
    "        domain,\n",
    "        model_type=model_type,\n",
    "        n_experiments=n_experiments,\n",
    "        objective=obj,\n",
    "        ipopt_options={\"maxiter\": 300},\n",
    "    ).to_numpy()\n",
    "\n",
    "fig = plt.figure(figsize=((8, 8)))\n",
    "ax = fig.add_subplot(111)\n",
    "ax.set_title(\"Designs with different optimality criteria\")\n",
    "ax.set_xlabel(\"$x_1$\")\n",
    "ax.set_ylabel(\"$x_2$\")\n",
    "for obj, X in designs.items():\n",
    "    ax.scatter(X[:, 0], X[:, 1], s=40, label=obj)\n",
    "ax.grid(alpha=0.3)\n",
    "ax.legend();"
   ]
  },
  {
   "attachments": {},
   "cell_type": "markdown",
   "id": "3",
   "metadata": {
    "papermill": {
     "duration": null,
     "end_time": null,
     "exception": null,
     "start_time": null,
     "status": "pending"
    },
    "tags": []
   },
   "source": [
    "### Space filling design"
   ]
  },
  {
   "cell_type": "code",
   "execution_count": null,
   "id": "4",
   "metadata": {
    "papermill": {
     "duration": null,
     "end_time": null,
     "exception": null,
     "start_time": null,
     "status": "pending"
    },
    "tags": []
   },
   "outputs": [],
   "source": [
    "# Space filling design on the unit 2-simplex\n",
    "domain = Domain(\n",
    "    inputs=[ContinuousInput(key=f\"x{i+1}\", bounds=(0, 1)) for i in range(3)],\n",
    "    outputs=[ContinuousOutput(key=\"y\")],\n",
    "    constraints=[\n",
    "        LinearEqualityConstraint(\n",
    "            features=[\"x1\", \"x2\", \"x3\"], coefficients=[1, 1, 1], rhs=1\n",
    "        )\n",
    "    ],\n",
    ")\n",
    "\n",
    "X = find_local_max_ipopt(\n",
    "    domain,\n",
    "    n_experiments=40,\n",
    "    model_type=\"linear\",  # the model type does not matter for space filling designs\n",
    "    objective=OptimalityCriterionEnum.SPACE_FILLING,\n",
    "    ipopt_options={\"maxiter\": 500},\n",
    ").to_numpy()\n",
    "\n",
    "\n",
    "fig = plt.figure(figsize=((10, 8)))\n",
    "ax = fig.add_subplot(111, projection=\"3d\")\n",
    "ax.view_init(45, 20)\n",
    "ax.set_title(\"Space filling design\")\n",
    "ax.set_xlabel(\"$x_1$\")\n",
    "ax.set_ylabel(\"$x_2$\")\n",
    "ax.set_zlabel(\"$x_3$\")\n",
    "\n",
    "# plot feasible polytope\n",
    "ax.plot(xs=[0, 0, 1, 0], ys=[0, 1, 0, 0], zs=[1, 0, 0, 1], linewidth=2)\n",
    "\n",
    "# plot design points\n",
    "ax.scatter(xs=X[:, 0], ys=X[:, 1], zs=X[:, 2], s=40)"
   ]
  }
 ],
 "metadata": {
  "kernelspec": {
   "display_name": "base",
   "language": "python",
   "name": "python3"
  },
  "language_info": {
   "codemirror_mode": {
    "name": "ipython",
    "version": 3
   },
   "file_extension": ".py",
   "mimetype": "text/x-python",
   "name": "python",
   "nbconvert_exporter": "python",
   "pygments_lexer": "ipython3",
   "version": "3.12.7"
  },
  "papermill": {
   "default_parameters": {},
   "duration": 5.858751,
   "end_time": "2024-10-10T20:36:27.441767",
   "environment_variables": {},
   "exception": true,
   "input_path": "/Users/radical-rhys/Radical/bofire/tutorials/doe/optimality_criteria.ipynb",
   "output_path": "/Users/radical-rhys/Radical/bofire/tutorials/doe/optimality_criteria.ipynb",
   "parameters": {},
   "start_time": "2024-10-10T20:36:21.583016",
   "version": "2.6.0"
  }
 },
 "nbformat": 4,
 "nbformat_minor": 5
}
