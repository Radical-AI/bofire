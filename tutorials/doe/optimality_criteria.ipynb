{
 "cells": [
  {
   "cell_type": "markdown",
   "id": "0",
   "metadata": {
    "tags": [
     "papermill-error-cell-tag"
    ]
   },
   "source": [
    "<span style=\"color:red; font-family:Helvetica Neue, Helvetica, Arial, sans-serif; font-size:2em;\">An Exception was encountered at '<a href=\"#papermill-error-cell\">In [2]</a>'.</span>"
   ]
  },
  {
   "cell_type": "code",
   "execution_count": null,
   "id": "1",
   "metadata": {
    "papermill": {
     "duration": 1.873533,
     "end_time": "2024-10-10T16:10:14.220016",
     "exception": false,
     "start_time": "2024-10-10T16:10:12.346483",
     "status": "completed"
    },
    "tags": []
   },
   "outputs": [],
   "source": [
    "import matplotlib.pyplot as plt\n",
    "\n",
    "from bofire.data_models.constraints.api import LinearEqualityConstraint\n",
    "from bofire.data_models.domain.api import Domain\n",
    "from bofire.data_models.features.api import ContinuousInput, ContinuousOutput\n",
    "from bofire.strategies.doe.design import find_local_max_ipopt\n",
    "from bofire.strategies.enum import OptimalityCriterionEnum"
   ]
  },
  {
   "attachments": {},
   "cell_type": "markdown",
   "id": "2",
   "metadata": {
    "papermill": {
     "duration": 0.000558,
     "end_time": "2024-10-10T16:10:14.221435",
     "exception": false,
     "start_time": "2024-10-10T16:10:14.220877",
     "status": "completed"
    },
    "tags": []
   },
   "source": [
    "### Designs for different optimality criteria"
   ]
  },
  {
   "cell_type": "markdown",
   "id": "3",
   "metadata": {
    "tags": [
     "papermill-error-cell-tag"
    ]
   },
   "source": [
    "<span id=\"papermill-error-cell\" style=\"color:red; font-family:Helvetica Neue, Helvetica, Arial, sans-serif; font-size:2em;\">Execution using papermill encountered an exception here and stopped:</span>"
   ]
  },
  {
   "cell_type": "code",
   "execution_count": null,
   "id": "4",
   "metadata": {
    "papermill": {
     "duration": 0.094167,
     "end_time": "2024-10-10T16:10:14.316081",
     "exception": true,
     "start_time": "2024-10-10T16:10:14.221914",
     "status": "failed"
    },
    "tags": []
   },
   "outputs": [
    {
     "name": "stderr",
     "output_type": "stream",
     "text": [
      "/Users/radical-rhys/Radical/bofire/bofire/strategies/doe/design.py:413: UserWarning: dlopen(/Users/radical-rhys/miniconda3/lib/python3.12/site-packages/ipopt_wrapper.cpython-312-darwin.so, 0x0002): Library not loaded: @rpath/liblapack.3.dylib\n",
      "  Referenced from: <B8DC9BF1-E8E9-31AE-8E2D-7CD4259EC148> /Users/radical-rhys/miniconda3/lib/libdmumps_seq.dylib\n",
      "  Reason: tried: '/Users/radical-rhys/miniconda3/lib/liblapack.3.dylib' (no such file), '/liblapack.3.dylib' (no such file), '/Users/radical-rhys/miniconda3/lib/liblapack.3.dylib' (no such file), '/Users/radical-rhys/miniconda3/lib/liblapack.3.dylib' (no such file), '/Users/radical-rhys/miniconda3/lib/liblapack.3.dylib' (no such file), '/Users/radical-rhys/miniconda3/lib/python3.12/site-packages/../../liblapack.3.dylib' (no such file), '/Users/radical-rhys/miniconda3/lib/python3.12/site-packages/../../liblapack.3.dylib' (no such file), '/Users/radical-rhys/miniconda3/bin/../lib/liblapack.3.dylib' (no such file), '/Users/radical-rhys/miniconda3/bin/../lib/liblapack.3.dylib' (no such file), '/usr/local/lib/liblapack.3.dylib' (no such file), '/usr/lib/liblapack.3.dylib' (no such file, not in dyld cache)\n",
      "  warnings.warn(e.msg)\n",
      "/Users/radical-rhys/Radical/bofire/bofire/strategies/doe/design.py:414: UserWarning: please run `conda install -c conda-forge cyipopt` for this functionality.\n",
      "  warnings.warn(\n"
     ]
    },
    {
     "ename": "ImportError",
     "evalue": "dlopen(/Users/radical-rhys/miniconda3/lib/python3.12/site-packages/ipopt_wrapper.cpython-312-darwin.so, 0x0002): Library not loaded: @rpath/liblapack.3.dylib\n  Referenced from: <B8DC9BF1-E8E9-31AE-8E2D-7CD4259EC148> /Users/radical-rhys/miniconda3/lib/libdmumps_seq.dylib\n  Reason: tried: '/Users/radical-rhys/miniconda3/lib/liblapack.3.dylib' (no such file), '/liblapack.3.dylib' (no such file), '/Users/radical-rhys/miniconda3/lib/liblapack.3.dylib' (no such file), '/Users/radical-rhys/miniconda3/lib/liblapack.3.dylib' (no such file), '/Users/radical-rhys/miniconda3/lib/liblapack.3.dylib' (no such file), '/Users/radical-rhys/miniconda3/lib/python3.12/site-packages/../../liblapack.3.dylib' (no such file), '/Users/radical-rhys/miniconda3/lib/python3.12/site-packages/../../liblapack.3.dylib' (no such file), '/Users/radical-rhys/miniconda3/bin/../lib/liblapack.3.dylib' (no such file), '/Users/radical-rhys/miniconda3/bin/../lib/liblapack.3.dylib' (no such file), '/usr/local/lib/liblapack.3.dylib' (no such file), '/usr/lib/liblapack.3.dylib' (no such file, not in dyld cache)",
     "output_type": "error",
     "traceback": [
      "\u001b[0;31m---------------------------------------------------------------------------\u001b[0m",
      "\u001b[0;31mImportError\u001b[0m                               Traceback (most recent call last)",
      "Cell \u001b[0;32mIn[2], line 11\u001b[0m\n\u001b[1;32m      9\u001b[0m designs \u001b[38;5;241m=\u001b[39m {}\n\u001b[1;32m     10\u001b[0m \u001b[38;5;28;01mfor\u001b[39;00m obj \u001b[38;5;129;01min\u001b[39;00m OptimalityCriterionEnum:\n\u001b[0;32m---> 11\u001b[0m     designs[obj\u001b[38;5;241m.\u001b[39mvalue] \u001b[38;5;241m=\u001b[39m \u001b[43mfind_local_max_ipopt\u001b[49m\u001b[43m(\u001b[49m\n\u001b[1;32m     12\u001b[0m \u001b[43m        \u001b[49m\u001b[43mdomain\u001b[49m\u001b[43m,\u001b[49m\n\u001b[1;32m     13\u001b[0m \u001b[43m        \u001b[49m\u001b[43mmodel_type\u001b[49m\u001b[38;5;241;43m=\u001b[39;49m\u001b[43mmodel_type\u001b[49m\u001b[43m,\u001b[49m\n\u001b[1;32m     14\u001b[0m \u001b[43m        \u001b[49m\u001b[43mn_experiments\u001b[49m\u001b[38;5;241;43m=\u001b[39;49m\u001b[43mn_experiments\u001b[49m\u001b[43m,\u001b[49m\n\u001b[1;32m     15\u001b[0m \u001b[43m        \u001b[49m\u001b[43mobjective\u001b[49m\u001b[38;5;241;43m=\u001b[39;49m\u001b[43mobj\u001b[49m\u001b[43m,\u001b[49m\n\u001b[1;32m     16\u001b[0m \u001b[43m        \u001b[49m\u001b[43mipopt_options\u001b[49m\u001b[38;5;241;43m=\u001b[39;49m\u001b[43m{\u001b[49m\u001b[38;5;124;43m\"\u001b[39;49m\u001b[38;5;124;43mmaxiter\u001b[39;49m\u001b[38;5;124;43m\"\u001b[39;49m\u001b[43m:\u001b[49m\u001b[43m \u001b[49m\u001b[38;5;241;43m300\u001b[39;49m\u001b[43m}\u001b[49m\u001b[43m,\u001b[49m\n\u001b[1;32m     17\u001b[0m \u001b[43m    \u001b[49m\u001b[43m)\u001b[49m\u001b[38;5;241m.\u001b[39mto_numpy()\n\u001b[1;32m     19\u001b[0m fig \u001b[38;5;241m=\u001b[39m plt\u001b[38;5;241m.\u001b[39mfigure(figsize\u001b[38;5;241m=\u001b[39m((\u001b[38;5;241m8\u001b[39m, \u001b[38;5;241m8\u001b[39m)))\n\u001b[1;32m     20\u001b[0m ax \u001b[38;5;241m=\u001b[39m fig\u001b[38;5;241m.\u001b[39madd_subplot(\u001b[38;5;241m111\u001b[39m)\n",
      "File \u001b[0;32m~/Radical/bofire/bofire/strategies/doe/design.py:417\u001b[0m, in \u001b[0;36mfind_local_max_ipopt\u001b[0;34m(domain, model_type, n_experiments, delta, ipopt_options, sampling, fixed_experiments, partially_fixed_experiments, objective, transform_range)\u001b[0m\n\u001b[1;32m    413\u001b[0m     warnings\u001b[38;5;241m.\u001b[39mwarn(e\u001b[38;5;241m.\u001b[39mmsg)\n\u001b[1;32m    414\u001b[0m     warnings\u001b[38;5;241m.\u001b[39mwarn(\n\u001b[1;32m    415\u001b[0m         \u001b[38;5;124m\"\u001b[39m\u001b[38;5;124mplease run `conda install -c conda-forge cyipopt` for this functionality.\u001b[39m\u001b[38;5;124m\"\u001b[39m\n\u001b[1;32m    416\u001b[0m     )\n\u001b[0;32m--> 417\u001b[0m     \u001b[38;5;28;01mraise\u001b[39;00m e\n\u001b[1;32m    419\u001b[0m model_formula \u001b[38;5;241m=\u001b[39m get_formula_from_string(\n\u001b[1;32m    420\u001b[0m     model_type\u001b[38;5;241m=\u001b[39mmodel_type, rhs_only\u001b[38;5;241m=\u001b[39m\u001b[38;5;28;01mTrue\u001b[39;00m, domain\u001b[38;5;241m=\u001b[39mdomain\n\u001b[1;32m    421\u001b[0m )\n\u001b[1;32m    423\u001b[0m \u001b[38;5;66;03m# determine number of experiments (only relevant if n_experiments is not provided by the user)\u001b[39;00m\n",
      "File \u001b[0;32m~/Radical/bofire/bofire/strategies/doe/design.py:411\u001b[0m, in \u001b[0;36mfind_local_max_ipopt\u001b[0;34m(domain, model_type, n_experiments, delta, ipopt_options, sampling, fixed_experiments, partially_fixed_experiments, objective, transform_range)\u001b[0m\n\u001b[1;32m    405\u001b[0m \u001b[38;5;66;03m#\u001b[39;00m\n\u001b[1;32m    406\u001b[0m \u001b[38;5;66;03m# Checks and preparation steps\u001b[39;00m\n\u001b[1;32m    407\u001b[0m \u001b[38;5;66;03m#\u001b[39;00m\n\u001b[1;32m    408\u001b[0m \n\u001b[1;32m    409\u001b[0m \u001b[38;5;66;03m# warn user if IPOPT scipy interface is not available\u001b[39;00m\n\u001b[1;32m    410\u001b[0m \u001b[38;5;28;01mtry\u001b[39;00m:\n\u001b[0;32m--> 411\u001b[0m     \u001b[38;5;28;01mfrom\u001b[39;00m \u001b[38;5;21;01mcyipopt\u001b[39;00m \u001b[38;5;28;01mimport\u001b[39;00m minimize_ipopt  \u001b[38;5;66;03m# type: ignore\u001b[39;00m\n\u001b[1;32m    412\u001b[0m \u001b[38;5;28;01mexcept\u001b[39;00m \u001b[38;5;167;01mImportError\u001b[39;00m \u001b[38;5;28;01mas\u001b[39;00m e:\n\u001b[1;32m    413\u001b[0m     warnings\u001b[38;5;241m.\u001b[39mwarn(e\u001b[38;5;241m.\u001b[39mmsg)\n",
      "File \u001b[0;32m~/miniconda3/lib/python3.12/site-packages/cyipopt/__init__.py:12\u001b[0m\n\u001b[1;32m      1\u001b[0m \u001b[38;5;66;03m# -*- coding: utf-8 -*-\u001b[39;00m\n\u001b[1;32m      2\u001b[0m \u001b[38;5;124;03m\"\"\"\u001b[39;00m\n\u001b[1;32m      3\u001b[0m \u001b[38;5;124;03mcyipopt: Python wrapper for the Ipopt optimization package, written in Cython.\u001b[39;00m\n\u001b[1;32m      4\u001b[0m \n\u001b[0;32m   (...)\u001b[0m\n\u001b[1;32m      9\u001b[0m \u001b[38;5;124;03mLicense: EPL 2.0\u001b[39;00m\n\u001b[1;32m     10\u001b[0m \u001b[38;5;124;03m\"\"\"\u001b[39;00m\n\u001b[0;32m---> 12\u001b[0m \u001b[38;5;28;01mfrom\u001b[39;00m \u001b[38;5;21;01mipopt_wrapper\u001b[39;00m \u001b[38;5;28;01mimport\u001b[39;00m \u001b[38;5;241m*\u001b[39m\n\u001b[1;32m     13\u001b[0m \u001b[38;5;28;01mfrom\u001b[39;00m \u001b[38;5;21;01m.\u001b[39;00m\u001b[38;5;21;01mipopt_wrapper\u001b[39;00m \u001b[38;5;28;01mimport\u001b[39;00m \u001b[38;5;241m*\u001b[39m\n\u001b[1;32m     14\u001b[0m \u001b[38;5;28;01mfrom\u001b[39;00m \u001b[38;5;21;01m.\u001b[39;00m\u001b[38;5;21;01mscipy_interface\u001b[39;00m \u001b[38;5;28;01mimport\u001b[39;00m \u001b[38;5;241m*\u001b[39m\n",
      "\u001b[0;31mImportError\u001b[0m: dlopen(/Users/radical-rhys/miniconda3/lib/python3.12/site-packages/ipopt_wrapper.cpython-312-darwin.so, 0x0002): Library not loaded: @rpath/liblapack.3.dylib\n  Referenced from: <B8DC9BF1-E8E9-31AE-8E2D-7CD4259EC148> /Users/radical-rhys/miniconda3/lib/libdmumps_seq.dylib\n  Reason: tried: '/Users/radical-rhys/miniconda3/lib/liblapack.3.dylib' (no such file), '/liblapack.3.dylib' (no such file), '/Users/radical-rhys/miniconda3/lib/liblapack.3.dylib' (no such file), '/Users/radical-rhys/miniconda3/lib/liblapack.3.dylib' (no such file), '/Users/radical-rhys/miniconda3/lib/liblapack.3.dylib' (no such file), '/Users/radical-rhys/miniconda3/lib/python3.12/site-packages/../../liblapack.3.dylib' (no such file), '/Users/radical-rhys/miniconda3/lib/python3.12/site-packages/../../liblapack.3.dylib' (no such file), '/Users/radical-rhys/miniconda3/bin/../lib/liblapack.3.dylib' (no such file), '/Users/radical-rhys/miniconda3/bin/../lib/liblapack.3.dylib' (no such file), '/usr/local/lib/liblapack.3.dylib' (no such file), '/usr/lib/liblapack.3.dylib' (no such file, not in dyld cache)"
     ]
    }
   ],
   "source": [
    "# Optimal designs for a quadratic model on the unit square\n",
    "domain = Domain(\n",
    "    inputs=[ContinuousInput(key=f\"x{i+1}\", bounds=(0, 1)) for i in range(2)],\n",
    "    outputs=[ContinuousOutput(key=\"y\")],\n",
    ")\n",
    "model_type = \"fully-quadratic\"\n",
    "n_experiments = 13\n",
    "\n",
    "designs = {}\n",
    "for obj in OptimalityCriterionEnum:\n",
    "    designs[obj.value] = find_local_max_ipopt(\n",
    "        domain,\n",
    "        model_type=model_type,\n",
    "        n_experiments=n_experiments,\n",
    "        objective=obj,\n",
    "        ipopt_options={\"maxiter\": 300},\n",
    "    ).to_numpy()\n",
    "\n",
    "fig = plt.figure(figsize=((8, 8)))\n",
    "ax = fig.add_subplot(111)\n",
    "ax.set_title(\"Designs with different optimality criteria\")\n",
    "ax.set_xlabel(\"$x_1$\")\n",
    "ax.set_ylabel(\"$x_2$\")\n",
    "for obj, X in designs.items():\n",
    "    ax.scatter(X[:, 0], X[:, 1], s=40, label=obj)\n",
    "ax.grid(alpha=0.3)\n",
    "ax.legend();"
   ]
  },
  {
   "attachments": {},
   "cell_type": "markdown",
   "id": "5",
   "metadata": {
    "papermill": {
     "duration": null,
     "end_time": null,
     "exception": null,
     "start_time": null,
     "status": "pending"
    },
    "tags": []
   },
   "source": [
    "### Space filling design"
   ]
  },
  {
   "cell_type": "code",
   "execution_count": null,
   "id": "6",
   "metadata": {
    "papermill": {
     "duration": null,
     "end_time": null,
     "exception": null,
     "start_time": null,
     "status": "pending"
    },
    "tags": []
   },
   "outputs": [],
   "source": [
    "# Space filling design on the unit 2-simplex\n",
    "domain = Domain(\n",
    "    inputs=[ContinuousInput(key=f\"x{i+1}\", bounds=(0, 1)) for i in range(3)],\n",
    "    outputs=[ContinuousOutput(key=\"y\")],\n",
    "    constraints=[\n",
    "        LinearEqualityConstraint(\n",
    "            features=[\"x1\", \"x2\", \"x3\"], coefficients=[1, 1, 1], rhs=1\n",
    "        )\n",
    "    ],\n",
    ")\n",
    "\n",
    "X = find_local_max_ipopt(\n",
    "    domain,\n",
    "    n_experiments=40,\n",
    "    model_type=\"linear\",  # the model type does not matter for space filling designs\n",
    "    objective=OptimalityCriterionEnum.SPACE_FILLING,\n",
    "    ipopt_options={\"maxiter\": 500},\n",
    ").to_numpy()\n",
    "\n",
    "\n",
    "fig = plt.figure(figsize=((10, 8)))\n",
    "ax = fig.add_subplot(111, projection=\"3d\")\n",
    "ax.view_init(45, 20)\n",
    "ax.set_title(\"Space filling design\")\n",
    "ax.set_xlabel(\"$x_1$\")\n",
    "ax.set_ylabel(\"$x_2$\")\n",
    "ax.set_zlabel(\"$x_3$\")\n",
    "\n",
    "# plot feasible polytope\n",
    "ax.plot(xs=[0, 0, 1, 0], ys=[0, 1, 0, 0], zs=[1, 0, 0, 1], linewidth=2)\n",
    "\n",
    "# plot design points\n",
    "ax.scatter(xs=X[:, 0], ys=X[:, 1], zs=X[:, 2], s=40)"
   ]
  }
 ],
 "metadata": {
  "kernelspec": {
   "display_name": "base",
   "language": "python",
   "name": "python3"
  },
  "language_info": {
   "codemirror_mode": {
    "name": "ipython",
    "version": 3
   },
   "file_extension": ".py",
   "mimetype": "text/x-python",
   "name": "python",
   "nbconvert_exporter": "python",
   "pygments_lexer": "ipython3",
   "version": "3.12.2"
  },
  "papermill": {
   "default_parameters": {},
   "duration": 2.97551,
   "end_time": "2024-10-10T16:10:14.734944",
   "environment_variables": {},
   "exception": true,
   "input_path": "/Users/radical-rhys/Radical/bofire/tutorials/doe/optimality_criteria.ipynb",
   "output_path": "/Users/radical-rhys/Radical/bofire/tutorials/doe/optimality_criteria.ipynb",
   "parameters": {},
   "start_time": "2024-10-10T16:10:11.759434",
   "version": "2.6.0"
  }
 },
 "nbformat": 4,
 "nbformat_minor": 5
}
