{
 "cells": [
  {
   "cell_type": "markdown",
   "id": "0",
   "metadata": {
    "tags": [
     "papermill-error-cell-tag"
    ]
   },
   "source": [
    "<span style=\"color:red; font-family:Helvetica Neue, Helvetica, Arial, sans-serif; font-size:2em;\">An Exception was encountered at '<a href=\"#papermill-error-cell\">In [4]</a>'.</span>"
   ]
  },
  {
   "attachments": {},
   "cell_type": "markdown",
   "id": "1",
   "metadata": {
    "papermill": {
     "duration": 0.005137,
     "end_time": "2024-10-10T16:10:01.604480",
     "exception": false,
     "start_time": "2024-10-10T16:10:01.599343",
     "status": "completed"
    },
    "tags": []
   },
   "source": [
    "# Design with explicit Formula\n",
    "\n",
    "This tutorial notebook shows how to setup a D-optimal design with BoFire while providing an explicit formula and not just one of the four available keywords `linear`, `linear-and-interaction`, `linear-and-quadratic`, `fully-quadratic`.\n",
    "\n",
    "Make sure that `cyipopt`is installed. The recommend way is the installation via conda `conda install -c conda-forge cyipopt`."
   ]
  },
  {
   "attachments": {},
   "cell_type": "markdown",
   "id": "2",
   "metadata": {
    "papermill": {
     "duration": 0.002434,
     "end_time": "2024-10-10T16:10:01.610046",
     "exception": false,
     "start_time": "2024-10-10T16:10:01.607612",
     "status": "completed"
    },
    "tags": []
   },
   "source": [
    "## Imports"
   ]
  },
  {
   "cell_type": "code",
   "execution_count": null,
   "id": "3",
   "metadata": {
    "papermill": {
     "duration": 1.706956,
     "end_time": "2024-10-10T16:10:03.318887",
     "exception": false,
     "start_time": "2024-10-10T16:10:01.611931",
     "status": "completed"
    },
    "tags": []
   },
   "outputs": [],
   "source": [
    "from formulaic import Formula\n",
    "\n",
    "from bofire.data_models.api import Domain, Inputs\n",
    "from bofire.data_models.features.api import ContinuousInput\n",
    "from bofire.strategies.doe.design import find_local_max_ipopt\n",
    "from bofire.utils.doe import get_confounding_matrix"
   ]
  },
  {
   "attachments": {},
   "cell_type": "markdown",
   "id": "4",
   "metadata": {
    "papermill": {
     "duration": 0.000816,
     "end_time": "2024-10-10T16:10:03.320782",
     "exception": false,
     "start_time": "2024-10-10T16:10:03.319966",
     "status": "completed"
    },
    "tags": []
   },
   "source": [
    "## Setup of the problem"
   ]
  },
  {
   "cell_type": "code",
   "execution_count": null,
   "id": "5",
   "metadata": {
    "papermill": {
     "duration": 0.003889,
     "end_time": "2024-10-10T16:10:03.325417",
     "exception": false,
     "start_time": "2024-10-10T16:10:03.321528",
     "status": "completed"
    },
    "tags": []
   },
   "outputs": [],
   "source": [
    "input_features = Inputs(\n",
    "    features=[\n",
    "        ContinuousInput(key=\"a\", bounds=(0, 5)),\n",
    "        ContinuousInput(key=\"b\", bounds=(40, 800)),\n",
    "        ContinuousInput(key=\"c\", bounds=(80, 180)),\n",
    "        ContinuousInput(key=\"d\", bounds=(200, 800)),\n",
    "    ]\n",
    ")\n",
    "domain = Domain(inputs=input_features)"
   ]
  },
  {
   "attachments": {},
   "cell_type": "markdown",
   "id": "6",
   "metadata": {
    "papermill": {
     "duration": 0.000795,
     "end_time": "2024-10-10T16:10:03.327270",
     "exception": false,
     "start_time": "2024-10-10T16:10:03.326475",
     "status": "completed"
    },
    "tags": []
   },
   "source": [
    "## Defintion of the formula for which the optimal points should be found"
   ]
  },
  {
   "cell_type": "code",
   "execution_count": null,
   "id": "7",
   "metadata": {
    "papermill": {
     "duration": 0.004815,
     "end_time": "2024-10-10T16:10:03.332846",
     "exception": false,
     "start_time": "2024-10-10T16:10:03.328031",
     "status": "completed"
    },
    "tags": []
   },
   "outputs": [
    {
     "data": {
      "text/plain": [
       "1 + a + a ** 2 + b + c + d + a:b + a:c + a:d + b:c + b:d + c:d"
      ]
     },
     "execution_count": null,
     "metadata": {},
     "output_type": "execute_result"
    }
   ],
   "source": [
    "model_type = Formula(\"a + {a**2} + b + c + d + a:b + a:c + a:d + b:c + b:d + c:d\")\n",
    "model_type"
   ]
  },
  {
   "attachments": {},
   "cell_type": "markdown",
   "id": "8",
   "metadata": {
    "papermill": {
     "duration": 0.00085,
     "end_time": "2024-10-10T16:10:03.334624",
     "exception": false,
     "start_time": "2024-10-10T16:10:03.333774",
     "status": "completed"
    },
    "tags": []
   },
   "source": [
    "## Find D-optimal Design"
   ]
  },
  {
   "cell_type": "markdown",
   "id": "9",
   "metadata": {
    "tags": [
     "papermill-error-cell-tag"
    ]
   },
   "source": [
    "<span id=\"papermill-error-cell\" style=\"color:red; font-family:Helvetica Neue, Helvetica, Arial, sans-serif; font-size:2em;\">Execution using papermill encountered an exception here and stopped:</span>"
   ]
  },
  {
   "cell_type": "code",
   "execution_count": null,
   "id": "10",
   "metadata": {
    "papermill": {
     "duration": 0.093272,
     "end_time": "2024-10-10T16:10:03.428680",
     "exception": true,
     "start_time": "2024-10-10T16:10:03.335408",
     "status": "failed"
    },
    "tags": []
   },
   "outputs": [
    {
     "name": "stderr",
     "output_type": "stream",
     "text": [
      "/Users/radical-rhys/Radical/bofire/bofire/strategies/doe/design.py:413: UserWarning: dlopen(/Users/radical-rhys/miniconda3/lib/python3.12/site-packages/ipopt_wrapper.cpython-312-darwin.so, 0x0002): Library not loaded: @rpath/liblapack.3.dylib\n",
      "  Referenced from: <B8DC9BF1-E8E9-31AE-8E2D-7CD4259EC148> /Users/radical-rhys/miniconda3/lib/libdmumps_seq.dylib\n",
      "  Reason: tried: '/Users/radical-rhys/miniconda3/lib/liblapack.3.dylib' (no such file), '/liblapack.3.dylib' (no such file), '/Users/radical-rhys/miniconda3/lib/liblapack.3.dylib' (no such file), '/Users/radical-rhys/miniconda3/lib/liblapack.3.dylib' (no such file), '/Users/radical-rhys/miniconda3/lib/liblapack.3.dylib' (no such file), '/Users/radical-rhys/miniconda3/lib/python3.12/site-packages/../../liblapack.3.dylib' (no such file), '/Users/radical-rhys/miniconda3/lib/python3.12/site-packages/../../liblapack.3.dylib' (no such file), '/Users/radical-rhys/miniconda3/bin/../lib/liblapack.3.dylib' (no such file), '/Users/radical-rhys/miniconda3/bin/../lib/liblapack.3.dylib' (no such file), '/usr/local/lib/liblapack.3.dylib' (no such file), '/usr/lib/liblapack.3.dylib' (no such file, not in dyld cache)\n",
      "  warnings.warn(e.msg)\n",
      "/Users/radical-rhys/Radical/bofire/bofire/strategies/doe/design.py:414: UserWarning: please run `conda install -c conda-forge cyipopt` for this functionality.\n",
      "  warnings.warn(\n"
     ]
    },
    {
     "ename": "ImportError",
     "evalue": "dlopen(/Users/radical-rhys/miniconda3/lib/python3.12/site-packages/ipopt_wrapper.cpython-312-darwin.so, 0x0002): Library not loaded: @rpath/liblapack.3.dylib\n  Referenced from: <B8DC9BF1-E8E9-31AE-8E2D-7CD4259EC148> /Users/radical-rhys/miniconda3/lib/libdmumps_seq.dylib\n  Reason: tried: '/Users/radical-rhys/miniconda3/lib/liblapack.3.dylib' (no such file), '/liblapack.3.dylib' (no such file), '/Users/radical-rhys/miniconda3/lib/liblapack.3.dylib' (no such file), '/Users/radical-rhys/miniconda3/lib/liblapack.3.dylib' (no such file), '/Users/radical-rhys/miniconda3/lib/liblapack.3.dylib' (no such file), '/Users/radical-rhys/miniconda3/lib/python3.12/site-packages/../../liblapack.3.dylib' (no such file), '/Users/radical-rhys/miniconda3/lib/python3.12/site-packages/../../liblapack.3.dylib' (no such file), '/Users/radical-rhys/miniconda3/bin/../lib/liblapack.3.dylib' (no such file), '/Users/radical-rhys/miniconda3/bin/../lib/liblapack.3.dylib' (no such file), '/usr/local/lib/liblapack.3.dylib' (no such file), '/usr/lib/liblapack.3.dylib' (no such file, not in dyld cache)",
     "output_type": "error",
     "traceback": [
      "\u001b[0;31m---------------------------------------------------------------------------\u001b[0m",
      "\u001b[0;31mImportError\u001b[0m                               Traceback (most recent call last)",
      "Cell \u001b[0;32mIn[4], line 1\u001b[0m\n\u001b[0;32m----> 1\u001b[0m design \u001b[38;5;241m=\u001b[39m \u001b[43mfind_local_max_ipopt\u001b[49m\u001b[43m(\u001b[49m\u001b[43mdomain\u001b[49m\u001b[38;5;241;43m=\u001b[39;49m\u001b[43mdomain\u001b[49m\u001b[43m,\u001b[49m\u001b[43m \u001b[49m\u001b[43mmodel_type\u001b[49m\u001b[38;5;241;43m=\u001b[39;49m\u001b[43mmodel_type\u001b[49m\u001b[43m,\u001b[49m\u001b[43m \u001b[49m\u001b[43mn_experiments\u001b[49m\u001b[38;5;241;43m=\u001b[39;49m\u001b[38;5;241;43m17\u001b[39;49m\u001b[43m)\u001b[49m\n\u001b[1;32m      2\u001b[0m design\n",
      "File \u001b[0;32m~/Radical/bofire/bofire/strategies/doe/design.py:417\u001b[0m, in \u001b[0;36mfind_local_max_ipopt\u001b[0;34m(domain, model_type, n_experiments, delta, ipopt_options, sampling, fixed_experiments, partially_fixed_experiments, objective, transform_range)\u001b[0m\n\u001b[1;32m    413\u001b[0m     warnings\u001b[38;5;241m.\u001b[39mwarn(e\u001b[38;5;241m.\u001b[39mmsg)\n\u001b[1;32m    414\u001b[0m     warnings\u001b[38;5;241m.\u001b[39mwarn(\n\u001b[1;32m    415\u001b[0m         \u001b[38;5;124m\"\u001b[39m\u001b[38;5;124mplease run `conda install -c conda-forge cyipopt` for this functionality.\u001b[39m\u001b[38;5;124m\"\u001b[39m\n\u001b[1;32m    416\u001b[0m     )\n\u001b[0;32m--> 417\u001b[0m     \u001b[38;5;28;01mraise\u001b[39;00m e\n\u001b[1;32m    419\u001b[0m model_formula \u001b[38;5;241m=\u001b[39m get_formula_from_string(\n\u001b[1;32m    420\u001b[0m     model_type\u001b[38;5;241m=\u001b[39mmodel_type, rhs_only\u001b[38;5;241m=\u001b[39m\u001b[38;5;28;01mTrue\u001b[39;00m, domain\u001b[38;5;241m=\u001b[39mdomain\n\u001b[1;32m    421\u001b[0m )\n\u001b[1;32m    423\u001b[0m \u001b[38;5;66;03m# determine number of experiments (only relevant if n_experiments is not provided by the user)\u001b[39;00m\n",
      "File \u001b[0;32m~/Radical/bofire/bofire/strategies/doe/design.py:411\u001b[0m, in \u001b[0;36mfind_local_max_ipopt\u001b[0;34m(domain, model_type, n_experiments, delta, ipopt_options, sampling, fixed_experiments, partially_fixed_experiments, objective, transform_range)\u001b[0m\n\u001b[1;32m    405\u001b[0m \u001b[38;5;66;03m#\u001b[39;00m\n\u001b[1;32m    406\u001b[0m \u001b[38;5;66;03m# Checks and preparation steps\u001b[39;00m\n\u001b[1;32m    407\u001b[0m \u001b[38;5;66;03m#\u001b[39;00m\n\u001b[1;32m    408\u001b[0m \n\u001b[1;32m    409\u001b[0m \u001b[38;5;66;03m# warn user if IPOPT scipy interface is not available\u001b[39;00m\n\u001b[1;32m    410\u001b[0m \u001b[38;5;28;01mtry\u001b[39;00m:\n\u001b[0;32m--> 411\u001b[0m     \u001b[38;5;28;01mfrom\u001b[39;00m \u001b[38;5;21;01mcyipopt\u001b[39;00m \u001b[38;5;28;01mimport\u001b[39;00m minimize_ipopt  \u001b[38;5;66;03m# type: ignore\u001b[39;00m\n\u001b[1;32m    412\u001b[0m \u001b[38;5;28;01mexcept\u001b[39;00m \u001b[38;5;167;01mImportError\u001b[39;00m \u001b[38;5;28;01mas\u001b[39;00m e:\n\u001b[1;32m    413\u001b[0m     warnings\u001b[38;5;241m.\u001b[39mwarn(e\u001b[38;5;241m.\u001b[39mmsg)\n",
      "File \u001b[0;32m~/miniconda3/lib/python3.12/site-packages/cyipopt/__init__.py:12\u001b[0m\n\u001b[1;32m      1\u001b[0m \u001b[38;5;66;03m# -*- coding: utf-8 -*-\u001b[39;00m\n\u001b[1;32m      2\u001b[0m \u001b[38;5;124;03m\"\"\"\u001b[39;00m\n\u001b[1;32m      3\u001b[0m \u001b[38;5;124;03mcyipopt: Python wrapper for the Ipopt optimization package, written in Cython.\u001b[39;00m\n\u001b[1;32m      4\u001b[0m \n\u001b[0;32m   (...)\u001b[0m\n\u001b[1;32m      9\u001b[0m \u001b[38;5;124;03mLicense: EPL 2.0\u001b[39;00m\n\u001b[1;32m     10\u001b[0m \u001b[38;5;124;03m\"\"\"\u001b[39;00m\n\u001b[0;32m---> 12\u001b[0m \u001b[38;5;28;01mfrom\u001b[39;00m \u001b[38;5;21;01mipopt_wrapper\u001b[39;00m \u001b[38;5;28;01mimport\u001b[39;00m \u001b[38;5;241m*\u001b[39m\n\u001b[1;32m     13\u001b[0m \u001b[38;5;28;01mfrom\u001b[39;00m \u001b[38;5;21;01m.\u001b[39;00m\u001b[38;5;21;01mipopt_wrapper\u001b[39;00m \u001b[38;5;28;01mimport\u001b[39;00m \u001b[38;5;241m*\u001b[39m\n\u001b[1;32m     14\u001b[0m \u001b[38;5;28;01mfrom\u001b[39;00m \u001b[38;5;21;01m.\u001b[39;00m\u001b[38;5;21;01mscipy_interface\u001b[39;00m \u001b[38;5;28;01mimport\u001b[39;00m \u001b[38;5;241m*\u001b[39m\n",
      "\u001b[0;31mImportError\u001b[0m: dlopen(/Users/radical-rhys/miniconda3/lib/python3.12/site-packages/ipopt_wrapper.cpython-312-darwin.so, 0x0002): Library not loaded: @rpath/liblapack.3.dylib\n  Referenced from: <B8DC9BF1-E8E9-31AE-8E2D-7CD4259EC148> /Users/radical-rhys/miniconda3/lib/libdmumps_seq.dylib\n  Reason: tried: '/Users/radical-rhys/miniconda3/lib/liblapack.3.dylib' (no such file), '/liblapack.3.dylib' (no such file), '/Users/radical-rhys/miniconda3/lib/liblapack.3.dylib' (no such file), '/Users/radical-rhys/miniconda3/lib/liblapack.3.dylib' (no such file), '/Users/radical-rhys/miniconda3/lib/liblapack.3.dylib' (no such file), '/Users/radical-rhys/miniconda3/lib/python3.12/site-packages/../../liblapack.3.dylib' (no such file), '/Users/radical-rhys/miniconda3/lib/python3.12/site-packages/../../liblapack.3.dylib' (no such file), '/Users/radical-rhys/miniconda3/bin/../lib/liblapack.3.dylib' (no such file), '/Users/radical-rhys/miniconda3/bin/../lib/liblapack.3.dylib' (no such file), '/usr/local/lib/liblapack.3.dylib' (no such file), '/usr/lib/liblapack.3.dylib' (no such file, not in dyld cache)"
     ]
    }
   ],
   "source": [
    "design = find_local_max_ipopt(domain=domain, model_type=model_type, n_experiments=17)\n",
    "design"
   ]
  },
  {
   "attachments": {},
   "cell_type": "markdown",
   "id": "11",
   "metadata": {
    "papermill": {
     "duration": null,
     "end_time": null,
     "exception": null,
     "start_time": null,
     "status": "pending"
    },
    "tags": []
   },
   "source": [
    "## Analyze Confounding"
   ]
  },
  {
   "cell_type": "code",
   "execution_count": null,
   "id": "12",
   "metadata": {
    "papermill": {
     "duration": null,
     "end_time": null,
     "exception": null,
     "start_time": null,
     "status": "pending"
    },
    "tags": []
   },
   "outputs": [],
   "source": [
    "import matplotlib\n",
    "import matplotlib.pyplot as plt\n",
    "import seaborn as sns\n",
    "\n",
    "\n",
    "matplotlib.rcParams[\"figure.dpi\"] = 120\n",
    "\n",
    "m = get_confounding_matrix(\n",
    "    domain.inputs, design=design, interactions=[2, 3], powers=[2]\n",
    ")\n",
    "\n",
    "sns.heatmap(m, annot=True, annot_kws={\"fontsize\": 7}, fmt=\"2.1f\")\n",
    "plt.show()"
   ]
  }
 ],
 "metadata": {
  "kernelspec": {
   "display_name": "base",
   "language": "python",
   "name": "python3"
  },
  "language_info": {
   "codemirror_mode": {
    "name": "ipython",
    "version": 3
   },
   "file_extension": ".py",
   "mimetype": "text/x-python",
   "name": "python",
   "nbconvert_exporter": "python",
   "pygments_lexer": "ipython3",
   "version": "3.12.2"
  },
  "papermill": {
   "default_parameters": {},
   "duration": 2.844184,
   "end_time": "2024-10-10T16:10:03.847818",
   "environment_variables": {},
   "exception": true,
   "input_path": "/Users/radical-rhys/Radical/bofire/tutorials/doe/design_with_explicit_formula.ipynb",
   "output_path": "/Users/radical-rhys/Radical/bofire/tutorials/doe/design_with_explicit_formula.ipynb",
   "parameters": {},
   "start_time": "2024-10-10T16:10:01.003634",
   "version": "2.6.0"
  }
 },
 "nbformat": 4,
 "nbformat_minor": 5
}
